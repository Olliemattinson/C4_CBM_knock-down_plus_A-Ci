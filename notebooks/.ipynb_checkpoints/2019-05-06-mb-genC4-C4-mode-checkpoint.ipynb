{
 "cells": [
  {
   "cell_type": "markdown",
   "metadata": {
    "run_control": {
     "marked": true
    }
   },
   "source": [
    "# C4 GenC4 Model -  Effect of C4 mode on the emergence of the C4 cycle"
   ]
  },
  {
   "cell_type": "markdown",
   "metadata": {
    "run_control": {
     "marked": true
    }
   },
   "source": [
    "## 0. Initialization"
   ]
  },
  {
   "cell_type": "code",
   "execution_count": 1,
   "metadata": {
    "ExecuteTime": {
     "end_time": "2019-05-06T13:54:01.198340Z",
     "start_time": "2019-05-06T15:53:59.059422+02:00"
    }
   },
   "outputs": [
    {
     "data": {
      "text/html": [
       "        <script type=\"text/javascript\">\n",
       "        window.PlotlyConfig = {MathJaxConfig: 'local'};\n",
       "        if (window.MathJax) {MathJax.Hub.Config({SVG: {font: \"STIX-Web\"}});}\n",
       "        if (typeof require !== 'undefined') {\n",
       "        require.undef(\"plotly\");\n",
       "        requirejs.config({\n",
       "            paths: {\n",
       "                'plotly': ['https://cdn.plot.ly/plotly-latest.min']\n",
       "            }\n",
       "        });\n",
       "        require(['plotly'], function(Plotly) {\n",
       "            window._Plotly = Plotly;\n",
       "        });\n",
       "        }\n",
       "        </script>\n",
       "        "
      ]
     },
     "metadata": {},
     "output_type": "display_data"
    }
   ],
   "source": [
    "#Import sys\n",
    "import sys \n",
    "sys.path.append(\"../src/\") \n",
    "\n",
    "#Import init for initialisation & loading user-defined functions\n",
    "from init_fba import *\n",
    "\n",
    "#Initialize notebook settings\n",
    "theNotebook = '2019-05-06-mb-genC4-Decarb-Enzyme-Effect'\n",
    "init_notebook(theNotebook)\n",
    "\n",
    "#load sbml model\n",
    "c3_model = load_sbml_model()"
   ]
  },
  {
   "cell_type": "markdown",
   "metadata": {
    "run_control": {
     "marked": true
    }
   },
   "source": [
    "## 1. C3 Model"
   ]
  },
  {
   "cell_type": "markdown",
   "metadata": {
    "ExecuteTime": {
     "end_time": "2017-06-20T12:42:07.597174",
     "start_time": "2017-06-20T12:42:07.594879"
    },
    "run_control": {
     "marked": true
    }
   },
   "source": [
    "### 1.1 Constraints"
   ]
  },
  {
   "cell_type": "code",
   "execution_count": 2,
   "metadata": {
    "ExecuteTime": {
     "end_time": "2019-05-06T13:54:01.218997Z",
     "start_time": "2019-05-06T15:54:01.199871+02:00"
    },
    "run_control": {
     "marked": true
    }
   },
   "outputs": [],
   "source": [
    "#CONSTRAINT: Set flux of all export reaction to zero\n",
    "for r_obj in c3_model.reactions:\n",
    "    r_id = r_obj.id\n",
    "    if r_id[0:2] == \"Ex\":\n",
    "        r_obj.bounds = (0.,0.)\n",
    "\n",
    "#CONSTRAINT: Divergent fluxes of export and import reactions\n",
    "set_bounds('Im_CO2', (-inf, inf), c3_model)\n",
    "set_bounds('Im_H2O', (-inf, inf), c3_model)\n",
    "set_bounds('Im_H2S', (0.,0.), c3_model)\n",
    "set_bounds('Im_NH4', (0., 0.), c3_model)\n",
    "set_bounds('Im_NO3', (0., inf), c3_model)\n",
    "set_bounds('Im_Pi', (0., inf), c3_model)\n",
    "set_bounds('Im_SO4', (0., inf), c3_model)\n",
    "set_bounds('Ex_O2', (-inf, inf), c3_model)\n",
    "set_bounds('Ex_Suc', (0., inf), c3_model)\n",
    "set_bounds('Ex_starch', (0., inf), c3_model)\n",
    "set_bounds('Ex_AA', (0., inf), c3_model)\n",
    "\n",
    "#CONSTRAINT: \n",
    "set_bounds('G6PDH_h', (0.,0.), c3_model)\n",
    "set_bounds('PPIF6PK_c', (0,0.), c3_model)\n",
    "\n",
    "#CONSTRAINT: max. photon consumption auf C4 plants 1000 μE\n",
    "set_bounds('Im_hnu', (0, 1000), c3_model)\n",
    "\n",
    "#CONSTRAINT: CO2 uptake rate uin C4 plants is higher, about 40 μmol/(m2*s)\n",
    "f_CO2 = 40 #[μmol/(m2*s)] \n",
    "set_bounds('Im_CO2', (0, f_CO2), c3_model)"
   ]
  },
  {
   "cell_type": "code",
   "execution_count": 3,
   "metadata": {
    "ExecuteTime": {
     "end_time": "2019-05-06T13:54:01.225924Z",
     "start_time": "2019-05-06T15:54:01.221091+02:00"
    },
    "code_folding": [],
    "run_control": {
     "marked": false
    }
   },
   "outputs": [],
   "source": [
    "#CONSTRAINT: Maintenace cost\n",
    "\n",
    "atp_cost_L3_m = 0.009111187245501572 #Mitochondria-L3-ATP Cost [µmol*s-1*m-2]\n",
    "atp_cost_L3_h = 0.15270708327974447 #Chloroplast-L3-ATP Cost [µmol*s-1*m-2]\n",
    "atp_cost_L3_p = 0.0076669066992201855 #Peroxisome-L3-ATP Cost [µmol*s-1*m-2]\n",
    "atp_cost_L3_c = 0.042683072918274702 #Cytosl/Other-L3-ATP Cost [µmol*s-1*m-2]\n",
    "\n",
    "set_fixed_flux('NGAM_c',atp_cost_L3_c + atp_cost_L3_p, c3_model)\n",
    "set_fixed_flux('NGAM_m',atp_cost_L3_m, c3_model)\n",
    "set_fixed_flux('NGAM_h',atp_cost_L3_h, c3_model)"
   ]
  },
  {
   "cell_type": "code",
   "execution_count": 4,
   "metadata": {
    "ExecuteTime": {
     "end_time": "2019-05-06T13:54:01.231022Z",
     "start_time": "2019-05-06T15:54:01.227845+02:00"
    },
    "run_control": {
     "marked": true
    }
   },
   "outputs": [],
   "source": [
    "#CONSTRAINT: fluxes through the chloroplastic NADPH dehydrogenase and plastoquinol oxidase were set to zero \n",
    "#because the contributions of NADPH dehydrogenase (Yamamoto et al., 2011) and plastoquinol oxidase \n",
    "#(Josse et al., 2000) to photosynthesis are thought to be minor.\n",
    "set_bounds('AOX4_h',(0,0), c3_model)\n",
    "set_bounds('iCitDHNADP_h',(0,0), c3_model)"
   ]
  },
  {
   "cell_type": "code",
   "execution_count": 5,
   "metadata": {
    "ExecuteTime": {
     "end_time": "2019-05-06T13:54:01.235883Z",
     "start_time": "2019-05-06T15:54:01.233116+02:00"
    }
   },
   "outputs": [],
   "source": [
    "#CONSTRAINT: NTT is only active at night\n",
    "set_fixed_flux('Tr_NTT',0, c3_model)"
   ]
  },
  {
   "cell_type": "code",
   "execution_count": 6,
   "metadata": {
    "ExecuteTime": {
     "end_time": "2019-05-06T13:54:01.240554Z",
     "start_time": "2019-05-06T15:54:01.237672+02:00"
    }
   },
   "outputs": [],
   "source": [
    "#CONSTRAINT: No uncoupled pyruvate transport\n",
    "set_bounds('Tr_Pyr1',(0,0), c3_model)\n",
    "set_bounds('Tr_Pyr2',(0,0), c3_model)"
   ]
  },
  {
   "cell_type": "markdown",
   "metadata": {
    "run_control": {
     "marked": true
    }
   },
   "source": [
    "## 2. C4 Model"
   ]
  },
  {
   "cell_type": "markdown",
   "metadata": {
    "run_control": {
     "marked": true
    }
   },
   "source": [
    "### 2.1 Compose Model"
   ]
  },
  {
   "cell_type": "markdown",
   "metadata": {
    "ExecuteTime": {
     "end_time": "2018-02-06T17:46:39.521620+01:00",
     "start_time": "2018-02-06T17:46:39.518672"
    },
    "run_control": {
     "marked": true
    }
   },
   "source": [
    "#### 2.1.1 Two copies of genC3 model and exchange reactions"
   ]
  },
  {
   "cell_type": "code",
   "execution_count": 7,
   "metadata": {
    "ExecuteTime": {
     "end_time": "2019-05-06T13:54:02.158392Z",
     "start_time": "2019-05-06T15:54:01.242725+02:00"
    },
    "hide_input": false,
    "run_control": {
     "marked": true
    }
   },
   "outputs": [],
   "source": [
    "c4_model = cobra.Model('c4_model')\n",
    "\n",
    "cell_types = ['M', 'B']\n",
    "\n",
    "#duplicate metabolites\n",
    "for m in c3_model.metabolites:\n",
    "    for cell in cell_types:\n",
    "        m_dt = cobra.Metabolite('['+cell+']_'+m.id, name = m.formula, compartment = m.compartment)\n",
    "        c4_model.add_metabolites([m_dt])\n",
    "\n",
    "#duplicate reactions\n",
    "for r_c3_obj in c3_model.reactions:\n",
    "    for cell in cell_types:\n",
    "        r_c4_obj = cobra.Reaction('['+cell+']_'+r_c3_obj.id)\n",
    "        r_c4_obj.name = r_c3_obj.name\n",
    "        r_c4_obj.subsystem = r_c3_obj.subsystem\n",
    "        r_c4_obj.bounds = r_c3_obj.bounds\n",
    "        c4_model.add_reaction(r_c4_obj)\n",
    "        r_c4_obj.add_metabolites({'['+cell+']_'+m_c3_obj.id: r_c3_obj.get_coefficient(m_c3_obj) for m_c3_obj in r_c3_obj.metabolites})\n",
    "        \n",
    "        \n",
    "#metabolites excluded from M/BS exchange\n",
    "no_transport = ['NO3','NO2', 'O2','Na', 'H2S', 'SO4',\n",
    "                'H2O','FBP','F26BP','DPGA','H','ACD','AC','M_DASH_THF', '5M_DASH_THF', 'H_DASH_Cys', 'aH_DASH_Cys', 'ORO', 'DHO',\n",
    "                'GABA','A_DASH_Ser','PRPP','AD','THF','DHF','ADN','Mas','CoA','GluP',\n",
    "                'A_DASH_CoA','cellulose1','cellulose2','cellulose3','starch1',\n",
    "                'starch2','starch3','TRXox','TRXrd','Glu_DASH_SeA','T6P','aMet',\n",
    "                'PPi', 'P5C', 'NH4', 'Pi', 'CO2', 'OAA','HCO3', \n",
    "                'UTP', 'UDP', 'UDPG', 'ATP', 'ADP', 'AMP', 'IMP', 'XMP', \n",
    "                'GTP', 'GDP', 'GMP', 'OMP', 'UMP', 'CTP', 'GDP', 'CDP', 'dADP', \n",
    "                'dCDP', 'dGDP', 'dUDP', 'dUTP', 'dUMP', 'dTMP', 'dTDP', 'GTP', \n",
    "                'dATP', 'dCTP', 'dGTP', 'dTTP', 'NAD', 'NADH', 'NADP', 'NADPH']\n",
    "\n",
    "#add M/BS exchange reactions\n",
    "L_r_transport = []\n",
    "for m_c3_obj in c3_model.metabolites:\n",
    "    if m_c3_obj.id[-1:] == 'c' and m_c3_obj.id[:-2] not in no_transport:\n",
    "        r_c4_obj = cobra.Reaction('[MB]_'+m_c3_obj.id)\n",
    "        r_c4_obj.name = '[MB]_'+m_c3_obj.id\n",
    "        r_c4_obj.subsystem = 'Exchange'\n",
    "        r_c4_obj.bounds = (-inf, inf)\n",
    "        c4_model.add_reaction(r_c4_obj)\n",
    "        r_c4_obj.add_metabolites({'[M]_'+m_c3_obj.id: -1,'[B]_'+m_c3_obj.id: 1 })\n",
    "        L_r_transport.append('[MB]_'+m_c3_obj.id)"
   ]
  },
  {
   "cell_type": "markdown",
   "metadata": {
    "ExecuteTime": {
     "end_time": "2018-02-06T17:47:11.482156+01:00",
     "start_time": "2018-02-06T17:47:11.480023"
    },
    "run_control": {
     "marked": true
    }
   },
   "source": [
    "#### 2.1.2 Adaptations for second unconstrained rubisco population in the bundle sheath"
   ]
  },
  {
   "cell_type": "code",
   "execution_count": 8,
   "metadata": {
    "ExecuteTime": {
     "end_time": "2019-05-06T13:54:02.177090Z",
     "start_time": "2019-05-06T15:54:02.159744+02:00"
    },
    "run_control": {
     "marked": false
    }
   },
   "outputs": [],
   "source": [
    "#CONSTRAINT: Add external CO2 species to bundle sheath\n",
    "#(the original CO2 species is treated as internal CO2)\n",
    "m_list_CO_Ex= ['[B]_CO2_ex_c','[B]_CO2_ex_h']\n",
    "\n",
    "for m_id in m_list_CO_Ex:\n",
    "    m_obj = cobra.Metabolite(m_id)\n",
    "    c4_model.add_metabolites(m_obj)\n",
    "\n",
    "#CONSTRAINT: Copy reactions 'Tr_CO2h', 'RBC_h' and replace internal CO2 with external CO2 in the copied reactions \n",
    "r_list_CO_Ex = ['Tr_CO2h', 'RBC_h']\n",
    "\n",
    "for r_id in r_list_CO_Ex:\n",
    "    r_obj = c4_model.reactions.get_by_id('[B]_'+r_id)\n",
    "    r_obj_Ex = cobra.Reaction(r_obj.id+'_Ex')\n",
    "    r_obj_Ex.name = r_obj.id+'_Ex'\n",
    "    r_obj_Ex.subsystem = r_obj.subsystem\n",
    "    r_obj_Ex.bounds = r_obj.bounds\n",
    "    c4_model.add_reaction(r_obj_Ex)\n",
    "    r_obj_Ex.add_metabolites({m_obj.id if not m_obj.id[:-2] == '[B]_CO2' else '[B]_CO2_ex'+m_obj.id[-2:]: r_obj.get_coefficient(m_obj) \n",
    "                                  for m_obj in r_obj.metabolites})\n",
    "\n",
    "#CONSTRAINT: CO2 exchange between mesophyll and bundle sheat\n",
    "r_c4_obj = cobra.Reaction('[MB]_CO2_c')\n",
    "r_c4_obj.name = '[MB]_CO2_c'\n",
    "r_c4_obj.subsystem = 'Exchange'\n",
    "r_c4_obj.bounds = (-inf, inf)\n",
    "c4_model.add_reaction(r_c4_obj)\n",
    "r_c4_obj.add_metabolites({'[M]_CO2_c': -1,'[B]_CO2_ex_c': 1 })\n",
    "L_r_transport.append('[MB]_CO2_c')"
   ]
  },
  {
   "cell_type": "markdown",
   "metadata": {
    "run_control": {
     "marked": true
    }
   },
   "source": [
    "### 2.3 Constraints"
   ]
  },
  {
   "cell_type": "code",
   "execution_count": 9,
   "metadata": {
    "ExecuteTime": {
     "end_time": "2019-05-06T13:54:02.181082Z",
     "start_time": "2019-05-06T15:54:02.178842+02:00"
    },
    "run_control": {
     "marked": true
    }
   },
   "outputs": [],
   "source": [
    "#CONSTRAINT: No CO2 uptake in bundle sheat cells due to suberin layer in cell membranes\n",
    "set_fixed_flux('[B]_Im_CO2',0, c4_model)"
   ]
  },
  {
   "cell_type": "code",
   "execution_count": 10,
   "metadata": {
    "ExecuteTime": {
     "end_time": "2019-05-06T13:54:02.202040Z",
     "start_time": "2019-05-06T15:54:02.182895+02:00"
    },
    "run_control": {
     "marked": true
    }
   },
   "outputs": [
    {
     "data": {
      "text/plain": [
       "<optlang.glpk_interface.Constraint at 0x11bb228d0>"
      ]
     },
     "execution_count": 10,
     "metadata": {},
     "output_type": "execute_result"
    }
   ],
   "source": [
    "#CONSTRAINT: Output of sucrose : total amino acid and sucrose : starch\n",
    "set_fixed_flux_ratio({'[B]_Ex_Suc':2.2,'[B]_Ex_AA':1.0}, c4_model)\n",
    "set_fixed_flux_ratio({'[B]_Ex_Suc':1.0,'[B]_Ex_starch':1.0}, c4_model)\n",
    "\n",
    "set_fixed_flux_ratio({'[M]_Ex_Suc':2.2,'[M]_Ex_AA':1.0}, c4_model)\n",
    "set_fixed_flux_ratio({'[M]_Ex_Suc':1.0,'[M]_Ex_starch':1.0}, c4_model)"
   ]
  },
  {
   "cell_type": "code",
   "execution_count": 11,
   "metadata": {
    "ExecuteTime": {
     "end_time": "2019-05-06T13:54:02.212806Z",
     "start_time": "2019-05-06T15:54:02.203570+02:00"
    },
    "run_control": {
     "marked": true
    }
   },
   "outputs": [],
   "source": [
    "#Reaction variables for light uptake\n",
    "B_Im_hnu = c4_model.reactions.get_by_id(\"[B]_Im_hnu\")\n",
    "M_Im_hnu = c4_model.reactions.get_by_id(\"[M]_Im_hnu\")\n",
    "\n",
    "#CONSTRAINT: Total Photon uptake limited to 1000 µE\n",
    "const_hnu_sum = c4_model.problem.Constraint( B_Im_hnu.flux_expression + M_Im_hnu.flux_expression,\n",
    "                                        lb = 0, ub = 1000)\n",
    "\n",
    "c4_model.add_cons_vars(const_hnu_sum)\n",
    "\n",
    "#CONSTRAINT: Total Photon uptake by bundle sheath must be less equal than in mesophyll\n",
    "const_hnu_ratio = c4_model.problem.Constraint( M_Im_hnu.flux_expression - B_Im_hnu.flux_expression,\n",
    "                                        lb = 0, ub = 1000)\n",
    "\n",
    "c4_model.add_cons_vars(const_hnu_ratio)"
   ]
  },
  {
   "cell_type": "code",
   "execution_count": 12,
   "metadata": {
    "ExecuteTime": {
     "end_time": "2019-05-06T13:54:02.223508Z",
     "start_time": "2019-05-06T15:54:02.214392+02:00"
    }
   },
   "outputs": [
    {
     "data": {
      "text/plain": [
       "<optlang.glpk_interface.Constraint at 0x11be4f050>"
      ]
     },
     "execution_count": 12,
     "metadata": {},
     "output_type": "execute_result"
    }
   ],
   "source": [
    "#CONSTRAINT: oxygenation : carboxylation = 1 : 3\n",
    "set_fixed_flux_ratio({'[B]_RBC_h_Ex':1,'[B]_RBO_h':1},c4_model)\n",
    "set_fixed_flux_ratio({'[M]_RBC_h':1,'[M]_RBO_h':1},c4_model)"
   ]
  },
  {
   "cell_type": "markdown",
   "metadata": {
    "run_control": {
     "marked": true
    }
   },
   "source": [
    "## 3 FBA"
   ]
  },
  {
   "cell_type": "code",
   "execution_count": 13,
   "metadata": {
    "ExecuteTime": {
     "end_time": "2019-05-06T13:54:31.422705Z",
     "start_time": "2019-05-06T15:54:02.225114+02:00"
    },
    "run_control": {
     "marked": false
    }
   },
   "outputs": [],
   "source": [
    "#Define experiments, here: the three decraboxylation enzymes PEP-CK (in model: [B]_PEPC1_c), NAD-ME (in model: [B]_MalDH2_m) \n",
    "#and NADP-ME (in model: [B]_MalDH4_h)\n",
    "D_exp = {'[B]_PEPC1_c': 'PEP-CK', '[B]_MalDH2_m': 'NAD-ME', '[B]_MalDH4_h': 'NADP-ME'}\n",
    "\n",
    "#Set FBA solver\n",
    "c4_model.solver = \"glpk\"\n",
    "\n",
    "#Initialize dictionaries to store results\n",
    "D_fba = {}\n",
    "D_pfba = {}\n",
    "D_fva = {}\n",
    "D_pfva = {}\n",
    "\n",
    "#Reaction Variables\n",
    "B_Ex_Suc = c4_model.reactions.get_by_id(\"[B]_Ex_Suc\")\n",
    "B_RBO = c4_model.reactions.get_by_id(\"[B]_RBO_h\")\n",
    "M_RBO = c4_model.reactions.get_by_id(\"[M]_RBO_h\")\n",
    "\n",
    "#Set flux reactions related to decraboxylation enzymes to zero \n",
    "for exp in D_exp:\n",
    "    set_fixed_flux(exp,0, c4_model)\n",
    "\n",
    "            \n",
    "#Run every FBA experiment\n",
    "for exp in D_exp:\n",
    "    \n",
    "    #Allow non-zero flux for current decarboxylation enzyme\n",
    "    set_bounds(exp, (0,inf), c4_model)           \n",
    "    \n",
    "    #Optimize/Maximize sucrose output\n",
    "    B_Ex_Suc.objective_coefficient = 1.\n",
    "    c4_model_copy = c4_model.copy()\n",
    "    result_fba = c4_model_copy.optimize('maximize')\n",
    "    del c4_model_copy\n",
    "    c4_model.objective =[]\n",
    "    set_fixed_flux(B_Ex_Suc.id,result_fba.fluxes[B_Ex_Suc.id], c4_model)\n",
    "    \n",
    "    #Optimize/Minimize oxygenation rate by rubisco (set True)\n",
    "    if True:\n",
    "            B_RBO.objective_coefficient = 1.\n",
    "            M_RBO.objective_coefficient = 1.\n",
    "            c4_model_copy = c4_model.copy()\n",
    "            result_fba = c4_model_copy.optimize('minimize')\n",
    "            del c4_model_copy\n",
    "            c4_model.objective =[]\n",
    "            set_fixed_flux(B_RBO.id,result_fba.fluxes[B_RBO.id],c4_model)            \n",
    "            set_fixed_flux(M_RBO.id,result_fba.fluxes[M_RBO.id],c4_model)    \n",
    "\n",
    "    D_fba[exp] = result_fba.fluxes            #store FBA results\n",
    "    \n",
    "    #Optimize/Minimize total flux and perform (p)FVA (set True)\n",
    "    if True: \n",
    "        if result_fba.status == 'optimal':\n",
    "            c4_model_copy = c4_model.copy()\n",
    "            #perform pFBA\n",
    "            result_pfba = cobra.flux_analysis.parsimonious.pfba(c4_model_copy)\n",
    "            D_pfba[exp] = result_pfba.fluxes     \n",
    "            D_pfba[exp]= D_pfba[exp].set_value('total',result_pfba.f)\n",
    "            #perform FVA\n",
    "            result_fva = cobra.flux_analysis.flux_variability_analysis(c4_model_copy)     #perform FVA\n",
    "            D_fva[exp] = result_fva  \n",
    "            #perform pFVA results with 1.5% deviation of pFBA total flux\n",
    "            result_pfva = cobra.flux_analysis.flux_variability_analysis(c4_model_copy,pfba_factor=1.015) \n",
    "            D_pfva[exp] = result_pfva \n",
    "            del c4_model_copy      \n",
    "    \n",
    "    #Reset flux of current decarboxylation enzyme to zero\n",
    "    set_fixed_flux(exp,0, c4_model)           \n",
    "    \n",
    "    #Reset reaction bounds\n",
    "    set_bounds(B_RBO.id,(0,inf),c4_model)\n",
    "    set_bounds(M_RBO.id,(0,inf),c4_model)\n",
    "    set_bounds(B_Ex_Suc.id,(0,inf),c4_model)  "
   ]
  },
  {
   "cell_type": "code",
   "execution_count": 14,
   "metadata": {
    "ExecuteTime": {
     "end_time": "2019-05-06T13:54:32.622095Z",
     "start_time": "2019-05-06T15:54:31.424267+02:00"
    }
   },
   "outputs": [],
   "source": [
    "save_fba_to_excel(c3_model, c4_model, D_pfba, D_exp, theNotebook)\n",
    "save_fva_to_excel(c3_model, c4_model, D_pfva, D_exp, theNotebook)"
   ]
  },
  {
   "cell_type": "code",
   "execution_count": 15,
   "metadata": {
    "ExecuteTime": {
     "end_time": "2019-05-06T13:54:32.627519Z",
     "start_time": "2019-05-06T15:54:32.623446+02:00"
    }
   },
   "outputs": [],
   "source": [
    "for exp, exp_name in D_exp.items():\n",
    "    save_to_json(exp_name, D_pfba[exp], theNotebook)"
   ]
  },
  {
   "cell_type": "markdown",
   "metadata": {
    "ExecuteTime": {
     "end_time": "2018-02-06T17:54:23.611334+01:00",
     "start_time": "2018-02-06T17:54:23.609194"
    },
    "run_control": {
     "marked": true
    }
   },
   "source": [
    "## 4 Figures"
   ]
  },
  {
   "cell_type": "code",
   "execution_count": 16,
   "metadata": {
    "ExecuteTime": {
     "end_time": "2019-05-06T13:54:32.631235Z",
     "start_time": "2019-05-06T15:54:32.629089+02:00"
    }
   },
   "outputs": [],
   "source": [
    "xaxis_title = 'decarboxylation enzyme'\n",
    "save_fig = False"
   ]
  },
  {
   "cell_type": "code",
   "execution_count": 17,
   "metadata": {
    "ExecuteTime": {
     "end_time": "2019-05-06T13:54:32.969880Z",
     "start_time": "2019-05-06T15:54:32.633038+02:00"
    },
    "code_folding": []
   },
   "outputs": [
    {
     "data": {
      "application/vnd.plotly.v1+json": {
       "config": {
        "linkText": "Export to plot.ly",
        "plotlyServerURL": "https://plot.ly",
        "showLink": false
       },
       "data": [
        {
         "marker": {
          "color": "#1f77b4"
         },
         "name": "Total",
         "type": "bar",
         "uid": "f6716844-7fd8-4d0b-a34e-a4272220aa28",
         "x": [
          "NAD-ME",
          "NADP-ME",
          "PEP-CK"
         ],
         "y": [
          2999.1825909203394,
          2707.327934521501,
          2806.7252389699183
         ]
        }
       ],
       "layout": {
        "barmode": "stack",
        "height": 400,
        "margin": {
         "b": 100
        },
        "title": {
         "text": "Total Flux"
        },
        "width": 600,
        "xaxis": {
         "tickangle": 0,
         "title": {
          "text": "decarboxylation enzyme"
         }
        },
        "yaxis": {
         "autorange": true,
         "title": {
          "text": "Flux [µmol/s/m2]"
         }
        }
       }
      },
      "text/html": [
       "<div>\n",
       "        \n",
       "        \n",
       "            <div id=\"ee15f760-9783-4ff8-93a7-e36164eb1091\" class=\"plotly-graph-div\"></div>\n",
       "            <script type=\"text/javascript\">\n",
       "                require([\"plotly\"], function(Plotly) {\n",
       "                    window.PLOTLYENV=window.PLOTLYENV || {};\n",
       "                    window.PLOTLYENV.BASE_URL='https://plot.ly';\n",
       "                    \n",
       "                if (document.getElementById(\"ee15f760-9783-4ff8-93a7-e36164eb1091\")) {\n",
       "                    Plotly.newPlot(\n",
       "                        'ee15f760-9783-4ff8-93a7-e36164eb1091',\n",
       "                        [{\"marker\": {\"color\": \"#1f77b4\"}, \"name\": \"Total\", \"type\": \"bar\", \"uid\": \"76630714-bade-4678-9bbd-7da1fe00295a\", \"x\": [\"NAD-ME\", \"NADP-ME\", \"PEP-CK\"], \"y\": [2999.1825909203394, 2707.327934521501, 2806.7252389699183]}],\n",
       "                        {\"barmode\": \"stack\", \"height\": 400, \"margin\": {\"b\": 100}, \"title\": {\"text\": \"Total Flux\"}, \"width\": 600, \"xaxis\": {\"tickangle\": 0, \"title\": {\"text\": \"decarboxylation enzyme\"}}, \"yaxis\": {\"autorange\": true, \"title\": {\"text\": \"Flux [\\u00b5mol/s/m2]\"}}},\n",
       "                        {\"plotlyServerURL\": \"https://plot.ly\", \"linkText\": \"Export to plot.ly\", \"showLink\": false}\n",
       "                    )\n",
       "                };\n",
       "                });\n",
       "            </script>\n",
       "        </div>"
      ]
     },
     "metadata": {},
     "output_type": "display_data"
    }
   ],
   "source": [
    "create_bar_plot_rxn(D_pfba, D_exp,\n",
    "                    {'total':'Total',},\n",
    "                    'Total Flux', xaxis_title,\n",
    "                    stacked = True, save_fig=save_fig)"
   ]
  },
  {
   "cell_type": "code",
   "execution_count": 18,
   "metadata": {
    "ExecuteTime": {
     "end_time": "2019-05-06T13:54:33.121799Z",
     "start_time": "2019-05-06T15:54:32.971252+02:00"
    },
    "code_folding": []
   },
   "outputs": [
    {
     "data": {
      "application/vnd.plotly.v1+json": {
       "config": {
        "linkText": "Export to plot.ly",
        "plotlyServerURL": "https://plot.ly",
        "showLink": false
       },
       "data": [
        {
         "marker": {
          "color": "rgb(8,81,156)"
         },
         "name": "Ex_Suc",
         "type": "bar",
         "uid": "8637f9fb-6fc8-4878-bc30-f94b5fa6ae75",
         "x": [
          "NAD-ME",
          "NADP-ME",
          "PEP-CK"
         ],
         "y": [
          1.53435740065907,
          1.53435740065972,
          1.53435740065909
         ]
        }
       ],
       "layout": {
        "barmode": "stack",
        "height": 400,
        "margin": {
         "b": 100
        },
        "title": {
         "text": "Sucrose Export"
        },
        "width": 600,
        "xaxis": {
         "tickangle": 0,
         "title": {
          "text": "decarboxylation enzyme"
         }
        },
        "yaxis": {
         "autorange": true,
         "title": {
          "text": "Flux [µmol/s/m2]"
         }
        }
       }
      },
      "text/html": [
       "<div>\n",
       "        \n",
       "        \n",
       "            <div id=\"bdc67514-fee5-4dba-87ff-b10092930720\" class=\"plotly-graph-div\"></div>\n",
       "            <script type=\"text/javascript\">\n",
       "                require([\"plotly\"], function(Plotly) {\n",
       "                    window.PLOTLYENV=window.PLOTLYENV || {};\n",
       "                    window.PLOTLYENV.BASE_URL='https://plot.ly';\n",
       "                    \n",
       "                if (document.getElementById(\"bdc67514-fee5-4dba-87ff-b10092930720\")) {\n",
       "                    Plotly.newPlot(\n",
       "                        'bdc67514-fee5-4dba-87ff-b10092930720',\n",
       "                        [{\"marker\": {\"color\": \"rgb(8,81,156)\"}, \"name\": \"Ex_Suc\", \"type\": \"bar\", \"uid\": \"4b730ea1-ba1c-4855-b33c-61f22b6944c4\", \"x\": [\"NAD-ME\", \"NADP-ME\", \"PEP-CK\"], \"y\": [1.53435740065907, 1.53435740065972, 1.53435740065909]}],\n",
       "                        {\"barmode\": \"stack\", \"height\": 400, \"margin\": {\"b\": 100}, \"title\": {\"text\": \"Sucrose Export\"}, \"width\": 600, \"xaxis\": {\"tickangle\": 0, \"title\": {\"text\": \"decarboxylation enzyme\"}}, \"yaxis\": {\"autorange\": true, \"title\": {\"text\": \"Flux [\\u00b5mol/s/m2]\"}}},\n",
       "                        {\"plotlyServerURL\": \"https://plot.ly\", \"linkText\": \"Export to plot.ly\", \"showLink\": false}\n",
       "                    )\n",
       "                };\n",
       "                });\n",
       "            </script>\n",
       "        </div>"
      ]
     },
     "metadata": {},
     "output_type": "display_data"
    }
   ],
   "source": [
    "create_bar_plot_rxn(D_pfba, D_exp,\n",
    "                    {'[B]_Ex_Suc':'Ex_Suc',},\n",
    "                    'Sucrose Export', xaxis_title,\n",
    "                    stacked = True, save_fig=save_fig)"
   ]
  },
  {
   "cell_type": "code",
   "execution_count": 19,
   "metadata": {
    "ExecuteTime": {
     "end_time": "2019-05-06T13:54:33.296713Z",
     "start_time": "2019-05-06T15:54:33.123613+02:00"
    },
    "code_folding": [],
    "run_control": {
     "marked": true
    },
    "scrolled": false
   },
   "outputs": [
    {
     "data": {
      "application/vnd.plotly.v1+json": {
       "config": {
        "linkText": "Export to plot.ly",
        "plotlyServerURL": "https://plot.ly",
        "showLink": false
       },
       "data": [
        {
         "marker": {
          "color": "rgb(8,81,156)"
         },
         "name": "Bundle sheath",
         "type": "bar",
         "uid": "c91f4411-9e4a-47e3-9839-3b702908301a",
         "x": [
          "NAD-ME",
          "NADP-ME",
          "PEP-CK"
         ],
         "y": [
          207.0986208413242,
          207.72027472982495,
          206.4817893841315
         ]
        },
        {
         "marker": {
          "color": "rgb(166,54,3)"
         },
         "name": "Mesophyll",
         "type": "bar",
         "uid": "79809e7f-9c8a-44fb-8750-c432a56d6647",
         "x": [
          "NAD-ME",
          "NADP-ME",
          "PEP-CK"
         ],
         "y": [
          207.0986208413242,
          207.72027472982495,
          206.4817893841315
         ]
        }
       ],
       "layout": {
        "barmode": "stack",
        "height": 400,
        "margin": {
         "b": 100
        },
        "title": {
         "text": "Photon Uptake"
        },
        "width": 600,
        "xaxis": {
         "tickangle": 0,
         "title": {
          "text": "decarboxylation enzyme"
         }
        },
        "yaxis": {
         "autorange": true,
         "title": {
          "text": "Flux [µmol/s/m2]"
         }
        }
       }
      },
      "text/html": [
       "<div>\n",
       "        \n",
       "        \n",
       "            <div id=\"9f7de87c-3aa2-439b-8542-33a82976f747\" class=\"plotly-graph-div\"></div>\n",
       "            <script type=\"text/javascript\">\n",
       "                require([\"plotly\"], function(Plotly) {\n",
       "                    window.PLOTLYENV=window.PLOTLYENV || {};\n",
       "                    window.PLOTLYENV.BASE_URL='https://plot.ly';\n",
       "                    \n",
       "                if (document.getElementById(\"9f7de87c-3aa2-439b-8542-33a82976f747\")) {\n",
       "                    Plotly.newPlot(\n",
       "                        '9f7de87c-3aa2-439b-8542-33a82976f747',\n",
       "                        [{\"marker\": {\"color\": \"rgb(8,81,156)\"}, \"name\": \"Bundle sheath\", \"type\": \"bar\", \"uid\": \"6876f8f4-2cf0-44f9-b013-202ad2610bbc\", \"x\": [\"NAD-ME\", \"NADP-ME\", \"PEP-CK\"], \"y\": [207.0986208413242, 207.72027472982495, 206.4817893841315]}, {\"marker\": {\"color\": \"rgb(166,54,3)\"}, \"name\": \"Mesophyll\", \"type\": \"bar\", \"uid\": \"27761cec-2d6b-4236-a0a1-06c73b9cf121\", \"x\": [\"NAD-ME\", \"NADP-ME\", \"PEP-CK\"], \"y\": [207.0986208413242, 207.72027472982495, 206.4817893841315]}],\n",
       "                        {\"barmode\": \"stack\", \"height\": 400, \"margin\": {\"b\": 100}, \"title\": {\"text\": \"Photon Uptake\"}, \"width\": 600, \"xaxis\": {\"tickangle\": 0, \"title\": {\"text\": \"decarboxylation enzyme\"}}, \"yaxis\": {\"autorange\": true, \"title\": {\"text\": \"Flux [\\u00b5mol/s/m2]\"}}},\n",
       "                        {\"plotlyServerURL\": \"https://plot.ly\", \"linkText\": \"Export to plot.ly\", \"showLink\": false}\n",
       "                    )\n",
       "                };\n",
       "                });\n",
       "            </script>\n",
       "        </div>"
      ]
     },
     "metadata": {},
     "output_type": "display_data"
    }
   ],
   "source": [
    "create_bar_plot_rxn(D_pfba, D_exp,\n",
    "                    {'[M]_Im_hnu':'Mesophyll','[B]_Im_hnu': 'Bundle sheath'},\n",
    "                    'Photon Uptake', xaxis_title,\n",
    "                    stacked = True, save_fig=save_fig)"
   ]
  },
  {
   "cell_type": "code",
   "execution_count": 20,
   "metadata": {
    "ExecuteTime": {
     "end_time": "2019-05-06T13:54:33.672231Z",
     "start_time": "2019-05-06T15:54:33.298486+02:00"
    },
    "code_folding": [],
    "run_control": {
     "marked": true
    }
   },
   "outputs": [
    {
     "data": {
      "application/vnd.plotly.v1+json": {
       "config": {
        "linkText": "Export to plot.ly",
        "plotlyServerURL": "https://plot.ly",
        "showLink": false
       },
       "data": [
        {
         "marker": {
          "color": "rgb(8,81,156)"
         },
         "name": "Bundle sheath",
         "type": "bar",
         "uid": "9f427663-4e08-4933-b2e2-23e9fb1aa78e",
         "x": [
          "NAD-ME",
          "NADP-ME",
          "PEP-CK"
         ],
         "y": [
          77.46189048207044,
          71.41280647648591,
          77.62400561472802
         ]
        },
        {
         "marker": {
          "color": "rgb(166,54,3)"
         },
         "name": "Mesophyll",
         "type": "bar",
         "uid": "d2478a89-0d59-47b8-ba6f-80b4177a163a",
         "x": [
          "NAD-ME",
          "NADP-ME",
          "PEP-CK"
         ],
         "y": [
          93.40369921300706,
          98.01715065858603,
          96.19934547900819
         ]
        }
       ],
       "layout": {
        "barmode": "stack",
        "height": 400,
        "margin": {
         "b": 100
        },
        "title": {
         "text": "Photon Uptake by PSII"
        },
        "width": 600,
        "xaxis": {
         "tickangle": 0,
         "title": {
          "text": "decarboxylation enzyme"
         }
        },
        "yaxis": {
         "autorange": true,
         "title": {
          "text": "Flux [µmol/s/m2]"
         }
        }
       }
      },
      "text/html": [
       "<div>\n",
       "        \n",
       "        \n",
       "            <div id=\"29b213f0-a973-4b4b-888a-51fd1888f4d5\" class=\"plotly-graph-div\"></div>\n",
       "            <script type=\"text/javascript\">\n",
       "                require([\"plotly\"], function(Plotly) {\n",
       "                    window.PLOTLYENV=window.PLOTLYENV || {};\n",
       "                    window.PLOTLYENV.BASE_URL='https://plot.ly';\n",
       "                    \n",
       "                if (document.getElementById(\"29b213f0-a973-4b4b-888a-51fd1888f4d5\")) {\n",
       "                    Plotly.newPlot(\n",
       "                        '29b213f0-a973-4b4b-888a-51fd1888f4d5',\n",
       "                        [{\"marker\": {\"color\": \"rgb(8,81,156)\"}, \"name\": \"Bundle sheath\", \"type\": \"bar\", \"uid\": \"4f8203cf-c6c8-4ac9-bb8d-67765806f0da\", \"x\": [\"NAD-ME\", \"NADP-ME\", \"PEP-CK\"], \"y\": [77.46189048207044, 71.41280647648591, 77.62400561472802]}, {\"marker\": {\"color\": \"rgb(166,54,3)\"}, \"name\": \"Mesophyll\", \"type\": \"bar\", \"uid\": \"d2088aa5-2123-497f-966f-0b10d076b5e8\", \"x\": [\"NAD-ME\", \"NADP-ME\", \"PEP-CK\"], \"y\": [93.40369921300706, 98.01715065858603, 96.19934547900819]}],\n",
       "                        {\"barmode\": \"stack\", \"height\": 400, \"margin\": {\"b\": 100}, \"title\": {\"text\": \"Photon Uptake by PSII\"}, \"width\": 600, \"xaxis\": {\"tickangle\": 0, \"title\": {\"text\": \"decarboxylation enzyme\"}}, \"yaxis\": {\"autorange\": true, \"title\": {\"text\": \"Flux [\\u00b5mol/s/m2]\"}}},\n",
       "                        {\"plotlyServerURL\": \"https://plot.ly\", \"linkText\": \"Export to plot.ly\", \"showLink\": false}\n",
       "                    )\n",
       "                };\n",
       "                });\n",
       "            </script>\n",
       "        </div>"
      ]
     },
     "metadata": {},
     "output_type": "display_data"
    }
   ],
   "source": [
    "create_bar_plot_met(D_pfba, D_exp,\n",
    "                    {'[M]_PSII_h':'Mesophyll','[B]_PSII_h': 'Bundle sheath'},'hnu_h',\n",
    "                    'Photon Uptake by PSII', xaxis_title, c3_model,\n",
    "                    stacked = True, save_fig=save_fig)"
   ]
  },
  {
   "cell_type": "code",
   "execution_count": 21,
   "metadata": {
    "ExecuteTime": {
     "end_time": "2019-05-06T13:54:33.818542Z",
     "start_time": "2019-05-06T15:54:33.673830+02:00"
    },
    "code_folding": []
   },
   "outputs": [
    {
     "data": {
      "application/vnd.plotly.v1+json": {
       "config": {
        "linkText": "Export to plot.ly",
        "plotlyServerURL": "https://plot.ly",
        "showLink": false
       },
       "data": [
        {
         "marker": {
          "color": "rgb(8,81,156)"
         },
         "name": "Bundle sheath",
         "type": "bar",
         "uid": "c4c03c1d-0da9-4228-8501-bcc4c88f0d6e",
         "x": [
          "NAD-ME",
          "NADP-ME",
          "PEP-CK"
         ],
         "y": [
          129.63673035925373,
          136.307468253339,
          128.85778376940348
         ]
        },
        {
         "marker": {
          "color": "rgb(166,54,3)"
         },
         "name": "Mesophyll",
         "type": "bar",
         "uid": "703a73f1-8fb5-40d9-af15-eb8aae00e66d",
         "x": [
          "NAD-ME",
          "NADP-ME",
          "PEP-CK"
         ],
         "y": [
          113.69492162831712,
          109.70312407123893,
          110.28244390512332
         ]
        }
       ],
       "layout": {
        "barmode": "stack",
        "height": 400,
        "margin": {
         "b": 100
        },
        "title": {
         "text": "Photon Uptake by PSI"
        },
        "width": 600,
        "xaxis": {
         "tickangle": 0,
         "title": {
          "text": "decarboxylation enzyme"
         }
        },
        "yaxis": {
         "autorange": true,
         "title": {
          "text": "Flux [µmol/s/m2]"
         }
        }
       }
      },
      "text/html": [
       "<div>\n",
       "        \n",
       "        \n",
       "            <div id=\"9a563ef4-9718-48ad-980e-c6562b802c3f\" class=\"plotly-graph-div\"></div>\n",
       "            <script type=\"text/javascript\">\n",
       "                require([\"plotly\"], function(Plotly) {\n",
       "                    window.PLOTLYENV=window.PLOTLYENV || {};\n",
       "                    window.PLOTLYENV.BASE_URL='https://plot.ly';\n",
       "                    \n",
       "                if (document.getElementById(\"9a563ef4-9718-48ad-980e-c6562b802c3f\")) {\n",
       "                    Plotly.newPlot(\n",
       "                        '9a563ef4-9718-48ad-980e-c6562b802c3f',\n",
       "                        [{\"marker\": {\"color\": \"rgb(8,81,156)\"}, \"name\": \"Bundle sheath\", \"type\": \"bar\", \"uid\": \"ba1325fa-c70f-41c8-912f-051890369634\", \"x\": [\"NAD-ME\", \"NADP-ME\", \"PEP-CK\"], \"y\": [129.63673035925373, 136.307468253339, 128.85778376940348]}, {\"marker\": {\"color\": \"rgb(166,54,3)\"}, \"name\": \"Mesophyll\", \"type\": \"bar\", \"uid\": \"bc1b3f83-7884-4ebb-9e5d-5955862c377c\", \"x\": [\"NAD-ME\", \"NADP-ME\", \"PEP-CK\"], \"y\": [113.69492162831712, 109.70312407123893, 110.28244390512332]}],\n",
       "                        {\"barmode\": \"stack\", \"height\": 400, \"margin\": {\"b\": 100}, \"title\": {\"text\": \"Photon Uptake by PSI\"}, \"width\": 600, \"xaxis\": {\"tickangle\": 0, \"title\": {\"text\": \"decarboxylation enzyme\"}}, \"yaxis\": {\"autorange\": true, \"title\": {\"text\": \"Flux [\\u00b5mol/s/m2]\"}}},\n",
       "                        {\"plotlyServerURL\": \"https://plot.ly\", \"linkText\": \"Export to plot.ly\", \"showLink\": false}\n",
       "                    )\n",
       "                };\n",
       "                });\n",
       "            </script>\n",
       "        </div>"
      ]
     },
     "metadata": {},
     "output_type": "display_data"
    }
   ],
   "source": [
    "create_bar_plot_met(D_pfba, D_exp,\n",
    "                    {'[M]_PSI_h':'Mesophyll','[B]_PSI_h': 'Bundle sheath'},'hnu_h',\n",
    "                    'Photon Uptake by PSI', xaxis_title, c3_model,\n",
    "                    stacked = True, save_fig=save_fig)"
   ]
  },
  {
   "cell_type": "code",
   "execution_count": 22,
   "metadata": {
    "ExecuteTime": {
     "end_time": "2019-05-06T13:54:33.965996Z",
     "start_time": "2019-05-06T15:54:33.820039+02:00"
    }
   },
   "outputs": [
    {
     "data": {
      "application/vnd.plotly.v1+json": {
       "config": {
        "linkText": "Export to plot.ly",
        "plotlyServerURL": "https://plot.ly",
        "showLink": false
       },
       "data": [
        {
         "marker": {
          "color": "rgb(8,81,156)"
         },
         "name": "Bundle sheath",
         "type": "bar",
         "uid": "008dcdf6-ccc4-45e6-9dc6-6cd2d9e066a3",
         "x": [
          "NAD-ME",
          "NADP-ME",
          "PEP-CK"
         ],
         "y": [
          3.236099245026018,
          0.843378311563689,
          8.46895334159554
         ]
        },
        {
         "marker": {
          "color": "rgb(166,54,3)"
         },
         "name": "Mesophyll",
         "type": "bar",
         "uid": "79845ced-09ce-4b99-b7d3-b2ab141b519a",
         "x": [
          "NAD-ME",
          "NADP-ME",
          "PEP-CK"
         ],
         "y": [
          2.4879304709970507,
          2.4879304709980654,
          2.1846787055207675
         ]
        }
       ],
       "layout": {
        "barmode": "stack",
        "height": 400,
        "margin": {
         "b": 100
        },
        "title": {
         "text": "ATP Synthesis Mitochondria"
        },
        "width": 600,
        "xaxis": {
         "tickangle": 0,
         "title": {
          "text": "decarboxylation enzyme"
         }
        },
        "yaxis": {
         "autorange": true,
         "title": {
          "text": "Flux [µmol/s/m2]"
         }
        }
       }
      },
      "text/html": [
       "<div>\n",
       "        \n",
       "        \n",
       "            <div id=\"b5538a5f-cc92-49a2-bbae-f963d739cee0\" class=\"plotly-graph-div\"></div>\n",
       "            <script type=\"text/javascript\">\n",
       "                require([\"plotly\"], function(Plotly) {\n",
       "                    window.PLOTLYENV=window.PLOTLYENV || {};\n",
       "                    window.PLOTLYENV.BASE_URL='https://plot.ly';\n",
       "                    \n",
       "                if (document.getElementById(\"b5538a5f-cc92-49a2-bbae-f963d739cee0\")) {\n",
       "                    Plotly.newPlot(\n",
       "                        'b5538a5f-cc92-49a2-bbae-f963d739cee0',\n",
       "                        [{\"marker\": {\"color\": \"rgb(8,81,156)\"}, \"name\": \"Bundle sheath\", \"type\": \"bar\", \"uid\": \"d2493ebe-d419-44df-81d2-938987bb09eb\", \"x\": [\"NAD-ME\", \"NADP-ME\", \"PEP-CK\"], \"y\": [3.236099245026018, 0.843378311563689, 8.46895334159554]}, {\"marker\": {\"color\": \"rgb(166,54,3)\"}, \"name\": \"Mesophyll\", \"type\": \"bar\", \"uid\": \"52ab31ab-63be-4fa4-8505-ec8b221fefb9\", \"x\": [\"NAD-ME\", \"NADP-ME\", \"PEP-CK\"], \"y\": [2.4879304709970507, 2.4879304709980654, 2.1846787055207675]}],\n",
       "                        {\"barmode\": \"stack\", \"height\": 400, \"margin\": {\"b\": 100}, \"title\": {\"text\": \"ATP Synthesis Mitochondria\"}, \"width\": 600, \"xaxis\": {\"tickangle\": 0, \"title\": {\"text\": \"decarboxylation enzyme\"}}, \"yaxis\": {\"autorange\": true, \"title\": {\"text\": \"Flux [\\u00b5mol/s/m2]\"}}},\n",
       "                        {\"plotlyServerURL\": \"https://plot.ly\", \"linkText\": \"Export to plot.ly\", \"showLink\": false}\n",
       "                    )\n",
       "                };\n",
       "                });\n",
       "            </script>\n",
       "        </div>"
      ]
     },
     "metadata": {},
     "output_type": "display_data"
    }
   ],
   "source": [
    "create_bar_plot_met(D_pfba, D_exp,\n",
    "                    {'[M]_cplx5_m':'Mesophyll','[B]_cplx5_m': 'Bundle sheath'},'ATP_m',\n",
    "                    'ATP Synthesis Mitochondria', xaxis_title, c3_model,\n",
    "                    stacked = True, save_fig=save_fig)"
   ]
  },
  {
   "cell_type": "code",
   "execution_count": 23,
   "metadata": {
    "ExecuteTime": {
     "end_time": "2019-05-06T13:54:34.111414Z",
     "start_time": "2019-05-06T15:54:33.967601+02:00"
    }
   },
   "outputs": [
    {
     "data": {
      "application/vnd.plotly.v1+json": {
       "config": {
        "linkText": "Export to plot.ly",
        "plotlyServerURL": "https://plot.ly",
        "showLink": false
       },
       "data": [
        {
         "marker": {
          "color": "rgb(8,81,156)"
         },
         "name": "Bundle sheath",
         "type": "bar",
         "uid": "66d876a4-fe19-4b78-8ec6-38519e07446a",
         "x": [
          "NAD-ME",
          "NADP-ME",
          "PEP-CK"
         ],
         "y": [
          110.27125773873611,
          118.45426663421756,
          109.45178236572147
         ]
        },
        {
         "marker": {
          "color": "rgb(166,54,3)"
         },
         "name": "Mesophyll",
         "type": "bar",
         "uid": "7a7a0486-dd86-423e-8ab8-d2076fb3ca11",
         "x": [
          "NAD-ME",
          "NADP-ME",
          "PEP-CK"
         ],
         "y": [
          90.34399682506536,
          85.19883640659242,
          86.23260753537129
         ]
        }
       ],
       "layout": {
        "barmode": "stack",
        "height": 400,
        "margin": {
         "b": 100
        },
        "title": {
         "text": "ATP Synthesis Chloroplast"
        },
        "width": 600,
        "xaxis": {
         "tickangle": 0,
         "title": {
          "text": "decarboxylation enzyme"
         }
        },
        "yaxis": {
         "autorange": true,
         "title": {
          "text": "Flux [µmol/s/m2]"
         }
        }
       }
      },
      "text/html": [
       "<div>\n",
       "        \n",
       "        \n",
       "            <div id=\"db73b06f-3c7f-4cf5-8641-e04f08f3e4df\" class=\"plotly-graph-div\"></div>\n",
       "            <script type=\"text/javascript\">\n",
       "                require([\"plotly\"], function(Plotly) {\n",
       "                    window.PLOTLYENV=window.PLOTLYENV || {};\n",
       "                    window.PLOTLYENV.BASE_URL='https://plot.ly';\n",
       "                    \n",
       "                if (document.getElementById(\"db73b06f-3c7f-4cf5-8641-e04f08f3e4df\")) {\n",
       "                    Plotly.newPlot(\n",
       "                        'db73b06f-3c7f-4cf5-8641-e04f08f3e4df',\n",
       "                        [{\"marker\": {\"color\": \"rgb(8,81,156)\"}, \"name\": \"Bundle sheath\", \"type\": \"bar\", \"uid\": \"403a9ede-cc1f-4fac-a0f3-a9bd00281650\", \"x\": [\"NAD-ME\", \"NADP-ME\", \"PEP-CK\"], \"y\": [110.27125773873611, 118.45426663421756, 109.45178236572147]}, {\"marker\": {\"color\": \"rgb(166,54,3)\"}, \"name\": \"Mesophyll\", \"type\": \"bar\", \"uid\": \"42843488-faea-4ff6-9669-aada1f64e599\", \"x\": [\"NAD-ME\", \"NADP-ME\", \"PEP-CK\"], \"y\": [90.34399682506536, 85.19883640659242, 86.23260753537129]}],\n",
       "                        {\"barmode\": \"stack\", \"height\": 400, \"margin\": {\"b\": 100}, \"title\": {\"text\": \"ATP Synthesis Chloroplast\"}, \"width\": 600, \"xaxis\": {\"tickangle\": 0, \"title\": {\"text\": \"decarboxylation enzyme\"}}, \"yaxis\": {\"autorange\": true, \"title\": {\"text\": \"Flux [\\u00b5mol/s/m2]\"}}},\n",
       "                        {\"plotlyServerURL\": \"https://plot.ly\", \"linkText\": \"Export to plot.ly\", \"showLink\": false}\n",
       "                    )\n",
       "                };\n",
       "                });\n",
       "            </script>\n",
       "        </div>"
      ]
     },
     "metadata": {},
     "output_type": "display_data"
    }
   ],
   "source": [
    "create_bar_plot_met(D_pfba, D_exp,\n",
    "                    {'[M]_ATPase_h':'Mesophyll','[B]_ATPase_h': 'Bundle sheath'},'ATP_h',\n",
    "                    'ATP Synthesis Chloroplast', xaxis_title, c3_model,\n",
    "                    stacked = True, save_fig=save_fig)"
   ]
  },
  {
   "cell_type": "code",
   "execution_count": 24,
   "metadata": {
    "ExecuteTime": {
     "end_time": "2019-05-06T13:54:34.273265Z",
     "start_time": "2019-05-06T15:54:34.113002+02:00"
    },
    "code_folding": [],
    "run_control": {
     "marked": true
    }
   },
   "outputs": [
    {
     "data": {
      "application/vnd.plotly.v1+json": {
       "config": {
        "linkText": "Export to plot.ly",
        "plotlyServerURL": "https://plot.ly",
        "showLink": false
       },
       "data": [
        {
         "marker": {
          "color": "rgb(49,130,189)"
         },
         "name": "Bundle sheat (unconstrained)",
         "type": "bar",
         "uid": "51f25ea8-3925-4c30-8a6b-38a0976e16a0",
         "x": [
          "NAD-ME",
          "NADP-ME",
          "PEP-CK"
         ],
         "y": [
          40.175056230711164,
          40.175056230728416,
          40.17505623071197
         ]
        },
        {
         "marker": {
          "color": "rgb(8,81,156)"
         },
         "name": "Bundle sheat (constrained)",
         "type": "bar",
         "uid": "c9ca3ede-0a66-4d81-b853-e9dc522fe4a7",
         "x": [
          "NAD-ME",
          "NADP-ME",
          "PEP-CK"
         ],
         "y": [
          0,
          7.092850293044909e-15,
          3.50850792592559e-15
         ]
        },
        {
         "marker": {
          "color": "rgb(166,54,3)"
         },
         "name": "Mesophyll (constrained)",
         "type": "bar",
         "uid": "37445395-2eeb-4847-8a10-c21171a3a856",
         "x": [
          "NAD-ME",
          "NADP-ME",
          "PEP-CK"
         ],
         "y": [
          3.78915491159912e-14,
          0,
          1.49497482087672e-15
         ]
        }
       ],
       "layout": {
        "barmode": "stack",
        "height": 400,
        "margin": {
         "b": 100
        },
        "title": {
         "text": "Carboxylation by Rubisco"
        },
        "width": 600,
        "xaxis": {
         "tickangle": 0,
         "title": {
          "text": "decarboxylation enzyme"
         }
        },
        "yaxis": {
         "autorange": true,
         "title": {
          "text": "Flux [µmol/s/m2]"
         }
        }
       }
      },
      "text/html": [
       "<div>\n",
       "        \n",
       "        \n",
       "            <div id=\"3782ed0d-4541-42ba-954d-0e326df7a342\" class=\"plotly-graph-div\"></div>\n",
       "            <script type=\"text/javascript\">\n",
       "                require([\"plotly\"], function(Plotly) {\n",
       "                    window.PLOTLYENV=window.PLOTLYENV || {};\n",
       "                    window.PLOTLYENV.BASE_URL='https://plot.ly';\n",
       "                    \n",
       "                if (document.getElementById(\"3782ed0d-4541-42ba-954d-0e326df7a342\")) {\n",
       "                    Plotly.newPlot(\n",
       "                        '3782ed0d-4541-42ba-954d-0e326df7a342',\n",
       "                        [{\"marker\": {\"color\": \"rgb(49,130,189)\"}, \"name\": \"Bundle sheat (unconstrained)\", \"type\": \"bar\", \"uid\": \"944567d4-5a48-47be-8495-0553c16fd070\", \"x\": [\"NAD-ME\", \"NADP-ME\", \"PEP-CK\"], \"y\": [40.175056230711164, 40.175056230728416, 40.17505623071197]}, {\"marker\": {\"color\": \"rgb(8,81,156)\"}, \"name\": \"Bundle sheat (constrained)\", \"type\": \"bar\", \"uid\": \"4b33cb7d-3f65-4fb2-a436-93b36b0c79b3\", \"x\": [\"NAD-ME\", \"NADP-ME\", \"PEP-CK\"], \"y\": [0.0, 7.092850293044909e-15, 3.50850792592559e-15]}, {\"marker\": {\"color\": \"rgb(166,54,3)\"}, \"name\": \"Mesophyll (constrained)\", \"type\": \"bar\", \"uid\": \"d7ed098e-b238-4da9-b15e-73f11045d7f5\", \"x\": [\"NAD-ME\", \"NADP-ME\", \"PEP-CK\"], \"y\": [3.78915491159912e-14, 0.0, 1.49497482087672e-15]}],\n",
       "                        {\"barmode\": \"stack\", \"height\": 400, \"margin\": {\"b\": 100}, \"title\": {\"text\": \"Carboxylation by Rubisco\"}, \"width\": 600, \"xaxis\": {\"tickangle\": 0, \"title\": {\"text\": \"decarboxylation enzyme\"}}, \"yaxis\": {\"autorange\": true, \"title\": {\"text\": \"Flux [\\u00b5mol/s/m2]\"}}},\n",
       "                        {\"plotlyServerURL\": \"https://plot.ly\", \"linkText\": \"Export to plot.ly\", \"showLink\": false}\n",
       "                    )\n",
       "                };\n",
       "                });\n",
       "            </script>\n",
       "        </div>"
      ]
     },
     "metadata": {},
     "output_type": "display_data"
    }
   ],
   "source": [
    "create_bar_plot_rxn(D_pfba, D_exp,\n",
    "                    {'[M]_RBC_h':'Mesophyll (constrained)','[B]_RBC_h_Ex':'Bundle sheat (constrained)',\n",
    "                 '[B]_RBC_h': 'Bundle sheat (unconstrained)'},\n",
    "                    'Carboxylation by Rubisco',  xaxis_title,\n",
    "                    stacked = True, save_fig=save_fig)"
   ]
  },
  {
   "cell_type": "code",
   "execution_count": 25,
   "metadata": {
    "ExecuteTime": {
     "end_time": "2019-05-06T13:54:34.590130Z",
     "start_time": "2019-05-06T15:54:34.274856+02:00"
    },
    "run_control": {
     "marked": true
    }
   },
   "outputs": [
    {
     "data": {
      "application/vnd.plotly.v1+json": {
       "config": {
        "linkText": "Export to plot.ly",
        "plotlyServerURL": "https://plot.ly",
        "showLink": false
       },
       "data": [
        {
         "marker": {
          "color": "rgb(8,81,156)"
         },
         "name": "Bundle sheath",
         "type": "bar",
         "uid": "80de8503-350b-4b3e-9fd3-2e645f08da0f",
         "x": [
          "NAD-ME",
          "NADP-ME",
          "PEP-CK"
         ],
         "y": [
          0,
          0,
          0
         ]
        },
        {
         "marker": {
          "color": "rgb(166,54,3)"
         },
         "name": "Mesophyll",
         "type": "bar",
         "uid": "14809704-5248-40e3-9908-26795fd3141e",
         "x": [
          "NAD-ME",
          "NADP-ME",
          "PEP-CK"
         ],
         "y": [
          39.986051296357296,
          39.98605129637443,
          39.986051296358056
         ]
        }
       ],
       "layout": {
        "barmode": "stack",
        "height": 400,
        "margin": {
         "b": 100
        },
        "title": {
         "text": "PEPC"
        },
        "width": 600,
        "xaxis": {
         "tickangle": 0,
         "title": {
          "text": "decarboxylation enzyme"
         }
        },
        "yaxis": {
         "autorange": true,
         "title": {
          "text": "Flux [µmol/s/m2]"
         }
        }
       }
      },
      "text/html": [
       "<div>\n",
       "        \n",
       "        \n",
       "            <div id=\"c119c1b0-90d6-4cd0-a2b9-c0e83721b628\" class=\"plotly-graph-div\"></div>\n",
       "            <script type=\"text/javascript\">\n",
       "                require([\"plotly\"], function(Plotly) {\n",
       "                    window.PLOTLYENV=window.PLOTLYENV || {};\n",
       "                    window.PLOTLYENV.BASE_URL='https://plot.ly';\n",
       "                    \n",
       "                if (document.getElementById(\"c119c1b0-90d6-4cd0-a2b9-c0e83721b628\")) {\n",
       "                    Plotly.newPlot(\n",
       "                        'c119c1b0-90d6-4cd0-a2b9-c0e83721b628',\n",
       "                        [{\"marker\": {\"color\": \"rgb(8,81,156)\"}, \"name\": \"Bundle sheath\", \"type\": \"bar\", \"uid\": \"ab8184c2-f128-49c3-bd66-7e2cf83cf168\", \"x\": [\"NAD-ME\", \"NADP-ME\", \"PEP-CK\"], \"y\": [0.0, 0.0, 0.0]}, {\"marker\": {\"color\": \"rgb(166,54,3)\"}, \"name\": \"Mesophyll\", \"type\": \"bar\", \"uid\": \"bfe3a8a1-4884-4918-ac34-e5911963beeb\", \"x\": [\"NAD-ME\", \"NADP-ME\", \"PEP-CK\"], \"y\": [39.986051296357296, 39.98605129637443, 39.986051296358056]}],\n",
       "                        {\"barmode\": \"stack\", \"height\": 400, \"margin\": {\"b\": 100}, \"title\": {\"text\": \"PEPC\"}, \"width\": 600, \"xaxis\": {\"tickangle\": 0, \"title\": {\"text\": \"decarboxylation enzyme\"}}, \"yaxis\": {\"autorange\": true, \"title\": {\"text\": \"Flux [\\u00b5mol/s/m2]\"}}},\n",
       "                        {\"plotlyServerURL\": \"https://plot.ly\", \"linkText\": \"Export to plot.ly\", \"showLink\": false}\n",
       "                    )\n",
       "                };\n",
       "                });\n",
       "            </script>\n",
       "        </div>"
      ]
     },
     "metadata": {},
     "output_type": "display_data"
    }
   ],
   "source": [
    "create_bar_plot_rxn(D_pfba, D_exp,\n",
    "                    {'[M]_PEPC2_c': 'Mesophyll', '[B]_PEPC2_c': 'Bundle sheath'},\n",
    "                    'PEPC',  xaxis_title,\n",
    "                     stacked = True, save_fig=save_fig)"
   ]
  },
  {
   "cell_type": "code",
   "execution_count": 26,
   "metadata": {
    "ExecuteTime": {
     "end_time": "2019-05-06T13:54:34.740848Z",
     "start_time": "2019-05-06T15:54:34.591626+02:00"
    }
   },
   "outputs": [
    {
     "data": {
      "application/vnd.plotly.v1+json": {
       "config": {
        "linkText": "Export to plot.ly",
        "plotlyServerURL": "https://plot.ly",
        "showLink": false
       },
       "data": [
        {
         "marker": {
          "color": "rgb(8,81,156)"
         },
         "name": "Bundle sheath",
         "type": "bar",
         "uid": "3821f3d2-d3da-431e-bfdb-c3a62c8e6514",
         "x": [
          "NAD-ME",
          "NADP-ME",
          "PEP-CK"
         ],
         "y": [
          0.08508709221836662,
          0.08508709221840265,
          0.08592864663125861
         ]
        },
        {
         "marker": {
          "color": "rgb(166,54,3)"
         },
         "name": "Mesophyll",
         "type": "bar",
         "uid": "7f26dd9f-aecb-46ae-96eb-574d42fd476f",
         "x": [
          "NAD-ME",
          "NADP-ME",
          "PEP-CK"
         ],
         "y": [
          39.98884103708572,
          39.98884103710287,
          39.98884103708658
         ]
        }
       ],
       "layout": {
        "barmode": "stack",
        "height": 400,
        "margin": {
         "b": 100
        },
        "title": {
         "text": "PyrPiDK"
        },
        "width": 600,
        "xaxis": {
         "tickangle": 0,
         "title": {
          "text": "decarboxylation enzyme"
         }
        },
        "yaxis": {
         "autorange": true,
         "title": {
          "text": "Flux [µmol/s/m2]"
         }
        }
       }
      },
      "text/html": [
       "<div>\n",
       "        \n",
       "        \n",
       "            <div id=\"f240b109-873b-4207-a002-2fa8c22819f0\" class=\"plotly-graph-div\"></div>\n",
       "            <script type=\"text/javascript\">\n",
       "                require([\"plotly\"], function(Plotly) {\n",
       "                    window.PLOTLYENV=window.PLOTLYENV || {};\n",
       "                    window.PLOTLYENV.BASE_URL='https://plot.ly';\n",
       "                    \n",
       "                if (document.getElementById(\"f240b109-873b-4207-a002-2fa8c22819f0\")) {\n",
       "                    Plotly.newPlot(\n",
       "                        'f240b109-873b-4207-a002-2fa8c22819f0',\n",
       "                        [{\"marker\": {\"color\": \"rgb(8,81,156)\"}, \"name\": \"Bundle sheath\", \"type\": \"bar\", \"uid\": \"fc12c440-1d11-4a62-886f-01197247c0f0\", \"x\": [\"NAD-ME\", \"NADP-ME\", \"PEP-CK\"], \"y\": [0.08508709221836662, 0.08508709221840265, 0.08592864663125861]}, {\"marker\": {\"color\": \"rgb(166,54,3)\"}, \"name\": \"Mesophyll\", \"type\": \"bar\", \"uid\": \"47ae80b7-a028-4b33-9e2f-107249643a8a\", \"x\": [\"NAD-ME\", \"NADP-ME\", \"PEP-CK\"], \"y\": [39.98884103708572, 39.98884103710287, 39.98884103708658]}],\n",
       "                        {\"barmode\": \"stack\", \"height\": 400, \"margin\": {\"b\": 100}, \"title\": {\"text\": \"PyrPiDK\"}, \"width\": 600, \"xaxis\": {\"tickangle\": 0, \"title\": {\"text\": \"decarboxylation enzyme\"}}, \"yaxis\": {\"autorange\": true, \"title\": {\"text\": \"Flux [\\u00b5mol/s/m2]\"}}},\n",
       "                        {\"plotlyServerURL\": \"https://plot.ly\", \"linkText\": \"Export to plot.ly\", \"showLink\": false}\n",
       "                    )\n",
       "                };\n",
       "                });\n",
       "            </script>\n",
       "        </div>"
      ]
     },
     "metadata": {},
     "output_type": "display_data"
    }
   ],
   "source": [
    "create_bar_plot_rxn(D_pfba, D_exp,\n",
    "                    {'[M]_PyrPiDK_h': 'Mesophyll', '[B]_PyrPiDK_h': 'Bundle sheath'},\n",
    "                    'PyrPiDK',  xaxis_title,\n",
    "                     stacked = True, save_fig=save_fig)"
   ]
  },
  {
   "cell_type": "code",
   "execution_count": 27,
   "metadata": {
    "ExecuteTime": {
     "end_time": "2019-05-06T13:54:34.894652Z",
     "start_time": "2019-05-06T15:54:34.742370+02:00"
    }
   },
   "outputs": [
    {
     "data": {
      "application/vnd.plotly.v1+json": {
       "config": {
        "linkText": "Export to plot.ly",
        "plotlyServerURL": "https://plot.ly",
        "showLink": false
       },
       "data": [
        {
         "marker": {
          "color": "rgb(8,81,156)"
         },
         "name": "Bundle sheath",
         "type": "bar",
         "uid": "5cbe8b54-ce45-4a98-b707-e8e38d917929",
         "x": [
          "NAD-ME",
          "NADP-ME",
          "PEP-CK"
         ],
         "y": [
          0,
          0,
          0
         ]
        },
        {
         "marker": {
          "color": "rgb(166,54,3)"
         },
         "name": "Mesophyll",
         "type": "bar",
         "uid": "8aad9e78-4b75-4831-a2c3-473a5e341eec",
         "x": [
          "NAD-ME",
          "NADP-ME",
          "PEP-CK"
         ],
         "y": [
          0,
          0,
          0
         ]
        }
       ],
       "layout": {
        "barmode": "stack",
        "height": 400,
        "margin": {
         "b": 100
        },
        "title": {
         "text": "iCitDHNADP_h"
        },
        "width": 600,
        "xaxis": {
         "tickangle": 0,
         "title": {
          "text": "oxygenation : decarboxylation ratio"
         }
        },
        "yaxis": {
         "autorange": true,
         "title": {
          "text": "Flux [µmol/s/m2]"
         }
        }
       }
      },
      "text/html": [
       "<div>\n",
       "        \n",
       "        \n",
       "            <div id=\"2046dbf0-3cdf-42b9-b9ea-9a669794b806\" class=\"plotly-graph-div\"></div>\n",
       "            <script type=\"text/javascript\">\n",
       "                require([\"plotly\"], function(Plotly) {\n",
       "                    window.PLOTLYENV=window.PLOTLYENV || {};\n",
       "                    window.PLOTLYENV.BASE_URL='https://plot.ly';\n",
       "                    \n",
       "                if (document.getElementById(\"2046dbf0-3cdf-42b9-b9ea-9a669794b806\")) {\n",
       "                    Plotly.newPlot(\n",
       "                        '2046dbf0-3cdf-42b9-b9ea-9a669794b806',\n",
       "                        [{\"marker\": {\"color\": \"rgb(8,81,156)\"}, \"name\": \"Bundle sheath\", \"type\": \"bar\", \"uid\": \"106f3b0c-986b-4a31-9705-ebb3d533f78d\", \"x\": [\"NAD-ME\", \"NADP-ME\", \"PEP-CK\"], \"y\": [0.0, 0.0, 0.0]}, {\"marker\": {\"color\": \"rgb(166,54,3)\"}, \"name\": \"Mesophyll\", \"type\": \"bar\", \"uid\": \"ace87c92-f7bf-4c3a-8653-a02ddb5f8629\", \"x\": [\"NAD-ME\", \"NADP-ME\", \"PEP-CK\"], \"y\": [0.0, 0.0, 0.0]}],\n",
       "                        {\"barmode\": \"stack\", \"height\": 400, \"margin\": {\"b\": 100}, \"title\": {\"text\": \"iCitDHNADP_h\"}, \"width\": 600, \"xaxis\": {\"tickangle\": 0, \"title\": {\"text\": \"oxygenation : decarboxylation ratio\"}}, \"yaxis\": {\"autorange\": true, \"title\": {\"text\": \"Flux [\\u00b5mol/s/m2]\"}}},\n",
       "                        {\"plotlyServerURL\": \"https://plot.ly\", \"linkText\": \"Export to plot.ly\", \"showLink\": false}\n",
       "                    )\n",
       "                };\n",
       "                });\n",
       "            </script>\n",
       "        </div>"
      ]
     },
     "metadata": {},
     "output_type": "display_data"
    }
   ],
   "source": [
    "\n",
    "\n",
    "create_bar_plot_rxn(D_fba, D_exp,\n",
    "                    {'[M]_iCitDHNADP_h': 'Mesophyll', '[B]_iCitDHNADP_h': 'Bundle sheath'},\n",
    "                    'iCitDHNADP_h', 'oxygenation : decarboxylation ratio',\n",
    "                     stacked = True, save_fig=save_fig)"
   ]
  },
  {
   "cell_type": "code",
   "execution_count": 28,
   "metadata": {
    "ExecuteTime": {
     "end_time": "2019-05-06T13:54:35.040313Z",
     "start_time": "2019-05-06T15:54:34.896383+02:00"
    }
   },
   "outputs": [
    {
     "data": {
      "application/vnd.plotly.v1+json": {
       "config": {
        "linkText": "Export to plot.ly",
        "plotlyServerURL": "https://plot.ly",
        "showLink": false
       },
       "data": [
        {
         "marker": {
          "color": "rgb(8,81,156)"
         },
         "name": "Bundle sheath",
         "type": "bar",
         "uid": "a3d0b0b1-0c41-4be5-870b-f467565334e9",
         "x": [
          "NAD-ME",
          "NADP-ME",
          "PEP-CK"
         ],
         "y": [
          0,
          0,
          0
         ]
        },
        {
         "marker": {
          "color": "rgb(166,54,3)"
         },
         "name": "Mesophyll",
         "type": "bar",
         "uid": "26e9a7db-7157-4232-8e4d-b0a34fdfc7ee",
         "x": [
          "NAD-ME",
          "NADP-ME",
          "PEP-CK"
         ],
         "y": [
          0,
          0,
          0
         ]
        }
       ],
       "layout": {
        "barmode": "stack",
        "height": 400,
        "margin": {
         "b": 100
        },
        "title": {
         "text": "AOX4_h"
        },
        "width": 600,
        "xaxis": {
         "tickangle": 0,
         "title": {
          "text": "oxygenation : decarboxylation ratio"
         }
        },
        "yaxis": {
         "autorange": true,
         "title": {
          "text": "Flux [µmol/s/m2]"
         }
        }
       }
      },
      "text/html": [
       "<div>\n",
       "        \n",
       "        \n",
       "            <div id=\"d61526c3-3dcc-449b-b640-199f236ef0e7\" class=\"plotly-graph-div\"></div>\n",
       "            <script type=\"text/javascript\">\n",
       "                require([\"plotly\"], function(Plotly) {\n",
       "                    window.PLOTLYENV=window.PLOTLYENV || {};\n",
       "                    window.PLOTLYENV.BASE_URL='https://plot.ly';\n",
       "                    \n",
       "                if (document.getElementById(\"d61526c3-3dcc-449b-b640-199f236ef0e7\")) {\n",
       "                    Plotly.newPlot(\n",
       "                        'd61526c3-3dcc-449b-b640-199f236ef0e7',\n",
       "                        [{\"marker\": {\"color\": \"rgb(8,81,156)\"}, \"name\": \"Bundle sheath\", \"type\": \"bar\", \"uid\": \"4e45f372-bc43-4794-9da8-47678f94cc80\", \"x\": [\"NAD-ME\", \"NADP-ME\", \"PEP-CK\"], \"y\": [0.0, 0.0, 0.0]}, {\"marker\": {\"color\": \"rgb(166,54,3)\"}, \"name\": \"Mesophyll\", \"type\": \"bar\", \"uid\": \"94985848-d85a-46e9-9002-02b463d822b5\", \"x\": [\"NAD-ME\", \"NADP-ME\", \"PEP-CK\"], \"y\": [0.0, 0.0, 0.0]}],\n",
       "                        {\"barmode\": \"stack\", \"height\": 400, \"margin\": {\"b\": 100}, \"title\": {\"text\": \"AOX4_h\"}, \"width\": 600, \"xaxis\": {\"tickangle\": 0, \"title\": {\"text\": \"oxygenation : decarboxylation ratio\"}}, \"yaxis\": {\"autorange\": true, \"title\": {\"text\": \"Flux [\\u00b5mol/s/m2]\"}}},\n",
       "                        {\"plotlyServerURL\": \"https://plot.ly\", \"linkText\": \"Export to plot.ly\", \"showLink\": false}\n",
       "                    )\n",
       "                };\n",
       "                });\n",
       "            </script>\n",
       "        </div>"
      ]
     },
     "metadata": {},
     "output_type": "display_data"
    }
   ],
   "source": [
    "\n",
    "\n",
    "create_bar_plot_rxn(D_fba, D_exp,\n",
    "                    {'[M]_AOX4_h': 'Mesophyll', '[B]_AOX4_h': 'Bundle sheath'},\n",
    "                    'AOX4_h', 'oxygenation : decarboxylation ratio',\n",
    "                     stacked = True, save_fig=save_fig)"
   ]
  },
  {
   "cell_type": "code",
   "execution_count": 29,
   "metadata": {
    "ExecuteTime": {
     "end_time": "2019-05-06T13:54:35.888383Z",
     "start_time": "2019-05-06T15:54:35.041809+02:00"
    },
    "hide_input": false,
    "run_control": {
     "marked": true
    },
    "scrolled": false
   },
   "outputs": [
    {
     "data": {
      "application/vnd.plotly.v1+json": {
       "config": {
        "linkText": "Export to plot.ly",
        "plotlyServerURL": "https://plot.ly",
        "showLink": false
       },
       "data": [
        {
         "marker": {
          "color": "rgb(202,178,214)"
         },
         "name": "[B]_6PGDHNADP_h",
         "type": "bar",
         "uid": "6cecad07-55d9-4387-bf35-18cd04a467a2",
         "x": [
          "NAD-ME",
          "NADP-ME",
          "PEP-CK"
         ],
         "y": [
          0,
          0,
          0
         ]
        },
        {
         "marker": {
          "color": "rgb(253,191,111)"
         },
         "name": "[B]_6PGDHNAD_h",
         "type": "bar",
         "uid": "4b9f8fea-76b9-4805-b5b6-0d4654ba29c1",
         "x": [
          "NAD-ME",
          "NADP-ME",
          "PEP-CK"
         ],
         "y": [
          0,
          0,
          0
         ]
        },
        {
         "marker": {
          "color": "rgb(178,223,138)"
         },
         "name": "[B]_AGNDA_h",
         "type": "bar",
         "uid": "9e2fa227-3cb2-4c8f-b0c4-5a79897f3b9f",
         "x": [
          "NAD-ME",
          "NADP-ME",
          "PEP-CK"
         ],
         "y": [
          0.00767178700329535,
          0.0076717870032985995,
          0.007671787003295449
         ]
        },
        {
         "marker": {
          "color": "rgb(106,61,154)"
         },
         "name": "[B]_AGNDH_h",
         "type": "bar",
         "uid": "6b2fb461-a773-4487-a3e9-f0b9ada0c405",
         "x": [
          "NAD-ME",
          "NADP-ME",
          "PEP-CK"
         ],
         "y": [
          0.004184611092706555,
          0.004184611092708327,
          0.004184611092706609
         ]
        },
        {
         "marker": {
          "color": "rgb(255,127,0)"
         },
         "name": "[B]_ALS1_h",
         "type": "bar",
         "uid": "7b67e558-fd17-4774-8ca0-4f5bcfc7970b",
         "x": [
          "NAD-ME",
          "NADP-ME",
          "PEP-CK"
         ],
         "y": [
          0.033476888741652444,
          0.03347688874166663,
          0.03347688874165289
         ]
        },
        {
         "marker": {
          "color": "rgb(31,120,180)"
         },
         "name": "[B]_DAPDC_h",
         "type": "bar",
         "uid": "c91b0375-c194-442a-9bc5-edc7ebf4b5c2",
         "x": [
          "NAD-ME",
          "NADP-ME",
          "PEP-CK"
         ],
         "y": [
          0.012553833278119665,
          0.012553833278124983,
          0.012553833278119828
         ]
        },
        {
         "marker": {
          "color": "rgb(51,160,44)"
         },
         "name": "[B]_IPODC_h",
         "type": "bar",
         "uid": "830888a9-4bfe-490f-beaa-e739d1e93bd8",
         "x": [
          "NAD-ME",
          "NADP-ME",
          "PEP-CK"
         ],
         "y": [
          0.008369222185413111,
          0.008369222185416657,
          0.00836922218541322
         ]
        },
        {
         "marker": {
          "color": "rgb(251,154,153)"
         },
         "name": "[B]_IndGPS_h",
         "type": "bar",
         "uid": "f18a9451-9014-4755-ac9f-617433098fb1",
         "x": [
          "NAD-ME",
          "NADP-ME",
          "PEP-CK"
         ],
         "y": [
          0.006276916639059831,
          0.00627691663906249,
          0.006276916639059914
         ]
        },
        {
         "marker": {
          "color": "rgb(166,206,227)"
         },
         "name": "[B]_MalDH4_h",
         "type": "bar",
         "uid": "f3e08c6a-466c-4773-879e-7315462427e7",
         "x": [
          "NAD-ME",
          "NADP-ME",
          "PEP-CK"
         ],
         "y": [
          0,
          39.45390825241836,
          0
         ]
        },
        {
         "marker": {
          "color": "rgb(227,26,28)"
         },
         "name": "[B]_iCitDHNADP_h",
         "type": "bar",
         "uid": "5abad3f5-2f92-41ba-bc12-e46d94f671f9",
         "x": [
          "NAD-ME",
          "NADP-ME",
          "PEP-CK"
         ],
         "y": [
          0,
          0,
          0
         ]
        }
       ],
       "layout": {
        "barmode": "stack",
        "height": 400,
        "margin": {
         "b": 100
        },
        "title": {
         "text": "CO2 Production Bundesheat (chloroplast)"
        },
        "width": 600,
        "xaxis": {
         "tickangle": 0,
         "title": {
          "text": "decarboxylation enzyme"
         }
        },
        "yaxis": {
         "autorange": true,
         "title": {
          "text": "Flux [µmol/s/m2]"
         }
        }
       }
      },
      "text/html": [
       "<div>\n",
       "        \n",
       "        \n",
       "            <div id=\"9fab81ce-b4e0-4795-98c3-9f075e851883\" class=\"plotly-graph-div\"></div>\n",
       "            <script type=\"text/javascript\">\n",
       "                require([\"plotly\"], function(Plotly) {\n",
       "                    window.PLOTLYENV=window.PLOTLYENV || {};\n",
       "                    window.PLOTLYENV.BASE_URL='https://plot.ly';\n",
       "                    \n",
       "                if (document.getElementById(\"9fab81ce-b4e0-4795-98c3-9f075e851883\")) {\n",
       "                    Plotly.newPlot(\n",
       "                        '9fab81ce-b4e0-4795-98c3-9f075e851883',\n",
       "                        [{\"marker\": {\"color\": \"rgb(202,178,214)\"}, \"name\": \"[B]_6PGDHNADP_h\", \"type\": \"bar\", \"uid\": \"4b009e9d-12cf-4726-8877-c188cd0c8d27\", \"x\": [\"NAD-ME\", \"NADP-ME\", \"PEP-CK\"], \"y\": [0.0, 0.0, 0.0]}, {\"marker\": {\"color\": \"rgb(253,191,111)\"}, \"name\": \"[B]_6PGDHNAD_h\", \"type\": \"bar\", \"uid\": \"da1bb794-82f1-43aa-a079-ec6f3f67492d\", \"x\": [\"NAD-ME\", \"NADP-ME\", \"PEP-CK\"], \"y\": [0.0, 0.0, 0.0]}, {\"marker\": {\"color\": \"rgb(178,223,138)\"}, \"name\": \"[B]_AGNDA_h\", \"type\": \"bar\", \"uid\": \"dfafc779-57c4-4a33-b50c-1082d60bdcc7\", \"x\": [\"NAD-ME\", \"NADP-ME\", \"PEP-CK\"], \"y\": [0.00767178700329535, 0.0076717870032985995, 0.007671787003295449]}, {\"marker\": {\"color\": \"rgb(106,61,154)\"}, \"name\": \"[B]_AGNDH_h\", \"type\": \"bar\", \"uid\": \"fa2d5cfb-f878-438d-9ebb-1ec793cf1f2b\", \"x\": [\"NAD-ME\", \"NADP-ME\", \"PEP-CK\"], \"y\": [0.004184611092706555, 0.004184611092708327, 0.004184611092706609]}, {\"marker\": {\"color\": \"rgb(255,127,0)\"}, \"name\": \"[B]_ALS1_h\", \"type\": \"bar\", \"uid\": \"a3fd75a4-5f4b-49b7-a920-628b5675bd53\", \"x\": [\"NAD-ME\", \"NADP-ME\", \"PEP-CK\"], \"y\": [0.033476888741652444, 0.03347688874166663, 0.03347688874165289]}, {\"marker\": {\"color\": \"rgb(31,120,180)\"}, \"name\": \"[B]_DAPDC_h\", \"type\": \"bar\", \"uid\": \"411ad2e7-7a46-4e2c-b708-467c05cb0498\", \"x\": [\"NAD-ME\", \"NADP-ME\", \"PEP-CK\"], \"y\": [0.012553833278119665, 0.012553833278124983, 0.012553833278119828]}, {\"marker\": {\"color\": \"rgb(51,160,44)\"}, \"name\": \"[B]_IPODC_h\", \"type\": \"bar\", \"uid\": \"d30f41e6-61e6-4159-bcb2-bfab15026412\", \"x\": [\"NAD-ME\", \"NADP-ME\", \"PEP-CK\"], \"y\": [0.008369222185413111, 0.008369222185416657, 0.00836922218541322]}, {\"marker\": {\"color\": \"rgb(251,154,153)\"}, \"name\": \"[B]_IndGPS_h\", \"type\": \"bar\", \"uid\": \"3754fd56-67d8-439f-b927-daf6ef04d1df\", \"x\": [\"NAD-ME\", \"NADP-ME\", \"PEP-CK\"], \"y\": [0.006276916639059831, 0.00627691663906249, 0.006276916639059914]}, {\"marker\": {\"color\": \"rgb(166,206,227)\"}, \"name\": \"[B]_MalDH4_h\", \"type\": \"bar\", \"uid\": \"97fb53b5-4625-4582-98b3-48583c115f37\", \"x\": [\"NAD-ME\", \"NADP-ME\", \"PEP-CK\"], \"y\": [0.0, 39.45390825241836, 0.0]}, {\"marker\": {\"color\": \"rgb(227,26,28)\"}, \"name\": \"[B]_iCitDHNADP_h\", \"type\": \"bar\", \"uid\": \"6b5208da-63b3-4949-95d6-d2cb2767e920\", \"x\": [\"NAD-ME\", \"NADP-ME\", \"PEP-CK\"], \"y\": [0.0, 0.0, 0.0]}],\n",
       "                        {\"barmode\": \"stack\", \"height\": 400, \"margin\": {\"b\": 100}, \"title\": {\"text\": \"CO2 Production Bundesheat (chloroplast)\"}, \"width\": 600, \"xaxis\": {\"tickangle\": 0, \"title\": {\"text\": \"decarboxylation enzyme\"}}, \"yaxis\": {\"autorange\": true, \"title\": {\"text\": \"Flux [\\u00b5mol/s/m2]\"}}},\n",
       "                        {\"plotlyServerURL\": \"https://plot.ly\", \"linkText\": \"Export to plot.ly\", \"showLink\": false}\n",
       "                    )\n",
       "                };\n",
       "                });\n",
       "            </script>\n",
       "        </div>"
      ]
     },
     "metadata": {},
     "output_type": "display_data"
    },
    {
     "data": {
      "application/vnd.plotly.v1+json": {
       "config": {
        "linkText": "Export to plot.ly",
        "plotlyServerURL": "https://plot.ly",
        "showLink": false
       },
       "data": [
        {
         "marker": {
          "color": "rgb(251,154,153)"
         },
         "name": "[B]_GluDC_c",
         "type": "bar",
         "uid": "fd93302d-7a22-4e5c-93d1-383735f90abc",
         "x": [
          "NAD-ME",
          "NADP-ME",
          "PEP-CK"
         ],
         "y": [
          0,
          0,
          0
         ]
        },
        {
         "marker": {
          "color": "rgb(166,206,227)"
         },
         "name": "[B]_OMPDC_c",
         "type": "bar",
         "uid": "a2484d54-f256-438f-989e-af013ec0bd60",
         "x": [
          "NAD-ME",
          "NADP-ME",
          "PEP-CK"
         ],
         "y": [
          0,
          0,
          0
         ]
        },
        {
         "marker": {
          "color": "rgb(31,120,180)"
         },
         "name": "[B]_PEPC1_c",
         "type": "bar",
         "uid": "aa29ea2a-66f3-428c-ae9e-08c02d1786dd",
         "x": [
          "NAD-ME",
          "NADP-ME",
          "PEP-CK"
         ],
         "y": [
          0,
          0,
          39.45390825240219
         ]
        },
        {
         "marker": {
          "color": "rgb(51,160,44)"
         },
         "name": "[B]_iCitDHNADP_c",
         "type": "bar",
         "uid": "a8f8c717-7bca-4997-8094-3cb14dc345dc",
         "x": [
          "NAD-ME",
          "NADP-ME",
          "PEP-CK"
         ],
         "y": [
          0.0020923055463527842,
          0.3222150541385411,
          0.026923314126931098
         ]
        },
        {
         "marker": {
          "color": "rgb(178,223,138)"
         },
         "name": "[B]_iCitDHNAD_c",
         "type": "bar",
         "uid": "3c6d5a9e-b9f9-4c68-b4ca-95aac361b2cd",
         "x": [
          "NAD-ME",
          "NADP-ME",
          "PEP-CK"
         ],
         "y": [
          0.32012274859205053,
          0,
          0
         ]
        }
       ],
       "layout": {
        "barmode": "stack",
        "height": 400,
        "margin": {
         "b": 100
        },
        "title": {
         "text": "CO2 Production Bundesheat (cytsol)"
        },
        "width": 600,
        "xaxis": {
         "tickangle": 0,
         "title": {
          "text": "decarboxylation enzyme"
         }
        },
        "yaxis": {
         "autorange": true,
         "title": {
          "text": "Flux [µmol/s/m2]"
         }
        }
       }
      },
      "text/html": [
       "<div>\n",
       "        \n",
       "        \n",
       "            <div id=\"ad871af3-0f7e-4f68-b846-dc091711e0e5\" class=\"plotly-graph-div\"></div>\n",
       "            <script type=\"text/javascript\">\n",
       "                require([\"plotly\"], function(Plotly) {\n",
       "                    window.PLOTLYENV=window.PLOTLYENV || {};\n",
       "                    window.PLOTLYENV.BASE_URL='https://plot.ly';\n",
       "                    \n",
       "                if (document.getElementById(\"ad871af3-0f7e-4f68-b846-dc091711e0e5\")) {\n",
       "                    Plotly.newPlot(\n",
       "                        'ad871af3-0f7e-4f68-b846-dc091711e0e5',\n",
       "                        [{\"marker\": {\"color\": \"rgb(251,154,153)\"}, \"name\": \"[B]_GluDC_c\", \"type\": \"bar\", \"uid\": \"d4987d61-57f0-4f64-bc54-10be3fc69c7a\", \"x\": [\"NAD-ME\", \"NADP-ME\", \"PEP-CK\"], \"y\": [0.0, 0.0, 0.0]}, {\"marker\": {\"color\": \"rgb(166,206,227)\"}, \"name\": \"[B]_OMPDC_c\", \"type\": \"bar\", \"uid\": \"85edabf2-c26e-4825-b7b3-ff21ade00a7f\", \"x\": [\"NAD-ME\", \"NADP-ME\", \"PEP-CK\"], \"y\": [0.0, 0.0, 0.0]}, {\"marker\": {\"color\": \"rgb(31,120,180)\"}, \"name\": \"[B]_PEPC1_c\", \"type\": \"bar\", \"uid\": \"86468611-64e4-43a4-87c7-3baf3ea83aae\", \"x\": [\"NAD-ME\", \"NADP-ME\", \"PEP-CK\"], \"y\": [0.0, 0.0, 39.45390825240219]}, {\"marker\": {\"color\": \"rgb(51,160,44)\"}, \"name\": \"[B]_iCitDHNADP_c\", \"type\": \"bar\", \"uid\": \"dfe5f3de-9aea-4310-b812-8cb22a0a2509\", \"x\": [\"NAD-ME\", \"NADP-ME\", \"PEP-CK\"], \"y\": [0.0020923055463527842, 0.3222150541385411, 0.026923314126931098]}, {\"marker\": {\"color\": \"rgb(178,223,138)\"}, \"name\": \"[B]_iCitDHNAD_c\", \"type\": \"bar\", \"uid\": \"37f7c644-e9a0-4f17-bdc3-3c362e9154a9\", \"x\": [\"NAD-ME\", \"NADP-ME\", \"PEP-CK\"], \"y\": [0.32012274859205053, 0.0, 0.0]}],\n",
       "                        {\"barmode\": \"stack\", \"height\": 400, \"margin\": {\"b\": 100}, \"title\": {\"text\": \"CO2 Production Bundesheat (cytsol)\"}, \"width\": 600, \"xaxis\": {\"tickangle\": 0, \"title\": {\"text\": \"decarboxylation enzyme\"}}, \"yaxis\": {\"autorange\": true, \"title\": {\"text\": \"Flux [\\u00b5mol/s/m2]\"}}},\n",
       "                        {\"plotlyServerURL\": \"https://plot.ly\", \"linkText\": \"Export to plot.ly\", \"showLink\": false}\n",
       "                    )\n",
       "                };\n",
       "                });\n",
       "            </script>\n",
       "        </div>"
      ]
     },
     "metadata": {},
     "output_type": "display_data"
    },
    {
     "data": {
      "application/vnd.plotly.v1+json": {
       "config": {
        "linkText": "Export to plot.ly",
        "plotlyServerURL": "https://plot.ly",
        "showLink": false
       },
       "data": [
        {
         "marker": {
          "color": "rgb(178,223,138)"
         },
         "name": "[B]_GlyDH_m",
         "type": "bar",
         "uid": "08672ec1-8c4b-4b22-b5d2-49ce646c071a",
         "x": [
          "NAD-ME",
          "NADP-ME",
          "PEP-CK"
         ],
         "y": [
          0.004184611092706557,
          0.004184611092704782,
          0.004184611092707614
         ]
        },
        {
         "marker": {
          "color": "rgb(251,154,153)"
         },
         "name": "[B]_KGDH_m",
         "type": "bar",
         "uid": "588e95c0-e40d-466b-b9aa-323517842854",
         "x": [
          "NAD-ME",
          "NADP-ME",
          "PEP-CK"
         ],
         "y": [
          9.20631431556811e-30,
          3.928252021997318e-17,
          0
         ]
        },
        {
         "marker": {
          "color": "rgb(253,191,111)"
         },
         "name": "[B]_MalDH2_m",
         "type": "bar",
         "uid": "17c72b30-7043-4a6a-8cda-c2308b992064",
         "x": [
          "NAD-ME",
          "NADP-ME",
          "PEP-CK"
         ],
         "y": [
          39.45390825240143,
          0,
          0
         ]
        },
        {
         "marker": {
          "color": "rgb(31,120,180)"
         },
         "name": "[B]_PyrDH1_m",
         "type": "bar",
         "uid": "5bbe6561-39ce-4f9b-ab7f-2a49a9f435fe",
         "x": [
          "NAD-ME",
          "NADP-ME",
          "PEP-CK"
         ],
         "y": [
          0.32221505413836604,
          0.322215054138541,
          0.32221505413840723
         ]
        },
        {
         "marker": {
          "color": "rgb(227,26,28)"
         },
         "name": "[B]_Urease_m",
         "type": "bar",
         "uid": "179e4e3a-a6da-492d-95ee-6e3d407b672a",
         "x": [
          "NAD-ME",
          "NADP-ME",
          "PEP-CK"
         ],
         "y": [
          0,
          0,
          0
         ]
        },
        {
         "marker": {
          "color": "rgb(51,160,44)"
         },
         "name": "[B]_iCitDHNADP_m",
         "type": "bar",
         "uid": "0af7f850-6a38-4092-a592-9fa7f7121b90",
         "x": [
          "NAD-ME",
          "NADP-ME",
          "PEP-CK"
         ],
         "y": [
          0,
          0,
          0
         ]
        },
        {
         "marker": {
          "color": "rgb(166,206,227)"
         },
         "name": "[B]_iCitDHNAD_m",
         "type": "bar",
         "uid": "460f4ce1-cdd8-4d59-8581-5e7b10136596",
         "x": [
          "NAD-ME",
          "NADP-ME",
          "PEP-CK"
         ],
         "y": [
          0,
          0,
          0.29529174001147157
         ]
        }
       ],
       "layout": {
        "barmode": "stack",
        "height": 400,
        "margin": {
         "b": 100
        },
        "title": {
         "text": "CO2 Production Bundesheat (mitochondrium)"
        },
        "width": 600,
        "xaxis": {
         "tickangle": 0,
         "title": {
          "text": "decarboxylation enzyme"
         }
        },
        "yaxis": {
         "autorange": true,
         "title": {
          "text": "Flux [µmol/s/m2]"
         }
        }
       }
      },
      "text/html": [
       "<div>\n",
       "        \n",
       "        \n",
       "            <div id=\"0f841169-a42f-4cea-ba94-f42a3c9f90c3\" class=\"plotly-graph-div\"></div>\n",
       "            <script type=\"text/javascript\">\n",
       "                require([\"plotly\"], function(Plotly) {\n",
       "                    window.PLOTLYENV=window.PLOTLYENV || {};\n",
       "                    window.PLOTLYENV.BASE_URL='https://plot.ly';\n",
       "                    \n",
       "                if (document.getElementById(\"0f841169-a42f-4cea-ba94-f42a3c9f90c3\")) {\n",
       "                    Plotly.newPlot(\n",
       "                        '0f841169-a42f-4cea-ba94-f42a3c9f90c3',\n",
       "                        [{\"marker\": {\"color\": \"rgb(178,223,138)\"}, \"name\": \"[B]_GlyDH_m\", \"type\": \"bar\", \"uid\": \"ef578a4f-0d7d-4e4e-acd8-24c7bf6f1f56\", \"x\": [\"NAD-ME\", \"NADP-ME\", \"PEP-CK\"], \"y\": [0.004184611092706557, 0.004184611092704782, 0.004184611092707614]}, {\"marker\": {\"color\": \"rgb(251,154,153)\"}, \"name\": \"[B]_KGDH_m\", \"type\": \"bar\", \"uid\": \"f5fd716c-09c3-4349-b69a-35c285923994\", \"x\": [\"NAD-ME\", \"NADP-ME\", \"PEP-CK\"], \"y\": [9.20631431556811e-30, 3.928252021997318e-17, 0.0]}, {\"marker\": {\"color\": \"rgb(253,191,111)\"}, \"name\": \"[B]_MalDH2_m\", \"type\": \"bar\", \"uid\": \"f135e3de-3380-4260-a16a-dbe0d9998f86\", \"x\": [\"NAD-ME\", \"NADP-ME\", \"PEP-CK\"], \"y\": [39.45390825240143, 0.0, 0.0]}, {\"marker\": {\"color\": \"rgb(31,120,180)\"}, \"name\": \"[B]_PyrDH1_m\", \"type\": \"bar\", \"uid\": \"22f674d1-71b7-4fab-b6b5-cbf768ae36b9\", \"x\": [\"NAD-ME\", \"NADP-ME\", \"PEP-CK\"], \"y\": [0.32221505413836604, 0.322215054138541, 0.32221505413840723]}, {\"marker\": {\"color\": \"rgb(227,26,28)\"}, \"name\": \"[B]_Urease_m\", \"type\": \"bar\", \"uid\": \"e05f6bdb-a04e-43dd-8e5e-8283a1621512\", \"x\": [\"NAD-ME\", \"NADP-ME\", \"PEP-CK\"], \"y\": [0.0, 0.0, 0.0]}, {\"marker\": {\"color\": \"rgb(51,160,44)\"}, \"name\": \"[B]_iCitDHNADP_m\", \"type\": \"bar\", \"uid\": \"89f7aced-98ef-4bde-9e4e-62cb8e7ef42f\", \"x\": [\"NAD-ME\", \"NADP-ME\", \"PEP-CK\"], \"y\": [0.0, 0.0, 0.0]}, {\"marker\": {\"color\": \"rgb(166,206,227)\"}, \"name\": \"[B]_iCitDHNAD_m\", \"type\": \"bar\", \"uid\": \"3add73f1-407f-4692-a661-5fdcbafcb686\", \"x\": [\"NAD-ME\", \"NADP-ME\", \"PEP-CK\"], \"y\": [0.0, 0.0, 0.29529174001147157]}],\n",
       "                        {\"barmode\": \"stack\", \"height\": 400, \"margin\": {\"b\": 100}, \"title\": {\"text\": \"CO2 Production Bundesheat (mitochondrium)\"}, \"width\": 600, \"xaxis\": {\"tickangle\": 0, \"title\": {\"text\": \"decarboxylation enzyme\"}}, \"yaxis\": {\"autorange\": true, \"title\": {\"text\": \"Flux [\\u00b5mol/s/m2]\"}}},\n",
       "                        {\"plotlyServerURL\": \"https://plot.ly\", \"linkText\": \"Export to plot.ly\", \"showLink\": false}\n",
       "                    )\n",
       "                };\n",
       "                });\n",
       "            </script>\n",
       "        </div>"
      ]
     },
     "metadata": {},
     "output_type": "display_data"
    }
   ],
   "source": [
    "D_comp = {'c':'cytsol','h':'chloroplast','m':'mitochondrium'}\n",
    "\n",
    "D_comp_rxn = {}\n",
    "L_max_flux = []\n",
    "for comp in D_comp:\n",
    "    m_obj = c4_model.metabolites.get_by_id('[B]_CO2_'+comp)\n",
    "    L_rxn = []\n",
    "    for r_obj in m_obj.reactions:\n",
    "        if not r_obj.id[4:6] in ['Tr','Im']:\n",
    "            lb = r_obj.bounds[0]\n",
    "            v = r_obj.get_coefficient(m_obj.id)\n",
    "            if (lb >= 0 and v>0) or (lb < 0 and v<0):  \n",
    "                L_rxn.append(r_obj.id)\n",
    "                L_max_flux = L_max_flux + [v*D_pfba[x][r_obj.id] for x in D_exp]\n",
    "    D_comp_rxn[comp] = L_rxn\n",
    "max_flux =  max(L_max_flux)\n",
    "\n",
    "for comp, L_rxn in D_comp_rxn.items():\n",
    "    create_bar_plot_rxn(D_pfba, D_exp,\n",
    "                        L_rxn,\n",
    "                        'CO2 Production Bundesheat (%s)' %(D_comp[comp]),  xaxis_title,\n",
    "                        stacked = True, save_fig=save_fig)\n",
    "        "
   ]
  },
  {
   "cell_type": "code",
   "execution_count": 30,
   "metadata": {
    "ExecuteTime": {
     "end_time": "2019-05-06T13:54:36.376155Z",
     "start_time": "2019-05-06T15:54:35.889981+02:00"
    }
   },
   "outputs": [
    {
     "data": {
      "application/vnd.plotly.v1+json": {
       "config": {
        "linkText": "Export to plot.ly",
        "plotlyServerURL": "https://plot.ly",
        "showLink": false
       },
       "data": [
        {
         "colorbar": {
          "title": {
           "side": "right",
           "text": "Flux [µmol/s/m2]"
          }
         },
         "colorscale": [
          [
           0,
           "rgb(255,245,240)"
          ],
          [
           0.125,
           "rgb(254,224,210)"
          ],
          [
           0.25,
           "rgb(252,187,161)"
          ],
          [
           0.375,
           "rgb(252,146,114)"
          ],
          [
           0.5,
           "rgb(251,106,74)"
          ],
          [
           0.625,
           "rgb(239,59,44)"
          ],
          [
           0.75,
           "rgb(203,24,29)"
          ],
          [
           0.875,
           "rgb(165,15,21)"
          ],
          [
           1,
           "rgb(103,0,13)"
          ]
         ],
         "type": "heatmap",
         "uid": "42427dff-326f-4ea7-82ff-7ec81ede0902",
         "x": [
          "NAD-ME",
          "NADP-ME",
          "PEP-CK"
         ],
         "y": [
          "cACN",
          "Gln",
          "PEP",
          "GAP",
          "Asp",
          "DHAP",
          "Mal"
         ],
         "z": [
          [
           null,
           null,
           0.3222150541384073
          ],
          [
           0.3019894338569892,
           0.30198943385711763,
           null
          ],
          [
           null,
           1.0210451066208002,
           null
          ],
          [
           3.7462912238360895,
           2.043461734736401,
           null
          ],
          [
           8.957804177109915,
           0.8607904923734234,
           3.6602368244381442
          ],
          [
           6.139289429788616,
           2.0518309569218047,
           5.7771368043739475
          ],
          [
           30.95362155476078,
           39.05063523951438,
           36.251609684639746
          ]
         ]
        }
       ],
       "layout": {
        "margin": {
         "b": 100
        },
        "title": {
         "text": "Mesophyll ==> Bundlesheat Transport"
        },
        "width": 500,
        "xaxis": {
         "tickangle": 0,
         "title": {
          "text": "decarboxylation enzyme"
         }
        },
        "yaxis": {
         "tickmode": "array",
         "ticktext": [
          "cACN",
          "Gln",
          "PEP",
          "GAP",
          "Asp",
          "DHAP",
          "Mal"
         ],
         "tickvals": [
          0,
          1,
          2,
          3,
          4,
          5,
          6
         ],
         "title": {
          "text": "Transport Metabolites"
         }
        }
       }
      },
      "text/html": [
       "<div>\n",
       "        \n",
       "        \n",
       "            <div id=\"898ed442-0fa6-478c-8cc1-ef54ea5f3dc4\" class=\"plotly-graph-div\"></div>\n",
       "            <script type=\"text/javascript\">\n",
       "                require([\"plotly\"], function(Plotly) {\n",
       "                    window.PLOTLYENV=window.PLOTLYENV || {};\n",
       "                    window.PLOTLYENV.BASE_URL='https://plot.ly';\n",
       "                    \n",
       "                if (document.getElementById(\"898ed442-0fa6-478c-8cc1-ef54ea5f3dc4\")) {\n",
       "                    Plotly.newPlot(\n",
       "                        '898ed442-0fa6-478c-8cc1-ef54ea5f3dc4',\n",
       "                        [{\"colorbar\": {\"title\": {\"side\": \"right\", \"text\": \"Flux [\\u00b5mol/s/m2]\"}}, \"colorscale\": [[0.0, \"rgb(255,245,240)\"], [0.125, \"rgb(254,224,210)\"], [0.25, \"rgb(252,187,161)\"], [0.375, \"rgb(252,146,114)\"], [0.5, \"rgb(251,106,74)\"], [0.625, \"rgb(239,59,44)\"], [0.75, \"rgb(203,24,29)\"], [0.875, \"rgb(165,15,21)\"], [1.0, \"rgb(103,0,13)\"]], \"type\": \"heatmap\", \"uid\": \"69001555-0539-4d7a-a4e9-764dce857b73\", \"x\": [\"NAD-ME\", \"NADP-ME\", \"PEP-CK\"], \"y\": [\"cACN\", \"Gln\", \"PEP\", \"GAP\", \"Asp\", \"DHAP\", \"Mal\"], \"z\": [[null, null, 0.3222150541384073], [0.3019894338569892, 0.30198943385711763, null], [null, 1.0210451066208002, null], [3.7462912238360895, 2.043461734736401, null], [8.957804177109915, 0.8607904923734234, 3.6602368244381442], [6.139289429788616, 2.0518309569218047, 5.7771368043739475], [30.95362155476078, 39.05063523951438, 36.251609684639746]]}],\n",
       "                        {\"margin\": {\"b\": 100}, \"title\": {\"text\": \"Mesophyll ==> Bundlesheat Transport\"}, \"width\": 500, \"xaxis\": {\"tickangle\": 0, \"title\": {\"text\": \"decarboxylation enzyme\"}}, \"yaxis\": {\"tickmode\": \"array\", \"ticktext\": [\"cACN\", \"Gln\", \"PEP\", \"GAP\", \"Asp\", \"DHAP\", \"Mal\"], \"tickvals\": [0, 1, 2, 3, 4, 5, 6], \"title\": {\"text\": \"Transport Metabolites\"}}},\n",
       "                        {\"plotlyServerURL\": \"https://plot.ly\", \"linkText\": \"Export to plot.ly\", \"showLink\": false}\n",
       "                    )\n",
       "                };\n",
       "                });\n",
       "            </script>\n",
       "        </div>"
      ]
     },
     "metadata": {},
     "output_type": "display_data"
    },
    {
     "data": {
      "application/vnd.plotly.v1+json": {
       "config": {
        "linkText": "Export to plot.ly",
        "plotlyServerURL": "https://plot.ly",
        "showLink": false
       },
       "data": [
        {
         "colorbar": {
          "title": {
           "side": "right",
           "text": "Flux [µmol/s/m2]"
          }
         },
         "colorscale": [
          [
           0,
           "rgb(247,251,255)"
          ],
          [
           0.125,
           "rgb(222,235,247)"
          ],
          [
           0.25,
           "rgb(198,219,239)"
          ],
          [
           0.375,
           "rgb(158,202,225)"
          ],
          [
           0.5,
           "rgb(107,174,214)"
          ],
          [
           0.625,
           "rgb(66,146,198)"
          ],
          [
           0.75,
           "rgb(33,113,181)"
          ],
          [
           0.875,
           "rgb(8,81,156)"
          ],
          [
           1,
           "rgb(8,48,107)"
          ]
         ],
         "type": "heatmap",
         "uid": "925d3927-a3ce-44fb-a2e5-a3ab4eb537f2",
         "x": [
          "NAD-ME",
          "NADP-ME",
          "PEP-CK"
         ],
         "y": [
          "KG",
          "Glu",
          "Cit",
          "Ala",
          "PGA",
          "Pyr"
         ],
         "z": [
          [
           0.31314839677087536,
           null,
           null
          ],
          [
           null,
           0.3131483967710064,
           null
          ],
          [
           null,
           null,
           0.3222150541384073
          ],
          [
           8.61466606750798,
           0.2045039860003358,
           2.701960884208291
          ],
          [
           9.883720826472329,
           5.114477971126723,
           5.77527697722173
          ],
          [
           31.369292923302936,
           39.77945500482772,
           37.28241888380993
          ]
         ]
        }
       ],
       "layout": {
        "margin": {
         "b": 100
        },
        "title": {
         "text": "Bundlesheat ==> Mesophyll Transport"
        },
        "width": 500,
        "xaxis": {
         "tickangle": 0,
         "title": {
          "text": "decarboxylation enzyme"
         }
        },
        "yaxis": {
         "tickmode": "array",
         "ticktext": [
          "KG",
          "Glu",
          "Cit",
          "Ala",
          "PGA",
          "Pyr"
         ],
         "tickvals": [
          0,
          1,
          2,
          3,
          4,
          5
         ],
         "title": {
          "text": "Transport Metabolites"
         }
        }
       }
      },
      "text/html": [
       "<div>\n",
       "        \n",
       "        \n",
       "            <div id=\"1d0cda8e-efac-4b09-b420-846eb4b6604d\" class=\"plotly-graph-div\"></div>\n",
       "            <script type=\"text/javascript\">\n",
       "                require([\"plotly\"], function(Plotly) {\n",
       "                    window.PLOTLYENV=window.PLOTLYENV || {};\n",
       "                    window.PLOTLYENV.BASE_URL='https://plot.ly';\n",
       "                    \n",
       "                if (document.getElementById(\"1d0cda8e-efac-4b09-b420-846eb4b6604d\")) {\n",
       "                    Plotly.newPlot(\n",
       "                        '1d0cda8e-efac-4b09-b420-846eb4b6604d',\n",
       "                        [{\"colorbar\": {\"title\": {\"side\": \"right\", \"text\": \"Flux [\\u00b5mol/s/m2]\"}}, \"colorscale\": [[0.0, \"rgb(247,251,255)\"], [0.125, \"rgb(222,235,247)\"], [0.25, \"rgb(198,219,239)\"], [0.375, \"rgb(158,202,225)\"], [0.5, \"rgb(107,174,214)\"], [0.625, \"rgb(66,146,198)\"], [0.75, \"rgb(33,113,181)\"], [0.875, \"rgb(8,81,156)\"], [1.0, \"rgb(8,48,107)\"]], \"type\": \"heatmap\", \"uid\": \"8dd4a696-4615-4932-ba65-2066f438b383\", \"x\": [\"NAD-ME\", \"NADP-ME\", \"PEP-CK\"], \"y\": [\"KG\", \"Glu\", \"Cit\", \"Ala\", \"PGA\", \"Pyr\"], \"z\": [[0.31314839677087536, null, null], [null, 0.3131483967710064, null], [null, null, 0.3222150541384073], [8.61466606750798, 0.2045039860003358, 2.701960884208291], [9.883720826472329, 5.114477971126723, 5.77527697722173], [31.369292923302936, 39.77945500482772, 37.28241888380993]]}],\n",
       "                        {\"margin\": {\"b\": 100}, \"title\": {\"text\": \"Bundlesheat ==> Mesophyll Transport\"}, \"width\": 500, \"xaxis\": {\"tickangle\": 0, \"title\": {\"text\": \"decarboxylation enzyme\"}}, \"yaxis\": {\"tickmode\": \"array\", \"ticktext\": [\"KG\", \"Glu\", \"Cit\", \"Ala\", \"PGA\", \"Pyr\"], \"tickvals\": [0, 1, 2, 3, 4, 5], \"title\": {\"text\": \"Transport Metabolites\"}}},\n",
       "                        {\"plotlyServerURL\": \"https://plot.ly\", \"linkText\": \"Export to plot.ly\", \"showLink\": false}\n",
       "                    )\n",
       "                };\n",
       "                });\n",
       "            </script>\n",
       "        </div>"
      ]
     },
     "metadata": {},
     "output_type": "display_data"
    }
   ],
   "source": [
    "plot_transport(D_pfba, D_exp, L_r_transport, xaxis_title, save_fig=save_fig)"
   ]
  },
  {
   "cell_type": "code",
   "execution_count": 31,
   "metadata": {
    "ExecuteTime": {
     "end_time": "2019-05-06T13:54:36.577781Z",
     "start_time": "2019-05-06T15:54:36.377801+02:00"
    }
   },
   "outputs": [
    {
     "data": {
      "application/vnd.plotly.v1+json": {
       "config": {
        "linkText": "Export to plot.ly",
        "plotlyServerURL": "https://plot.ly",
        "responsive": true,
        "showLink": false
       },
       "data": [
        {
         "error_y": {
          "array": [
           5.1143589955942375,
           12.260058302909403,
           9.911160518039734,
           7.348090504476905,
           14.25398213203705,
           10.66230487258351,
           13.838736679219245,
           12.212487854619113,
           2.761206788426347,
           3.493567044315792,
           10.224035646470227,
           10.411175848867924,
           10.91965845478593,
           4.956211838865477,
           10.628537800990397,
           11.533143207649415,
           8.153489348383575
          ],
          "arrayminus": [
           9.911160518044309,
           7.348860504000449,
           5.122055521806442,
           12.191308621329142,
           11.431747531157013,
           16.025227227229667,
           11.267363401772029,
           12.20431071137815,
           4.742839039373253,
           4.671440230654928,
           10.411175848867575,
           10.921518281936818,
           10.15340966803054,
           2.719988778138794,
           8.153489348383674,
           10.32281707350331,
           10.460758800093613
          ],
          "symmetric": false,
          "type": "data"
         },
         "marker": {
          "color": "rgb(31, 119, 180)"
         },
         "mode": "markers",
         "name": "NADP-ME",
         "type": "scatter",
         "uid": "e5189e22-9c7e-40b6-8fd8-a146e687814f",
         "x": [
          0.7,
          2.7,
          4.7,
          6.7,
          8.7,
          10.7,
          12.7,
          14.7,
          16.7,
          18.7,
          20.7,
          22.7,
          24.7,
          26.7,
          28.7,
          30.7,
          32.7
         ],
         "y": [
          39.05063523951438,
          -39.77945500482772,
          0.8607904923734234,
          -0.2045039860003358,
          -5.114477971126723,
          0,
          2.043461734736401,
          2.0518309569218047,
          0,
          0,
          -0.001859827152305385,
          0,
          0,
          0,
          -0.3131483967710064,
          1.0210451066208002,
          -1.567656662928745e-16
         ]
        },
        {
         "error_y": {
          "array": [
           12.547591676086817,
           32.04141507164572,
           31.713976674930493,
           14.4925892666052,
           20.09648010036403,
           16.761723936682884,
           30.40236273463489,
           23.80818960611552,
           3.3459171647590935,
           3.810419018864591,
           11.248794543097025,
           13.549594698844011,
           12.014113416282104,
           5.282771457971397,
           15.157893105932862,
           11.725233417088992,
           13.918033068673536
          ],
          "arrayminus": [
           31.707882577056708,
           14.493484265842362,
           12.5379646092867,
           31.995059204557005,
           21.836087913116742,
           31.92711245028682,
           15.76933399719896,
           17.386224145738627,
           5.139326012008196,
           5.06231460072149,
           13.549594698841918,
           12.01597324343515,
           11.2478646295303,
           3.187179978540734,
           13.918033068672688,
           34.21071356498212,
           15.153765784155429
          ],
          "symmetric": false,
          "type": "data"
         },
         "marker": {
          "color": "rgb(255, 127, 14)"
         },
         "mode": "markers",
         "name": "NAD-ME",
         "type": "scatter",
         "uid": "20e0b4fe-4893-40ec-a614-f49e882e8d9f",
         "x": [
          1,
          3,
          5,
          7,
          9,
          11,
          13,
          15,
          17,
          19,
          21,
          23,
          25,
          27,
          29,
          31,
          33
         ],
         "y": [
          30.95362155476078,
          -31.369292923302936,
          8.957804177109915,
          -8.61466606750798,
          -9.883720826472329,
          0,
          3.7462912238360895,
          6.139289429788616,
          0,
          2.721671970011259e-16,
          -0.0018598271523379208,
          0,
          0,
          0,
          0,
          0,
          -0.31314839677087536
         ]
        },
        {
         "error_y": {
          "array": [
           8.11229937572034,
           21.928522451273942,
           21.71058524890267,
           9.82758231939656,
           14.976201833098465,
           10.752448301840754,
           22.534667475550282,
           15.040641488045454,
           2.8095137072468104,
           3.810870783235464,
           10.707262854161776,
           12.829738855538709,
           11.292398346468556,
           8.51057036359519,
           10.844191047651107,
           12.194851913836706,
           13.079670554017355
          ],
          "arrayminus": [
           21.70151680994428,
           9.832491625427679,
           8.099223660576842,
           21.925455625150253,
           13.963590365733314,
           18.417714528815434,
           13.281030521248429,
           16.30235645051166,
           8.510570363595443,
           8.210805274390651,
           12.883688579491015,
           11.29425817362066,
           10.526149559715016,
           2.7634777127322168,
           13.378946585007935,
           21.11741070543941,
           10.844191047654675
          ],
          "symmetric": false,
          "type": "data"
         },
         "marker": {
          "color": "rgb(44, 160, 44)"
         },
         "mode": "markers",
         "name": "PEP-CK",
         "type": "scatter",
         "uid": "34f1654b-e7a8-4c96-8ebe-dc0f44c734cf",
         "x": [
          1.3,
          3.3,
          5.3,
          7.3,
          9.3,
          11.3,
          13.3,
          15.3,
          17.3,
          19.3,
          21.3,
          23.3,
          25.3,
          27.3,
          29.3,
          31.3,
          33.3
         ],
         "y": [
          36.251609684639746,
          -37.28241888380993,
          3.6602368244381442,
          -2.701960884208291,
          -5.77527697722173,
          0,
          0,
          5.7771368043739475,
          0,
          0,
          -0.0018598271523085678,
          0,
          0,
          1.3652449456081808e-15,
          -0.011158962913938511,
          0,
          0
         ]
        }
       ],
       "layout": {
        "annotations": [
         {
          "align": "center",
          "font": {
           "color": "#000000",
           "size": 10
          },
          "showarrow": false,
          "text": "Mesophyll -> Bundle Sheath",
          "textangle": -90,
          "x": -0.5,
          "xref": "x",
          "y": 25,
          "yref": "y"
         },
         {
          "align": "center",
          "font": {
           "color": "#000000",
           "size": 10
          },
          "showarrow": false,
          "text": "Bundle Sheath -> Mesophyll",
          "textangle": -90,
          "x": -0.5,
          "xref": "x",
          "y": -25,
          "yref": "y"
         }
        ],
        "legend": {
         "orientation": "h",
         "x": 0,
         "y": -0.15
        },
        "shapes": [
         {
          "fillcolor": "rgba(255, 255, 255, 1)",
          "line": {
           "color": "rgba(255, 255, 255, 1)",
           "width": 1
          },
          "type": "rect",
          "x0": -0.1,
          "x1": -1.5,
          "y0": -0.5,
          "y1": -50
         },
         {
          "fillcolor": "rgba(255, 255, 255, 1)",
          "line": {
           "color": "rgba(255, 255, 255, 1)",
           "width": 1
          },
          "type": "rect",
          "x0": -0.1,
          "x1": -1.5,
          "y0": 0.5,
          "y1": 50
         }
        ],
        "title": {
         "text": "FVA of Exchange Reaction (pFBA Factor = 1.5%)"
        },
        "xaxis": {
         "ticktext": [
          "Mal",
          "Pyr",
          "Asp",
          "Ala",
          "PGA",
          "2PGA",
          "GAP",
          "DHAP",
          "Suc",
          "Frc",
          "F6P",
          "G6P",
          "G1P",
          "S6P",
          "Glu",
          "PEP",
          "KG"
         ],
         "tickvals": [
          1,
          3,
          5,
          7,
          9,
          11,
          13,
          15,
          17,
          19,
          21,
          23,
          25,
          27,
          29,
          31,
          33
         ],
         "title": {
          "text": "Exchange Metabolites"
         }
        },
        "yaxis": {
         "title": {
          "text": "Flux [µmol/s/m2]"
         }
        }
       }
      },
      "text/html": [
       "<div>\n",
       "        \n",
       "        \n",
       "            <div id=\"b4e9eed7-57bd-4ac5-82b1-a7881a5384d1\" class=\"plotly-graph-div\"></div>\n",
       "            <script type=\"text/javascript\">\n",
       "                require([\"plotly\"], function(Plotly) {\n",
       "                    window.PLOTLYENV=window.PLOTLYENV || {};\n",
       "                    window.PLOTLYENV.BASE_URL='https://plot.ly';\n",
       "                    \n",
       "                if (document.getElementById(\"b4e9eed7-57bd-4ac5-82b1-a7881a5384d1\")) {\n",
       "                    Plotly.newPlot(\n",
       "                        'b4e9eed7-57bd-4ac5-82b1-a7881a5384d1',\n",
       "                        [{\"error_y\": {\"array\": [5.1143589955942375, 12.260058302909403, 9.911160518039734, 7.348090504476905, 14.25398213203705, 10.66230487258351, 13.838736679219245, 12.212487854619113, 2.761206788426347, 3.493567044315792, 10.224035646470227, 10.411175848867924, 10.91965845478593, 4.956211838865477, 10.628537800990397, 11.533143207649415, 8.153489348383575], \"arrayminus\": [9.911160518044309, 7.348860504000449, 5.122055521806442, 12.191308621329142, 11.431747531157013, 16.025227227229667, 11.267363401772029, 12.20431071137815, 4.742839039373253, 4.671440230654928, 10.411175848867575, 10.921518281936818, 10.15340966803054, 2.719988778138794, 8.153489348383674, 10.32281707350331, 10.460758800093613], \"symmetric\": false, \"type\": \"data\"}, \"marker\": {\"color\": \"rgb(31, 119, 180)\"}, \"mode\": \"markers\", \"name\": \"NADP-ME\", \"type\": \"scatter\", \"uid\": \"09b7a38c-254f-4c88-8c90-f26a9fcfe273\", \"x\": [0.7, 2.7, 4.7, 6.7, 8.7, 10.7, 12.7, 14.7, 16.7, 18.7, 20.7, 22.7, 24.7, 26.7, 28.7, 30.7, 32.7], \"y\": [39.05063523951438, -39.77945500482772, 0.8607904923734234, -0.2045039860003358, -5.114477971126723, 0.0, 2.043461734736401, 2.0518309569218047, 0.0, 0.0, -0.001859827152305385, 0.0, 0.0, 0.0, -0.3131483967710064, 1.0210451066208002, -1.567656662928745e-16]}, {\"error_y\": {\"array\": [12.547591676086817, 32.04141507164572, 31.713976674930493, 14.4925892666052, 20.09648010036403, 16.761723936682884, 30.40236273463489, 23.80818960611552, 3.3459171647590935, 3.810419018864591, 11.248794543097025, 13.549594698844011, 12.014113416282104, 5.282771457971397, 15.157893105932862, 11.725233417088992, 13.918033068673536], \"arrayminus\": [31.707882577056708, 14.493484265842362, 12.5379646092867, 31.995059204557005, 21.836087913116742, 31.92711245028682, 15.76933399719896, 17.386224145738627, 5.139326012008196, 5.06231460072149, 13.549594698841918, 12.01597324343515, 11.2478646295303, 3.187179978540734, 13.918033068672688, 34.21071356498212, 15.153765784155429], \"symmetric\": false, \"type\": \"data\"}, \"marker\": {\"color\": \"rgb(255, 127, 14)\"}, \"mode\": \"markers\", \"name\": \"NAD-ME\", \"type\": \"scatter\", \"uid\": \"85162aef-fae8-4fa5-b47d-78e62550f6e8\", \"x\": [1.0, 3.0, 5.0, 7.0, 9.0, 11.0, 13.0, 15.0, 17.0, 19.0, 21.0, 23.0, 25.0, 27.0, 29.0, 31.0, 33.0], \"y\": [30.95362155476078, -31.369292923302936, 8.957804177109915, -8.61466606750798, -9.883720826472329, 0.0, 3.7462912238360895, 6.139289429788616, 0.0, 2.721671970011259e-16, -0.0018598271523379208, 0.0, 0.0, 0.0, 0.0, 0.0, -0.31314839677087536]}, {\"error_y\": {\"array\": [8.11229937572034, 21.928522451273942, 21.71058524890267, 9.82758231939656, 14.976201833098465, 10.752448301840754, 22.534667475550282, 15.040641488045454, 2.8095137072468104, 3.810870783235464, 10.707262854161776, 12.829738855538709, 11.292398346468556, 8.51057036359519, 10.844191047651107, 12.194851913836706, 13.079670554017355], \"arrayminus\": [21.70151680994428, 9.832491625427679, 8.099223660576842, 21.925455625150253, 13.963590365733314, 18.417714528815434, 13.281030521248429, 16.30235645051166, 8.510570363595443, 8.210805274390651, 12.883688579491015, 11.29425817362066, 10.526149559715016, 2.7634777127322168, 13.378946585007935, 21.11741070543941, 10.844191047654675], \"symmetric\": false, \"type\": \"data\"}, \"marker\": {\"color\": \"rgb(44, 160, 44)\"}, \"mode\": \"markers\", \"name\": \"PEP-CK\", \"type\": \"scatter\", \"uid\": \"082d9f2c-8a21-4b78-9bd1-9cdf9d32df3b\", \"x\": [1.3, 3.3, 5.3, 7.3, 9.3, 11.3, 13.3, 15.3, 17.3, 19.3, 21.3, 23.3, 25.3, 27.3, 29.3, 31.3, 33.3], \"y\": [36.251609684639746, -37.28241888380993, 3.6602368244381442, -2.701960884208291, -5.77527697722173, 0.0, 0.0, 5.7771368043739475, 0.0, 0.0, -0.0018598271523085678, 0.0, 0.0, 1.3652449456081808e-15, -0.011158962913938511, 0.0, 0.0]}],\n",
       "                        {\"annotations\": [{\"align\": \"center\", \"font\": {\"color\": \"#000000\", \"size\": 10}, \"showarrow\": false, \"text\": \"Mesophyll -> Bundle Sheath\", \"textangle\": -90, \"x\": -0.5, \"xref\": \"x\", \"y\": 25, \"yref\": \"y\"}, {\"align\": \"center\", \"font\": {\"color\": \"#000000\", \"size\": 10}, \"showarrow\": false, \"text\": \"Bundle Sheath -> Mesophyll\", \"textangle\": -90, \"x\": -0.5, \"xref\": \"x\", \"y\": -25, \"yref\": \"y\"}], \"legend\": {\"orientation\": \"h\", \"x\": 0, \"y\": -0.15}, \"shapes\": [{\"fillcolor\": \"rgba(255, 255, 255, 1)\", \"line\": {\"color\": \"rgba(255, 255, 255, 1)\", \"width\": 1}, \"type\": \"rect\", \"x0\": -0.1, \"x1\": -1.5, \"y0\": -0.5, \"y1\": -50}, {\"fillcolor\": \"rgba(255, 255, 255, 1)\", \"line\": {\"color\": \"rgba(255, 255, 255, 1)\", \"width\": 1}, \"type\": \"rect\", \"x0\": -0.1, \"x1\": -1.5, \"y0\": 0.5, \"y1\": 50}], \"title\": {\"text\": \"FVA of Exchange Reaction (pFBA Factor = 1.5%)\"}, \"xaxis\": {\"ticktext\": [\"Mal\", \"Pyr\", \"Asp\", \"Ala\", \"PGA\", \"2PGA\", \"GAP\", \"DHAP\", \"Suc\", \"Frc\", \"F6P\", \"G6P\", \"G1P\", \"S6P\", \"Glu\", \"PEP\", \"KG\"], \"tickvals\": [1, 3, 5, 7, 9, 11, 13, 15, 17, 19, 21, 23, 25, 27, 29, 31, 33], \"title\": {\"text\": \"Exchange Metabolites\"}}, \"yaxis\": {\"title\": {\"text\": \"Flux [\\u00b5mol/s/m2]\"}}},\n",
       "                        {\"responsive\": true, \"plotlyServerURL\": \"https://plot.ly\", \"linkText\": \"Export to plot.ly\", \"showLink\": false}\n",
       "                    )\n",
       "                };\n",
       "                });\n",
       "            </script>\n",
       "        </div>"
      ]
     },
     "metadata": {},
     "output_type": "display_data"
    }
   ],
   "source": [
    "L_r_index = ['[MB]_Mal_c','[MB]_Pyr_c','[MB]_Asp_c','[MB]_Ala_c', \n",
    "             '[MB]_PGA_c', '[MB]_2PGA_c', '[MB]_GAP_c', '[MB]_DHAP_c',\n",
    "             '[MB]_Suc_c', '[MB]_Frc_c', '[MB]_F6P_c', '[MB]_G6P_c', '[MB]_G1P_c', '[MB]_S6P_c',\n",
    "             '[MB]_Glu_c',\n",
    "             '[MB]_PEP_c', '[MB]_KG_c'\n",
    "            ]\n",
    "\n",
    "plot_transport_fva(c4_model, D_exp, D_pfva, D_pfba, L_r_transport, 40, 'FVA of Exchange Reaction (pFBA Factor = 1.5%)', L_r_index=L_r_index, save_fig=save_fig)"
   ]
  },
  {
   "cell_type": "code",
   "execution_count": null,
   "metadata": {},
   "outputs": [],
   "source": []
  },
  {
   "cell_type": "code",
   "execution_count": 32,
   "metadata": {
    "ExecuteTime": {
     "end_time": "2019-05-06T13:54:36.672612Z",
     "start_time": "2019-05-06T15:54:36.579096+02:00"
    },
    "scrolled": false
   },
   "outputs": [
    {
     "data": {
      "text/html": [
       "<h1>NADP-ME</h1>"
      ],
      "text/plain": [
       "<IPython.core.display.HTML object>"
      ]
     },
     "metadata": {},
     "output_type": "display_data"
    },
    {
     "data": {
      "text/html": [
       "\n",
       "\n",
       "\n",
       "  \n",
       "  \n",
       "\n",
       "  \n",
       "  \n",
       "    <link rel=\"stylesheet\" href=\"//unpkg.com/escher-vis@1.6.0/css/dist/builder.min.css\"/>\n",
       "  \n",
       "\n",
       "\n",
       "\n",
       "  <div style=\"height: 1000px; width: 100%;\" id=\"ihucxqwrks\"></div>\n",
       "\n",
       "  <script>\n",
       "   /* Closure to make sure data only applies to this map. */\n",
       "   (function() {\n",
       "       /* data from python */\n",
       "       var data = get_data();\n",
       "\n",
       "       function load_lib(url, callback) {\n",
       "           /** Dynamically load a JavaScript file */\n",
       "           var s = document.createElement('script');\n",
       "           s.src = url;\n",
       "           s.async = true;\n",
       "           s.onreadystatechange = s.onload = callback;\n",
       "           s.onerror = function() {\n",
       "               console.warn('Failed to load library ' + url);\n",
       "           };\n",
       "           document.getElementsByTagName('head')[0].appendChild(s);\n",
       "       }\n",
       "\n",
       "       function check_global_and_load(name, url, callback) {\n",
       "           /** Look for the name in the global scope. If it isn't present, then\n",
       "              load the library at url. Returns the object. */\n",
       "           if (window[name] !== undefined) {\n",
       "               callback(window[name]);\n",
       "           } else {\n",
       "               load_lib(url, function() {\n",
       "                   callback(window[name]);\n",
       "               });\n",
       "           }\n",
       "       }\n",
       "\n",
       "       function draw_escher(escher) {\n",
       "           /** Get data and draw */\n",
       "           var load = function(t_map_data, t_model_data, t_options) {\n",
       "               escher.Builder(t_map_data, t_model_data, data.builder_embed_css,\n",
       "                              escher.libs.d3_select('#' + data.id), t_options);\n",
       "           }\n",
       "\n",
       "           // for the static site, use the url attributes for the map and model\n",
       "           // information\n",
       "           if (data.static_site_index !== null) {\n",
       "               escher.static.load_map_model_from_url(data.map_download_url, data.model_download_url,\n",
       "                                                     data.static_site_index, data.options, load);\n",
       "           } else {\n",
       "               load(data.map_data, data.model_data, data.options);\n",
       "           }\n",
       "       }\n",
       "\n",
       "       // Load dependencies and draw\n",
       "       if (typeof define === 'function' && define.amd) {\n",
       "           // require.js is available: use it to load escher\n",
       "           require.config({\n",
       "             paths: {\n",
       "               escher: '//unpkg.com/escher-vis@1.6.0/js/dist/escher.min',\n",
       "             },\n",
       "             // Override urlArgs that adds ?v= to the end of the escher URL and\n",
       "             // messes up unpkg links. Honestly, I'm not sure if this will lead\n",
       "             // to downstream bugs in the notebook, but they really shouldn't be\n",
       "             // doing this cache-busting anyway.\n",
       "             urlArgs: null,\n",
       "           })\n",
       "           require([ 'escher' ], function(escher) {\n",
       "               draw_escher(escher);\n",
       "           })\n",
       "       } else {\n",
       "           // require.js not available: dynamically load escher\n",
       "           check_global_and_load('escher', '//unpkg.com/escher-vis@1.6.0/js/dist/escher.min.js', function(escher) {\n",
       "               draw_escher(escher);\n",
       "           })\n",
       "       }\n",
       "\n",
       "       // Put this at the end so Chrome doesn't cut off the code above.\n",
       "       function get_data() {\n",
       "           /** Return the data passed in by the Python module. */\n",
       "           return {\n",
       "               id: JSON.parse('\"ihucxqwrks\"'),\n",
       "               map_download_url: JSON.parse('\"//escher.github.io/1-0-0/5/maps/\"'),\n",
       "               model_download_url: JSON.parse('\"//escher.github.io/1-0-0/5/models/\"'),\n",
       "               options: JSON.parse('{\"reaction_data\": {\"[M]_PGAK_h\": 4.096222605234359, \"[M]_SerAcT_c\": 0.0, \"[B]_NDA2_1_m\": 0.0, \"[M]_AMT_m\": 0.0, \"[B]_Ex_Arg_p\": 0.0, \"[M]_ArgSCAL_h\": 0.011158962913888874, \"[M]_Im_hnu\": 207.72027472982495, \"[M]_PGAK_c\": 0.0, \"[MB]_Met_c\": 0.004882046274826381, \"[M]_SerAcT_m\": 0.0, \"[M]_Tr_Ser1\": 0.0, \"[B]_Ex_Arg_h\": 0.0, \"[M]_Tr_Ser2\": -0.004882046274826382, \"[B]_Ex_Glu_h\": 0.0, \"[B]_DHLAcT_m\": 0.32221505413854096, \"[MB]_Thr_c\": 0.055794814569444365, \"[B]_Ex_Trp_p\": 0.0, \"[B]_G6PDH_h\": 0.0, \"[M]_DPE11_h\": 0.0, \"[M]_Ex_Arg_m\": 0.0, \"[B]_Ex_Mas\": 0.0, \"[B]_PSII_h\": 17.853201619121478, \"[M]_Tr_His2\": 0.0027897407284722185, \"[M]_Tr_His3\": 0.0, \"[M]_GMPK_c\": 0.0, \"[B]_FTK_h\": 13.405866592279198, \"[B]_ACPM_h\": 0.0, \"[M]_Tr_DTC1A\": 0.0, \"[B]_TPS_c\": 0.0, \"[B]_DHDS_h\": 0.012553833278124982, \"[M]_PGAM_h\": 8.52418830264037e-16, \"[B]_Urease_m\": 0.0, \"[M]_Tr_BT12\": 0.0, \"[M]_Tr_BT11\": 3.3684199658135858e-15, \"[M]_DPE13_h\": 0.0, \"[B]_Im_Pi\": 0.0, \"[M]_PGAM_c\": -1.0182553658923637, \"[MB]_KG_c\": -1.567656662928745e-16, \"[M]_Ex_O2\": 24.131098093996794, \"[MB]_Gln_c\": 0.30198943385711763, \"[M]_FGAMS_h\": 0.0, \"[M]_SerAcT_h\": 0.004882046274826382, \"[M]_DHFR_c\": 0.0, \"[B]_Tr_Asp_OAA_hc\": -0.14367164751632278, \"[B]_Tr_NO2\": 1.6224366977145167e-15, \"[M]_6PGDHNADP_h\": 0.0, \"[M]_DAPDC_h\": 0.0, \"[M]_Ex_Met_p\": 0.0, \"[M]_IndGPS_h\": 0.0, \"[B]_AGPase_h\": 3.06871480131944, \"[B]_Tr_Val1\": 0.0, \"[B]_Tr_Val2\": 0.01673844437083331, \"[B]_Tr_Val3\": 0.0, \"[MB]_GCA_c\": 0.0, \"[B]_Tr_PRPP\": 0.0, \"[M]_DHQDH_h\": 0.0, \"[M]_Ex_Arg_c\": 0.0, \"[M]_Ex_Tre\": 0.0, \"[B]_SADH_h\": 0.018133314735069416, \"[B]_HCO3DHA_c\": 0.0, \"[B]_Ex_Glc\": 0.0, \"[B]_ArgSCAL_h\": 0.0, \"[M]_cplx1_m\": 0.7463791412994197, \"[B]_RBO_h\": -7.09285029304491e-15, \"[M]_DHOase_h\": 0.0, \"[B]_EPSPS_h\": 0.018133314735069416, \"[B]_NGAM_h\": 0.152707083279744, \"[M]_GAPDH1_h\": 4.096222605234359, \"[M]_GABATA1_m\": 0.0, \"[B]_GluSeADA_m\": 0.0, \"[M]_PPiase_h\": 40.015343574023355, \"[M]_Tr_Phe1\": 0.0, \"[M]_cplx3_m\": 0.7463791412994196, \"[B]_Ex_Val_h\": 0.0, \"[B]_dTDPK_c\": 0.0, \"[M]_Tr_Ile3\": 0.0, \"[B]_BAATA2_h\": 0.008369222185416657, \"[B]_Ex_Arg_m\": 0.0, \"[M]_ADPRPPT_c\": 0.0, \"[B]_AspAT_p\": 0.0, \"[M]_AOX4_h\": 0.0, \"[M]_Tr_Phe2\": 0.0, \"[M]_ProDHNAD_m\": 0.0, \"[M]_Tr_NDT1\": -2.3612375372102134e-16, \"[B]_Tr_H2Op\": 0.0, \"[B]_SerRM_c\": 0.0, \"[M]_PGP_h\": 0.0, \"[B]_Tr_KG\": -1.1323667780918191e-30, \"[B]_Tr_H2Oh\": -6.9987387036851985, \"[M]_ALS3_h\": 0.0, \"[M]_BAATA2_h\": 0.0, \"[B]_Tr_H2Om\": -0.4449428150565678, \"[B]_Ex_cellulose\": 0.0, \"[B]_GDPR_c\": 0.0, \"[M]_MalDH2_m\": 0.0, \"[B]_ALS3_h\": 0.02510766655624997, \"[B]_Ex_Suc\": 1.53435740065972, \"[B]_F26BPPh_c\": 0.0, \"[M]_MalDH4_h\": 0.0, \"[B]_PSI_h\": 136.307468253339, \"[B]_GGAT_p\": -7.092850293044911e-15, \"[M]_ForTHFL_h\": 0.002789740728472219, \"[B]_GGAT_h\": 0.0, \"[M]_Tr_Trp2\": 0.0, \"[B]_5M_DASH_THFOR_c\": 0.0, \"[M]_dGDPK_c\": 0.0, \"[M]_ALS1_h\": 0.0, \"[M]_MetS_c\": 0.004882046274826381, \"[M]_Tr_Asp_mc\": 0.0, \"[B]_GARFT_h\": 0.0, \"[M]_Ex_Leu_h\": 0.0, \"[B]_Tr_H_Na_hc\": 0.0, \"[M]_CDPR_c\": 0.0, \"[M]_GluDC_c\": 0.0, \"[M]_Ex_Leu_c\": 0.0, \"[M]_IndGPL_h\": 0.0, \"[M]_NO2R_h\": 1.055916865726733, \"[M]_NDA2_2_m\": 0.0, \"[M]_Ex_Arg_p\": 0.0, \"[M]_S6PS_c\": 0.0, \"[MB]_Glc_c\": 0.0, \"[M]_Ex_Leu_p\": 0.0, \"[B]_AIRC_h\": 0.0, \"[B]_Tr_PXN3\": 0.0, \"[M]_Tr_NH41\": -0.30198943385711763, \"[B]_Tr_Pyr1\": 0.0, \"[B]_Ex_Pro_m\": 0.0, \"[M]_6PGDHNAD_h\": 0.0, \"[M]_Ex_Ser_c\": 0.0, \"[B]_AlaTA_m\": -0.31593813749948046, \"[M]_Tr_Pro2\": 0.0, \"[B]_iCitL_p\": 0.0, \"[B]_Ex_Met_c\": 0.0, \"[B]_Tr_KG_Mal_mc\": 0.0, \"[M]_Ex_Ser_h\": 0.0, \"[B]_CTPP_c\": 0.0, \"[M]_Tr_H2Om\": -3.2251984250519836, \"[M]_Ex_Tyr_c\": 0.0, \"[B]_Ex_Pro_c\": 0.0, \"[B]_PEPC1_c\": 0.0, \"[B]_Tr_Ala2\": 0.0076717870032985865, \"[B]_Tr_TPT3\": 0.0, \"[M]_PyrDH1_m\": 0.0, \"[M]_Tr_Asp\": 0.0, \"[B]_ADPR_c\": 0.0, \"[M]_Tr_DIT2\": 0.0, \"[M]_cplx5_m\": 2.4879304709980654, \"[M]_PSII_h\": 24.504287664646508, \"[M]_Tr_NH42\": 0.0, \"[M]_Tr_DIT1\": 0.011158962913888931, \"[B]_AlaTA_p\": 7.092850293044911e-15, \"[B]_Ex_Phe_c\": 0.0, \"[M]_FBPA_c\": 0.0, \"[M]_Tr_His1\": 0.0, \"[B]_AspAT2_p\": 7.092850293044911e-15, \"[M]_PGI_c\": 0.001859827152305385, \"[B]_Ex_Met_h\": 0.0, \"[B]_KARI12_h\": 0.008369222185416657, \"[M]_FBPA_h\": 0.0, \"[B]_PSerAT_h\": 0.06555890711910066, \"[M]_PGI_h\": -0.001859827152305385, \"[M]_Tr_DTC1B\": 0.0, \"[B]_Tr_ORO\": 0.0, \"[M]_ArgSCAS_h\": 0.011158962913888874, \"[M]_Ex_Arg_h\": 0.0, \"[B]_Tr_DTC2A\": 0.0, \"[M]_3IPMDA1_h\": 0.0, \"[B]_AspAT2_c\": -0.5866984658010296, \"[B]_Tr_DTC2B\": 0.0, \"[B]_AspAT2_m\": 0.006276916639060522, \"[MB]_Trp_c\": 0.0, \"[M]_Tr_SFC\": 0.0, \"[B]_AspAT2_h\": -0.0076717870032985865, \"[M]_Ex_starch\": 0.0, \"[M]_GSSGR_h\": 0.004882046274826383, \"[M]_GluSeADH_m\": 0.0, \"[B]_Ex_Thr_p\": 0.0, \"[M]_PGM_c\": 0.0, \"[M]_GluSeADH_h\": 0.0, \"[M]_P5CDHNADP_h\": 0.0, \"[B]_Cytb6f1_h\": 68.1537341266695, \"[M]_PGM_h\": 0.0, \"[B]_ADNK_c\": 0.0, \"[B]_PyrK_c\": 0.8996913849322586, \"[M]_StS_h1\": 0.0, \"[M]_StS_h3\": 0.0, \"[M]_StS_h2\": 0.0, \"[M]_FrcFD_c\": 0.0, \"[B]_Ex_Thr_c\": 0.0, \"[M]_CTHL_h\": 0.004882046274826381, \"[B]_Ex_Pro_p\": 0.0, \"[M]_Tr_BT13\": -3.6565094306408186e-15, \"[M]_SO3R_h\": 0.004882046274826383, \"[M]_Ex_Gln_m\": 0.0, \"[M]_Tr_iCit\": 0.0, \"[B]_PGR5PGRL11_h\": 0.0, \"[B]_ATPPRT_h\": 0.0, \"[B]_NDC1_1_h\": 0.0, \"[B]_DCAMPS_h\": 0.0, \"[B]_PyrK_h\": 0.0, \"[B]_ForTHFL_h\": 0.0, \"[M]_Ex_Thr_p\": 0.0, \"[MB]_Glu_c\": -0.3131483967710064, \"[M]_Tr_Met2\": 0.0, \"[MB]_Fum_c\": 0.013948703642361093, \"[M]_Im_Pi\": 0.0, \"[M]_Tr_Met3\": 0.0, \"[M]_GluSNAD_h\": 0.0, \"[B]_ATase_h\": 0.0, \"[M]_Ex_Glu_p\": 0.0, \"[B]_AGluK\": 0.0, \"[B]_NGAM_m\": 0.00911118724550157, \"[B]_IndGPS_h\": 0.00627691663906249, \"[B]_Tr_Cit_iCit_mc\": 0.0, \"[B]_Tr_DTC4B\": 0.0, \"[M]_KGDH_m\": 0.0, \"[M]_HSerDHNADP_h\": 0.05788712011579828, \"[M]_Tr_Phe3\": 0.0, \"[B]_3IPMDH_h\": 0.008369222185416659, \"[B]_NGAM_c\": 0.0503499796174949, \"[B]_DAPE_h\": 0.012553833278124982, \"[M]_Tr_DTC2B\": 0.0, \"[B]_ALS1_h\": 0.03347688874166663, \"[M]_PrAMPCy_h\": 0.0027897407284722176, \"[M]_Tr_UCP\": -4.957638567505128, \"[B]_ATPase_h\": 118.45426663421756, \"[B]_Tr_Trp1\": 0.0, \"[MB]_G6P_c\": 0.0, \"[B]_Tr_SO4\": 0.0, \"[M]_Ex_Asp_c\": 0.0, \"[B]_Tr_Hp\": 0.0, \"[M]_cACNHA_m\": 0.0, \"[M]_PGR5PGRL12_h\": 0.0, \"[M]_Ex_Met_m\": 0.0, \"[M]_cACNHA_h\": 0.0, \"[B]_bAMY1_h\": 0.0, \"[B]_3IPMDA2_h\": 0.008369222185416659, \"[M]_cACNHA_c\": 0.0, \"[M]_NDC1_1_h\": 0.0, \"[M]_Ex_Asp_m\": 0.0, \"[M]_Ex_Asp_p\": 0.0, \"[B]_Enol_h\": 0.0, \"[B]_Tr_O2m\": 0.12650674673455334, \"[B]_Tr_Trp3\": 0.0, \"[B]_Tr_Trp2\": 0.00627691663906249, \"[B]_ProDHNADP_m\": 0.0, \"[B]_DHODH_m\": 0.0, \"[B]_Ex_Met_m\": 0.0, \"[B]_Enol_c\": 0.0, \"[B]_Ex_Asp_p\": 0.0, \"[B]_Tr_Pro1\": 0.0, \"[M]_HEXK_c\": 0.0, \"[B]_Tr_Pyr3\": 1.1987939256167206e-30, \"[B]_CitS_c\": 0.0, \"[M]_Ex_Thr_m\": 0.0, \"[M]_Tr_ORO\": 0.0, \"[B]_CitS_m\": 0.322215054138541, \"[B]_NDA2_2_m\": 0.0, \"[B]_BAATA3_h\": 0.01673844437083331, \"[B]_CitS_h\": 0.0, \"[B]_GluSeADH_c\": 0.0, \"[B]_FGAMS_h\": 0.0, \"[B]_S6PS_c\": 1.5343574006597205, \"[B]_FGAMCL_h\": 0.0, \"[B]_AGNDH_h\": 0.004184611092708327, \"[B]_IndGPL_h\": 0.006276916639062489, \"[M]_UDPR_c\": 0.0, \"[B]_GluSeADH_h\": 0.0, \"[B]_Ex_Asp_m\": 0.0, \"[M]_DPE12_h\": 0.0, \"[M]_Tr_Glu1\": 0.0, \"[B]_AlaTA_h\": 0.0, \"[M]_OROPRT_c\": 0.0, \"[M]_AlaTA_p\": 0.0, \"[B]_Tr_ProU\": 0.0, \"[M]_Ex_Tyr_h\": 0.0, \"[M]_NDH1_h\": 11.685973412652904, \"[M]_Tr_H2Op\": 0.0, \"[B]_Ex_starch\": 1.53435740065972, \"[B]_Tr_Pro2\": 0.0, \"[M]_AICARFT_h\": 0.002789740728472219, \"[M]_AlaTA_c\": 0.0, \"[B]_Tr_ProA\": 0.0, \"[M]_PSerP_h\": 0.0, \"[M]_Tr_Tyr1\": 0.0, \"[B]_Tr_Ile2\": 0.008369222185416655, \"[B]_Tr_Ile1\": 0.0, \"[M]_AlaTA_h\": 0.6451275434591988, \"[M]_AlaTA_m\": 0.0, \"[B]_HSerDHNAD_h\": 0.0, \"[B]_iCitDHNAD_m\": 0.0, \"[B]_CAT_p\": 0.0, \"[M]_SGAT_p\": 0.0, \"[B]_ATPSL_h\": 0.0, \"[B]_iCitDHNAD_c\": 0.0, \"[M]_MetAdT_c\": 0.0, \"[B]_Tr_P5C2\": 0.0, \"[B]_FumHA_c\": 0.013948703642361095, \"[MB]_CO2_c\": -7.092850293044909e-15, \"[M]_Ex_His_h\": 0.0, \"[B]_HCysMT_c\": 0.0, \"[B]_SAK_h\": 0.01813331473506942, \"[M]_dUTPP_c\": 0.0, \"[M]_Ex_Ala_m\": 0.0, \"[B]_CAT_h\": 0.0, \"[B]_FumHA_m\": 0.0, \"[M]_Cytb6f2_h\": 54.851562035619466, \"[M]_Tr_DHO2\": 0.0, \"[M]_Tr_DHO1\": 0.0, \"[M]_MalDH1_m\": 0.7463791412994197, \"[B]_dUDPK_c\": 0.0, \"[M]_Tr_BAC1\": 0.0, \"[M]_MalDH1_h\": 0.0, \"[MB]_Asn_c\": 0.0, \"[B]_R5PI_h\": 13.381456360905064, \"[MB]_PEP_c\": 1.0210451066208002, \"[M]_MalDH1_c\": 1.0607989120015597, \"[M]_MalDH3_h\": 40.85781329281535, \"[M]_Ex_His_c\": 0.0, \"[B]_Tr_GCA1\": -7.09285029304491e-15, \"[B]_ALS2_h\": 0.008369222185416657, \"[M]_Tr_PLT5\": 0.0, \"[M]_MalDH1_p\": 0.0, \"[B]_Ex_Tyr_c\": 0.0, \"[M]_Tr_KG\": 0.0, \"[B]_IPODC_h\": 0.008369222185416657, \"[B]_Tr_iCit\": 0.0, \"[B]_Ex_Cys_p\": 0.0, \"[M]_Ex_Cys_c\": 0.0, \"[M]_HisolPTA_h\": 0.0027897407284722185, \"[M]_Ex_Cys_h\": 0.0, \"[B]_Ex_Tyr_p\": 0.0, \"[B]_RibK_h\": 0.0, \"[B]_ProDHNAD_m\": 0.0, \"[B]_ANTS_h\": 0.006276916639062491, \"[B]_GluDH3NADP_c\": -0.32221505413854107, \"[M]_SerRM_c\": 0.0, \"[B]_Ex_Gly_c\": 0.0, \"[M]_RBO_h\": 0.0, \"[B]_GCEAK_h\": 0.0, \"[B]_GDPK_h\": 0.0, \"[M]_Ex_Glu_m\": 0.0, \"[B]_PPIase_c\": 1.6047983540536446, \"[B]_GDPK_c\": 0.0, \"[B]_AspCT_h\": 0.0, \"[M]_Tr_Cys\": 0.0, \"[B]_Tr_Tyr3\": 0.0, \"[B]_Ex_Asp_h\": 0.0, \"[M]_Si_H_m\": 0.0, \"[M]_AIRC_h\": 0.0, \"[M]_IMPCH_h\": 0.0027897407284722185, \"[B]_Tr_Met2\": 0.0, \"[MB]_2PGA_c\": 0.0, \"[B]_Ex_O2\": 17.72669487238694, \"[B]_S6PPh_c\": 1.53435740065972, \"[B]_GCAO_h\": 0.0, \"[B]_iCitDHNADP_m\": 0.0, \"[B]_PPiase_h\": 2.9982738479255167, \"[M]_NDA2_1_m\": 0.0, \"[B]_iCitDHNADP_h\": 0.0, \"[M]_Ex_Mas\": 0.0, \"[B]_ACoAC_h\": 0.0, \"[B]_GAPDH2_h\": -0.07392812930451723, \"[B]_GSSGR_h\": 0.0, \"[B]_Ex_Gln_c\": 0.0, \"[B]_AspK_h\": 0.012553833278124982, \"[B]_Ex_Gln_m\": 0.0, \"[B]_GluSeADA_h\": 0.0, \"[B]_GCAO_p\": -7.09285029304491e-15, \"[B]_GAPDH2_c\": -0.008369222185415666, \"[B]_Tr_Glu1\": 0.0, \"[B]_NO3R2_c\": 0.0, \"[B]_Ex_Lys_c\": 0.0, \"[B]_Tr_Glu2\": 0.0, \"[M]_Tr_GCEA2\": 0.0, \"[B]_PrATPDP_h\": 0.0, \"[M]_FTK_h\": 0.0009299135761526925, \"[M]_Tr_Val1\": 0.0, \"[B]_Tr_Asp\": -7.092850293044911e-15, \"[M]_Tr_Val2\": 0.0, \"[MB]_His_c\": 0.0027897407284722185, \"[B]_SAICARS_h\": 0.0, \"[B]_DAPDC_h\": 0.012553833278124983, \"[M]_AspK_h\": 0.060676860844270736, \"[M]_Tr_HCys\": 0.004882046274826382, \"[M]_KARI12_h\": 0.0, \"[M]_RBC_h\": 0.0, \"[B]_Ex_Asn_h\": 0.0, \"[B]_Ex_Thr_h\": 0.0, \"[M]_OrnCMT_h\": 0.011158962913888874, \"[M]_ATPCitL_c\": 0.0, \"[M]_SCACoAL_m\": 0.0, \"[M]_SAICARS_h\": 0.0, \"[M]_Tr_TPT2\": 2.043461734736401, \"[B]_Cytb6f2_h\": 68.1537341266695, \"[M]_Tr_TPT1\": -4.096222605234359, \"[M]_TA_h\": -0.0009299135761526925, \"[B]_Tr_Tyr1\": 0.0, \"[B]_Tr_Tyr2\": 0.0041846110927083275, \"[B]_Tr_DTC3A\": 0.322215054138541, \"[M]_RibK_h\": 0.0, \"[M]_GlnS_m\": 0.0, \"[M]_dUDPK_c\": 0.0, \"[M]_GlnS_h\": 0.7588094781444417, \"[B]_Tr_DTC5\": 0.3893243092616195, \"[B]_Ru5PE_h\": 26.793599869823332, \"[M]_OrnAT_m\": 0.0, \"[M]_GlnS_c\": 0.30198943385711763, \"[M]_Tr_Asp_Glu_mc\": 0.0, \"[B]_Tr_Lys2\": 0.012553833278124982, \"[B]_Ru5PK_h\": 40.1750562307284, \"[B]_AOrnAGluAcT_h\": 0.0, \"[MB]_Rib_c\": 0.0, \"[M]_Tr_Thr2\": 0.055794814569444365, \"[B]_Ex_Glu_m\": 0.0, \"[B]_Ex_Glu_c\": 0.0, \"[MB]_Phe_c\": 0.0, \"[MB]_Asp_c\": 0.8607904923734234, \"[MB]_G1P_c\": 0.0, \"[B]_Tr_His2\": 0.0, \"[MB]_Suc_c\": 0.0, \"[B]_HisolPTA_h\": 0.0, \"[B]_AspAT_c\": 0.0, \"[MB]_Cit_c\": 0.0, \"[B]_MetS_c\": 0.0, \"[B]_AspAT_h\": -0.12344602723489918, \"[B]_Tr_GCEA2\": 0.0, \"[B]_Ex_Glu_p\": 0.0, \"[B]_AspAT_m\": 0.0, \"[B]_Tr_DTC1B\": 0.0, \"[B]_Tr_DTC1C\": 0.0, \"[B]_PPIF6PK_c\": 0.0, \"[B]_Im_H2S\": 0.0, \"[M]_GluSeADA_h\": 0.0, \"[M]_DAHPS_h\": 0.0, \"[M]_Tr_H2Oh\": 1.939883977854751, \"[M]_UDPK_c\": 0.0, \"[M]_Tr_DTC2C\": 0.0, \"[M]_Tr_DTC2A\": 0.0, \"[B]_Tr_SCA\": 0.0, \"[M]_Ex_Phe_h\": 0.0, \"[M]_GluSeADA_c\": 0.0, \"[B]_DHLST_m\": 0.0, \"[M]_CeS_c1\": 0.0, \"[M]_PPIF6PK_c\": 0.0, \"[M]_CeS_c3\": 0.0, \"[M]_CeS_c2\": 0.0, \"[M]_Si_H_h\": 17.233558631875017, \"[B]_Tr_Pyr_Na_hc\": 0.0, \"[B]_Ex_AA\": 0.6974351821180546, \"[M]_AsnS_c\": 0.0, \"[B]_ACDOxRed_c\": 0.008369222185416653, \"[B]_Tr_P5C1\": 0.0, \"[B]_IMPDH_c\": 0.0, \"[B]_Im_H2O\": -2.4318010024059404, \"[M]_ATPSL_h\": 0.004882046274826383, \"[M]_DAPE_h\": 0.0, \"[B]_DHQS_h\": 0.01813331473506942, \"[B]_Tr_Met3\": 0.0, \"[M]_ThrDA_h\": 0.0, \"[B]_ADPRPPT_c\": 0.0, \"[M]_Cysase_c\": 0.0, \"[B]_Ex_Ser_h\": 0.0, \"[M]_KARI34_h\": 0.0, \"[M]_PGR5PGRL11_h\": 0.0, \"[M]_ForDH_h\": 0.0027897407284722185, \"[M]_Tr_Tyr3\": 0.0, \"[B]_AICARFT_h\": 0.0, \"[B]_Ex_Gln_p\": 0.0, \"[M]_CitS_c\": 0.0, \"[B]_Ex_Tyr_h\": 0.0, \"[M]_Im_H2S\": 0.0, \"[M]_NDH2_h\": 5.842986706326452, \"[M]_CitS_h\": 0.0, \"[MB]_SCA_c\": 0.0, \"[M]_Ex_Met_c\": 0.0, \"[MB]_Pyr_c\": -39.77945500482772, \"[M]_CitS_m\": 0.0, \"[M]_AGluPR_h\": 0.011158962913888872, \"[MB]_F6P_c\": -0.001859827152305385, \"[B]_Fd_DASH_NADPR_h\": 35.70640323824296, \"[B]_AMPK_h\": 0.0, \"[B]_PGADH_h\": 0.06555890711910066, \"[M]_Tr_Ala2\": 0.6451275434591988, \"[B]_Tr_Ala_mc\": 0.32221505413854096, \"[M]_GCEADH_p\": 0.0, \"[B]_AMPK_c\": 0.0, \"[M]_5M_DASH_THFOR_c\": 0.004882046274826381, \"[B]_Tr_DTC1A\": -3.928252021997318e-17, \"[B]_Tr_NTT\": 0.0, \"[MB]_Tre_c\": 0.0, \"[B]_Im_CO2\": 0.0, \"[M]_Ex_Ile_m\": 0.0, \"[M]_Tr_Ala1\": 0.0, \"[M]_Tr_Mal\": 0.0, \"[M]_Tr_GCA2\": 0.0, \"[M]_Tr_GCA1\": 0.0, \"[M]_FGAMCL_h\": 0.0, \"[B]_AOX4_h\": 0.0, \"[B]_Tr_Ser1\": 0.0, \"[B]_HSerDHNADP_h\": 0.0, \"[B]_6PGDHNADP_h\": 0.0, \"[M]_Tr_Pyr_Na_hc\": 0.0, \"[M]_PyrPiDK_h\": 39.98884103710287, \"[B]_PGP_h\": -7.09285029304491e-15, \"[B]_AOX1A_m\": 0.0, \"[M]_DHDRNADP_h\": 0.0, \"[M]_Tr_THF\": 0.0, \"[MB]_S6P_c\": 0.0, \"[B]_APSR_h\": 0.0, \"[M]_Tr_DIT1_OAA\": 40.932438857301975, \"[B]_Tr_Asn1\": 0.0, \"[B]_Tr_Asn3\": 0.0, \"[M]_Enol_h\": 0.0, \"[B]_PRANTI_h\": 0.006276916639062491, \"[B]_PSerP_h\": 0.06555890711910067, \"[B]_Tr_CO2h_Ex\": -7.092850293044909e-15, \"[M]_Enol_c\": -1.0182553658923637, \"[B]_TPP_c\": 0.0, \"[B]_Tr_Ser2\": 0.05928199048003818, \"[M]_PGADH_h\": 0.0, \"[M]_Ex_MACP\": 0.0, \"[B]_Ex_Trp_c\": 0.0, \"[B]_OROPRT_c\": 0.0, \"[MB]_PGA_c\": -5.114477971126723, \"[M]_Tr_KG_Mal_mc\": 0.0, \"[M]_Tr_Arg2\": 0.011158962913888872, \"[B]_Ex_Trp_h\": 0.0, \"[M]_Tr_Arg1\": 0.0, \"[M]_Ex_Lys_m\": 0.0, \"[B]_Tr_DIC2\": 0.0, \"[B]_Tr_DIC1\": 0.0, \"[B]_Ex_Trp_m\": 0.0, \"[M]_IPODC_h\": 0.0, \"[B]_Ex_Ser_c\": 0.0, \"[B]_Tr_Met1\": 0.0, \"[M]_SADH_h\": 0.0, \"[MB]_cACN_c\": 0.0, \"[M]_Tr_AAC\": 2.478819283752564, \"[M]_Tr_CO2m\": 0.0, \"[M]_P5CDHNAD_h\": 0.0, \"[M]_Tr_CO2h\": 0.013948703642361091, \"[B]_Tr_SFC\": 0.0, \"[M]_NGAM_h\": 0.152707083279744, \"[B]_IGPS_h\": 0.0, \"[B]_PGM_c\": 1.5343574006597207, \"[M]_PRANTI_h\": 0.0, \"[M]_Ex_Ile_c\": 0.0, \"[M]_Ex_Pro_m\": 0.0, \"[M]_StP21_c\": 0.0, \"[B]_PAICARPI_h\": 0.0, \"[B]_TA_h\": 0.0, \"[B]_Tr_AC1\": 0.008369222185416655, \"[M]_Ex_Lys_h\": 0.0, \"[M]_Cytb6f1_h\": 54.851562035619466, \"[M]_Ex_Asn_h\": 0.0, \"[B]_PGI_c\": 0.5156137291097789, \"[MB]_Ile_c\": 0.0, \"[B]_PGI_h\": 4.087458472869382, \"[B]_dGDPK_c\": 0.0, \"[B]_Ex_Frc\": 0.0, \"[B]_Im_hnu\": 207.72027472982495, \"[B]_Tr_O2p\": -7.09285029304491e-15, \"[M]_Ex_Gly_m\": 0.0, \"[M]_Si_H_p\": 0.0, \"[B]_NDC1_2_h\": 0.0, \"[M]_PSerAT_h\": 0.0, \"[B]_Tr_Leu1\": 0.0, \"[B]_Tr_Cys\": 0.0, \"[MB]_Lys_c\": 0.0, \"[M]_ACoAS_h\": 0.004882046274826382, \"[B]_PyrDH2_m\": 0.322215054138541, \"[M]_Ex_Ile_h\": 0.0, \"[B]_Tr_O2h\": -17.853201619121485, \"[B]_Ex_Lys_p\": 0.0, \"[B]_DPE2_c\": 0.0, \"[B]_GAPDH1_h\": 75.08777823172105, \"[B]_dTMPS_c\": 0.0, \"[M]_SBPA_h\": 0.0, \"[M]_DHDRNAD_h\": 0.0, \"[M]_NDC1_2_h\": 0.0, \"[B]_DHFR_c\": 0.0, \"[M]_STK_h\": 0.0009299135761526925, \"[B]_GluK_h\": 0.0, \"[B]_CeS_c2\": 0.0, \"[B]_CeS_c3\": 0.0, \"[B]_CeS_c1\": 0.0, \"[B]_CBPS_h\": 0.0, \"[B]_Cysase_c\": 0.0, \"[B]_GAPDH3_c\": 0.0, \"[MB]_DHAP_c\": 2.0518309569218047, \"[B]_Ex_Lys_h\": 0.0, \"[M]_DAPAT_h\": 0.0, \"[B]_AOrnTA_h\": 0.0, \"[B]_Ex_Lys_m\": 0.0, \"[B]_Tr_Asp_mc\": 0.006276916639060522, \"[M]_Tr_PPT\": -39.98884103710287, \"[B]_Ex_Val_c\": 0.0, \"[M]_dADPK_c\": 0.0, \"[M]_Ex_Ile_p\": 0.0, \"[B]_Ex_Val_m\": 0.0, \"[B]_TrpS_h\": 0.006276916639062489, \"[B]_Tr_UCP\": -1.2312423894483886, \"[B]_NDH2_h\": 32.44733088842655, \"[B]_Ex_Val_p\": 0.0, \"[B]_F6PK1_c\": 0.0, \"[M]_Ex_Met_h\": 0.0, \"[B]_DHQDH_h\": 0.018133314735069416, \"[B]_DHDRNAD_h\": 0.0, \"[B]_HCO3DHA_h\": 0.0, \"[M]_ACDOxRed_c\": 0.0, \"[B]_F6PK1_h\": 0.0, \"[B]_Tr_THF\": 0.0, \"[B]_Tr_DTC2C\": 0.0, \"[B]_NMPK_c\": 0.0, \"[M]_Tr_BAC2\": 0.0, \"[B]_SerAcT_m\": 0.0, \"[B]_GABATA2_m\": 0.0, \"[B]_Tr_TPT2\": 0.0, \"[B]_Tr_TPT1\": 5.122847193312138, \"[B]_Ex_His_c\": 0.0, \"[M]_Glnase_c\": 0.0, \"[B]_GluDC_c\": 0.0, \"[M]_GPAT_h\": 0.0, \"[M]_OMPDC_c\": 0.0, \"[B]_Ex_MACP\": 0.0, \"[M]_S6PPh_c\": 0.0, \"[M]_Tr_Ser3\": 0.0, \"[M]_Tr_Trp1\": 0.0, \"[B]_P5CRNAD_c\": 0.0, \"[M]_Arginase_m\": 0.0, \"[B]_OrnAT_m\": 0.0, \"[M]_F26BPPh_c\": 0.0, \"[M]_Tr_GlySer\": 0.0, \"[M]_Tr_Trp3\": 0.0, \"[M]_Ex_cellulose\": 0.0, \"[B]_Tr_Pyr2\": 0.0, \"[MB]_Pro_c\": 0.0, \"[MB]_iCit_c\": 0.0, \"[B]_Ex_Phe_m\": 0.0, \"[M]_HSerK_h\": 0.060676860844270736, \"[M]_F6PK1_h\": 0.0, \"[M]_cACNDHA_c\": 0.0, \"[B]_ACoAS_h\": 0.008369222185416657, \"[M]_cACNDHA_m\": 0.0, \"[M]_cACNDHA_h\": 0.0, \"[M]_F6PK1_c\": 0.0, \"[M]_Tr_DTC4A\": 0.0, \"[M]_Tr_ProA\": -4.049114348205359e-17, \"[M]_SucS_c\": 0.0, \"[B]_HisolPDH_h\": 0.0, \"[M]_6PGL_h\": 0.0, \"[M]_ADPR_c\": 0.0, \"[B]_AMPDA_c\": 0.0, \"[B]_Tr_NH41\": -0.0020923055463541672, \"[B]_Tr_NH42\": -0.3201227485921868, \"[B]_Tr_Pi\": 0.0, \"[B]_PrAMPCy_h\": 0.0, \"[M]_bAMY2_h\": 0.0, \"[M]_Tr_Thr1\": 0.0, \"[B]_Tr_Lys1\": 0.0, \"[M]_Tr_Thr3\": 0.0, \"[B]_GluSNAD_h\": 0.0, \"[B]_Tr_Ser3\": 0.0041846110927047835, \"[M]_UGPase_c\": 0.0, \"[B]_dADPK_c\": 0.0, \"[M]_Ex_Lys_c\": 0.0, \"[B]_Ex_Tre\": 0.0, \"[B]_Tr_His3\": 0.0, \"[B]_Tr_Mal\": 0.0, \"[B]_DHDRNADP_h\": 0.012553833278124982, \"[B]_GluSeADH_m\": 0.0, \"[M]_PEPC2_c\": -39.98605129637443, \"[B]_OMPDC_c\": 0.0, \"[B]_Tr_PPT\": 0.12135372168854149, \"[B]_Tr_Arg2\": 0.0, \"[B]_GMPK_c\": 0.0, \"[M]_GAPDH2_h\": 0.0, \"[M]_Tr_DTC3A\": 0.0, \"[B]_Tr_Arg1\": 0.0, \"[M]_Tr_DTC3C\": 0.0, \"[M]_Tr_DTC3B\": 0.0, \"[B]_StP1_h\": 0.0, \"[B]_SucS_c\": 0.0, \"[MB]_Cys_c\": 0.0, \"[B]_Ex_Ala_c\": 0.0, \"[B]_TPI_h\": 30.881058342692718, \"[M]_AGluK\": 0.011158962913888872, \"[M]_F6PK2_c\": 0.0, \"[B]_SerAcT_h\": 0.0, \"[M]_FumHA_m\": 0.0, \"[B]_GlnS_m\": 0.0, \"[M]_FumHA_c\": 0.0, \"[B]_TPI_c\": 0.0, \"[B]_Ex_Phe_h\": 0.0, \"[B]_SerAcT_c\": 0.0, \"[B]_Tr_GPT1\": -1.018743671549942, \"[B]_UDPR_c\": 0.0, \"[M]_ADNK_c\": 0.0, \"[B]_GlnS_c\": 0.0, \"[B]_GlyDH_m\": 0.004184611092704782, \"[B]_GlnS_h\": 0.006276916639062491, \"[M]_dTMPK_c\": 0.0, \"[B]_6PGL_h\": 0.0, \"[M]_Fd_DASH_NADPR_h\": 45.0886408881985, \"[M]_DHQS_h\": 0.0, \"[B]_DPE11_h\": 0.0, \"[B]_dUTPP_c\": 0.0, \"[B]_Ex_His_p\": 0.0, \"[M]_Tr_Asn1\": 0.0, \"[M]_Asp_DASH_SeADH_h\": 0.06067686084427073, \"[M]_Tr_Asn3\": 0.0, \"[M]_CTPP_c\": 0.0, \"[B]_Tr_GlySer\": 0.008369222185409562, \"[B]_PGAK_c\": 0.008369222185415666, \"[B]_GCEADH_p\": 0.0, \"[B]_Tr_DIC4\": 0.006276916639060489, \"[M]_Tr_DTC5\": -0.7463791412994197, \"[MB]_Ser_c\": -0.009764092549652765, \"[M]_AspAT_h\": 0.07462556448663182, \"[B]_dCDPK_c\": 0.0, \"[B]_PGAK_h\": 75.16170636102557, \"[M]_AspAT_m\": 0.0, \"[M]_R5PI_h\": -0.0018598271523195251, \"[B]_IGPDA_h\": 0.0, \"[M]_AOX1A_m\": 0.0, \"[M]_AspAT_p\": 0.0, \"[B]_PGAM_c\": 0.0, \"[M]_FBPase_c\": 0.0, \"[M]_EPSPS_h\": 0.0, \"[M]_FBPase_h\": 0.0, \"[B]_PGAM_h\": 0.0, \"[M]_Tr_Ala_mc\": 0.0, \"[B]_Tr_PLT5\": 0.0, \"[B]_IMPCH_h\": 0.0, \"[B]_STK_h\": 13.38773327754413, \"[B]_Tr_PIC\": 0.8405440409572479, \"[M]_SBPase_h\": 0.0, \"[M]_FrcK_c\": 0.0, \"[M]_Ex_Asn_p\": 0.0, \"[B]_Tr_DIT2\": 0.0, \"[M]_ACoAC_h\": 0.0, \"[B]_Tr_DIT1\": 0.0, \"[M]_3IPMDA2_h\": 0.0, \"[B]_CHRS_h\": 0.01813331473506942, \"[M]_Im_H2O\": 38.79851242117871, \"[B]_Ex_Gly_p\": 0.0, \"[B]_dTMPK_c\": 0.0, \"[B]_AGNDA_h\": 0.0076717870032985995, \"[M]_Tr_Asn2\": 0.0, \"[B]_Ex_Leu_p\": 0.0, \"[B]_Tr_Pyr_H_hc\": 0.0, \"[B]_OrnCMT_h\": 0.0, \"[M]_Tr_AC1\": 0.0, \"[B]_PyrDH1_m\": 0.322215054138541, \"[M]_Tr_AC2\": 0.0, \"[M]_Tr_Tyr2\": 0.0, \"[B]_R5PDPK_h\": 0.006276916639062491, \"[B]_Ex_Gly_m\": 0.0, \"[M]_AMPK_h\": 40.015343574023355, \"[B]_SBPase_h\": 13.38773327754413, \"[M]_CHRS_h\": 0.0, \"[M]_Ex_Gly_c\": 0.0, \"[B]_FrcK_c\": 0.0, \"[M]_TPS_c\": 0.0, \"[MB]_Gly_c\": 0.004882046274826382, \"[B]_FBPase_h\": 17.493325065148582, \"[B]_Ex_Gly_h\": 0.0, \"[M]_ThrA_c\": 0.0, \"[B]_FBPase_c\": 2.0518309569218043, \"[M]_Tr_DIC2\": 0.0, \"[M]_Tr_PIC\": 2.478819283752564, \"[M]_Tr_Val3\": 0.0, \"[M]_Ex_Phe_p\": 0.0, \"[M]_AspAT_c\": 0.011158962913888772, \"[M]_StP1_h\": 0.0, \"[B]_Asp_DASH_SeADH_h\": 0.012553833278124982, \"[M]_DHLST_m\": 0.0, \"[B]_StP21_c\": 0.0, \"[B]_FrcFD_c\": 0.0, \"[M]_Ex_Tyr_p\": 0.0, \"[M]_Im_NO3\": 1.0559168657267328, \"[M]_iCitL_p\": 0.0, \"[M]_GlyDH_m\": 0.0, \"[B]_Tr_Ala1\": 0.0, \"[M]_GDPR_c\": 0.0, \"[B]_Ex_Cys_c\": 0.0, \"[B]_SCACoAL_m\": 0.0, \"[MB]_Arg_c\": 0.011158962913888872, \"[B]_bAMY2_h\": 0.0, \"[M]_Ex_Phe_m\": 0.0, \"[M]_Ex_Phe_c\": 0.0, \"[B]_Ex_Cys_h\": 0.0, \"[M]_TrpS_h\": 0.0, \"[M]_Tr_Lys2\": 0.0, \"[B]_2IPMS_h\": 0.008369222185416659, \"[M]_Urease_m\": 0.0, \"[M]_DHDS_h\": 0.0, \"[B]_CTHS_h\": 0.0, \"[B]_ATPCitL_c\": 0.0, \"[B]_GMPS_c\": 0.0, \"[M]_GARFT_h\": 0.0, \"[M]_G6PDH_h\": 0.0, \"[B]_HisolPP_h\": 0.0, \"[M]_DHLDH1_m\": 0.0, \"[M]_ATase_h\": 0.0, \"[M]_DCAMPL1_h\": 0.0, \"[M]_HCO3DHA_h\": 0.011158962913888872, \"[M]_Ex_Ser_m\": 0.0, \"[B]_DCAMPL1_h\": 0.0, \"[M]_HCO3DHA_c\": 39.98605129637443, \"[B]_AMT_m\": 0.004184611092704781, \"[B]_AlaTA_c\": 0.0, \"[B]_Tr_DTC4C\": 0.0, \"[B]_GluSFd_h\": 0.0, \"[B]_Tr_DTC4A\": 0.0, \"[M]_Tr_SO4\": 0.004882046274826383, \"[M]_AspCT_h\": 0.0, \"[M]_IGPS_h\": 0.002789740728472218, \"[B]_Ex_Cys_m\": 0.0, \"[MB]_Tyr_c\": 0.0, \"[B]_Tr_Leu2\": 0.008369222185416655, \"[M]_Ex_Suc\": 0.0, \"[B]_Ex_Ala_m\": 0.0, \"[B]_Ex_Ala_h\": 0.0, \"[M]_Ex_Ser_p\": 0.0, \"[M]_Ex_Leu_m\": 0.0, \"[M]_Tr_Leu3\": 0.0, \"[B]_DAPAT_h\": 0.012553833278124982, \"[M]_Tr_Leu1\": 0.0, \"[M]_Tr_Leu2\": 0.0, \"[B]_PGM_h\": 3.06871480131944, \"[B]_Ex_Arg_c\": 0.0, \"[M]_ThrS_h\": 0.055794814569444365, \"[M]_iCitDHNAD_m\": 0.0, \"[B]_RBC_h_Ex\": -7.092850293044909e-15, \"[B]_Ex_Ala_p\": 0.0, \"[M]_iCitDHNAD_c\": 0.0, \"[B]_MalDH4_h\": 39.45390825241836, \"[B]_GlyHMT_m\": 0.00418461109270478, \"[B]_DPE12_h\": 0.0, \"[B]_GlyHMT_c\": 0.0, \"[B]_CHRM_h\": 0.011856398096006927, \"[B]_TRXR_c\": 0.0, \"[M]_AOrnTA_h\": 0.011158962913888872, \"[B]_KGDH_m\": -3.928252021997318e-17, \"[M]_Tr_Ile1\": 0.0, \"[M]_AGPase_h\": 0.0, \"[M]_HisolPP_h\": 0.0027897407284722185, \"[M]_CTHS_h\": 0.004882046274826381, \"[M]_Tr_PRPP\": 0.0, \"[M]_Ex_Pro_h\": 0.0, \"[M]_IMPDH_c\": 0.0, \"[M]_DHLAcT_m\": 0.0, \"[M]_GluSeADA_m\": 0.0, \"[B]_GABATA1_m\": 0.0, \"[M]_dTDPK_c\": 0.0, \"[M]_bAMY1_h\": 0.0, \"[B]_Tr_Asn2\": 0.0, \"[B]_DCAMPL2_h\": 0.0, \"[M]_2IPMS_h\": 0.0, \"[M]_Si_H_c\": -39.260021271789526, \"[B]_CTHL_h\": 0.0, \"[M]_Tr_DTC1C\": 0.0, \"[M]_GluDH1NADP_m\": 0.0, \"[M]_Ex_His_p\": 0.0, \"[B]_Im_SO4\": 0.0, \"[M]_Tr_Mex1\": 0.0, \"[B]_GluK_c\": 0.0, \"[B]_GluK_m\": 0.0, \"[B]_Tr_Leu3\": 0.0, \"[B]_Arginase_m\": 0.0, \"[M]_HSerDHNAD_h\": 0.0027897407284724536, \"[M]_GluDH1NAD_m\": -3.5331723130622825e-17, \"[M]_Tr_ProU\": 0.0, \"[B]_3IPMDA1_h\": 0.008369222185416657, \"[M]_Tr_GPT1\": 0.0018598271523053852, \"[M]_Im_SO4\": 0.004882046274826382, \"[B]_DHADA1_h\": 0.008369222185416657, \"[M]_GAPDH2_c\": -1.6140297863745778e-16, \"[M]_GluK_c\": 0.0, \"[B]_Ex_Leu_m\": 0.0, \"[B]_DHLDH1_m\": 0.004184611092704781, \"[B]_StS_h2\": 1.5343574006597203, \"[B]_StS_h3\": 0.0, \"[M]_GluK_h\": 0.0, \"[B]_StS_h1\": 1.5343574006597203, \"[M]_DHADA1_h\": 0.0, \"[B]_Im_NO3\": 1.618384170300316e-15, \"[M]_GluK_m\": 0.0, \"[B]_cACNDHA_h\": 0.0, \"[M]_GluSFd_h\": 0.7448607745020807, \"[M]_ADNN_c\": 0.0, \"[B]_cACNDHA_m\": 0.0, \"[B]_Ex_Leu_h\": 0.0, \"[B]_cplx2_m\": 0.0, \"[B]_cACNDHA_c\": 0.322215054138541, \"[B]_GluDH1NADP_m\": 0.0, \"[M]_Tr_H_Na_hc\": 0.0, \"[M]_Tr_Cit_iCit_mc\": 0.0, \"[MB]_Frc_c\": 0.0, \"[M]_GluDH3NADP_c\": 0.0, \"[M]_Asnase_c\": 0.0, \"[B]_Tr_Pyr_Mal_hc\": 39.46646208569649, \"[B]_cplx4_m\": 0.12650674673455334, \"[B]_Ex_Met_p\": 0.0, \"[B]_DHOase_h\": 0.0, \"[B]_Tr_Phe3\": 0.0, \"[M]_GGAT_h\": 0.0, \"[M]_PEPC1_c\": 0.0, \"[B]_Tr_Mex1\": 0.0, \"[M]_CTPS_c\": 0.0, \"[M]_Im_NH4\": 0.0, \"[B]_SBPA_h\": 13.387733277544129, \"[B]_Ex_Asp_c\": 0.0, \"[B]_ForDH_h\": 0.0, \"[B]_MalDH2_m\": 0.0, \"[M]_Ex_Ala_c\": 0.0, \"[B]_ANTPRT_h\": 0.006276916639062489, \"[B]_Tr_CO2h\": 0.6486147193697801, \"[B]_SGAT_p\": 0.0, \"[M]_Ex_Ala_h\": 0.0, \"[B]_Tr_Phe1\": 0.0, \"[B]_Tr_Phe2\": 0.0076717870032985995, \"[B]_iCitDHNADP_c\": 0.3222150541385411, \"[B]_PRAGlyL_h\": 0.0, \"[MB]_Leu_c\": 0.0, \"[B]_CysS_m\": 0.0, \"[B]_Tr_CO2m\": -0.326399665231239, \"[B]_CysS_h\": 0.0, \"[M]_Tr_Hp\": 0.0, \"[M]_GCAO_p\": 0.0, \"[MB]_Ala_c\": -0.2045039860003358, \"[B]_Tr_DIT1_OAA\": 0.01255383327812492, \"[M]_NMPK_c\": 0.0, \"[M]_GGAT_p\": 0.0, \"[M]_PAICARPI_h\": 0.002789740728472218, \"[B]_NDH1_h\": 64.8946617768531, \"[M]_GCEAK_h\": 0.0, \"[B]_6PGDHNAD_h\": 0.0, \"[MB]_GAP_c\": 2.043461734736401, \"[M]_TPI_h\": 2.051830956921805, \"[M]_PrATPDP_h\": 0.0027897407284722176, \"[M]_DPE2_c\": 0.0, \"[M]_TPI_c\": 0.0, \"[B]_P5CDHNADP_h\": 0.0, \"[B]_UDPK_c\": 1.5343574006597207, \"[M]_Ex_Cys_p\": 0.0, \"[B]_P5CDHNADP_m\": 0.0, \"[M]_Ex_Tyr_m\": 0.0, \"[B]_Tr_GCA2\": -7.0928502930449084e-15, \"[B]_CysS_c\": 0.0, \"[B]_Tr_DHO2\": 0.0, \"[M]_GluSeADH_c\": 0.0, \"[B]_Tr_DHO1\": 0.0, \"[M]_Tr_Gln\": 0.0, \"[M]_DCAMPL2_h\": 0.002789740728472218, \"[M]_Tr_Asp_OAA_hc\": 0.0, \"[M]_dCDPK_c\": 0.0, \"[M]_Tr_Pyr1\": 0.0, \"[M]_Tr_Pyr3\": 0.0, \"[M]_Tr_Pyr2\": 0.0, \"total\": 2707.327934521501, \"[M]_TRXR_c\": 0.0, \"[M]_SAK_h\": 0.0, \"[M]_Ru5PE_h\": 0.001859827152305385, \"[B]_Ex_Ser_m\": 0.0, \"[M]_AMPDA_c\": 0.0, \"[B]_PyrPiDK_h\": -0.08508709221840265, \"[M]_TPP_c\": 0.0, \"[M]_Tr_NO2\": 1.055916865726733, \"[M]_GlyHMT_m\": 0.0, \"[B]_Tr_Fum\": 0.0, \"[B]_Ex_Pro_h\": 0.0, \"[B]_GluSeADA_c\": 0.0, \"[M]_ATPase_h\": 85.19883640659242, \"[M]_PyrK_c\": 0.0, \"[M]_P5CDHNADP_m\": 0.0, \"[M]_Ex_Gln_p\": 0.0, \"[M]_IGPDA_h\": 0.0027897407284722185, \"[B]_UGPase_c\": 1.5343574006597207, \"[B]_Ex_His_h\": 0.0, \"[M]_Ex_AA\": 0.0, \"[M]_Tr_O2p\": 0.0, \"[M]_R5PDPK_h\": 0.0027897407284722176, \"[M]_PyrK_h\": 0.0, \"[B]_BAATA1_h\": 0.008369222185416655, \"[M]_ANTPRT_h\": 0.0, \"[M]_APSR_h\": 0.004882046274826383, \"[M]_Tr_O2h\": -24.504287664646505, \"[M]_Ex_Gln_c\": 0.0, \"[M]_Ex_Ala_p\": 0.0, \"[M]_Tr_H2S1\": 0.0, \"[M]_Tr_O2m\": 0.3731895706497098, \"[M]_SCASeADH_m\": 0.0, \"[M]_Tr_H2S2\": 0.0, \"[B]_Tr_BAC1\": 0.0, \"[M]_Ex_Gln_h\": 0.0, \"[B]_Tr_BAC2\": 0.0, \"[M]_PRAGlyL_h\": 0.0, \"[B]_Ex_Tyr_m\": 0.0, \"[B]_FBPA_h\": 17.493325065148582, \"[B]_Tr_HCys\": 0.0, \"[M]_Tr_Met1\": 0.0, \"[B]_HSerK_h\": 0.0, \"[M]_AspAT2_m\": 0.0, \"[M]_AspAT2_h\": 0.0, \"[M]_cplx2_m\": 0.0, \"[M]_HisolPDH_h\": 0.0027897407284722185, \"[M]_AspAT2_c\": 0.8496315294595346, \"[B]_Ex_Gln_h\": 0.0, \"[M]_P5CRNAD_c\": 0.0, \"[M]_DHLDH2_m\": 0.0, \"[M]_dTMPS_c\": 0.0, \"[M]_NO3R1_c\": 1.055916865726733, \"[M]_Tr_Glu2\": 0.0, \"[M]_ProDHNADP_m\": 0.0, \"[M]_Tr_Fum\": 0.013948703642361093, \"[M]_AspAT2_p\": 0.0, \"[B]_Ex_Phe_p\": 0.0, \"[B]_Ex_Asn_p\": 0.0, \"[M]_BAATA1_h\": 0.0, \"[B]_ThrA_c\": 0.008369222185416655, \"[M]_Ex_Val_c\": 0.0, \"[M]_HisalPDH_h\": 0.0027897407284722185, \"[B]_ArgSCAS_h\": 0.0, \"[M]_GABATA2_m\": 0.0, \"[M]_Ex_Val_m\": 0.0, \"[B]_Tr_BT12\": 0.14088190678781162, \"[B]_Tr_BT13\": -0.07044095339388814, \"[M]_Ex_Val_h\": 0.0, \"[B]_Tr_BT11\": -0.07044095339392352, \"[B]_Ex_Asn_c\": 0.0, \"[M]_Tr_Gly\": 0.0, \"[B]_FBPA_c\": 2.0518309569218047, \"[M]_Ex_Val_p\": 0.0, \"[M]_NO3R2_c\": 0.0, \"[B]_Tr_AC2\": 0.0, \"[M]_Tr_pGlc\": 0.0, \"[M]_ALS2_h\": 0.0, \"[M]_Ex_Asp_h\": 0.0, \"[M]_BAATA3_h\": 0.0, \"[B]_Ex_Asn_m\": 0.0, \"[M]_Ex_Glc\": 0.0, \"[B]_DHLDH2_m\": 0.322215054138541, \"[M]_Tr_Pro1\": 0.0, \"[B]_Tr_Ile3\": 0.0, \"[M]_Tr_GCEA1\": 0.0, \"[M]_HCysMT_c\": 0.0, \"[B]_cACNHA_c\": 0.3222150541385411, \"[B]_cACNHA_m\": 0.0, \"[B]_Glnase_c\": 0.0, \"[B]_cACNHA_h\": 0.0, \"[M]_Ex_Pro_c\": 0.0, \"[B]_Tr_H2S1\": 0.0, \"[B]_Tr_Thr1\": 0.0, \"[B]_Tr_Thr3\": 0.0, \"[B]_Tr_Thr2\": -0.008369222185416659, \"[M]_Tr_OAA\": 0.0, \"[B]_Tr_H2S2\": 0.0, \"[B]_AsnS_c\": 0.07044095339392352, \"[MB]_GCEA_c\": 0.0, \"[M]_Ex_His_m\": 0.0, \"[M]_ACPM_h\": 0.0, \"[M]_Ex_Pro_p\": 0.0, \"[M]_PSI_h\": 109.70312407123893, \"[B]_KARI34_h\": 0.025107666556249974, \"[B]_Asnase_c\": 0.0, \"[M]_Ex_Thr_h\": 0.0, \"[M]_P5CDHNAD_m\": 0.0, \"[M]_AGNDH_h\": 0.0, \"[M]_Ex_Gly_h\": 0.0, \"[B]_Tr_Asp_Glu_mc\": 0.0, \"[B]_CDPR_c\": 0.0, \"[B]_DPE13_h\": 0.0, \"[M]_Tr_PXN3\": 0.0, \"[M]_Ex_Gly_p\": 0.0, \"[B]_Ex_Ile_c\": 0.0, \"[M]_GDPK_h\": 0.0027897407284722185, \"[M]_Tr_NTT\": 0.0, \"[B]_Tr_DTC3B\": 0.0, \"[B]_Tr_DTC3C\": 0.0, \"[M]_CBPS_h\": 0.011158962913888874, \"[B]_AGluPR_h\": 0.0, \"[M]_GDPK_c\": 0.0, \"[M]_Ex_Lys_p\": 0.0, \"[B]_Im_NH4\": 0.0, \"[B]_Tr_GCEA1\": 0.0, \"[M]_Tr_DTC4B\": 0.0, \"[M]_Tr_DTC4C\": 0.0, \"[M]_Im_CO2\": 40.00000000001678, \"[B]_CTPS_c\": 0.0, \"[B]_MalDH1_c\": 0.0, \"[MB]_Val_c\": 0.0, \"[B]_MalDH1_m\": -0.38932430926161954, \"[M]_Tr_Lys1\": 0.0, \"[B]_MalDH1_h\": 0.0, \"[B]_GPAT_h\": 0.011856398096006927, \"[M]_AMPK_c\": 3.1322962120925647e-15, \"[M]_cplx4_m\": 0.3731895706497098, \"[M]_Ex_Frc\": 0.0, \"[B]_Ex_Leu_c\": 0.0, \"[B]_MalDH1_p\": 0.0, \"[B]_NO3R1_c\": 1.622436697714517e-15, \"[B]_PEPC2_c\": 0.0, \"[M]_Tr_Pyr_Mal_hc\": 0.08578452740051949, \"[B]_Ex_Thr_m\": 0.0, \"[M]_PyrDH2_m\": 0.0, \"[B]_Tr_NDT1\": 0.0, \"[M]_Ru5PK_h\": -1.4140142213882656e-14, \"[B]_RBC_h\": 40.175056230728416, \"[B]_Tr_NDT2\": 9.25975504788319e-17, \"[B]_ADNN_c\": 0.0, \"[M]_CysS_c\": 0.0, \"[M]_CysS_m\": 0.0, \"[M]_Tr_DIC4\": 0.0, \"[M]_DHADA2_h\": 0.0, \"[M]_ATPPRT_h\": 0.002789740728472218, \"[M]_CysS_h\": 0.004882046274826382, \"[M]_Tr_DIC1\": 0.0, \"[B]_DHADA2_h\": 0.025107666556249967, \"[M]_Ex_Asn_c\": 0.0, \"[M]_NGAM_c\": 0.0503499796174949, \"[M]_Ex_Glu_c\": 0.0, \"[M]_Ex_Cys_m\": 0.0, \"[M]_Tr_SCA\": 0.0, \"[M]_GAPDH3_c\": 0.0, \"[B]_Tr_AAC\": 0.8342671243181875, \"[M]_Ex_Asn_m\": 0.0, \"[M]_NGAM_m\": 0.00911118724550157, \"[M]_GMPS_c\": 0.0, \"[B]_Si_H_m\": 0.4477533869197516, \"[M]_Tr_Ile2\": 0.0, \"[B]_GluDH1NAD_m\": -0.31593813749948046, \"[B]_F6PK2_c\": 0.0, \"[M]_3IPMDH_h\": 0.0, \"[B]_Si_H_h\": 99.11762038273096, \"[B]_HisalPDH_h\": 0.0, \"[M]_Tr_Pi\": 0.0, \"[MB]_Mal_c\": 39.05063523951438, \"[B]_cplx5_m\": 0.843378311563689, \"[M]_ANTS_h\": 0.0, \"[B]_Si_H_c\": 0.0, \"[B]_Tr_Gln\": 0.0, \"[M]_PPIase_c\": 0.0, \"[M]_Tr_Pyr_H_hc\": 40.71487106168777, \"[B]_Tr_pGlc\": 0.0, \"[B]_MetAdT_c\": 0.0, \"[M]_GCAO_h\": 0.0, \"[B]_Tr_Gly\": 7.092850293044911e-15, \"[B]_HEXK_c\": 0.0, \"[B]_Tr_His1\": 0.0, \"[B]_ThrS_h\": 0.0, \"[M]_Tr_NDT2\": 0.0, \"[B]_DAHPS_h\": 0.018133314735069416, \"[B]_cplx1_m\": 0.2530134934691067, \"[B]_Ex_His_m\": 0.0, \"[M]_DHODH_m\": 0.0, \"[M]_AOrnAGluAcT_h\": 0.011158962913888874, \"[M]_iCitDHNADP_h\": 0.0, \"[B]_MalDH3_h\": 0.0, \"[M]_iCitDHNADP_m\": 0.0, \"[M]_Ex_Trp_h\": 0.0, \"[B]_SO3R_h\": 0.0, \"[M]_iCitDHNADP_c\": 0.0, \"[M]_Tr_P5C2\": 0.0, \"[M]_GlyHMT_c\": -0.004882046274826381, \"[B]_cplx3_m\": 0.2530134934691067, \"[M]_Tr_P5C1\": 0.0, \"[B]_ThrDA_h\": 0.008369222185416659, \"[M]_Ex_Trp_p\": 0.0, \"[M]_DCAMPS_h\": 0.002789740728472218, \"[M]_Ex_Glu_h\": 0.0, \"[B]_PGR5PGRL12_h\": 0.0, \"[B]_Ex_Ile_h\": 0.0, \"[M]_CAT_h\": 0.0, \"[B]_Ex_Ile_m\": 0.0, \"[B]_Si_H_p\": 0.0, \"[B]_Tr_OAA\": 7.092850293044911e-15, \"[B]_Ex_Ile_p\": 0.0, \"[M]_CHRM_h\": 0.0, \"[M]_Ex_Trp_c\": 0.0, \"[M]_CAT_p\": 0.0, \"[B]_NO2R_h\": 0.0, \"[B]_Ex_Ser_p\": 0.0, \"[M]_Tr_TPT3\": 2.0518309569218047, \"[B]_P5CDHNAD_m\": 0.0, \"[M]_AGNDA_h\": 0.0, \"[M]_Ex_Trp_m\": 0.0, \"[B]_P5CDHNAD_h\": 0.0, \"[M]_Ex_Thr_c\": 0.0, \"[B]_SCASeADH_m\": 0.0}, \"enable_editing\": false, \"gene_data\": null, \"metabolite_data\": null, \"fill_screen\": false, \"enable_keys\": false, \"menu\": \"zoom\", \"scroll_behavior\": \"none\", \"ignore_bootstrap\": true, \"never_ask_before_quit\": true}'),\n",
       "               builder_embed_css: JSON.parse('null'),\n",
       "               map_data: JSON.parse('[{\"map_name\":\"new_map\",\"map_id\":\"cPBjQ56p0ATA\",\"map_description\":\"\\\\nLast Modified Mon Jul 30 2018 11:42:21 GMT+0200 (CEST)\",\"homepage\":\"https://escher.github.io\",\"schema\":\"https://escher.github.io/escher/jsonschema/1-0-0#\"},{\"reactions\":{\"3\":{\"name\":\"Import CO2\",\"bigg_id\":\"[M]_Im_CO2\",\"reversibility\":false,\"label_x\":1300.6845092773438,\"label_y\":-978.7737426757812,\"gene_reaction_rule\":\"\",\"genes\":[],\"metabolites\":[{\"bigg_id\":\"[M]_CO2_c\",\"coefficient\":1}],\"segments\":{\"9\":{\"from_node_id\":\"13\",\"to_node_id\":\"14\",\"b1\":null,\"b2\":null},\"10\":{\"from_node_id\":\"15\",\"to_node_id\":\"14\",\"b1\":null,\"b2\":null},\"11\":{\"from_node_id\":\"15\",\"to_node_id\":\"12\",\"b1\":{\"x\":1285.6845092773438,\"y\":-926.7737426757812},\"b2\":{\"x\":1289.6665649414062,\"y\":-378.75006103515625}}}},\"8\":{\"name\":\"HCO3 dehydratase\",\"bigg_id\":\"[M]_HCO3DHA_c\",\"reversibility\":false,\"label_x\":1304.6665649414062,\"label_y\":-135.00006103515625,\"gene_reaction_rule\":\"\",\"genes\":[],\"metabolites\":[{\"bigg_id\":\"[M]_CO2_c\",\"coefficient\":-1},{\"bigg_id\":\"[M]_H2O_c\",\"coefficient\":-1},{\"bigg_id\":\"[M]_HCO3_c\",\"coefficient\":1},{\"bigg_id\":\"[M]_H_c\",\"coefficient\":1}],\"segments\":{\"36\":{\"from_node_id\":\"40\",\"to_node_id\":\"41\",\"b1\":null,\"b2\":null},\"37\":{\"from_node_id\":\"42\",\"to_node_id\":\"41\",\"b1\":null,\"b2\":null},\"38\":{\"from_node_id\":\"40\",\"to_node_id\":\"12\",\"b1\":{\"x\":1289.6665649414062,\"y\":-207.00006103515625},\"b2\":{\"x\":1289.6665649414062,\"y\":-261.25006103515625}},\"40\":{\"from_node_id\":\"42\",\"to_node_id\":\"44\",\"b1\":{\"x\":1289.6665649414062,\"y\":-83.00006103515625},\"b2\":{\"x\":1289.6665649414062,\"y\":-28.75006103515625}}}},\"10\":{\"name\":\"PEP carboxylase\",\"bigg_id\":\"[M]_PEPC2_c\",\"reversibility\":true,\"label_x\":1422.7590942382812,\"label_y\":77.27912712097168,\"gene_reaction_rule\":\"\",\"genes\":[],\"metabolites\":[{\"bigg_id\":\"[M]_HCO3_c\",\"coefficient\":1},{\"bigg_id\":\"[M]_OAA_c\",\"coefficient\":-1},{\"bigg_id\":\"[M]_PEP_c\",\"coefficient\":1},{\"bigg_id\":\"[M]_Pi_c\",\"coefficient\":-1}],\"segments\":{\"48\":{\"from_node_id\":\"52\",\"to_node_id\":\"53\",\"b1\":null,\"b2\":null},\"49\":{\"from_node_id\":\"54\",\"to_node_id\":\"53\",\"b1\":null,\"b2\":null},\"50\":{\"from_node_id\":\"54\",\"to_node_id\":\"44\",\"b1\":{\"x\":1404.1141737571454,\"y\":10.721262307582037},\"b2\":{\"x\":1417.7417602539062,\"y\":29.9779634475708}},\"51\":{\"from_node_id\":\"52\",\"to_node_id\":\"55\",\"b1\":{\"x\":1285.7354632437239,\"y\":214.6221250124529},\"b2\":{\"x\":1284.9165649414062,\"y\":216.66662979125977}},\"52\":{\"from_node_id\":\"54\",\"to_node_id\":\"56\",\"b1\":{\"x\":1320.831744884119,\"y\":173.91463554749566},\"b2\":{\"x\":1338.1442260742188,\"y\":174.44183349609375}}}},\"11\":{\"name\":\"Mal dehydrogenase\",\"bigg_id\":\"[M]_MalDH1_c\",\"reversibility\":true,\"label_x\":1297.1358032226562,\"label_y\":550.7036323547363,\"gene_reaction_rule\":\"\",\"genes\":[],\"metabolites\":[{\"bigg_id\":\"[M]_H_c\",\"coefficient\":1},{\"bigg_id\":\"[M]_Mal_c\",\"coefficient\":-1},{\"bigg_id\":\"[M]_NADH_c\",\"coefficient\":1},{\"bigg_id\":\"[M]_NAD_c\",\"coefficient\":-1},{\"bigg_id\":\"[M]_OAA_c\",\"coefficient\":1}],\"segments\":{\"54\":{\"from_node_id\":\"58\",\"to_node_id\":\"59\",\"b1\":null,\"b2\":null},\"55\":{\"from_node_id\":\"60\",\"to_node_id\":\"59\",\"b1\":null,\"b2\":null},\"57\":{\"from_node_id\":\"58\",\"to_node_id\":\"62\",\"b1\":{\"x\":1287.6666870117188,\"y\":600.3332710266113},\"b2\":{\"x\":1288.2583618164062,\"y\":655.1749458312988}},\"60\":{\"from_node_id\":\"60\",\"to_node_id\":\"55\",\"b1\":{\"x\":1287.6666870117188,\"y\":476.3332710266113},\"b2\":{\"x\":1287.6666870117188,\"y\":422.0832710266113}}}},\"12\":{\"name\":\"Dicarboxylate transporter\",\"bigg_id\":\"[M]_Tr_DIT1_OAA\",\"reversibility\":true,\"label_x\":976.897114103185,\"label_y\":328.4692601131612,\"gene_reaction_rule\":\"\",\"genes\":[],\"metabolites\":[{\"bigg_id\":\"[M]_Mal_c\",\"coefficient\":1},{\"bigg_id\":\"[M]_Mal_h\",\"coefficient\":-1},{\"bigg_id\":\"[M]_OAA_c\",\"coefficient\":-1},{\"bigg_id\":\"[M]_OAA_h\",\"coefficient\":1}],\"segments\":{\"61\":{\"from_node_id\":\"65\",\"to_node_id\":\"66\",\"b1\":null,\"b2\":null},\"62\":{\"from_node_id\":\"67\",\"to_node_id\":\"66\",\"b1\":null,\"b2\":null},\"63\":{\"from_node_id\":\"67\",\"to_node_id\":\"62\",\"b1\":{\"x\":1104.434084619332,\"y\":597.4528029043886},\"b2\":{\"x\":1210.3419189453125,\"y\":713.5545539855957}},\"64\":{\"from_node_id\":\"65\",\"to_node_id\":\"69\",\"b1\":{\"x\":1104.913831981156,\"y\":469.4537019604029},\"b2\":{\"x\":1007.6513479511395,\"y\":367.39463617939714}},\"65\":{\"from_node_id\":\"65\",\"to_node_id\":\"55\",\"b1\":{\"x\":1104.8988398760982,\"y\":473.4536738649029},\"b2\":{\"x\":1228.9166870117188,\"y\":363.3332710266113}},\"66\":{\"from_node_id\":\"67\",\"to_node_id\":\"70\",\"b1\":{\"x\":1104.4190925142746,\"y\":601.4527748088888},\"b2\":{\"x\":1012.4505061616076,\"y\":721.8936963123499}}}},\"13\":{\"name\":\"Mal dehydrogenase\",\"bigg_id\":\"[M]_MalDH3_h\",\"reversibility\":true,\"label_x\":715.5418291225017,\"label_y\":581.5765275892197,\"gene_reaction_rule\":\"\",\"genes\":[],\"metabolites\":[{\"bigg_id\":\"[M]_H_h\",\"coefficient\":-1},{\"bigg_id\":\"[M]_Mal_h\",\"coefficient\":1},{\"bigg_id\":\"[M]_NADPH_h\",\"coefficient\":-1},{\"bigg_id\":\"[M]_NADP_h\",\"coefficient\":1},{\"bigg_id\":\"[M]_OAA_h\",\"coefficient\":-1}],\"segments\":{\"67\":{\"from_node_id\":\"71\",\"to_node_id\":\"72\",\"b1\":null,\"b2\":null},\"68\":{\"from_node_id\":\"73\",\"to_node_id\":\"72\",\"b1\":null,\"b2\":null},\"70\":{\"from_node_id\":\"73\",\"to_node_id\":\"69\",\"b1\":{\"x\":937.7782182826579,\"y\":475.74583911265717},\"b2\":{\"x\":936.4449052943767,\"y\":425.49583911265717}},\"73\":{\"from_node_id\":\"71\",\"to_node_id\":\"70\",\"b1\":{\"x\":937.7782182826579,\"y\":603.7458391126572},\"b2\":{\"x\":938.4449052943767,\"y\":670.3291521009385}}}},\"16\":{\"name\":\"Asp aminotransferase\",\"bigg_id\":\"[M]_AspAT2_c\",\"reversibility\":true,\"label_x\":3173.9678344726562,\"label_y\":554.1748847961426,\"gene_reaction_rule\":\"\",\"genes\":[],\"metabolites\":[{\"bigg_id\":\"[M]_Ala_c\",\"coefficient\":-1},{\"bigg_id\":\"[M]_Asp_c\",\"coefficient\":1},{\"bigg_id\":\"[M]_OAA_c\",\"coefficient\":-1},{\"bigg_id\":\"[M]_Pyr_c\",\"coefficient\":1}],\"segments\":{\"86\":{\"from_node_id\":\"90\",\"to_node_id\":\"91\",\"b1\":null,\"b2\":null},\"87\":{\"from_node_id\":\"92\",\"to_node_id\":\"91\",\"b1\":null,\"b2\":null},\"88\":{\"from_node_id\":\"90\",\"to_node_id\":\"93\",\"b1\":{\"x\":3158.9678344726562,\"y\":476.0020942687988},\"b2\":{\"x\":3335.6698608398438,\"y\":492.16301345825195}},\"89\":{\"from_node_id\":\"92\",\"to_node_id\":\"94\",\"b1\":{\"x\":3158.5728149414062,\"y\":604.8415718078613},\"b2\":{\"x\":3340.2542114257812,\"y\":610.641040802002}},\"90\":{\"from_node_id\":\"90\",\"to_node_id\":\"55\",\"b1\":{\"x\":3161.9219360351562,\"y\":367.7466926574707},\"b2\":{\"x\":1529.3112182617188,\"y\":361.81987380981445}},\"91\":{\"from_node_id\":\"92\",\"to_node_id\":\"95\",\"b1\":{\"x\":3158.5728149414062,\"y\":608.8415718078613},\"b2\":{\"x\":2989.7009887695312,\"y\":612.0880928039551}}}},\"17\":{\"name\":\"PEP/Pi translocator\",\"bigg_id\":\"[M]_Tr_PPT\",\"reversibility\":true,\"label_x\":1042.2079467773438,\"label_y\":94.60987854003909,\"gene_reaction_rule\":\"\",\"genes\":[],\"metabolites\":[{\"bigg_id\":\"[M]_H_c\",\"coefficient\":-1},{\"bigg_id\":\"[M]_H_h\",\"coefficient\":1},{\"bigg_id\":\"[M]_PEP_c\",\"coefficient\":-1},{\"bigg_id\":\"[M]_PEP_h\",\"coefficient\":1},{\"bigg_id\":\"[M]_Pi_c\",\"coefficient\":1},{\"bigg_id\":\"[M]_Pi_h\",\"coefficient\":-1}],\"segments\":{\"92\":{\"from_node_id\":\"96\",\"to_node_id\":\"97\",\"b1\":null,\"b2\":null},\"93\":{\"from_node_id\":\"98\",\"to_node_id\":\"97\",\"b1\":null,\"b2\":null},\"96\":{\"from_node_id\":\"96\",\"to_node_id\":\"56\",\"b1\":{\"x\":1175.9999389648438,\"y\":128.66659545898438},\"b2\":{\"x\":1230.2499389648438,\"y\":128.66659545898438}},\"97\":{\"from_node_id\":\"98\",\"to_node_id\":\"101\",\"b1\":{\"x\":1051.9999389648438,\"y\":128.6665954589844},\"b2\":{\"x\":997.7499389648438,\"y\":128.6665954589844}}}},\"18\":{\"name\":\"Pyr/H+ translocator\",\"bigg_id\":\"[M]_Tr_Pyr_H_hc\",\"reversibility\":true,\"label_x\":1003.2914428710938,\"label_y\":807.9956245422363,\"gene_reaction_rule\":\"\",\"genes\":[],\"metabolites\":[{\"bigg_id\":\"[M]_H_c\",\"coefficient\":-1},{\"bigg_id\":\"[M]_H_h\",\"coefficient\":1},{\"bigg_id\":\"[M]_Pyr_c\",\"coefficient\":-1},{\"bigg_id\":\"[M]_Pyr_h\",\"coefficient\":1}],\"segments\":{\"100\":{\"from_node_id\":\"104\",\"to_node_id\":\"105\",\"b1\":null,\"b2\":null},\"101\":{\"from_node_id\":\"106\",\"to_node_id\":\"105\",\"b1\":null,\"b2\":null},\"104\":{\"from_node_id\":\"104\",\"to_node_id\":\"95\",\"b1\":{\"x\":2911.2495727539062,\"y\":838.5020942687988},\"b2\":{\"x\":2909.8539428710938,\"y\":840.5639228820801}},\"105\":{\"from_node_id\":\"106\",\"to_node_id\":\"109\",\"b1\":{\"x\":1052.7053833007812,\"y\":842.0523262023926},\"b2\":{\"x\":998.4553833007812,\"y\":842.0523262023926}}}},\"19\":{\"name\":\"Pyr phosphate dikinase\",\"bigg_id\":\"[M]_PyrPiDK_h\",\"reversibility\":true,\"label_x\":529.501953125,\"label_y\":493.18254470825195,\"gene_reaction_rule\":\"\",\"genes\":[],\"metabolites\":[{\"bigg_id\":\"[M]_AMP_h\",\"coefficient\":1},{\"bigg_id\":\"[M]_ATP_h\",\"coefficient\":-1},{\"bigg_id\":\"[M]_H_h\",\"coefficient\":2},{\"bigg_id\":\"[M]_PEP_h\",\"coefficient\":1},{\"bigg_id\":\"[M]_PPi_h\",\"coefficient\":1},{\"bigg_id\":\"[M]_Pi_h\",\"coefficient\":-1},{\"bigg_id\":\"[M]_Pyr_h\",\"coefficient\":-1}],\"segments\":{\"106\":{\"from_node_id\":\"110\",\"to_node_id\":\"111\",\"b1\":null,\"b2\":null},\"107\":{\"from_node_id\":\"112\",\"to_node_id\":\"111\",\"b1\":null,\"b2\":null},\"111\":{\"from_node_id\":\"112\",\"to_node_id\":\"101\",\"b1\":{\"x\":773.6394687410274,\"y\":129.17727754133807},\"b2\":{\"x\":774.4884643554688,\"y\":129.04831314086914}},\"114\":{\"from_node_id\":\"110\",\"to_node_id\":\"109\",\"b1\":{\"x\":770.5639003995976,\"y\":845.4735327003611},\"b2\":{\"x\":746.6383666992188,\"y\":848.5609931945801}}}},\"30\":{\"name\":\"[MB]_Mal_c\",\"bigg_id\":\"[MB]_Mal_c\",\"reversibility\":true,\"label_x\":1302.3710327148438,\"label_y\":1375.2666816711426,\"gene_reaction_rule\":\"\",\"genes\":[],\"metabolites\":[{\"bigg_id\":\"[B]_Mal_c\",\"coefficient\":1},{\"bigg_id\":\"[M]_Mal_c\",\"coefficient\":-1}],\"segments\":{\"170\":{\"from_node_id\":\"174\",\"to_node_id\":\"175\",\"b1\":null,\"b2\":null},\"171\":{\"from_node_id\":\"176\",\"to_node_id\":\"175\",\"b1\":null,\"b2\":null},\"172\":{\"from_node_id\":\"176\",\"to_node_id\":\"177\",\"b1\":{\"x\":1291.9885864257812,\"y\":1525.0464668273926},\"b2\":{\"x\":1291.9885864257812,\"y\":1579.2964668273926}},\"173\":{\"from_node_id\":\"174\",\"to_node_id\":\"62\",\"b1\":{\"x\":1288.8482055664062,\"y\":1065.025592803955},\"b2\":{\"x\":1288.2583618164062,\"y\":772.6749458312988}}}},\"31\":{\"name\":\"[MB]_Pyr_c\",\"bigg_id\":\"[MB]_Pyr_c\",\"reversibility\":true,\"label_x\":2810.7168579101562,\"label_y\":1380.08443069458,\"gene_reaction_rule\":\"\",\"genes\":[],\"metabolites\":[{\"bigg_id\":\"[B]_Pyr_c\",\"coefficient\":1},{\"bigg_id\":\"[M]_Pyr_c\",\"coefficient\":-1}],\"segments\":{\"174\":{\"from_node_id\":\"178\",\"to_node_id\":\"179\",\"b1\":null,\"b2\":null},\"175\":{\"from_node_id\":\"180\",\"to_node_id\":\"179\",\"b1\":null,\"b2\":null},\"176\":{\"from_node_id\":\"180\",\"to_node_id\":\"181\",\"b1\":{\"x\":2988.9026489257812,\"y\":1528.0994453430176},\"b2\":{\"x\":2988.9026489257812,\"y\":1582.3494453430176}},\"177\":{\"from_node_id\":\"178\",\"to_node_id\":\"95\",\"b1\":{\"x\":2985.7622680664062,\"y\":1068.07857131958},\"b2\":{\"x\":2989.3306274414062,\"y\":777.8069038391113}}}},\"32\":{\"name\":\"[MB]_Asp_c\",\"bigg_id\":\"[MB]_Asp_c\",\"reversibility\":true,\"label_x\":3139.0067749023438,\"label_y\":1384.6061897277832,\"gene_reaction_rule\":\"\",\"genes\":[],\"metabolites\":[{\"bigg_id\":\"[B]_Asp_c\",\"coefficient\":1},{\"bigg_id\":\"[M]_Asp_c\",\"coefficient\":-1}],\"segments\":{\"178\":{\"from_node_id\":\"182\",\"to_node_id\":\"183\",\"b1\":null,\"b2\":null},\"179\":{\"from_node_id\":\"184\",\"to_node_id\":\"183\",\"b1\":null,\"b2\":null},\"180\":{\"from_node_id\":\"184\",\"to_node_id\":\"185\",\"b1\":{\"x\":3339.7593383789062,\"y\":1526.9877815246582},\"b2\":{\"x\":3339.7593383789062,\"y\":1581.2377815246582}},\"181\":{\"from_node_id\":\"182\",\"to_node_id\":\"94\",\"b1\":{\"x\":3336.6189575195312,\"y\":1066.9669075012207},\"b2\":{\"x\":3338.1416625976562,\"y\":774.6162605285645}}}},\"33\":{\"name\":\"[MB]_Ala_c\",\"bigg_id\":\"[MB]_Ala_c\",\"reversibility\":true,\"label_x\":3400.4382934570312,\"label_y\":1386.5605964660645,\"gene_reaction_rule\":\"\",\"genes\":[],\"metabolites\":[{\"bigg_id\":\"[B]_Ala_c\",\"coefficient\":1},{\"bigg_id\":\"[M]_Ala_c\",\"coefficient\":-1}],\"segments\":{\"182\":{\"from_node_id\":\"186\",\"to_node_id\":\"187\",\"b1\":null,\"b2\":null},\"183\":{\"from_node_id\":\"188\",\"to_node_id\":\"187\",\"b1\":null,\"b2\":null},\"184\":{\"from_node_id\":\"188\",\"to_node_id\":\"189\",\"b1\":{\"x\":3587.2233276367188,\"y\":1522.486011505127},\"b2\":{\"x\":3587.2233276367188,\"y\":1576.736011505127}},\"185\":{\"from_node_id\":\"186\",\"to_node_id\":\"93\",\"b1\":{\"x\":3584.6729125976562,\"y\":347.3707160949707},\"b2\":{\"x\":3616.6533813476562,\"y\":372.2078437805176}}}},\"44\":{\"name\":\"[MB]_PEP_c\",\"bigg_id\":\"[MB]_PEP_c\",\"reversibility\":true,\"label_x\":2576.147402133158,\"label_y\":1381.696127612824,\"gene_reaction_rule\":\"\",\"genes\":[],\"metabolites\":[{\"bigg_id\":\"[B]_PEP_c\",\"coefficient\":1},{\"bigg_id\":\"[M]_PEP_c\",\"coefficient\":-1}],\"segments\":{\"226\":{\"from_node_id\":\"230\",\"to_node_id\":\"231\",\"b1\":null,\"b2\":null},\"227\":{\"from_node_id\":\"232\",\"to_node_id\":\"231\",\"b1\":null,\"b2\":null},\"228\":{\"from_node_id\":\"232\",\"to_node_id\":\"233\",\"b1\":{\"x\":2762.6847789940966,\"y\":1525.9061659803913},\"b2\":{\"x\":2762.091568220075,\"y\":1580.1529225744735}},\"229\":{\"from_node_id\":\"230\",\"to_node_id\":\"56\",\"b1\":{\"x\":2781.0395907019065,\"y\":194.5973715938901},\"b2\":{\"x\":1580.3357543945312,\"y\":129.1154022216797}}}},\"76\":{\"name\":\"Mal dehydrogenase\",\"bigg_id\":\"[B]_MalDH1_c\",\"reversibility\":true,\"label_x\":1324.5901489257812,\"label_y\":1601.498249053955,\"gene_reaction_rule\":\"\",\"genes\":[],\"metabolites\":[{\"bigg_id\":\"[B]_H_c\",\"coefficient\":1},{\"bigg_id\":\"[B]_Mal_c\",\"coefficient\":-1},{\"bigg_id\":\"[B]_NADH_c\",\"coefficient\":1},{\"bigg_id\":\"[B]_NAD_c\",\"coefficient\":-1},{\"bigg_id\":\"[B]_OAA_c\",\"coefficient\":1}],\"segments\":{\"392\":{\"from_node_id\":\"396\",\"to_node_id\":\"397\",\"b1\":null,\"b2\":null},\"393\":{\"from_node_id\":\"398\",\"to_node_id\":\"397\",\"b1\":null,\"b2\":null},\"395\":{\"from_node_id\":\"396\",\"to_node_id\":\"177\",\"b1\":{\"x\":1404.9885864257812,\"y\":1638.0464668273926},\"b2\":{\"x\":1350.7385864257812,\"y\":1638.0464668273926}},\"398\":{\"from_node_id\":\"398\",\"to_node_id\":\"402\",\"b1\":{\"x\":1528.9885864257812,\"y\":1638.0464668273926},\"b2\":{\"x\":1525.0484008789062,\"y\":1637.7168769836426}}}},\"83\":{\"name\":\"PEP carboxylase\",\"bigg_id\":\"[B]_PEPC1_c\",\"reversibility\":false,\"label_x\":2349.4317016601562,\"label_y\":1672.566608428955,\"gene_reaction_rule\":\"\",\"genes\":[],\"metabolites\":[{\"bigg_id\":\"[B]_ADP_c\",\"coefficient\":1},{\"bigg_id\":\"[B]_ATP_c\",\"coefficient\":-1},{\"bigg_id\":\"[B]_CO2_c\",\"coefficient\":1},{\"bigg_id\":\"[B]_OAA_c\",\"coefficient\":-1},{\"bigg_id\":\"[B]_PEP_c\",\"coefficient\":1}],\"segments\":{\"437\":{\"from_node_id\":\"442\",\"to_node_id\":\"443\",\"b1\":null,\"b2\":null},\"438\":{\"from_node_id\":\"444\",\"to_node_id\":\"443\",\"b1\":null,\"b2\":null},\"441\":{\"from_node_id\":\"444\",\"to_node_id\":\"447\",\"b1\":{\"x\":2489.4094848632812,\"y\":1636.402057647705},\"b2\":{\"x\":2478.2905883789062,\"y\":1544.5144844055176}},\"442\":{\"from_node_id\":\"442\",\"to_node_id\":\"402\",\"b1\":{\"x\":2361.4094848632812,\"y\":1636.402057647705},\"b2\":{\"x\":1641.2337036132812,\"y\":1636.402057647705}},\"443\":{\"from_node_id\":\"444\",\"to_node_id\":\"233\",\"b1\":{\"x\":2485.4094848632812,\"y\":1636.402057647705},\"b2\":{\"x\":2700.2982788085938,\"y\":1640.0635566711426}}}},\"84\":{\"name\":\"Asp aminotransferase\",\"bigg_id\":\"[B]_AspAT2_c\",\"reversibility\":true,\"label_x\":3115.0769653320312,\"label_y\":1888.0323371887207,\"gene_reaction_rule\":\"\",\"genes\":[],\"metabolites\":[{\"bigg_id\":\"[B]_Ala_c\",\"coefficient\":-1},{\"bigg_id\":\"[B]_Asp_c\",\"coefficient\":1},{\"bigg_id\":\"[B]_OAA_c\",\"coefficient\":-1},{\"bigg_id\":\"[B]_Pyr_c\",\"coefficient\":1}],\"segments\":{\"444\":{\"from_node_id\":\"449\",\"to_node_id\":\"450\",\"b1\":null,\"b2\":null},\"445\":{\"from_node_id\":\"451\",\"to_node_id\":\"450\",\"b1\":null,\"b2\":null},\"446\":{\"from_node_id\":\"449\",\"to_node_id\":\"189\",\"b1\":{\"x\":3557.2874145507812,\"y\":1825.5853157043457},\"b2\":{\"x\":3511.8794555664062,\"y\":1862.2759895324707}},\"447\":{\"from_node_id\":\"451\",\"to_node_id\":\"185\",\"b1\":{\"x\":3180.1638793945312,\"y\":1751.8238410949707},\"b2\":{\"x\":3295.0317993164062,\"y\":1690.1729621887207}},\"448\":{\"from_node_id\":\"449\",\"to_node_id\":\"402\",\"b1\":{\"x\":2536.1941528320312,\"y\":1829.3939094543457},\"b2\":{\"x\":2119.7681274414062,\"y\":1859.5446662902832}},\"449\":{\"from_node_id\":\"451\",\"to_node_id\":\"181\",\"b1\":{\"x\":3180.1638793945312,\"y\":1747.8238410949707},\"b2\":{\"x\":3045.1724243164062,\"y\":1681.6682014465332}}}},\"87\":{\"name\":\"Mal dehydrogenase\",\"bigg_id\":\"[B]_MalDH4_h\",\"reversibility\":false,\"label_x\":2640.028564453125,\"label_y\":2712.239501953125,\"gene_reaction_rule\":\"\",\"genes\":[],\"metabolites\":[{\"bigg_id\":\"[B]_CO2_h\",\"coefficient\":1},{\"bigg_id\":\"[B]_Mal_h\",\"coefficient\":-1},{\"bigg_id\":\"[B]_NADPH_h\",\"coefficient\":1},{\"bigg_id\":\"[B]_NADP_h\",\"coefficient\":-1},{\"bigg_id\":\"[B]_Pyr_h\",\"coefficient\":1}],\"segments\":{\"464\":{\"from_node_id\":\"471\",\"to_node_id\":\"472\",\"b1\":null,\"b2\":null},\"465\":{\"from_node_id\":\"473\",\"to_node_id\":\"472\",\"b1\":null,\"b2\":null},\"466\":{\"from_node_id\":\"473\",\"to_node_id\":\"474\",\"b1\":{\"x\":2855.9520263671875,\"y\":2648.5093994140625},\"b2\":{\"x\":2877.4688110351562,\"y\":2680.49609375}},\"467\":{\"from_node_id\":\"471\",\"to_node_id\":\"468\",\"b1\":{\"x\":2727.9520263671875,\"y\":2648.5093994140625},\"b2\":{\"x\":2616.004638671875,\"y\":2644.2354736328125}},\"470\":{\"from_node_id\":\"473\",\"to_node_id\":\"470\",\"b1\":{\"x\":2851.9520263671875,\"y\":2648.5093994140625},\"b2\":{\"x\":2935.4591064453125,\"y\":2645.4207763671875}}}},\"95\":{\"name\":\"RuBisCO\",\"bigg_id\":\"[B]_RBC_h\",\"reversibility\":false,\"label_x\":2632.5873413085938,\"label_y\":2924.0968017578125,\"gene_reaction_rule\":\"\",\"genes\":[],\"metabolites\":[{\"bigg_id\":\"[B]_CO2_h\",\"coefficient\":-1},{\"bigg_id\":\"[B]_H2O_h\",\"coefficient\":-1},{\"bigg_id\":\"[B]_H_h\",\"coefficient\":2},{\"bigg_id\":\"[B]_PGA_h\",\"coefficient\":2},{\"bigg_id\":\"[B]_RuBP_h\",\"coefficient\":-1}],\"segments\":{\"510\":{\"from_node_id\":\"517\",\"to_node_id\":\"518\",\"b1\":null,\"b2\":null},\"511\":{\"from_node_id\":\"519\",\"to_node_id\":\"518\",\"b1\":null,\"b2\":null},\"512\":{\"from_node_id\":\"517\",\"to_node_id\":\"474\",\"b1\":{\"x\":2882.6141967773438,\"y\":2879.277587890625},\"b2\":{\"x\":2915.5392456054688,\"y\":2836.5462646484375}},\"515\":{\"from_node_id\":\"519\",\"to_node_id\":\"483\",\"b1\":{\"x\":2437.0637817382812,\"y\":2874.781982421875},\"b2\":{\"x\":2483.9244995117188,\"y\":2876.09521484375}},\"516\":{\"from_node_id\":\"517\",\"to_node_id\":\"491\",\"b1\":{\"x\":2886.6141967773438,\"y\":2879.277587890625},\"b2\":{\"x\":2996.6266479492188,\"y\":3064.286865234375}}}},\"99\":{\"name\":\"R_Tr_Pyr_Mal_hc\",\"bigg_id\":\"[B]_Tr_Pyr_Mal_hc\",\"reversibility\":true,\"label_x\":2697.1073608398438,\"label_y\":2303.01216506958,\"gene_reaction_rule\":\"\",\"genes\":[],\"metabolites\":[{\"bigg_id\":\"[B]_Mal_c\",\"coefficient\":-1},{\"bigg_id\":\"[B]_Mal_h\",\"coefficient\":1},{\"bigg_id\":\"[B]_Pyr_c\",\"coefficient\":1},{\"bigg_id\":\"[B]_Pyr_h\",\"coefficient\":-1}],\"segments\":{\"531\":{\"from_node_id\":\"538\",\"to_node_id\":\"539\",\"b1\":null,\"b2\":null},\"532\":{\"from_node_id\":\"540\",\"to_node_id\":\"539\",\"b1\":null,\"b2\":null},\"533\":{\"from_node_id\":\"538\",\"to_node_id\":\"177\",\"b1\":{\"x\":2986.3092651367188,\"y\":2233.8533515930176},\"b2\":{\"x\":1689.8287963867188,\"y\":1949.23530960083}},\"534\":{\"from_node_id\":\"540\",\"to_node_id\":\"468\",\"b1\":{\"x\":2986.3092651367188,\"y\":2357.8533515930176},\"b2\":{\"x\":2560.3551635742188,\"y\":2502.451374053955}},\"535\":{\"from_node_id\":\"540\",\"to_node_id\":\"181\",\"b1\":{\"x\":2986.3092651367188,\"y\":2361.8533515930176},\"b2\":{\"x\":2991.0866088867188,\"y\":1720.80952835083}},\"536\":{\"from_node_id\":\"538\",\"to_node_id\":\"470\",\"b1\":{\"x\":2986.3092651367188,\"y\":2229.8533515930176},\"b2\":{\"x\":2988.9304809570312,\"y\":2573.52095413208}}}},\"100\":{\"name\":\"Dicarboxylate transporter\",\"bigg_id\":\"[B]_Tr_DTC5\",\"reversibility\":true,\"label_x\":1095.7332153320312,\"label_y\":2308.3377265930176,\"gene_reaction_rule\":\"\",\"genes\":[],\"metabolites\":[{\"bigg_id\":\"[B]_Mal_c\",\"coefficient\":1},{\"bigg_id\":\"[B]_Mal_m\",\"coefficient\":-1},{\"bigg_id\":\"[B]_OAA_c\",\"coefficient\":-1},{\"bigg_id\":\"[B]_OAA_m\",\"coefficient\":1}],\"segments\":{\"537\":{\"from_node_id\":\"544\",\"to_node_id\":\"545\",\"b1\":null,\"b2\":null},\"538\":{\"from_node_id\":\"546\",\"to_node_id\":\"545\",\"b1\":null,\"b2\":null},\"539\":{\"from_node_id\":\"546\",\"to_node_id\":\"177\",\"b1\":{\"x\":1292.0067749023438,\"y\":2297.0144844055176},\"b2\":{\"x\":1291.9871215820312,\"y\":2298.46187210083}},\"540\":{\"from_node_id\":\"544\",\"to_node_id\":\"547\",\"b1\":{\"x\":1292.9518432617188,\"y\":2297.792194366455},\"b2\":{\"x\":1293.4180297851562,\"y\":2310.5777168273926}},\"541\":{\"from_node_id\":\"544\",\"to_node_id\":\"402\",\"b1\":{\"x\":1581.9943237304688,\"y\":2298.9485664367676},\"b2\":{\"x\":1583.2122192382812,\"y\":2298.0974922180176}},\"542\":{\"from_node_id\":\"546\",\"to_node_id\":\"549\",\"b1\":{\"x\":1583.8844604492188,\"y\":2297.75093460083},\"b2\":{\"x\":1581.3598022460938,\"y\":2311.47163772583}}}},\"101\":{\"name\":\"Mal dehydrogenase\",\"bigg_id\":\"[B]_MalDH1_m\",\"reversibility\":true,\"label_x\":1332.4038696289062,\"label_y\":2610.656940460205,\"gene_reaction_rule\":\"\",\"genes\":[],\"metabolites\":[{\"bigg_id\":\"[B]_H_m\",\"coefficient\":1},{\"bigg_id\":\"[B]_Mal_m\",\"coefficient\":-1},{\"bigg_id\":\"[B]_NADH_m\",\"coefficient\":1},{\"bigg_id\":\"[B]_NAD_m\",\"coefficient\":-1},{\"bigg_id\":\"[B]_OAA_m\",\"coefficient\":1}],\"segments\":{\"543\":{\"from_node_id\":\"550\",\"to_node_id\":\"551\",\"b1\":null,\"b2\":null},\"544\":{\"from_node_id\":\"552\",\"to_node_id\":\"551\",\"b1\":null,\"b2\":null},\"546\":{\"from_node_id\":\"550\",\"to_node_id\":\"547\",\"b1\":{\"x\":1401.6730346679688,\"y\":2644.969928741455},\"b2\":{\"x\":1349.3158569335938,\"y\":2644.02339553833}},\"549\":{\"from_node_id\":\"552\",\"to_node_id\":\"549\",\"b1\":{\"x\":1525.6730346679688,\"y\":2644.969928741455},\"b2\":{\"x\":1527.7882690429688,\"y\":2644.969928741455}}}},\"102\":{\"name\":\"Dicarboxylate transporter\",\"bigg_id\":\"[B]_Tr_DIT1_OAA\",\"reversibility\":true,\"label_x\":1940.4468994140625,\"label_y\":2255.3272705078125,\"gene_reaction_rule\":\"\",\"genes\":[],\"metabolites\":[{\"bigg_id\":\"[B]_Mal_c\",\"coefficient\":1},{\"bigg_id\":\"[B]_Mal_h\",\"coefficient\":-1},{\"bigg_id\":\"[B]_OAA_c\",\"coefficient\":-1},{\"bigg_id\":\"[B]_OAA_h\",\"coefficient\":1}],\"segments\":{\"550\":{\"from_node_id\":\"558\",\"to_node_id\":\"559\",\"b1\":null,\"b2\":null},\"551\":{\"from_node_id\":\"560\",\"to_node_id\":\"559\",\"b1\":null,\"b2\":null},\"552\":{\"from_node_id\":\"560\",\"to_node_id\":\"177\",\"b1\":{\"x\":1537.2420654296875,\"y\":2302.404296875},\"b2\":{\"x\":1639.6156005859375,\"y\":2250.03466796875}},\"553\":{\"from_node_id\":\"558\",\"to_node_id\":\"468\",\"b1\":{\"x\":2290.788818359375,\"y\":2295.3272705078125},\"b2\":{\"x\":2188.41552734375,\"y\":2257.1114501953125}},\"554\":{\"from_node_id\":\"558\",\"to_node_id\":\"402\",\"b1\":{\"x\":2291.0347900390625,\"y\":2295.3272705078125},\"b2\":{\"x\":1729.533447265625,\"y\":1809.4456787109375}},\"555\":{\"from_node_id\":\"560\",\"to_node_id\":\"563\",\"b1\":{\"x\":1786.1060791015625,\"y\":2299.573486328125},\"b2\":{\"x\":1822.494384765625,\"y\":2320.561767578125}}}},\"103\":{\"name\":\"Mal dehydrogenase\",\"bigg_id\":\"[B]_MalDH3_h\",\"reversibility\":true,\"label_x\":2076.0760498046875,\"label_y\":2613.8465576171875,\"gene_reaction_rule\":\"\",\"genes\":[],\"metabolites\":[{\"bigg_id\":\"[B]_H_h\",\"coefficient\":-1},{\"bigg_id\":\"[B]_Mal_h\",\"coefficient\":1},{\"bigg_id\":\"[B]_NADPH_h\",\"coefficient\":-1},{\"bigg_id\":\"[B]_NADP_h\",\"coefficient\":1},{\"bigg_id\":\"[B]_OAA_h\",\"coefficient\":-1}],\"segments\":{\"556\":{\"from_node_id\":\"564\",\"to_node_id\":\"565\",\"b1\":null,\"b2\":null},\"557\":{\"from_node_id\":\"566\",\"to_node_id\":\"565\",\"b1\":null,\"b2\":null},\"559\":{\"from_node_id\":\"566\",\"to_node_id\":\"468\",\"b1\":{\"x\":2217.7994384765625,\"y\":2645.3541259765625},\"b2\":{\"x\":2475.23779296875,\"y\":2644.7249755859375}},\"562\":{\"from_node_id\":\"564\",\"to_node_id\":\"563\",\"b1\":{\"x\":2093.7994384765625,\"y\":2645.3541259765625},\"b2\":{\"x\":1876.7786865234375,\"y\":2644.4102783203125}}}},\"104\":{\"name\":\"Mal dehydrogenase\",\"bigg_id\":\"[B]_MalDH1_h\",\"reversibility\":true,\"label_x\":2071.8299560546875,\"label_y\":2837.7935791015625,\"gene_reaction_rule\":\"\",\"genes\":[],\"metabolites\":[{\"bigg_id\":\"[B]_H_h\",\"coefficient\":1},{\"bigg_id\":\"[B]_Mal_h\",\"coefficient\":-1},{\"bigg_id\":\"[B]_NADH_h\",\"coefficient\":1},{\"bigg_id\":\"[B]_NAD_h\",\"coefficient\":-1},{\"bigg_id\":\"[B]_OAA_h\",\"coefficient\":1}],\"segments\":{\"563\":{\"from_node_id\":\"571\",\"to_node_id\":\"572\",\"b1\":null,\"b2\":null},\"564\":{\"from_node_id\":\"573\",\"to_node_id\":\"572\",\"b1\":null,\"b2\":null},\"566\":{\"from_node_id\":\"571\",\"to_node_id\":\"468\",\"b1\":{\"x\":2568.346435546875,\"y\":2787.9945068359375},\"b2\":{\"x\":2555.915283203125,\"y\":2798.6888427734375}},\"569\":{\"from_node_id\":\"573\",\"to_node_id\":\"563\",\"b1\":{\"x\":1809.618896484375,\"y\":2784.2200927734375},\"b2\":{\"x\":1818.7474365234375,\"y\":2791.6116943359375}}}},\"105\":{\"name\":\"Asp aminotransferase\",\"bigg_id\":\"[B]_AspAT2_m\",\"reversibility\":true,\"label_x\":1359.5839233398438,\"label_y\":2772.5432929992676,\"gene_reaction_rule\":\"\",\"genes\":[],\"metabolites\":[{\"bigg_id\":\"[B]_Ala_m\",\"coefficient\":-1},{\"bigg_id\":\"[B]_Asp_m\",\"coefficient\":1},{\"bigg_id\":\"[B]_OAA_m\",\"coefficient\":-1},{\"bigg_id\":\"[B]_Pyr_m\",\"coefficient\":1}],\"segments\":{\"570\":{\"from_node_id\":\"578\",\"to_node_id\":\"579\",\"b1\":null,\"b2\":null},\"571\":{\"from_node_id\":\"580\",\"to_node_id\":\"579\",\"b1\":null,\"b2\":null},\"572\":{\"from_node_id\":\"578\",\"to_node_id\":\"581\",\"b1\":{\"x\":1593.1441111460415,\"y\":2816.922512473858},\"b2\":{\"x\":1583.2286987304688,\"y\":3192.9431953430176}},\"573\":{\"from_node_id\":\"580\",\"to_node_id\":\"582\",\"b1\":{\"x\":1482.1012950041454,\"y\":2818.2003140988945},\"b2\":{\"x\":1497.6403198242188,\"y\":3193.3560371398926}},\"574\":{\"from_node_id\":\"578\",\"to_node_id\":\"549\",\"b1\":{\"x\":1594.166893472417,\"y\":2818.2178148683906},\"b2\":{\"x\":1583.0223999023438,\"y\":2811.8260078430176}},\"575\":{\"from_node_id\":\"580\",\"to_node_id\":\"590\",\"b1\":{\"x\":1478.1014943227085,\"y\":2818.240245399677},\"b2\":{\"x\":1467.0841674804688,\"y\":2817.8892402648926}}}},\"106\":{\"name\":\"Mal dehydrogenase\",\"bigg_id\":\"[B]_MalDH2_m\",\"reversibility\":false,\"label_x\":1057.2401733398438,\"label_y\":2823.68550491333,\"gene_reaction_rule\":\"\",\"genes\":[],\"metabolites\":[{\"bigg_id\":\"[B]_CO2_m\",\"coefficient\":1},{\"bigg_id\":\"[B]_Mal_m\",\"coefficient\":-1},{\"bigg_id\":\"[B]_NADH_m\",\"coefficient\":1},{\"bigg_id\":\"[B]_NAD_m\",\"coefficient\":-1},{\"bigg_id\":\"[B]_Pyr_m\",\"coefficient\":1}],\"segments\":{\"576\":{\"from_node_id\":\"584\",\"to_node_id\":\"585\",\"b1\":null,\"b2\":null},\"577\":{\"from_node_id\":\"586\",\"to_node_id\":\"585\",\"b1\":null,\"b2\":null},\"578\":{\"from_node_id\":\"586\",\"to_node_id\":\"587\",\"b1\":{\"x\":1290.5658569335938,\"y\":2881.02339553833},\"b2\":{\"x\":1290.5658569335938,\"y\":2935.27339553833}},\"579\":{\"from_node_id\":\"584\",\"to_node_id\":\"547\",\"b1\":{\"x\":1290.5658569335938,\"y\":2757.02339553833},\"b2\":{\"x\":1290.5658569335938,\"y\":2702.77339553833}},\"582\":{\"from_node_id\":\"586\",\"to_node_id\":\"590\",\"b1\":{\"x\":1290.5658569335938,\"y\":2820.98677444458},\"b2\":{\"x\":1322.7905883789062,\"y\":2817.447956085205}}}},\"107\":{\"name\":\"CO2 diffusion\",\"bigg_id\":\"[B]_Tr_CO2m\",\"reversibility\":true,\"label_x\":810.4965209960938,\"label_y\":2307.36275100708,\"gene_reaction_rule\":\"\",\"genes\":[],\"metabolites\":[{\"bigg_id\":\"[B]_CO2_c\",\"coefficient\":-1},{\"bigg_id\":\"[B]_CO2_m\",\"coefficient\":1}],\"segments\":{\"583\":{\"from_node_id\":\"591\",\"to_node_id\":\"592\",\"b1\":null,\"b2\":null},\"584\":{\"from_node_id\":\"593\",\"to_node_id\":\"592\",\"b1\":null,\"b2\":null},\"585\":{\"from_node_id\":\"591\",\"to_node_id\":\"447\",\"b1\":{\"x\":1047.8641435324835,\"y\":1472.6182197716075},\"b2\":{\"x\":1046.3784790039062,\"y\":1471.4295234680176}},\"586\":{\"from_node_id\":\"593\",\"to_node_id\":\"587\",\"b1\":{\"x\":1071.4398725807978,\"y\":2997.2749458167714},\"b2\":{\"x\":1197.4758911132812,\"y\":2996.35542678833}}}},\"108\":{\"name\":\"CO2 diffusion\",\"bigg_id\":\"[B]_Tr_CO2h\",\"reversibility\":true,\"label_x\":3133.3099975585938,\"label_y\":2307.3350830078125,\"gene_reaction_rule\":\"\",\"genes\":[],\"metabolites\":[{\"bigg_id\":\"[B]_CO2_c\",\"coefficient\":-1},{\"bigg_id\":\"[B]_CO2_h\",\"coefficient\":1}],\"segments\":{\"587\":{\"from_node_id\":\"595\",\"to_node_id\":\"596\",\"b1\":null,\"b2\":null},\"588\":{\"from_node_id\":\"597\",\"to_node_id\":\"596\",\"b1\":null,\"b2\":null},\"589\":{\"from_node_id\":\"595\",\"to_node_id\":\"447\",\"b1\":{\"x\":3097.9994506835938,\"y\":1478.2550354003906},\"b2\":{\"x\":3097.2362670898438,\"y\":1478.481689453125}},\"590\":{\"from_node_id\":\"597\",\"to_node_id\":\"474\",\"b1\":{\"x\":3031.0409545898438,\"y\":2785.986328125},\"b2\":{\"x\":3050.1347045898438,\"y\":2787.396728515625}}}},\"131\":{\"name\":\"Tr_Asp_mc\",\"bigg_id\":\"[B]_Tr_Asp_mc\",\"reversibility\":true,\"label_x\":1254.9667358398438,\"label_y\":3738.2415351867676,\"gene_reaction_rule\":\"\",\"genes\":[],\"metabolites\":[{\"bigg_id\":\"[B]_Asp_c\",\"coefficient\":1},{\"bigg_id\":\"[B]_Asp_m\",\"coefficient\":-1}],\"segments\":{\"716\":{\"from_node_id\":\"728\",\"to_node_id\":\"729\",\"b1\":null,\"b2\":null},\"717\":{\"from_node_id\":\"730\",\"to_node_id\":\"729\",\"b1\":null,\"b2\":null},\"718\":{\"from_node_id\":\"730\",\"to_node_id\":\"185\",\"b1\":{\"x\":3337.0399780273438,\"y\":3509.9805488586426},\"b2\":{\"x\":3337.0402221679688,\"y\":3822.18208694458}},\"719\":{\"from_node_id\":\"728\",\"to_node_id\":\"582\",\"b1\":{\"x\":1493.7348022460938,\"y\":3812.6458320617676},\"b2\":{\"x\":1495.1290893554688,\"y\":3426.3728828430176}}}},\"132\":{\"name\":\"R_Tr_Ala_mc\",\"bigg_id\":\"[B]_Tr_Ala_mc\",\"reversibility\":true,\"label_x\":1606.4703979492188,\"label_y\":3734.3384590148926,\"gene_reaction_rule\":\"\",\"genes\":[],\"metabolites\":[{\"bigg_id\":\"[B]_Ala_c\",\"coefficient\":-1},{\"bigg_id\":\"[B]_Ala_m\",\"coefficient\":1}],\"segments\":{\"720\":{\"from_node_id\":\"732\",\"to_node_id\":\"733\",\"b1\":null,\"b2\":null},\"721\":{\"from_node_id\":\"734\",\"to_node_id\":\"733\",\"b1\":null,\"b2\":null},\"722\":{\"from_node_id\":\"732\",\"to_node_id\":\"189\",\"b1\":{\"x\":3588.1522827148438,\"y\":3755.6631660461426},\"b2\":{\"x\":3585.3634643554688,\"y\":3750.305866241455}},\"723\":{\"from_node_id\":\"734\",\"to_node_id\":\"581\",\"b1\":{\"x\":1590.0761108398438,\"y\":3764.1245918273926},\"b2\":{\"x\":1585.8931274414062,\"y\":3423.8645820617676}}}},\"134\":{\"name\":\"Pyr kinase\",\"bigg_id\":\"[B]_PyrK_c\",\"reversibility\":false,\"label_x\":2795.5721978974,\"label_y\":1606.111812474027,\"gene_reaction_rule\":\"\",\"genes\":[],\"metabolites\":[{\"bigg_id\":\"[B]_ADP_c\",\"coefficient\":-1},{\"bigg_id\":\"[B]_ATP_c\",\"coefficient\":1},{\"bigg_id\":\"[B]_H_c\",\"coefficient\":-1},{\"bigg_id\":\"[B]_PEP_c\",\"coefficient\":-1},{\"bigg_id\":\"[B]_Pyr_c\",\"coefficient\":1}],\"segments\":{\"731\":{\"from_node_id\":\"742\",\"to_node_id\":\"743\",\"b1\":null,\"b2\":null},\"732\":{\"from_node_id\":\"744\",\"to_node_id\":\"743\",\"b1\":null,\"b2\":null},\"736\":{\"from_node_id\":\"742\",\"to_node_id\":\"233\",\"b1\":{\"x\":2806.652031881775,\"y\":1638.899410130277},\"b2\":{\"x\":2820.1991510224,\"y\":1638.899410130277}},\"737\":{\"from_node_id\":\"744\",\"to_node_id\":\"181\",\"b1\":{\"x\":2934.652031881775,\"y\":1638.899410130277},\"b2\":{\"x\":2916.8221978974,\"y\":1638.1470907943394}}}}},\"nodes\":{\"12\":{\"node_type\":\"metabolite\",\"x\":1289.6665649414062,\"y\":-320.00006103515625,\"bigg_id\":\"[M]_CO2_c\",\"name\":\"CO2\",\"label_x\":1324.351962073744,\"label_y\":-340.41893299433843,\"node_is_primary\":true},\"13\":{\"node_type\":\"multimarker\",\"x\":1285.6845092773438,\"y\":-1008.7737426757812},\"14\":{\"node_type\":\"midmarker\",\"x\":1285.6845092773438,\"y\":-988.7737426757812},\"15\":{\"node_type\":\"multimarker\",\"x\":1285.6845092773438,\"y\":-968.7737426757812},\"40\":{\"node_type\":\"multimarker\",\"x\":1289.6665649414062,\"y\":-165.00006103515625},\"41\":{\"node_type\":\"midmarker\",\"x\":1289.6665649414062,\"y\":-145.00006103515625},\"42\":{\"node_type\":\"multimarker\",\"x\":1289.6665649414062,\"y\":-125.00006103515625},\"44\":{\"node_type\":\"metabolite\",\"x\":1289.6665649414062,\"y\":29.99993896484375,\"bigg_id\":\"[M]_HCO3_c\",\"name\":\"CHO3\",\"label_x\":1310.6665649414062,\"label_y\":7.333271503448486,\"node_is_primary\":true},\"52\":{\"node_type\":\"multimarker\",\"x\":1409.2748762987262,\"y\":211.32401972572646},\"53\":{\"node_type\":\"midmarker\",\"x\":1408.6665649414062,\"y\":191.33327293395996},\"54\":{\"node_type\":\"multimarker\",\"x\":1408.0582535840863,\"y\":171.34252614219335},\"55\":{\"node_type\":\"metabolite\",\"x\":1287.6666870117188,\"y\":363.3332710266113,\"bigg_id\":\"[M]_OAA_c\",\"name\":\"C4H2O5\",\"label_x\":1323.0366577148438,\"label_y\":346.7503852844238,\"node_is_primary\":true},\"56\":{\"node_type\":\"metabolite\",\"x\":1288.9999389648438,\"y\":128.66659545898438,\"bigg_id\":\"[M]_PEP_c\",\"name\":\"C3H2O6P\",\"label_x\":1248.0422729492188,\"label_y\":98.7098388671875,\"node_is_primary\":true},\"58\":{\"node_type\":\"multimarker\",\"x\":1287.6666870117188,\"y\":558.3332710266113},\"59\":{\"node_type\":\"midmarker\",\"x\":1287.6666870117188,\"y\":538.3332710266113},\"60\":{\"node_type\":\"multimarker\",\"x\":1287.6666870117188,\"y\":518.3332710266113},\"62\":{\"node_type\":\"metabolite\",\"x\":1288.2583618164062,\"y\":713.9249458312988,\"bigg_id\":\"[M]_Mal_c\",\"name\":\"C4H4O5\",\"label_x\":1313.2583618164062,\"label_y\":713.9249458312988,\"node_is_primary\":true},\"65\":{\"node_type\":\"multimarker\",\"x\":1104.7414227730005,\"y\":515.4533788621472},\"66\":{\"node_type\":\"midmarker\",\"x\":1104.6664622477163,\"y\":535.4532383846456},\"67\":{\"node_type\":\"multimarker\",\"x\":1104.5915017224293,\"y\":555.453097907144},\"69\":{\"node_type\":\"metabolite\",\"x\":936.4449052943767,\"y\":366.74583911265717,\"bigg_id\":\"[M]_Mal_h\",\"name\":\"C4H4O5\",\"label_x\":810.069819845158,\"label_y\":370.74583911265717,\"node_is_primary\":true},\"70\":{\"node_type\":\"metabolite\",\"x\":939.6578197788833,\"y\":720.7443946164624,\"bigg_id\":\"[M]_OAA_h\",\"name\":\"C4H2O5\",\"label_x\":797.7244457554459,\"label_y\":736.7443946164624,\"node_is_primary\":true},\"71\":{\"node_type\":\"multimarker\",\"x\":937.7782182826579,\"y\":557.7458391126572},\"72\":{\"node_type\":\"midmarker\",\"x\":937.7782182826579,\"y\":537.7458391126572},\"73\":{\"node_type\":\"multimarker\",\"x\":937.7782182826579,\"y\":517.7458391126572},\"90\":{\"node_type\":\"multimarker\",\"x\":3158.9678344726562,\"y\":522.0020942687988},\"91\":{\"node_type\":\"midmarker\",\"x\":3158.9678344726562,\"y\":544.1748847961426},\"92\":{\"node_type\":\"multimarker\",\"x\":3158.5728149414062,\"y\":562.8415718078613},\"93\":{\"node_type\":\"metabolite\",\"x\":3337.4120483398438,\"y\":370.68107986450195,\"bigg_id\":\"[M]_Ala_c\",\"name\":\"C3H7NO2\",\"label_x\":3310.0651245117188,\"label_y\":339.7982063293457,\"node_is_primary\":true},\"94\":{\"node_type\":\"metabolite\",\"x\":3338.1416625976562,\"y\":715.8662605285645,\"bigg_id\":\"[M]_Asp_c\",\"name\":\"C4H6NO4\",\"label_x\":3353.2651977539062,\"label_y\":691.3724250793457,\"node_is_primary\":true},\"95\":{\"node_type\":\"metabolite\",\"x\":2989.3306274414062,\"y\":719.0569038391113,\"bigg_id\":\"[M]_Pyr_c\",\"name\":\"C3H3O3\",\"label_x\":3000.7750854492188,\"label_y\":693.3531684875488,\"node_is_primary\":true},\"96\":{\"node_type\":\"multimarker\",\"x\":1133.9999389648438,\"y\":128.6665954589844},\"97\":{\"node_type\":\"midmarker\",\"x\":1113.9999389648438,\"y\":128.6665954589844},\"98\":{\"node_type\":\"multimarker\",\"x\":1093.9999389648438,\"y\":128.6665954589844},\"101\":{\"node_type\":\"metabolite\",\"x\":938.9999389648438,\"y\":128.66659545898443,\"bigg_id\":\"[M]_PEP_h\",\"name\":\"C3H2O6P\",\"label_x\":901.1999389648438,\"label_y\":168.66659545898443,\"node_is_primary\":true},\"104\":{\"node_type\":\"multimarker\",\"x\":2816.6066284179688,\"y\":842.0523262023926},\"105\":{\"node_type\":\"midmarker\",\"x\":1114.7053833007812,\"y\":842.0523262023926},\"106\":{\"node_type\":\"multimarker\",\"x\":1094.7053833007812,\"y\":842.0523262023926},\"109\":{\"node_type\":\"metabolite\",\"x\":939.7053833007812,\"y\":842.0523262023926,\"bigg_id\":\"[M]_Pyr_h\",\"name\":\"C3H3O3\",\"label_x\":890.6630126953125,\"label_y\":886.7859687805176,\"node_is_primary\":true},\"110\":{\"node_type\":\"multimarker\",\"x\":772.3787003872201,\"y\":500.5207926303535},\"111\":{\"node_type\":\"midmarker\",\"x\":772.3975830078125,\"y\":480.52080154418945},\"112\":{\"node_type\":\"multimarker\",\"x\":772.4164656284049,\"y\":460.5208104580254},\"174\":{\"node_type\":\"multimarker\",\"x\":1288.8482055664062,\"y\":1107.025592803955},\"175\":{\"node_type\":\"midmarker\",\"x\":1291.9885864257812,\"y\":1463.0464668273926},\"176\":{\"node_type\":\"multimarker\",\"x\":1291.9885864257812,\"y\":1483.0464668273926},\"177\":{\"node_type\":\"metabolite\",\"x\":1291.9885864257812,\"y\":1638.0464668273926,\"bigg_id\":\"[B]_Mal_c\",\"name\":\"C4H4O5\",\"label_x\":1169.7308959960938,\"label_y\":1640.6761054992676,\"node_is_primary\":true},\"178\":{\"node_type\":\"multimarker\",\"x\":2985.7622680664062,\"y\":1110.07857131958},\"179\":{\"node_type\":\"midmarker\",\"x\":2988.9026489257812,\"y\":1466.0994453430176},\"180\":{\"node_type\":\"multimarker\",\"x\":2988.9026489257812,\"y\":1486.0994453430176},\"181\":{\"node_type\":\"metabolite\",\"x\":2988.9026489257812,\"y\":1641.0994453430176,\"bigg_id\":\"[B]_Pyr_c\",\"name\":\"C3H3O3\",\"label_x\":2878.8265991210938,\"label_y\":1682.495807647705,\"node_is_primary\":true},\"182\":{\"node_type\":\"multimarker\",\"x\":3336.6189575195312,\"y\":1108.9669075012207},\"183\":{\"node_type\":\"midmarker\",\"x\":3339.7593383789062,\"y\":1464.9877815246582},\"184\":{\"node_type\":\"multimarker\",\"x\":3339.7593383789062,\"y\":1484.9877815246582},\"185\":{\"node_type\":\"metabolite\",\"x\":3339.7593383789062,\"y\":1639.9877815246582,\"bigg_id\":\"[B]_Asp_c\",\"name\":\"C4H6NO4\",\"label_x\":3345.0130004882812,\"label_y\":1683.7119026184082,\"node_is_primary\":true},\"186\":{\"node_type\":\"multimarker\",\"x\":3584.0829467773438,\"y\":1104.4651374816895},\"187\":{\"node_type\":\"midmarker\",\"x\":3587.2233276367188,\"y\":1460.486011505127},\"188\":{\"node_type\":\"multimarker\",\"x\":3587.2233276367188,\"y\":1480.486011505127},\"189\":{\"node_type\":\"metabolite\",\"x\":3587.2233276367188,\"y\":1635.486011505127,\"bigg_id\":\"[B]_Ala_c\",\"name\":\"C3H7NO2\",\"label_x\":3612.2233276367188,\"label_y\":1675.595630645752,\"node_is_primary\":true},\"230\":{\"node_type\":\"multimarker\",\"x\":2760.4410485212625,\"y\":1107.8901944322583},\"231\":{\"node_type\":\"midmarker\",\"x\":2763.362734164408,\"y\":1463.9098727300116},\"232\":{\"node_type\":\"multimarker\",\"x\":2763.1440389481786,\"y\":1483.9086770043273},\"233\":{\"node_type\":\"metabolite\",\"x\":2761.4491510224,\"y\":1638.899410130277,\"bigg_id\":\"[B]_PEP_c\",\"name\":\"C3H2O6P\",\"label_x\":2724.9795221161503,\"label_y\":1683.7076376693394,\"node_is_primary\":true},\"396\":{\"node_type\":\"multimarker\",\"x\":1446.9885864257812,\"y\":1638.0464668273926},\"397\":{\"node_type\":\"midmarker\",\"x\":1466.9885864257812,\"y\":1638.0464668273926},\"398\":{\"node_type\":\"multimarker\",\"x\":1486.9885864257812,\"y\":1638.0464668273926},\"402\":{\"node_type\":\"metabolite\",\"x\":1582.4837036132812,\"y\":1636.402057647705,\"bigg_id\":\"[B]_OAA_c\",\"name\":\"C4H2O5\",\"label_x\":1542.0540649414063,\"label_y\":1606.7176094055176,\"node_is_primary\":true},\"442\":{\"node_type\":\"multimarker\",\"x\":2403.4094848632812,\"y\":1636.402057647705},\"443\":{\"node_type\":\"midmarker\",\"x\":2423.4094848632812,\"y\":1636.402057647705},\"444\":{\"node_type\":\"multimarker\",\"x\":2443.4094848632812,\"y\":1636.402057647705},\"447\":{\"node_type\":\"metabolite\",\"x\":2479.2601928710938,\"y\":1474.2293281555176,\"bigg_id\":\"[B]_CO2_c\",\"name\":\"CO2\",\"label_x\":2503.5758422851563,\"label_y\":1451.1131172180176,\"node_is_primary\":true},\"449\":{\"node_type\":\"multimarker\",\"x\":3180.1638793945312,\"y\":1833.8238410949707},\"450\":{\"node_type\":\"midmarker\",\"x\":3180.1638793945312,\"y\":1813.8238410949707},\"451\":{\"node_type\":\"multimarker\",\"x\":3180.1638793945312,\"y\":1793.8238410949707},\"468\":{\"node_type\":\"metabolite\",\"x\":2557.254638671875,\"y\":2644.2354736328125,\"bigg_id\":\"[B]_Mal_h\",\"name\":\"C4H4O5\",\"label_x\":2581.18212890625,\"label_y\":2620.6953125,\"node_is_primary\":true},\"470\":{\"node_type\":\"metabolite\",\"x\":2990.5491943359375,\"y\":2644.2545166015625,\"bigg_id\":\"[B]_Pyr_h\",\"name\":\"C3H3O3\",\"label_x\":2963.0924072265625,\"label_y\":2695.6025390625,\"node_is_primary\":true},\"471\":{\"node_type\":\"multimarker\",\"x\":2769.9520263671875,\"y\":2648.5093994140625},\"472\":{\"node_type\":\"midmarker\",\"x\":2789.9520263671875,\"y\":2648.5093994140625},\"473\":{\"node_type\":\"multimarker\",\"x\":2809.9520263671875,\"y\":2648.5093994140625},\"474\":{\"node_type\":\"metabolite\",\"x\":2991.3847045898438,\"y\":2787.396728515625,\"bigg_id\":\"[B]_CO2_h\",\"name\":\"CO2\",\"label_x\":2964.9905639648437,\"label_y\":2845.26123046875,\"node_is_primary\":true},\"483\":{\"node_type\":\"metabolite\",\"x\":2407.30029296875,\"y\":2874.866943359375,\"bigg_id\":\"[B]_PGA_h\",\"name\":\"C3H4O7P\",\"label_x\":2271.1439697265623,\"label_y\":2881.5244140625,\"node_is_primary\":true},\"491\":{\"node_type\":\"metabolite\",\"x\":2989.6767578125,\"y\":3153.792236328125,\"bigg_id\":\"[B]_RuBP_h\",\"name\":\"C5H8O11P2\",\"label_x\":3022.277099609375,\"label_y\":3162.3876953125,\"node_is_primary\":true},\"517\":{\"node_type\":\"multimarker\",\"x\":2840.6141967773438,\"y\":2879.277587890625},\"518\":{\"node_type\":\"midmarker\",\"x\":2820.6141967773438,\"y\":2879.277587890625},\"519\":{\"node_type\":\"multimarker\",\"x\":2800.6141967773438,\"y\":2879.277587890625},\"538\":{\"node_type\":\"multimarker\",\"x\":2986.3092651367188,\"y\":2275.8533515930176},\"539\":{\"node_type\":\"midmarker\",\"x\":2986.3092651367188,\"y\":2295.8533515930176},\"540\":{\"node_type\":\"multimarker\",\"x\":2986.3092651367188,\"y\":2315.8533515930176},\"544\":{\"node_type\":\"multimarker\",\"x\":1437.9448852539062,\"y\":2295.60200881958},\"545\":{\"node_type\":\"midmarker\",\"x\":1435.1012573242188,\"y\":2296.454792022705},\"546\":{\"node_type\":\"multimarker\",\"x\":1436.9970092773438,\"y\":2297.3074531555176},\"547\":{\"node_type\":\"metabolite\",\"x\":1290.5658569335938,\"y\":2644.02339553833,\"bigg_id\":\"[B]_Mal_m\",\"name\":\"C4H4O5\",\"label_x\":1157.2743530273438,\"label_y\":2650.658405303955,\"node_is_primary\":true},\"549\":{\"node_type\":\"metabolite\",\"x\":1582.3945922851562,\"y\":2643.2093086242676,\"bigg_id\":\"[B]_OAA_m\",\"name\":\"C4H2O5\",\"label_x\":1611.3456420898438,\"label_y\":2652.3565254211426,\"node_is_primary\":true},\"550\":{\"node_type\":\"multimarker\",\"x\":1443.6730346679688,\"y\":2644.969928741455},\"551\":{\"node_type\":\"midmarker\",\"x\":1463.6730346679688,\"y\":2644.969928741455},\"552\":{\"node_type\":\"multimarker\",\"x\":1483.6730346679688,\"y\":2644.969928741455},\"558\":{\"node_type\":\"multimarker\",\"x\":1970.4468994140625,\"y\":2295.3272705078125},\"559\":{\"node_type\":\"midmarker\",\"x\":1990.4468994140625,\"y\":2295.3272705078125},\"560\":{\"node_type\":\"multimarker\",\"x\":2010.4468994140625,\"y\":2295.3272705078125},\"563\":{\"node_type\":\"metabolite\",\"x\":1818.0286865234375,\"y\":2644.4102783203125,\"bigg_id\":\"[B]_OAA_h\",\"name\":\"C4H2O5\",\"label_x\":1839.56943359375,\"label_y\":2618.6732177734375,\"node_is_primary\":true},\"564\":{\"node_type\":\"multimarker\",\"x\":2135.7994384765625,\"y\":2645.3541259765625},\"565\":{\"node_type\":\"midmarker\",\"x\":2155.7994384765625,\"y\":2645.3541259765625},\"566\":{\"node_type\":\"multimarker\",\"x\":2175.7994384765625,\"y\":2645.3541259765625},\"571\":{\"node_type\":\"multimarker\",\"x\":2182.87646484375,\"y\":2788.6236572265625},\"572\":{\"node_type\":\"midmarker\",\"x\":2162.87646484375,\"y\":2788.6236572265625},\"573\":{\"node_type\":\"multimarker\",\"x\":2142.87646484375,\"y\":2788.6236572265625},\"578\":{\"node_type\":\"multimarker\",\"x\":1564.0972089735876,\"y\":2817.3817224328563},\"579\":{\"node_type\":\"midmarker\",\"x\":1544.0982055664062,\"y\":2817.5813789367676},\"580\":{\"node_type\":\"multimarker\",\"x\":1524.099202159225,\"y\":2817.781035440679},\"581\":{\"node_type\":\"metabolite\",\"x\":1585.8931274414062,\"y\":3365.1145820617676,\"bigg_id\":\"[B]_Ala_m\",\"name\":\"C3H7NO2\",\"label_x\":1612.2485961914062,\"label_y\":3370.6297187805176,\"node_is_primary\":true},\"582\":{\"node_type\":\"metabolite\",\"x\":1495.1290893554688,\"y\":3367.6228828430176,\"bigg_id\":\"[B]_Asp_m\",\"name\":\"C4H6NO4\",\"label_x\":1360.6655883789062,\"label_y\":3373.2732734680176,\"node_is_primary\":true},\"584\":{\"node_type\":\"multimarker\",\"x\":1290.5658569335938,\"y\":2799.02339553833},\"585\":{\"node_type\":\"midmarker\",\"x\":1290.5658569335938,\"y\":2819.02339553833},\"586\":{\"node_type\":\"multimarker\",\"x\":1290.5658569335938,\"y\":2839.02339553833},\"587\":{\"node_type\":\"metabolite\",\"x\":1290.5658569335938,\"y\":2994.02339553833,\"bigg_id\":\"[B]_CO2_m\",\"name\":\"CO2\",\"label_x\":1306.0503540039062,\"label_y\":3052.37398147583,\"node_is_primary\":true},\"590\":{\"node_type\":\"metabolite\",\"x\":1401.4198608398438,\"y\":2818.55171585083,\"bigg_id\":\"[B]_Pyr_m\",\"name\":\"C3H3O3\",\"label_x\":1345.5322875976562,\"label_y\":2859.22456741333,\"node_is_primary\":true},\"591\":{\"node_type\":\"multimarker\",\"x\":1046.1943089173585,\"y\":1472.9092479875703},\"592\":{\"node_type\":\"midmarker\",\"x\":1049.3782348632812,\"y\":2996.947956085205},\"593\":{\"node_type\":\"multimarker\",\"x\":1069.3779567076415,\"y\":2997.0534366437773},\"595\":{\"node_type\":\"multimarker\",\"x\":3098.3270874023438,\"y\":1478.5565185546875},\"596\":{\"node_type\":\"midmarker\",\"x\":3093.0409545898438,\"y\":2785.986328125},\"597\":{\"node_type\":\"multimarker\",\"x\":3073.0409545898438,\"y\":2785.986328125},\"684\":{\"node_type\":\"multimarker\",\"x\":653.9961395263672,\"y\":3648.4940185546875},\"728\":{\"node_type\":\"multimarker\",\"x\":1493.7348022460938,\"y\":3854.6458320617676},\"729\":{\"node_type\":\"midmarker\",\"x\":1493.7348022460938,\"y\":3874.6458320617676},\"730\":{\"node_type\":\"multimarker\",\"x\":3337.0399780273438,\"y\":3869.5474433898926},\"732\":{\"node_type\":\"multimarker\",\"x\":3586.7577514648438,\"y\":3825.2095527648926},\"733\":{\"node_type\":\"midmarker\",\"x\":1590.0761108398438,\"y\":3826.1245918273926},\"734\":{\"node_type\":\"multimarker\",\"x\":1590.0761108398438,\"y\":3806.1245918273926},\"742\":{\"node_type\":\"multimarker\",\"x\":2848.652031881775,\"y\":1638.899410130277},\"743\":{\"node_type\":\"midmarker\",\"x\":2868.652031881775,\"y\":1638.899410130277},\"744\":{\"node_type\":\"multimarker\",\"x\":2888.652031881775,\"y\":1638.899410130277}},\"text_labels\":{},\"canvas\":{\"x\":-1559,\"y\":-1379,\"width\":6207.264892578125,\"height\":6713.53173828125}}]'),\n",
       "               model_data: JSON.parse('null'),\n",
       "               static_site_index: JSON.parse('null'),\n",
       "           };\n",
       "       }\n",
       "   })();\n",
       "  </script>\n"
      ],
      "text/plain": [
       "<IPython.core.display.HTML object>"
      ]
     },
     "metadata": {},
     "output_type": "display_data"
    },
    {
     "data": {
      "text/html": [
       "<h1>NAD-ME</h1>"
      ],
      "text/plain": [
       "<IPython.core.display.HTML object>"
      ]
     },
     "metadata": {},
     "output_type": "display_data"
    },
    {
     "data": {
      "text/html": [
       "\n",
       "\n",
       "\n",
       "  \n",
       "  \n",
       "\n",
       "  \n",
       "  \n",
       "    <link rel=\"stylesheet\" href=\"//unpkg.com/escher-vis@1.6.0/css/dist/builder.min.css\"/>\n",
       "  \n",
       "\n",
       "\n",
       "\n",
       "  <div style=\"height: 1000px; width: 100%;\" id=\"omfgwddsrt\"></div>\n",
       "\n",
       "  <script>\n",
       "   /* Closure to make sure data only applies to this map. */\n",
       "   (function() {\n",
       "       /* data from python */\n",
       "       var data = get_data();\n",
       "\n",
       "       function load_lib(url, callback) {\n",
       "           /** Dynamically load a JavaScript file */\n",
       "           var s = document.createElement('script');\n",
       "           s.src = url;\n",
       "           s.async = true;\n",
       "           s.onreadystatechange = s.onload = callback;\n",
       "           s.onerror = function() {\n",
       "               console.warn('Failed to load library ' + url);\n",
       "           };\n",
       "           document.getElementsByTagName('head')[0].appendChild(s);\n",
       "       }\n",
       "\n",
       "       function check_global_and_load(name, url, callback) {\n",
       "           /** Look for the name in the global scope. If it isn't present, then\n",
       "              load the library at url. Returns the object. */\n",
       "           if (window[name] !== undefined) {\n",
       "               callback(window[name]);\n",
       "           } else {\n",
       "               load_lib(url, function() {\n",
       "                   callback(window[name]);\n",
       "               });\n",
       "           }\n",
       "       }\n",
       "\n",
       "       function draw_escher(escher) {\n",
       "           /** Get data and draw */\n",
       "           var load = function(t_map_data, t_model_data, t_options) {\n",
       "               escher.Builder(t_map_data, t_model_data, data.builder_embed_css,\n",
       "                              escher.libs.d3_select('#' + data.id), t_options);\n",
       "           }\n",
       "\n",
       "           // for the static site, use the url attributes for the map and model\n",
       "           // information\n",
       "           if (data.static_site_index !== null) {\n",
       "               escher.static.load_map_model_from_url(data.map_download_url, data.model_download_url,\n",
       "                                                     data.static_site_index, data.options, load);\n",
       "           } else {\n",
       "               load(data.map_data, data.model_data, data.options);\n",
       "           }\n",
       "       }\n",
       "\n",
       "       // Load dependencies and draw\n",
       "       if (typeof define === 'function' && define.amd) {\n",
       "           // require.js is available: use it to load escher\n",
       "           require.config({\n",
       "             paths: {\n",
       "               escher: '//unpkg.com/escher-vis@1.6.0/js/dist/escher.min',\n",
       "             },\n",
       "             // Override urlArgs that adds ?v= to the end of the escher URL and\n",
       "             // messes up unpkg links. Honestly, I'm not sure if this will lead\n",
       "             // to downstream bugs in the notebook, but they really shouldn't be\n",
       "             // doing this cache-busting anyway.\n",
       "             urlArgs: null,\n",
       "           })\n",
       "           require([ 'escher' ], function(escher) {\n",
       "               draw_escher(escher);\n",
       "           })\n",
       "       } else {\n",
       "           // require.js not available: dynamically load escher\n",
       "           check_global_and_load('escher', '//unpkg.com/escher-vis@1.6.0/js/dist/escher.min.js', function(escher) {\n",
       "               draw_escher(escher);\n",
       "           })\n",
       "       }\n",
       "\n",
       "       // Put this at the end so Chrome doesn't cut off the code above.\n",
       "       function get_data() {\n",
       "           /** Return the data passed in by the Python module. */\n",
       "           return {\n",
       "               id: JSON.parse('\"omfgwddsrt\"'),\n",
       "               map_download_url: JSON.parse('\"//escher.github.io/1-0-0/5/maps/\"'),\n",
       "               model_download_url: JSON.parse('\"//escher.github.io/1-0-0/5/models/\"'),\n",
       "               options: JSON.parse('{\"reaction_data\": {\"[M]_PGAK_h\": 9.886510567200874, \"[M]_SerAcT_c\": 0.0, \"[B]_NDA2_1_m\": 0.0, \"[M]_AMT_m\": 0.0, \"[B]_Ex_Arg_p\": 0.0, \"[M]_ArgSCAL_h\": 0.011158962913884145, \"[M]_Im_hnu\": 207.0986208413242, \"[M]_PGAK_c\": 3.178352867649653e-16, \"[MB]_Met_c\": 0.004882046274824314, \"[M]_SerAcT_m\": 0.0, \"[M]_Tr_Ser1\": 0.0, \"[B]_Ex_Arg_h\": 0.0, \"[M]_Tr_Ser2\": -0.0048820462748243145, \"[B]_Ex_Glu_h\": 0.0, \"[B]_DHLAcT_m\": 0.32221505413836604, \"[MB]_Thr_c\": 0.05579481456942073, \"[B]_Ex_Trp_p\": 0.0, \"[B]_G6PDH_h\": 0.0, \"[M]_DPE11_h\": -6.809943125822396e-16, \"[M]_Ex_Arg_m\": 0.0, \"[B]_Ex_Mas\": 0.0, \"[B]_PSII_h\": 19.36547262051761, \"[M]_Tr_His2\": 0.0027897407284710363, \"[M]_Tr_His3\": 0.0, \"[M]_GMPK_c\": 0.0, \"[B]_FTK_h\": 13.405866592273448, \"[B]_ACPM_h\": 0.0, \"[M]_Tr_DTC1A\": 0.0, \"[B]_TPS_c\": 0.0, \"[B]_DHDS_h\": 0.012553833278119667, \"[M]_PGAM_h\": -5.512002163423916, \"[B]_Urease_m\": 0.0, \"[M]_Tr_BT12\": 0.0, \"[M]_Tr_BT11\": 0.0, \"[M]_DPE13_h\": 0.0, \"[B]_Im_Pi\": 0.0, \"[M]_PGAM_c\": -5.509212422695485, \"[MB]_KG_c\": -0.31314839677087536, \"[M]_Ex_O2\": 22.97773523260214, \"[MB]_Gln_c\": 0.3019894338569892, \"[M]_FGAMS_h\": 0.0, \"[M]_SerAcT_h\": 0.004882046274824314, \"[M]_DHFR_c\": 0.0, \"[B]_Tr_Asp_OAA_hc\": -0.13599986051296303, \"[B]_Tr_NO2\": 0.0, \"[M]_6PGDHNADP_h\": 0.0, \"[M]_DAPDC_h\": 0.0, \"[M]_Ex_Met_p\": 0.0, \"[M]_IndGPS_h\": 0.0, \"[B]_AGPase_h\": 3.0687148013181416, \"[B]_Tr_Val1\": 0.0, \"[B]_Tr_Val2\": 0.01673844437082622, \"[B]_Tr_Val3\": 0.0, \"[MB]_GCA_c\": 0.0, \"[B]_Tr_PRPP\": 0.0, \"[M]_DHQDH_h\": 0.0, \"[M]_Ex_Arg_c\": 0.0, \"[M]_Ex_Tre\": 0.0, \"[B]_SADH_h\": 0.018133314735061738, \"[B]_HCO3DHA_c\": 0.0, \"[B]_Ex_Glc\": 0.0, \"[B]_ArgSCAL_h\": 0.0, \"[M]_cplx1_m\": 0.7463791412991378, \"[B]_RBO_h\": 0.0, \"[M]_DHOase_h\": 0.0, \"[B]_EPSPS_h\": 0.01813331473506174, \"[B]_NGAM_h\": 0.152707083279744, \"[M]_GAPDH1_h\": 9.883720826472402, \"[M]_GABATA1_m\": 0.0, \"[B]_GluSeADA_m\": 9.949980547359773e-31, \"[M]_PPiase_h\": 40.0153435740062, \"[M]_Tr_Phe1\": 0.0, \"[M]_cplx3_m\": 0.7463791412990999, \"[B]_Ex_Val_h\": 0.0, \"[B]_dTDPK_c\": 0.0, \"[M]_Tr_Ile3\": 0.0, \"[B]_BAATA2_h\": 0.008369222185413111, \"[B]_Ex_Arg_m\": 0.0, \"[M]_ADPRPPT_c\": 0.0, \"[B]_AspAT_p\": 0.0, \"[M]_AOX4_h\": 0.0, \"[M]_Tr_Phe2\": 0.0, \"[M]_ProDHNAD_m\": 0.0, \"[M]_Tr_NDT1\": 0.0, \"[B]_Tr_H2Op\": 0.0, \"[B]_SerRM_c\": 0.0, \"[M]_PGP_h\": 3.7891549115991206e-14, \"[B]_Tr_KG\": 0.0, \"[B]_Tr_H2Oh\": 0.0, \"[M]_ALS3_h\": 0.0, \"[M]_BAATA2_h\": 0.0, \"[B]_Tr_H2Om\": -3.861654073507639, \"[B]_Ex_cellulose\": 0.0, \"[B]_GDPR_c\": 0.0, \"[M]_MalDH2_m\": 0.0, \"[B]_ALS3_h\": 0.025107666556239337, \"[B]_Ex_Suc\": 1.53435740065907, \"[B]_F26BPPh_c\": 0.0, \"[M]_MalDH4_h\": 0.0, \"[B]_PSI_h\": 129.63673035925373, \"[B]_GGAT_p\": 0.0, \"[M]_ForTHFL_h\": 0.002789740728471037, \"[B]_GGAT_h\": 0.0, \"[M]_Tr_Trp2\": 0.0, \"[B]_5M_DASH_THFOR_c\": 0.0, \"[M]_dGDPK_c\": 0.0, \"[M]_ALS1_h\": 0.0, \"[M]_MetS_c\": 0.004882046274824314, \"[M]_Tr_Asp_mc\": 0.0, \"[B]_GARFT_h\": 0.0, \"[M]_Ex_Leu_h\": 0.0, \"[B]_Tr_H_Na_hc\": 0.0, \"[M]_CDPR_c\": 0.0, \"[M]_GluDC_c\": 0.0, \"[M]_Ex_Leu_c\": 0.0, \"[M]_IndGPL_h\": 0.0, \"[M]_NO2R_h\": 1.0559168657262974, \"[M]_NDA2_2_m\": 0.0, \"[M]_Ex_Arg_p\": 0.0, \"[M]_S6PS_c\": 0.0, \"[MB]_Glc_c\": -1.0898072594303799e-15, \"[M]_Ex_Leu_p\": 0.0, \"[B]_AIRC_h\": 0.0, \"[B]_Tr_PXN3\": 0.0, \"[M]_Tr_NH41\": -0.9471169773159166, \"[B]_Tr_Pyr1\": 0.0, \"[B]_Ex_Pro_m\": 0.0, \"[M]_6PGDHNAD_h\": 0.0, \"[M]_Ex_Ser_c\": 0.0, \"[B]_AlaTA_m\": 0.004184611092707191, \"[M]_Tr_Pro2\": 0.0, \"[B]_iCitL_p\": 0.0, \"[B]_Ex_Met_c\": 0.0, \"[B]_Tr_KG_Mal_mc\": 0.0, \"[M]_Ex_Ser_h\": 0.0, \"[B]_CTPP_c\": 0.0, \"[M]_Tr_H2Om\": -3.225198425050687, \"[M]_Ex_Tyr_c\": 0.0, \"[B]_Ex_Pro_c\": 0.0, \"[B]_PEPC1_c\": 0.0, \"[B]_Tr_Ala2\": 0.0, \"[B]_Tr_TPT3\": 0.0, \"[M]_PyrDH1_m\": 0.0, \"[M]_Tr_Asp\": 0.0, \"[B]_ADPR_c\": 0.0, \"[M]_Tr_DIT2\": 0.0, \"[M]_cplx5_m\": 2.4879304709970507, \"[M]_PSII_h\": 23.350924803251765, \"[M]_Tr_NH42\": -2.115285252458288e-16, \"[M]_Tr_DIT1\": 0.011158962913886064, \"[B]_AlaTA_p\": 0.0, \"[B]_Ex_Phe_c\": 0.0, \"[M]_FBPA_c\": 0.0, \"[M]_Tr_His1\": 0.0, \"[B]_AspAT2_p\": 0.0, \"[M]_PGI_c\": 0.0018598271523379208, \"[B]_Ex_Met_h\": 0.0, \"[B]_KARI12_h\": 0.008369222185413111, \"[M]_FBPA_h\": 0.0, \"[B]_PSerAT_h\": 0.06555890711906935, \"[M]_PGI_h\": -0.0018598271523336013, \"[M]_Tr_DTC1B\": 0.0, \"[B]_Tr_ORO\": 0.0, \"[M]_ArgSCAS_h\": 0.011158962913884145, \"[M]_Ex_Arg_h\": 0.0, \"[B]_Tr_DTC2A\": -3.7891549115991206e-14, \"[M]_3IPMDA1_h\": 0.0, \"[B]_AspAT2_c\": 30.442401566268497, \"[B]_Tr_DTC2B\": 0.322215054138404, \"[B]_AspAT2_m\": -39.12750858717037, \"[MB]_Trp_c\": 0.0, \"[M]_Tr_SFC\": -3.779050951384408e-14, \"[B]_AspAT2_h\": 0.0, \"[M]_Ex_starch\": 0.0, \"[M]_GSSGR_h\": 0.004882046274824315, \"[M]_GluSeADH_m\": 0.0, \"[B]_Ex_Thr_p\": 0.0, \"[M]_PGM_c\": 0.0, \"[M]_GluSeADH_h\": 1.6874767928766877e-15, \"[M]_P5CDHNADP_h\": 0.0, \"[B]_Cytb6f1_h\": 64.81836517962687, \"[M]_PGM_h\": -2.723970165962471e-15, \"[B]_ADNK_c\": 0.0, \"[B]_PyrK_c\": 0.8996913849318215, \"[M]_StS_h1\": -6.809943125822397e-16, \"[M]_StS_h3\": -6.809943125822396e-16, \"[M]_StS_h2\": 1.3619886251644794e-15, \"[M]_FrcFD_c\": 0.0, \"[B]_Ex_Thr_c\": 0.0, \"[M]_CTHL_h\": 0.004882046274824314, \"[B]_Ex_Pro_p\": 0.0, \"[M]_Tr_BT13\": 1.828373576536631e-15, \"[M]_SO3R_h\": 0.0048820462748243145, \"[M]_Ex_Gln_m\": 0.0, \"[M]_Tr_iCit\": -3.7891549115991206e-14, \"[B]_PGR5PGRL11_h\": 0.0, \"[B]_ATPPRT_h\": 0.0, \"[B]_NDC1_1_h\": 0.0, \"[B]_DCAMPS_h\": 0.0, \"[B]_PyrK_h\": 0.0, \"[B]_ForTHFL_h\": 0.0, \"[M]_Ex_Thr_p\": 0.0, \"[MB]_Glu_c\": 0.0, \"[M]_Tr_Met2\": 0.0, \"[MB]_Fum_c\": 0.013948703642317392, \"[M]_Im_Pi\": 0.0, \"[M]_Tr_Met3\": 0.0, \"[M]_GluSNAD_h\": 0.0, \"[B]_ATase_h\": 0.0, \"[M]_Ex_Glu_p\": 0.0, \"[B]_AGluK\": 0.0, \"[B]_NGAM_m\": 0.00911118724550157, \"[B]_IndGPS_h\": 0.006276916639059831, \"[B]_Tr_Cit_iCit_mc\": 0.0, \"[B]_Tr_DTC4B\": 0.0, \"[M]_KGDH_m\": 0.0, \"[M]_HSerDHNADP_h\": 0.06067686084424505, \"[M]_Tr_Phe3\": 0.0, \"[B]_3IPMDH_h\": 0.008369222185413113, \"[B]_NGAM_c\": 0.0503499796174949, \"[B]_DAPE_h\": 0.012553833278119663, \"[M]_Tr_DTC2B\": 0.0, \"[B]_ALS1_h\": 0.033476888741652444, \"[M]_PrAMPCy_h\": 0.0027897407284710367, \"[M]_Tr_UCP\": -4.957638567503095, \"[B]_ATPase_h\": 110.27125773873611, \"[B]_Tr_Trp1\": 0.0, \"[MB]_G6P_c\": 0.0, \"[B]_Tr_SO4\": -9.40765139179136e-19, \"[M]_Ex_Asp_c\": 0.0, \"[B]_Tr_Hp\": 0.0, \"[M]_cACNHA_m\": -3.7891549115991206e-14, \"[M]_PGR5PGRL12_h\": 0.0, \"[M]_Ex_Met_m\": 0.0, \"[M]_cACNHA_h\": 0.0, \"[B]_bAMY1_h\": 5.4490362971519e-16, \"[B]_3IPMDA2_h\": 0.008369222185413113, \"[M]_cACNHA_c\": 0.0, \"[M]_NDC1_1_h\": 0.0, \"[M]_Ex_Asp_m\": 0.0, \"[M]_Ex_Asp_p\": 0.0, \"[B]_Enol_h\": 0.1213537216884901, \"[B]_Tr_O2m\": 0.48541488675390265, \"[B]_Tr_Trp3\": 0.0, \"[B]_Tr_Trp2\": 0.006276916639059831, \"[B]_ProDHNADP_m\": 9.949980547359771e-31, \"[B]_DHODH_m\": 0.0, \"[B]_Ex_Met_m\": 0.0, \"[B]_Enol_c\": -0.8996913849318212, \"[B]_Ex_Asp_p\": 0.0, \"[B]_Tr_Pro1\": 0.0, \"[M]_HEXK_c\": 0.0, \"[B]_Tr_Pyr3\": 0.0, \"[B]_CitS_c\": 0.0, \"[M]_Ex_Thr_m\": 0.0, \"[M]_Tr_ORO\": 0.0, \"[B]_CitS_m\": 0.32221505413836604, \"[B]_NDA2_2_m\": 0.0, \"[B]_BAATA3_h\": 0.016738444370826222, \"[B]_CitS_h\": 0.0, \"[B]_GluSeADH_c\": 0.0, \"[B]_FGAMS_h\": 0.0, \"[B]_S6PS_c\": 1.5343574006590703, \"[B]_FGAMCL_h\": 0.0, \"[B]_AGNDH_h\": 0.004184611092706555, \"[B]_IndGPL_h\": 0.006276916639059831, \"[M]_UDPR_c\": 0.0, \"[B]_GluSeADH_h\": 0.0, \"[B]_Ex_Asp_m\": 0.0, \"[M]_DPE12_h\": 6.809872282157528e-16, \"[M]_Tr_Glu1\": 0.0, \"[B]_AlaTA_h\": 0.0, \"[M]_OROPRT_c\": 0.0, \"[M]_AlaTA_p\": 0.0, \"[B]_Tr_ProU\": 0.0, \"[M]_Ex_Tyr_h\": 0.0, \"[M]_NDH1_h\": 20.291222415310056, \"[M]_Tr_H2Op\": 0.0, \"[B]_Ex_starch\": 1.5343574006590697, \"[B]_Tr_Pro2\": 0.0, \"[M]_AICARFT_h\": 0.002789740728471037, \"[M]_AlaTA_c\": 0.0, \"[B]_Tr_ProA\": -9.949980547359777e-31, \"[M]_PSerP_h\": 0.0, \"[M]_Tr_Tyr1\": 0.0, \"[B]_Tr_Ile2\": 0.00836922218541311, \"[B]_Tr_Ile1\": 0.0, \"[M]_AlaTA_h\": 8.688106737686614e-15, \"[M]_AlaTA_m\": 0.0, \"[B]_HSerDHNAD_h\": -6.209033400172419e-19, \"[B]_iCitDHNAD_m\": 0.0, \"[B]_CAT_p\": 0.0, \"[M]_SGAT_p\": 0.0, \"[B]_ATPSL_h\": 0.0, \"[B]_iCitDHNAD_c\": 0.32012274859205053, \"[M]_MetAdT_c\": 0.0, \"[B]_Tr_P5C2\": -2.5926989119748975e-46, \"[B]_FumHA_c\": 0.0, \"[MB]_CO2_c\": 0.0, \"[M]_Ex_His_h\": 0.0, \"[B]_HCysMT_c\": 0.0, \"[B]_SAK_h\": 0.01813331473506174, \"[M]_dUTPP_c\": 0.0, \"[M]_Ex_Ala_m\": 0.0, \"[B]_CAT_h\": 0.0, \"[B]_FumHA_m\": 0.01394870364231739, \"[M]_Cytb6f2_h\": 56.84746081415856, \"[M]_Tr_DHO2\": 0.0, \"[M]_Tr_DHO1\": 0.0, \"[M]_MalDH1_m\": 0.7463791412991378, \"[B]_dUDPK_c\": 0.0, \"[M]_Tr_BAC1\": 0.0, \"[M]_MalDH1_h\": 0.0, \"[MB]_Asn_c\": 0.0, \"[B]_R5PI_h\": 13.38145636089933, \"[MB]_PEP_c\": 0.0, \"[M]_MalDH1_c\": 1.7059264554600515, \"[M]_MalDH3_h\": 33.40592715151997, \"[M]_Ex_His_c\": 0.0, \"[B]_Tr_GCA1\": 0.0, \"[B]_ALS2_h\": 0.008369222185413111, \"[M]_Tr_PLT5\": 0.0, \"[M]_MalDH1_p\": 0.0, \"[B]_Ex_Tyr_c\": 0.0, \"[M]_Tr_KG\": 0.0, \"[B]_IPODC_h\": 0.008369222185413111, \"[B]_Tr_iCit\": 0.0, \"[B]_Ex_Cys_p\": 0.0, \"[M]_Ex_Cys_c\": 0.0, \"[M]_HisolPTA_h\": 0.0027897407284710367, \"[M]_Ex_Cys_h\": 0.0, \"[B]_Ex_Tyr_p\": 0.0, \"[B]_RibK_h\": 0.0, \"[B]_ProDHNAD_m\": -1.9899961094719546e-30, \"[B]_ANTS_h\": 0.006276916639059832, \"[B]_GluDH3NADP_c\": -0.0020923055463527842, \"[M]_SerRM_c\": 0.0, \"[B]_Ex_Gly_c\": 0.0, \"[M]_RBO_h\": 3.78915491159912e-14, \"[B]_GCEAK_h\": 0.0, \"[B]_GDPK_h\": 0.0, \"[M]_Ex_Glu_m\": 0.0, \"[B]_PPIase_c\": 1.6047983540529644, \"[B]_GDPK_c\": 0.0, \"[B]_AspCT_h\": 0.0, \"[M]_Tr_Cys\": 0.0, \"[B]_Tr_Tyr3\": 0.0, \"[B]_Ex_Asp_h\": 0.0, \"[M]_Si_H_m\": 0.0, \"[M]_AIRC_h\": 0.0, \"[M]_IMPCH_h\": 0.0027897407284710376, \"[B]_Tr_Met2\": 0.0, \"[MB]_2PGA_c\": 0.0, \"[B]_Ex_O2\": 18.880057733763707, \"[B]_S6PPh_c\": 1.5343574006590701, \"[B]_GCAO_h\": 0.0, \"[B]_iCitDHNADP_m\": 0.0, \"[B]_PPiase_h\": 2.998273847924247, \"[M]_NDA2_1_m\": 0.0, \"[B]_iCitDHNADP_h\": 0.0, \"[M]_Ex_Mas\": 0.0, \"[B]_ACoAC_h\": 0.0, \"[B]_GAPDH2_h\": -28.30773165018955, \"[B]_GSSGR_h\": 0.0, \"[B]_Ex_Gln_c\": 0.0, \"[B]_AspK_h\": 0.012553833278119663, \"[B]_Ex_Gln_m\": 0.0, \"[B]_GluSeADA_h\": 0.0, \"[B]_GCAO_p\": 0.0, \"[B]_GAPDH2_c\": -2.401090155647933, \"[B]_Tr_Glu1\": 0.0, \"[B]_NO3R2_c\": 0.0, \"[B]_Ex_Lys_c\": 0.0, \"[B]_Tr_Glu2\": 0.0, \"[M]_Tr_GCEA2\": 0.0, \"[B]_PrATPDP_h\": 0.0, \"[M]_FTK_h\": 0.0009299135761628233, \"[M]_Tr_Val1\": 0.0, \"[B]_Tr_Asp\": 0.0, \"[M]_Tr_Val2\": 0.0, \"[MB]_His_c\": 0.0027897407284710363, \"[B]_SAICARS_h\": 0.0, \"[B]_DAPDC_h\": 0.012553833278119665, \"[M]_AspK_h\": 0.06067686084424505, \"[M]_Tr_HCys\": 0.004882046274824314, \"[M]_KARI12_h\": 0.0, \"[M]_RBC_h\": 3.78915491159912e-14, \"[B]_Ex_Asn_h\": 0.0, \"[B]_Ex_Thr_h\": 0.0, \"[M]_OrnCMT_h\": 0.011158962913884145, \"[M]_ATPCitL_c\": 0.0, \"[M]_SCACoAL_m\": 0.0, \"[M]_SAICARS_h\": 0.0, \"[M]_Tr_TPT2\": 9.885580653624706, \"[B]_Cytb6f2_h\": 64.81836517962687, \"[M]_Tr_TPT1\": -4.374508403776845, \"[M]_TA_h\": -0.0009299135761658393, \"[B]_Tr_Tyr1\": 0.0, \"[B]_Tr_Tyr2\": 0.004184611092706555, \"[B]_Tr_DTC3A\": 0.0, \"[M]_RibK_h\": 0.0, \"[M]_GlnS_m\": 0.0, \"[M]_dUDPK_c\": 0.0, \"[M]_GlnS_h\": 0.11368193468520535, \"[B]_Tr_DTC5\": 0.0, \"[B]_Ru5PE_h\": 26.793599869811835, \"[M]_OrnAT_m\": 0.0, \"[M]_GlnS_c\": 0.30198943385698906, \"[M]_Tr_Asp_Glu_mc\": 0.0, \"[B]_Tr_Lys2\": 0.012553833278119663, \"[B]_Ru5PK_h\": 40.175056230711164, \"[B]_AOrnAGluAcT_h\": 0.0, \"[MB]_Rib_c\": 0.0, \"[M]_Tr_Thr2\": 0.05579481456942073, \"[B]_Ex_Glu_m\": 0.0, \"[B]_Ex_Glu_c\": 0.0, \"[MB]_Phe_c\": 0.0, \"[MB]_Asp_c\": 8.957804177109915, \"[MB]_G1P_c\": 0.0, \"[B]_Tr_His2\": 0.0, \"[MB]_Suc_c\": 0.0, \"[B]_HisolPTA_h\": 0.0, \"[B]_AspAT_c\": 0.0, \"[MB]_Cit_c\": 0.0, \"[B]_MetS_c\": 0.0, \"[B]_AspAT_h\": -0.12344602723484337, \"[B]_Tr_GCEA2\": 0.0, \"[B]_Ex_Glu_p\": 0.0, \"[B]_AspAT_m\": 0.0, \"[B]_Tr_DTC1B\": -3.833025612082399e-46, \"[B]_Tr_DTC1C\": 0.0, \"[B]_PPIF6PK_c\": 0.0, \"[B]_Im_H2S\": 0.0, \"[M]_GluSeADA_h\": 1.6874767928766877e-15, \"[M]_DAHPS_h\": 0.0, \"[M]_Tr_H2Oh\": 0.0, \"[M]_UDPK_c\": 0.0, \"[M]_Tr_DTC2C\": 0.0, \"[M]_Tr_DTC2A\": 0.0, \"[B]_Tr_SCA\": 0.0, \"[M]_Ex_Phe_h\": 0.0, \"[M]_GluSeADA_c\": 0.0, \"[B]_DHLST_m\": 0.0, \"[M]_CeS_c1\": 0.0, \"[M]_PPIF6PK_c\": 0.0, \"[M]_CeS_c3\": 0.0, \"[M]_CeS_c2\": 0.0, \"[M]_Si_H_h\": 26.7622209765329, \"[B]_Tr_Pyr_Na_hc\": 0.0, \"[B]_Ex_AA\": 0.697435182117759, \"[M]_AsnS_c\": 0.0, \"[B]_ACDOxRed_c\": 0.008369222185413106, \"[B]_Tr_P5C1\": 0.0, \"[B]_IMPDH_c\": 0.0, \"[B]_Im_H2O\": 4.644167575711677, \"[M]_ATPSL_h\": 0.004882046274824315, \"[M]_DAPE_h\": 0.0, \"[B]_DHQS_h\": 0.01813331473506174, \"[B]_Tr_Met3\": 0.0, \"[M]_ThrDA_h\": 0.0, \"[B]_ADPRPPT_c\": 0.0, \"[M]_Cysase_c\": 0.0, \"[B]_Ex_Ser_h\": 0.0, \"[M]_KARI34_h\": 0.0, \"[M]_PGR5PGRL11_h\": 0.0, \"[M]_ForDH_h\": 0.0027897407284710376, \"[M]_Tr_Tyr3\": 0.0, \"[B]_AICARFT_h\": 0.0, \"[B]_Ex_Gln_p\": 0.0, \"[M]_CitS_c\": 0.0, \"[B]_Ex_Tyr_h\": 0.0, \"[M]_Im_H2S\": 0.0, \"[M]_NDH2_h\": 10.145611207655028, \"[M]_CitS_h\": 0.0, \"[MB]_SCA_c\": 0.0, \"[M]_Ex_Met_c\": 0.0, \"[MB]_Pyr_c\": -31.369292923302936, \"[M]_CitS_m\": 0.0, \"[M]_AGluPR_h\": 0.011158962913884145, \"[MB]_F6P_c\": -0.0018598271523379208, \"[B]_Fd_DASH_NADPR_h\": 38.73094524103522, \"[B]_AMPK_h\": 0.0, \"[B]_PGADH_h\": 0.06555890711906935, \"[M]_Tr_Ala2\": 0.0, \"[B]_Tr_Ala_mc\": -39.13169319826307, \"[M]_GCEADH_p\": 0.0, \"[B]_AMPK_c\": 0.0, \"[M]_5M_DASH_THFOR_c\": 0.004882046274824314, \"[B]_Tr_DTC1A\": 0.0, \"[B]_Tr_NTT\": 0.0, \"[MB]_Tre_c\": 0.0, \"[B]_Im_CO2\": 0.0, \"[M]_Ex_Ile_m\": 0.0, \"[M]_Tr_Ala1\": 0.0, \"[M]_Tr_Mal\": 0.0, \"[M]_Tr_GCA2\": 3.78915491159912e-14, \"[M]_Tr_GCA1\": 3.7891549115991206e-14, \"[M]_FGAMCL_h\": 0.0, \"[B]_AOX4_h\": 0.0, \"[B]_Tr_Ser1\": 0.0, \"[B]_HSerDHNADP_h\": 0.0, \"[B]_6PGDHNADP_h\": 0.0, \"[M]_Tr_Pyr_Na_hc\": 0.0, \"[M]_PyrPiDK_h\": 39.98884103708572, \"[B]_PGP_h\": 0.0, \"[B]_AOX1A_m\": 0.0, \"[M]_DHDRNADP_h\": 0.0, \"[M]_Tr_THF\": 0.0, \"[MB]_S6P_c\": 0.0, \"[B]_APSR_h\": 0.0, \"[M]_Tr_DIT1_OAA\": 33.480552716006564, \"[B]_Tr_Asn1\": 0.0, \"[B]_Tr_Asn3\": 0.0, \"[M]_Enol_h\": -5.512002163423917, \"[B]_PRANTI_h\": 0.006276916639059832, \"[B]_PSerP_h\": 0.06555890711906935, \"[B]_Tr_CO2h_Ex\": 0.0, \"[M]_Enol_c\": -5.5092124226954855, \"[B]_TPP_c\": 0.0, \"[B]_Tr_Ser2\": 0.05928199048000953, \"[M]_PGADH_h\": 0.0, \"[M]_Ex_MACP\": 0.0, \"[B]_Ex_Trp_c\": 0.0, \"[B]_OROPRT_c\": 0.0, \"[MB]_PGA_c\": -9.883720826472329, \"[M]_Tr_KG_Mal_mc\": 0.0, \"[M]_Tr_Arg2\": 0.011158962913884147, \"[B]_Ex_Trp_h\": 0.0, \"[M]_Tr_Arg1\": 0.0, \"[M]_Ex_Lys_m\": 0.0, \"[B]_Tr_DIC2\": 0.01394870364231739, \"[B]_Tr_DIC1\": 0.31245096158875507, \"[B]_Ex_Trp_m\": 0.0, \"[M]_IPODC_h\": 0.0, \"[B]_Ex_Ser_c\": 0.0, \"[B]_Tr_Met1\": 0.0, \"[M]_SADH_h\": 0.0, \"[MB]_cACN_c\": 3.7891549115991206e-14, \"[M]_Tr_AAC\": 2.478819283751549, \"[M]_Tr_CO2m\": 0.0, \"[M]_P5CDHNAD_h\": 0.0, \"[M]_Tr_CO2h\": 0.013948703642393073, \"[B]_Tr_SFC\": -0.01394870364231739, \"[M]_NGAM_h\": 0.152707083279744, \"[B]_IGPS_h\": 0.0, \"[B]_PGM_c\": 1.5343574006590708, \"[M]_PRANTI_h\": 0.0, \"[M]_Ex_Ile_c\": 0.0, \"[M]_Ex_Pro_m\": 0.0, \"[M]_StP21_c\": -1.361981540797992e-15, \"[B]_PAICARPI_h\": 0.0, \"[B]_TA_h\": 0.0, \"[B]_Tr_AC1\": 0.00836922218541311, \"[M]_Ex_Lys_h\": 0.0, \"[M]_Cytb6f1_h\": 56.84746081415856, \"[M]_Ex_Asn_h\": 0.0, \"[B]_PGI_c\": 4.6030722019772075, \"[MB]_Ile_c\": 0.0, \"[B]_PGI_h\": 0.0, \"[B]_dGDPK_c\": 0.0, \"[B]_Ex_Frc\": 0.0, \"[B]_Im_hnu\": 207.0986208413242, \"[B]_Tr_O2p\": 0.0, \"[M]_Ex_Gly_m\": 0.0, \"[M]_Si_H_p\": 0.0, \"[B]_NDC1_2_h\": 0.0, \"[M]_PSerAT_h\": 0.0, \"[B]_Tr_Leu1\": 0.0, \"[B]_Tr_Cys\": 0.0, \"[MB]_Lys_c\": 0.0, \"[M]_ACoAS_h\": 0.0048820462748243145, \"[B]_PyrDH2_m\": 0.3222150541383661, \"[M]_Ex_Ile_h\": 0.0, \"[B]_Tr_O2h\": -19.36547262051761, \"[B]_Ex_Lys_p\": 0.0, \"[B]_DPE2_c\": 0.0, \"[B]_GAPDH1_h\": 38.670965815373094, \"[B]_dTMPS_c\": 0.0, \"[M]_SBPA_h\": 0.0, \"[M]_DHDRNAD_h\": 0.0, \"[M]_NDC1_2_h\": 0.0, \"[B]_DHFR_c\": 0.0, \"[M]_STK_h\": 0.0009299135761658393, \"[B]_GluK_h\": 0.0, \"[B]_CeS_c2\": 0.0, \"[B]_CeS_c3\": 0.0, \"[B]_CeS_c1\": 0.0, \"[B]_CBPS_h\": 0.0, \"[B]_Cysase_c\": 0.0, \"[B]_GAPDH3_c\": 0.0, \"[MB]_DHAP_c\": 6.139289429788616, \"[B]_Ex_Lys_h\": 0.0, \"[M]_DAPAT_h\": 0.0, \"[B]_AOrnTA_h\": 0.0, \"[B]_Ex_Lys_m\": 0.0, \"[B]_Tr_Asp_mc\": -39.12750858717037, \"[M]_Tr_PPT\": -34.47683887366181, \"[B]_Ex_Val_c\": 0.0, \"[M]_dADPK_c\": 0.0, \"[M]_Ex_Ile_p\": 0.0, \"[B]_Ex_Val_m\": 0.0, \"[B]_TrpS_h\": 0.006276916639059831, \"[B]_Tr_UCP\": -4.073111580194425, \"[B]_NDH2_h\": 26.087419938591648, \"[B]_Ex_Val_p\": 0.0, \"[B]_F6PK1_c\": 0.0, \"[M]_Ex_Met_h\": 0.0, \"[B]_DHQDH_h\": 0.018133314735061738, \"[B]_DHDRNAD_h\": 0.012553833278119665, \"[B]_HCO3DHA_h\": 0.0, \"[M]_ACDOxRed_c\": 0.0, \"[B]_F6PK1_h\": 0.0, \"[B]_Tr_THF\": 0.0, \"[B]_Tr_DTC2C\": 0.0, \"[B]_NMPK_c\": 0.0, \"[M]_Tr_BAC2\": 0.0, \"[B]_SerAcT_m\": 0.0, \"[B]_GABATA2_m\": 0.0, \"[B]_Tr_TPT2\": -0.00809194969540839, \"[B]_Tr_TPT1\": 13.184502367052081, \"[B]_Ex_His_c\": 0.0, \"[M]_Glnase_c\": 0.0, \"[B]_GluDC_c\": 0.0, \"[M]_GPAT_h\": 0.0, \"[M]_OMPDC_c\": 0.0, \"[B]_Ex_MACP\": 0.0, \"[M]_S6PPh_c\": 0.0, \"[M]_Tr_Ser3\": 0.0, \"[M]_Tr_Trp1\": 0.0, \"[B]_P5CRNAD_c\": 0.0, \"[M]_Arginase_m\": 0.0, \"[B]_OrnAT_m\": 0.0, \"[M]_F26BPPh_c\": 0.0, \"[M]_Tr_GlySer\": 0.0, \"[M]_Tr_Trp3\": 0.0, \"[M]_Ex_cellulose\": 0.0, \"[B]_Tr_Pyr2\": 0.0, \"[MB]_Pro_c\": 0.0, \"[MB]_iCit_c\": 0.0, \"[B]_Ex_Phe_m\": 0.0, \"[M]_HSerK_h\": 0.06067686084424505, \"[M]_F6PK1_h\": 0.0, \"[M]_cACNDHA_c\": 0.0, \"[B]_ACoAS_h\": 0.008369222185413111, \"[M]_cACNDHA_m\": 0.0, \"[M]_cACNDHA_h\": 0.0, \"[M]_F6PK1_c\": 0.0, \"[M]_Tr_DTC4A\": 0.0, \"[M]_Tr_ProA\": 0.0, \"[M]_SucS_c\": 0.0, \"[B]_HisolPDH_h\": 0.0, \"[M]_6PGL_h\": 0.0, \"[M]_ADPR_c\": 0.0, \"[B]_AMPDA_c\": 0.0, \"[B]_Tr_NH41\": -0.0020923055463532786, \"[B]_Tr_NH42\": 0.0, \"[B]_Tr_Pi\": 0.0, \"[B]_PrAMPCy_h\": 0.0, \"[M]_bAMY2_h\": 0.0, \"[M]_Tr_Thr1\": 0.0, \"[B]_Tr_Lys1\": 0.0, \"[M]_Tr_Thr3\": 0.0, \"[B]_GluSNAD_h\": 0.0, \"[B]_Tr_Ser3\": 0.004184611092706569, \"[M]_UGPase_c\": 0.0, \"[B]_dADPK_c\": 0.0, \"[M]_Ex_Lys_c\": 0.0, \"[B]_Ex_Tre\": 0.0, \"[B]_Tr_His3\": 0.0, \"[B]_Tr_Mal\": 0.0, \"[B]_DHDRNADP_h\": 0.0, \"[B]_GluSeADH_m\": 9.949980547359771e-31, \"[M]_PEPC2_c\": -39.986051296357296, \"[B]_OMPDC_c\": 0.0, \"[B]_Tr_PPT\": 0.0, \"[B]_Tr_Arg2\": 0.0, \"[B]_GMPK_c\": 0.0, \"[M]_GAPDH2_h\": -0.0027897407284713763, \"[M]_Tr_DTC3A\": 0.0, \"[B]_Tr_Arg1\": 0.0, \"[M]_Tr_DTC3C\": 3.789154911599121e-14, \"[M]_Tr_DTC3B\": -3.7891549115991206e-14, \"[B]_StP1_h\": 0.0, \"[B]_SucS_c\": -2.721671970011259e-16, \"[MB]_Cys_c\": 0.0, \"[B]_Ex_Ala_c\": 0.0, \"[B]_TPI_h\": 26.793599869811835, \"[M]_AGluK\": 0.011158962913884147, \"[M]_F6PK2_c\": 0.0, \"[B]_SerAcT_h\": 0.0, \"[M]_FumHA_m\": -1.0037884938142775e-16, \"[B]_GlnS_m\": 0.0, \"[M]_FumHA_c\": 0.0, \"[B]_TPI_c\": 0.0, \"[B]_Ex_Phe_h\": 0.0, \"[B]_SerAcT_c\": 0.0, \"[B]_Tr_GPT1\": 3.0687148013181424, \"[B]_UDPR_c\": 0.0, \"[M]_ADNK_c\": 0.0, \"[B]_GlnS_c\": 0.0, \"[B]_GlyDH_m\": 0.004184611092706557, \"[B]_GlnS_h\": 0.006276916639059832, \"[M]_dTMPK_c\": 0.0, \"[B]_6PGL_h\": 0.0, \"[M]_Fd_DASH_NADPR_h\": 43.42704270886957, \"[M]_DHQS_h\": 0.0, \"[B]_DPE11_h\": 5.449036297151899e-16, \"[B]_dUTPP_c\": 0.0, \"[B]_Ex_His_p\": 0.0, \"[M]_Tr_Asn1\": 0.0, \"[M]_Asp_DASH_SeADH_h\": 0.06067686084424505, \"[M]_Tr_Asn3\": 0.0, \"[M]_CTPP_c\": 0.0, \"[B]_Tr_GlySer\": 0.008369222185413106, \"[B]_PGAK_c\": 2.401090155647933, \"[B]_GCEADH_p\": 0.0, \"[B]_Tr_DIC4\": 0.0, \"[M]_Tr_DTC5\": -0.7463791412991377, \"[MB]_Ser_c\": -0.009764092549648629, \"[M]_AspAT_h\": 0.07462556448660024, \"[B]_dCDPK_c\": 0.0, \"[B]_PGAK_h\": 66.97869746556265, \"[M]_AspAT_m\": 0.0, \"[M]_R5PI_h\": -0.001859827152328663, \"[B]_IGPDA_h\": 0.0, \"[M]_AOX1A_m\": 0.0, \"[M]_AspAT_p\": 0.0, \"[B]_PGAM_c\": -0.8996913849318212, \"[M]_FBPase_c\": 0.0, \"[M]_EPSPS_h\": 0.0, \"[M]_FBPase_h\": -7.954932760386074e-15, \"[B]_PGAM_h\": 0.1213537216884901, \"[M]_Tr_Ala_mc\": 0.0, \"[B]_Tr_PLT5\": 0.0, \"[B]_IMPCH_h\": 0.0, \"[B]_STK_h\": 13.387733277538391, \"[B]_Tr_PIC\": 3.5533877230115882, \"[M]_SBPase_h\": 0.0, \"[M]_FrcK_c\": 0.0, \"[M]_Ex_Asn_p\": 0.0, \"[B]_Tr_DIT2\": 1.4382448794908984e-17, \"[M]_ACoAC_h\": 0.0, \"[B]_Tr_DIT1\": 0.0, \"[M]_3IPMDA2_h\": 0.0, \"[B]_CHRS_h\": 0.018133314735061738, \"[M]_Im_H2O\": 31.722543843045642, \"[B]_Ex_Gly_p\": 0.0, \"[B]_dTMPK_c\": 0.0, \"[B]_AGNDA_h\": 0.00767178700329535, \"[M]_Tr_Asn2\": 0.0, \"[B]_Ex_Leu_p\": 0.0, \"[B]_Tr_Pyr_H_hc\": -0.0076717870032973565, \"[B]_OrnCMT_h\": 0.0, \"[M]_Tr_AC1\": 0.0, \"[B]_PyrDH1_m\": 0.32221505413836604, \"[M]_Tr_AC2\": 0.0, \"[M]_Tr_Tyr2\": 0.0, \"[B]_R5PDPK_h\": 0.006276916639059832, \"[B]_Ex_Gly_m\": 0.0, \"[M]_AMPK_h\": 40.01534357400622, \"[B]_SBPase_h\": 13.38773327753839, \"[M]_CHRS_h\": 0.0, \"[M]_Ex_Gly_c\": 0.0, \"[B]_FrcK_c\": 0.0, \"[M]_TPS_c\": 0.0, \"[MB]_Gly_c\": 0.004882046274824314, \"[B]_FBPase_h\": 13.405866592273446, \"[B]_Ex_Gly_h\": 0.0, \"[M]_ThrA_c\": 0.0, \"[B]_FBPase_c\": 6.139289429788614, \"[M]_Tr_DIC2\": -1.033798727802805e-16, \"[M]_Tr_PIC\": 2.4788192837515486, \"[M]_Tr_Val3\": 0.0, \"[M]_Ex_Phe_p\": 0.0, \"[M]_AspAT_c\": 0.3431381096019382, \"[M]_StP1_h\": 2.7239701659624714e-15, \"[B]_Asp_DASH_SeADH_h\": 0.012553833278119665, \"[M]_DHLST_m\": 0.0, \"[B]_StP21_c\": 0.0, \"[B]_FrcFD_c\": 0.0, \"[M]_Ex_Tyr_p\": 0.0, \"[M]_Im_NO3\": 1.0559168657262974, \"[M]_iCitL_p\": -3.7891549115991206e-14, \"[M]_GlyDH_m\": 0.0, \"[B]_Tr_Ala1\": 0.0, \"[M]_GDPR_c\": 0.0, \"[B]_Ex_Cys_c\": 0.0, \"[B]_SCACoAL_m\": 0.0, \"[MB]_Arg_c\": 0.011158962913884147, \"[B]_bAMY2_h\": 0.0, \"[M]_Ex_Phe_m\": 0.0, \"[M]_Ex_Phe_c\": 0.0, \"[B]_Ex_Cys_h\": 0.0, \"[M]_TrpS_h\": 0.0, \"[M]_Tr_Lys2\": 0.0, \"[B]_2IPMS_h\": 0.008369222185413113, \"[M]_Urease_m\": 0.0, \"[M]_DHDS_h\": 0.0, \"[B]_CTHS_h\": 0.0, \"[B]_ATPCitL_c\": 0.0, \"[B]_GMPS_c\": 0.0, \"[M]_GARFT_h\": 0.0, \"[M]_G6PDH_h\": 0.0, \"[B]_HisolPP_h\": 0.0, \"[M]_DHLDH1_m\": 0.0, \"[M]_ATase_h\": 0.0, \"[M]_DCAMPL1_h\": 0.0, \"[M]_HCO3DHA_h\": 0.011158962913884143, \"[M]_Ex_Ser_m\": 0.0, \"[B]_DCAMPL1_h\": 0.0, \"[M]_HCO3DHA_c\": 39.986051296357296, \"[B]_AMT_m\": 0.004184611092706564, \"[B]_AlaTA_c\": 0.006974351821175978, \"[B]_Tr_DTC4C\": 0.0, \"[B]_GluSFd_h\": 0.0, \"[B]_Tr_DTC4A\": 0.0, \"[M]_Tr_SO4\": 0.004882046274824315, \"[M]_AspCT_h\": 0.0, \"[M]_IGPS_h\": 0.0027897407284710367, \"[B]_Ex_Cys_m\": 0.0, \"[MB]_Tyr_c\": 0.0, \"[B]_Tr_Leu2\": 0.00836922218541311, \"[M]_Ex_Suc\": 0.0, \"[B]_Ex_Ala_m\": 0.0, \"[B]_Ex_Ala_h\": 0.0, \"[M]_Ex_Ser_p\": 0.0, \"[M]_Ex_Leu_m\": 0.0, \"[M]_Tr_Leu3\": 0.0, \"[B]_DAPAT_h\": 0.012553833278119663, \"[M]_Tr_Leu1\": 0.0, \"[M]_Tr_Leu2\": 0.0, \"[B]_PGM_h\": 3.068714801318141, \"[B]_Ex_Arg_c\": 0.0, \"[M]_ThrS_h\": 0.05579481456942073, \"[M]_iCitDHNAD_m\": 0.0, \"[B]_RBC_h_Ex\": 0.0, \"[B]_Ex_Ala_p\": 0.0, \"[M]_iCitDHNAD_c\": 0.0, \"[B]_MalDH4_h\": 0.0, \"[B]_GlyHMT_m\": 0.004184611092706538, \"[B]_DPE12_h\": 5.4490362971519e-16, \"[B]_GlyHMT_c\": 0.0, \"[B]_CHRM_h\": 0.011856398096001905, \"[B]_TRXR_c\": 0.0, \"[M]_AOrnTA_h\": 0.011158962913884147, \"[B]_KGDH_m\": 9.20631431556811e-30, \"[M]_Tr_Ile1\": 0.0, \"[M]_AGPase_h\": 0.0, \"[M]_HisolPP_h\": 0.0027897407284710367, \"[M]_CTHS_h\": 0.004882046274824314, \"[M]_Tr_PRPP\": 0.0, \"[M]_Ex_Pro_h\": 0.0, \"[M]_IMPDH_c\": 0.0, \"[M]_DHLAcT_m\": 0.0, \"[M]_GluSeADA_m\": 0.0, \"[B]_GABATA1_m\": 0.0, \"[M]_dTDPK_c\": 0.0, \"[M]_bAMY1_h\": -6.809943125822396e-16, \"[B]_Tr_Asn2\": 0.0, \"[B]_DCAMPL2_h\": 0.0, \"[M]_2IPMS_h\": 0.0, \"[M]_Si_H_c\": -34.393146651807676, \"[B]_CTHL_h\": 0.0, \"[M]_Tr_DTC1C\": 0.0, \"[M]_GluDH1NADP_m\": 0.0, \"[M]_Ex_His_p\": 0.0, \"[B]_Im_SO4\": -5.745796611646582e-19, \"[M]_Tr_Mex1\": -1.3619815407979926e-15, \"[B]_GluK_c\": 0.0, \"[B]_GluK_m\": 9.949980547359771e-31, \"[B]_Tr_Leu3\": 0.0, \"[B]_Arginase_m\": 0.0, \"[M]_HSerDHNAD_h\": 0.0, \"[M]_GluDH1NAD_m\": -1.7665861565311411e-16, \"[M]_Tr_ProU\": 0.0, \"[B]_3IPMDA1_h\": 0.008369222185413113, \"[M]_Tr_GPT1\": 0.0018598271523308776, \"[M]_Im_SO4\": 0.0048820462748243145, \"[B]_DHADA1_h\": 0.008369222185413111, \"[M]_GAPDH2_c\": 0.0, \"[M]_GluK_c\": 0.0, \"[B]_Ex_Leu_m\": 0.0, \"[B]_DHLDH1_m\": 0.004184611092706567, \"[B]_StS_h2\": 1.5343574006590701, \"[B]_StS_h3\": 5.449036297151899e-16, \"[M]_GluK_h\": 1.6874767928766877e-15, \"[B]_StS_h1\": 1.5343574006590708, \"[M]_DHADA1_h\": 0.0, \"[B]_Im_NO3\": 0.0, \"[M]_GluK_m\": 0.0, \"[B]_cACNDHA_h\": 0.0, \"[M]_GluSFd_h\": 0.09973323104285017, \"[M]_ADNN_c\": 0.0, \"[B]_cACNDHA_m\": 0.32221505413840396, \"[B]_Ex_Leu_h\": 0.0, \"[B]_cplx2_m\": 0.0, \"[B]_cACNDHA_c\": -3.7891549115991206e-14, \"[B]_GluDH1NADP_m\": 0.0, \"[M]_Tr_H_Na_hc\": 0.0, \"[M]_Tr_Cit_iCit_mc\": 0.0, \"[MB]_Frc_c\": 2.721671970011259e-16, \"[M]_GluDH3NADP_c\": -0.6451275434589275, \"[M]_Asnase_c\": 0.0, \"[B]_Tr_Pyr_Mal_hc\": 0.012553833278117654, \"[B]_cplx4_m\": 0.48541488675390265, \"[B]_Ex_Met_p\": 0.0, \"[B]_DHOase_h\": 0.0, \"[B]_Tr_Phe3\": 0.0, \"[M]_GGAT_h\": 0.0, \"[M]_PEPC1_c\": 0.0, \"[B]_Tr_Mex1\": 0.0, \"[M]_CTPS_c\": 0.0, \"[M]_Im_NH4\": 0.0, \"[B]_SBPA_h\": 13.38773327753839, \"[B]_Ex_Asp_c\": 0.0, \"[B]_ForDH_h\": 0.0, \"[B]_MalDH2_m\": 39.45390825240143, \"[M]_Ex_Ala_c\": 0.0, \"[B]_ANTPRT_h\": 0.006276916639059831, \"[B]_Tr_CO2h\": 40.10252297177092, \"[B]_SGAT_p\": 0.0, \"[M]_Ex_Ala_h\": 0.0, \"[B]_Tr_Phe1\": 0.0, \"[B]_Tr_Phe2\": 0.0076717870032953495, \"[B]_iCitDHNADP_c\": 0.0020923055463527842, \"[B]_PRAGlyL_h\": 0.0, \"[MB]_Leu_c\": 0.0, \"[B]_CysS_m\": 0.0, \"[B]_Tr_CO2m\": -39.78030791763252, \"[B]_CysS_h\": -5.573131865044921e-19, \"[M]_Tr_Hp\": 0.0, \"[M]_GCAO_p\": 3.7891549115991206e-14, \"[MB]_Ala_c\": -8.61466606750798, \"[B]_Tr_DIT1_OAA\": -28.233803520885072, \"[M]_NMPK_c\": 0.0, \"[M]_GGAT_p\": 0.0, \"[M]_PAICARPI_h\": 0.002789740728471037, \"[B]_NDH1_h\": 52.174839877183295, \"[M]_GCEAK_h\": 0.0, \"[B]_6PGDHNAD_h\": 0.0, \"[MB]_GAP_c\": 3.7462912238360895, \"[M]_TPI_h\": 0.0, \"[M]_PrATPDP_h\": 0.0027897407284710367, \"[M]_DPE2_c\": -1.3619815407979924e-15, \"[M]_TPI_c\": 6.139289429788616, \"[B]_P5CDHNADP_h\": 0.0, \"[B]_UDPK_c\": 1.534357400659071, \"[M]_Ex_Cys_p\": 0.0, \"[B]_P5CDHNADP_m\": 0.0, \"[M]_Ex_Tyr_m\": 0.0, \"[B]_Tr_GCA2\": 0.0, \"[B]_CysS_c\": 0.0, \"[B]_Tr_DHO2\": 0.0, \"[M]_GluSeADH_c\": 0.0, \"[B]_Tr_DHO1\": 0.0, \"[M]_Tr_Gln\": 0.0, \"[M]_DCAMPL2_h\": 0.002789740728471037, \"[M]_Tr_Asp_OAA_hc\": 0.0, \"[M]_dCDPK_c\": 0.0, \"[M]_Tr_Pyr1\": 0.0, \"[M]_Tr_Pyr3\": 0.0, \"[M]_Tr_Pyr2\": 0.0, \"total\": 2999.1825909203394, \"[M]_TRXR_c\": 0.0, \"[M]_SAK_h\": 0.0, \"[M]_Ru5PE_h\": 0.0018598271523286628, \"[B]_Ex_Ser_m\": 0.0, \"[M]_AMPDA_c\": 0.0, \"[B]_PyrPiDK_h\": -0.08508709221836662, \"[M]_TPP_c\": 0.0, \"[M]_Tr_NO2\": 1.0559168657262976, \"[M]_GlyHMT_m\": 0.0, \"[B]_Tr_Fum\": 0.0, \"[B]_Ex_Pro_h\": 0.0, \"[B]_GluSeADA_c\": 0.0, \"[M]_ATPase_h\": 90.34399682506536, \"[M]_PyrK_c\": 0.0, \"[M]_P5CDHNADP_m\": 0.0, \"[M]_Ex_Gln_p\": 0.0, \"[M]_IGPDA_h\": 0.002789740728471037, \"[B]_UGPase_c\": 1.534357400659071, \"[B]_Ex_His_h\": 0.0, \"[M]_Ex_AA\": 0.0, \"[M]_Tr_O2p\": 3.789154911599121e-14, \"[M]_R5PDPK_h\": 0.0027897407284945028, \"[M]_PyrK_h\": 0.0, \"[B]_BAATA1_h\": 0.008369222185413111, \"[M]_ANTPRT_h\": 0.0, \"[M]_APSR_h\": 0.0048820462748243145, \"[M]_Tr_O2h\": -23.350924803251726, \"[M]_Ex_Gln_c\": 0.0, \"[M]_Ex_Ala_p\": 0.0, \"[M]_Tr_H2S1\": 0.0, \"[M]_Tr_O2m\": 0.37318957064954994, \"[M]_SCASeADH_m\": 0.0, \"[M]_Tr_H2S2\": 0.0, \"[B]_Tr_BAC1\": 0.0, \"[M]_Ex_Gln_h\": 0.0, \"[B]_Tr_BAC2\": 0.0, \"[M]_PRAGlyL_h\": 0.0, \"[B]_Ex_Tyr_m\": 0.0, \"[B]_FBPA_h\": 13.405866592273446, \"[B]_Tr_HCys\": 0.0, \"[M]_Tr_Met1\": 0.0, \"[B]_HSerK_h\": -6.20903340017242e-19, \"[M]_AspAT2_m\": 0.0, \"[M]_AspAT2_h\": 0.0, \"[M]_cplx2_m\": -3.7891338887695416e-14, \"[M]_HisolPDH_h\": 0.0027897407284710367, \"[M]_AspAT2_c\": 8.61466606750798, \"[B]_Ex_Gln_h\": 0.0, \"[M]_P5CRNAD_c\": 1.4123280108570153e-15, \"[M]_DHLDH2_m\": 0.0, \"[M]_dTMPS_c\": 0.0, \"[M]_NO3R1_c\": 1.701044409185225, \"[M]_Tr_Glu2\": 0.0, \"[M]_ProDHNADP_m\": 0.0, \"[M]_Tr_Fum\": 0.013948703642355183, \"[M]_AspAT2_p\": 0.0, \"[B]_Ex_Phe_p\": 0.0, \"[B]_Ex_Asn_p\": 0.0, \"[M]_BAATA1_h\": 0.0, \"[B]_ThrA_c\": 0.008369222185413108, \"[M]_Ex_Val_c\": 0.0, \"[M]_HisalPDH_h\": 0.0027897407284710363, \"[B]_ArgSCAS_h\": 0.0, \"[M]_GABATA2_m\": 0.0, \"[M]_Ex_Val_m\": 0.0, \"[B]_Tr_BT12\": 0.14088190678783874, \"[B]_Tr_BT13\": -0.0704409533939442, \"[M]_Ex_Val_h\": 0.0, \"[B]_Tr_BT11\": -0.07044095339389579, \"[B]_Ex_Asn_c\": 0.0, \"[M]_Tr_Gly\": 0.0, \"[B]_FBPA_c\": 6.139289429788615, \"[M]_Ex_Val_p\": 0.0, \"[M]_NO3R2_c\": -0.6451275434589275, \"[B]_Tr_AC2\": 0.0, \"[M]_Tr_pGlc\": 0.0, \"[M]_ALS2_h\": 0.0, \"[M]_Ex_Asp_h\": 0.0, \"[M]_BAATA3_h\": 0.0, \"[B]_Ex_Asn_m\": 0.0, \"[M]_Ex_Glc\": 0.0, \"[B]_DHLDH2_m\": 0.32221505413836604, \"[M]_Tr_Pro1\": 0.0, \"[B]_Tr_Ile3\": 0.0, \"[M]_Tr_GCEA1\": 0.0, \"[M]_HCysMT_c\": 0.0, \"[B]_cACNHA_c\": 0.0, \"[B]_cACNHA_m\": 0.32221505413840396, \"[B]_Glnase_c\": 0.0, \"[B]_cACNHA_h\": 0.0, \"[M]_Ex_Pro_c\": 0.0, \"[B]_Tr_H2S1\": 0.0, \"[B]_Tr_Thr1\": 0.0, \"[B]_Tr_Thr3\": 0.0, \"[B]_Tr_Thr2\": -0.008369222185413113, \"[M]_Tr_OAA\": 0.0, \"[B]_Tr_H2S2\": 0.0, \"[B]_AsnS_c\": 0.07044095339389368, \"[MB]_GCEA_c\": 0.0, \"[M]_Ex_His_m\": 0.0, \"[M]_ACPM_h\": 0.0, \"[M]_Ex_Pro_p\": 0.0, \"[M]_PSI_h\": 113.69492162831712, \"[B]_KARI34_h\": 0.025107666556239337, \"[B]_Asnase_c\": 0.0, \"[M]_Ex_Thr_h\": 0.0, \"[M]_P5CDHNAD_m\": 0.0, \"[M]_AGNDH_h\": 0.0, \"[M]_Ex_Gly_h\": 0.0, \"[B]_Tr_Asp_Glu_mc\": 0.0, \"[B]_CDPR_c\": 0.0, \"[B]_DPE13_h\": 0.0, \"[M]_Tr_PXN3\": 0.0, \"[M]_Ex_Gly_p\": 0.0, \"[B]_Ex_Ile_c\": 0.0, \"[M]_GDPK_h\": 0.0027897407284710376, \"[M]_Tr_NTT\": 0.0, \"[B]_Tr_DTC3B\": 0.0, \"[B]_Tr_DTC3C\": 0.0, \"[M]_CBPS_h\": 0.011158962913884145, \"[B]_AGluPR_h\": 0.0, \"[M]_GDPK_c\": 0.0, \"[M]_Ex_Lys_p\": 0.0, \"[B]_Im_NH4\": 0.0, \"[B]_Tr_GCEA1\": 0.0, \"[M]_Tr_DTC4B\": 0.0, \"[M]_Tr_DTC4C\": 0.0, \"[M]_Im_CO2\": 39.999999999999694, \"[B]_CTPS_c\": 0.0, \"[B]_MalDH1_c\": 2.0725981848704675, \"[MB]_Val_c\": 0.0, \"[B]_MalDH1_m\": -38.805293533032, \"[M]_Tr_Lys1\": 0.0, \"[B]_MalDH1_h\": 28.24635735416319, \"[B]_GPAT_h\": 0.011856398096001907, \"[M]_AMPK_c\": -1.0968339679760235e-15, \"[M]_cplx4_m\": 0.37318957064954994, \"[M]_Ex_Frc\": 0.0, \"[B]_Ex_Leu_c\": 0.0, \"[B]_MalDH1_p\": 0.0, \"[B]_NO3R1_c\": 0.0, \"[B]_PEPC2_c\": 0.0, \"[M]_Tr_Pyr_Mal_hc\": 0.08578452740048728, \"[B]_Ex_Thr_m\": 0.0, \"[M]_PyrDH2_m\": 0.0, \"[B]_Tr_NDT1\": 2.1126319423086297e-15, \"[M]_Ru5PK_h\": 0.0, \"[B]_RBC_h\": 40.175056230711164, \"[B]_Tr_NDT2\": 0.0, \"[B]_ADNN_c\": 0.0, \"[M]_CysS_c\": 0.0, \"[M]_CysS_m\": 0.0, \"[M]_Tr_DIC4\": 0.0, \"[M]_DHADA2_h\": 0.0, \"[M]_ATPPRT_h\": 0.0027897407284710363, \"[M]_CysS_h\": 0.0048820462748243145, \"[M]_Tr_DIC1\": 0.0, \"[B]_DHADA2_h\": 0.025107666556239333, \"[M]_Ex_Asn_c\": 0.0, \"[M]_NGAM_c\": 0.0503499796174949, \"[M]_Ex_Glu_c\": 0.0, \"[M]_Ex_Cys_m\": 0.0, \"[M]_Tr_SCA\": 3.789154911599121e-14, \"[M]_GAPDH3_c\": 0.0, \"[B]_Tr_AAC\": 3.226988057780516, \"[M]_Ex_Asn_m\": 0.0, \"[M]_NGAM_m\": 0.00911118724550157, \"[M]_GMPS_c\": 0.0, \"[B]_Si_H_m\": 42.16535706409183, \"[M]_Tr_Ile2\": 0.0, \"[B]_GluDH1NAD_m\": 0.00418461109270719, \"[B]_F6PK2_c\": 0.0, \"[M]_3IPMDH_h\": 0.0, \"[B]_Si_H_h\": 38.88990684390628, \"[B]_HisalPDH_h\": 0.0, \"[M]_Tr_Pi\": 4.659918292189078e-14, \"[MB]_Mal_c\": 30.95362155476078, \"[B]_cplx5_m\": 3.236099245026018, \"[M]_ANTS_h\": 0.0, \"[B]_Si_H_c\": 0.0, \"[B]_Tr_Gln\": 0.0, \"[M]_PPIase_c\": 0.0, \"[M]_Tr_Pyr_H_hc\": 40.069743518211396, \"[B]_Tr_pGlc\": 1.08980725943038e-15, \"[B]_MetAdT_c\": 0.0, \"[M]_GCAO_h\": 0.0, \"[B]_Tr_Gly\": 0.0, \"[B]_HEXK_c\": 0.0, \"[B]_Tr_His1\": 0.0, \"[B]_ThrS_h\": 0.0, \"[M]_Tr_NDT2\": -3.408747327001999e-16, \"[B]_DAHPS_h\": 0.01813331473506174, \"[B]_cplx1_m\": 0.9708297735078053, \"[B]_Ex_His_m\": 0.0, \"[M]_DHODH_m\": 0.0, \"[M]_AOrnAGluAcT_h\": 0.011158962913884147, \"[M]_iCitDHNADP_h\": 0.0, \"[B]_MalDH3_h\": 0.0, \"[M]_iCitDHNADP_m\": 0.0, \"[M]_Ex_Trp_h\": 0.0, \"[B]_SO3R_h\": 0.0, \"[M]_iCitDHNADP_c\": 0.0, \"[M]_Tr_P5C2\": -1.0156494100072791e-16, \"[M]_GlyHMT_c\": -0.004882046274824314, \"[B]_cplx3_m\": 0.9708297735078053, \"[M]_Tr_P5C1\": -5.44733685369813e-16, \"[B]_ThrDA_h\": 0.008369222185413111, \"[M]_Ex_Trp_p\": 0.0, \"[M]_DCAMPS_h\": 0.002789740728471037, \"[M]_Ex_Glu_h\": 0.0, \"[B]_PGR5PGRL12_h\": 0.0, \"[B]_Ex_Ile_h\": 0.0, \"[M]_CAT_h\": 0.0, \"[B]_Ex_Ile_m\": 0.0, \"[B]_Si_H_p\": 0.0, \"[B]_Tr_OAA\": 0.0, \"[B]_Ex_Ile_p\": 0.0, \"[M]_CHRM_h\": 0.0, \"[M]_Ex_Trp_c\": 0.0, \"[M]_CAT_p\": 0.0, \"[B]_NO2R_h\": 0.0, \"[B]_Ex_Ser_p\": 0.0, \"[M]_Tr_TPT3\": 0.0, \"[B]_P5CDHNAD_m\": 0.0, \"[M]_AGNDA_h\": 0.0, \"[M]_Ex_Trp_m\": 0.0, \"[B]_P5CDHNAD_h\": 0.0, \"[M]_Ex_Thr_c\": 0.0, \"[B]_SCASeADH_m\": 0.0}, \"enable_editing\": false, \"gene_data\": null, \"metabolite_data\": null, \"fill_screen\": false, \"enable_keys\": false, \"menu\": \"zoom\", \"scroll_behavior\": \"none\", \"ignore_bootstrap\": true, \"never_ask_before_quit\": true}'),\n",
       "               builder_embed_css: JSON.parse('null'),\n",
       "               map_data: JSON.parse('[{\"map_name\":\"new_map\",\"map_id\":\"cPBjQ56p0ATA\",\"map_description\":\"\\\\nLast Modified Mon Jul 30 2018 11:42:21 GMT+0200 (CEST)\",\"homepage\":\"https://escher.github.io\",\"schema\":\"https://escher.github.io/escher/jsonschema/1-0-0#\"},{\"reactions\":{\"3\":{\"name\":\"Import CO2\",\"bigg_id\":\"[M]_Im_CO2\",\"reversibility\":false,\"label_x\":1300.6845092773438,\"label_y\":-978.7737426757812,\"gene_reaction_rule\":\"\",\"genes\":[],\"metabolites\":[{\"bigg_id\":\"[M]_CO2_c\",\"coefficient\":1}],\"segments\":{\"9\":{\"from_node_id\":\"13\",\"to_node_id\":\"14\",\"b1\":null,\"b2\":null},\"10\":{\"from_node_id\":\"15\",\"to_node_id\":\"14\",\"b1\":null,\"b2\":null},\"11\":{\"from_node_id\":\"15\",\"to_node_id\":\"12\",\"b1\":{\"x\":1285.6845092773438,\"y\":-926.7737426757812},\"b2\":{\"x\":1289.6665649414062,\"y\":-378.75006103515625}}}},\"8\":{\"name\":\"HCO3 dehydratase\",\"bigg_id\":\"[M]_HCO3DHA_c\",\"reversibility\":false,\"label_x\":1304.6665649414062,\"label_y\":-135.00006103515625,\"gene_reaction_rule\":\"\",\"genes\":[],\"metabolites\":[{\"bigg_id\":\"[M]_CO2_c\",\"coefficient\":-1},{\"bigg_id\":\"[M]_H2O_c\",\"coefficient\":-1},{\"bigg_id\":\"[M]_HCO3_c\",\"coefficient\":1},{\"bigg_id\":\"[M]_H_c\",\"coefficient\":1}],\"segments\":{\"36\":{\"from_node_id\":\"40\",\"to_node_id\":\"41\",\"b1\":null,\"b2\":null},\"37\":{\"from_node_id\":\"42\",\"to_node_id\":\"41\",\"b1\":null,\"b2\":null},\"38\":{\"from_node_id\":\"40\",\"to_node_id\":\"12\",\"b1\":{\"x\":1289.6665649414062,\"y\":-207.00006103515625},\"b2\":{\"x\":1289.6665649414062,\"y\":-261.25006103515625}},\"40\":{\"from_node_id\":\"42\",\"to_node_id\":\"44\",\"b1\":{\"x\":1289.6665649414062,\"y\":-83.00006103515625},\"b2\":{\"x\":1289.6665649414062,\"y\":-28.75006103515625}}}},\"10\":{\"name\":\"PEP carboxylase\",\"bigg_id\":\"[M]_PEPC2_c\",\"reversibility\":true,\"label_x\":1422.7590942382812,\"label_y\":77.27912712097168,\"gene_reaction_rule\":\"\",\"genes\":[],\"metabolites\":[{\"bigg_id\":\"[M]_HCO3_c\",\"coefficient\":1},{\"bigg_id\":\"[M]_OAA_c\",\"coefficient\":-1},{\"bigg_id\":\"[M]_PEP_c\",\"coefficient\":1},{\"bigg_id\":\"[M]_Pi_c\",\"coefficient\":-1}],\"segments\":{\"48\":{\"from_node_id\":\"52\",\"to_node_id\":\"53\",\"b1\":null,\"b2\":null},\"49\":{\"from_node_id\":\"54\",\"to_node_id\":\"53\",\"b1\":null,\"b2\":null},\"50\":{\"from_node_id\":\"54\",\"to_node_id\":\"44\",\"b1\":{\"x\":1404.1141737571454,\"y\":10.721262307582037},\"b2\":{\"x\":1417.7417602539062,\"y\":29.9779634475708}},\"51\":{\"from_node_id\":\"52\",\"to_node_id\":\"55\",\"b1\":{\"x\":1285.7354632437239,\"y\":214.6221250124529},\"b2\":{\"x\":1284.9165649414062,\"y\":216.66662979125977}},\"52\":{\"from_node_id\":\"54\",\"to_node_id\":\"56\",\"b1\":{\"x\":1320.831744884119,\"y\":173.91463554749566},\"b2\":{\"x\":1338.1442260742188,\"y\":174.44183349609375}}}},\"11\":{\"name\":\"Mal dehydrogenase\",\"bigg_id\":\"[M]_MalDH1_c\",\"reversibility\":true,\"label_x\":1297.1358032226562,\"label_y\":550.7036323547363,\"gene_reaction_rule\":\"\",\"genes\":[],\"metabolites\":[{\"bigg_id\":\"[M]_H_c\",\"coefficient\":1},{\"bigg_id\":\"[M]_Mal_c\",\"coefficient\":-1},{\"bigg_id\":\"[M]_NADH_c\",\"coefficient\":1},{\"bigg_id\":\"[M]_NAD_c\",\"coefficient\":-1},{\"bigg_id\":\"[M]_OAA_c\",\"coefficient\":1}],\"segments\":{\"54\":{\"from_node_id\":\"58\",\"to_node_id\":\"59\",\"b1\":null,\"b2\":null},\"55\":{\"from_node_id\":\"60\",\"to_node_id\":\"59\",\"b1\":null,\"b2\":null},\"57\":{\"from_node_id\":\"58\",\"to_node_id\":\"62\",\"b1\":{\"x\":1287.6666870117188,\"y\":600.3332710266113},\"b2\":{\"x\":1288.2583618164062,\"y\":655.1749458312988}},\"60\":{\"from_node_id\":\"60\",\"to_node_id\":\"55\",\"b1\":{\"x\":1287.6666870117188,\"y\":476.3332710266113},\"b2\":{\"x\":1287.6666870117188,\"y\":422.0832710266113}}}},\"12\":{\"name\":\"Dicarboxylate transporter\",\"bigg_id\":\"[M]_Tr_DIT1_OAA\",\"reversibility\":true,\"label_x\":976.897114103185,\"label_y\":328.4692601131612,\"gene_reaction_rule\":\"\",\"genes\":[],\"metabolites\":[{\"bigg_id\":\"[M]_Mal_c\",\"coefficient\":1},{\"bigg_id\":\"[M]_Mal_h\",\"coefficient\":-1},{\"bigg_id\":\"[M]_OAA_c\",\"coefficient\":-1},{\"bigg_id\":\"[M]_OAA_h\",\"coefficient\":1}],\"segments\":{\"61\":{\"from_node_id\":\"65\",\"to_node_id\":\"66\",\"b1\":null,\"b2\":null},\"62\":{\"from_node_id\":\"67\",\"to_node_id\":\"66\",\"b1\":null,\"b2\":null},\"63\":{\"from_node_id\":\"67\",\"to_node_id\":\"62\",\"b1\":{\"x\":1104.434084619332,\"y\":597.4528029043886},\"b2\":{\"x\":1210.3419189453125,\"y\":713.5545539855957}},\"64\":{\"from_node_id\":\"65\",\"to_node_id\":\"69\",\"b1\":{\"x\":1104.913831981156,\"y\":469.4537019604029},\"b2\":{\"x\":1007.6513479511395,\"y\":367.39463617939714}},\"65\":{\"from_node_id\":\"65\",\"to_node_id\":\"55\",\"b1\":{\"x\":1104.8988398760982,\"y\":473.4536738649029},\"b2\":{\"x\":1228.9166870117188,\"y\":363.3332710266113}},\"66\":{\"from_node_id\":\"67\",\"to_node_id\":\"70\",\"b1\":{\"x\":1104.4190925142746,\"y\":601.4527748088888},\"b2\":{\"x\":1012.4505061616076,\"y\":721.8936963123499}}}},\"13\":{\"name\":\"Mal dehydrogenase\",\"bigg_id\":\"[M]_MalDH3_h\",\"reversibility\":true,\"label_x\":715.5418291225017,\"label_y\":581.5765275892197,\"gene_reaction_rule\":\"\",\"genes\":[],\"metabolites\":[{\"bigg_id\":\"[M]_H_h\",\"coefficient\":-1},{\"bigg_id\":\"[M]_Mal_h\",\"coefficient\":1},{\"bigg_id\":\"[M]_NADPH_h\",\"coefficient\":-1},{\"bigg_id\":\"[M]_NADP_h\",\"coefficient\":1},{\"bigg_id\":\"[M]_OAA_h\",\"coefficient\":-1}],\"segments\":{\"67\":{\"from_node_id\":\"71\",\"to_node_id\":\"72\",\"b1\":null,\"b2\":null},\"68\":{\"from_node_id\":\"73\",\"to_node_id\":\"72\",\"b1\":null,\"b2\":null},\"70\":{\"from_node_id\":\"73\",\"to_node_id\":\"69\",\"b1\":{\"x\":937.7782182826579,\"y\":475.74583911265717},\"b2\":{\"x\":936.4449052943767,\"y\":425.49583911265717}},\"73\":{\"from_node_id\":\"71\",\"to_node_id\":\"70\",\"b1\":{\"x\":937.7782182826579,\"y\":603.7458391126572},\"b2\":{\"x\":938.4449052943767,\"y\":670.3291521009385}}}},\"16\":{\"name\":\"Asp aminotransferase\",\"bigg_id\":\"[M]_AspAT2_c\",\"reversibility\":true,\"label_x\":3173.9678344726562,\"label_y\":554.1748847961426,\"gene_reaction_rule\":\"\",\"genes\":[],\"metabolites\":[{\"bigg_id\":\"[M]_Ala_c\",\"coefficient\":-1},{\"bigg_id\":\"[M]_Asp_c\",\"coefficient\":1},{\"bigg_id\":\"[M]_OAA_c\",\"coefficient\":-1},{\"bigg_id\":\"[M]_Pyr_c\",\"coefficient\":1}],\"segments\":{\"86\":{\"from_node_id\":\"90\",\"to_node_id\":\"91\",\"b1\":null,\"b2\":null},\"87\":{\"from_node_id\":\"92\",\"to_node_id\":\"91\",\"b1\":null,\"b2\":null},\"88\":{\"from_node_id\":\"90\",\"to_node_id\":\"93\",\"b1\":{\"x\":3158.9678344726562,\"y\":476.0020942687988},\"b2\":{\"x\":3335.6698608398438,\"y\":492.16301345825195}},\"89\":{\"from_node_id\":\"92\",\"to_node_id\":\"94\",\"b1\":{\"x\":3158.5728149414062,\"y\":604.8415718078613},\"b2\":{\"x\":3340.2542114257812,\"y\":610.641040802002}},\"90\":{\"from_node_id\":\"90\",\"to_node_id\":\"55\",\"b1\":{\"x\":3161.9219360351562,\"y\":367.7466926574707},\"b2\":{\"x\":1529.3112182617188,\"y\":361.81987380981445}},\"91\":{\"from_node_id\":\"92\",\"to_node_id\":\"95\",\"b1\":{\"x\":3158.5728149414062,\"y\":608.8415718078613},\"b2\":{\"x\":2989.7009887695312,\"y\":612.0880928039551}}}},\"17\":{\"name\":\"PEP/Pi translocator\",\"bigg_id\":\"[M]_Tr_PPT\",\"reversibility\":true,\"label_x\":1042.2079467773438,\"label_y\":94.60987854003909,\"gene_reaction_rule\":\"\",\"genes\":[],\"metabolites\":[{\"bigg_id\":\"[M]_H_c\",\"coefficient\":-1},{\"bigg_id\":\"[M]_H_h\",\"coefficient\":1},{\"bigg_id\":\"[M]_PEP_c\",\"coefficient\":-1},{\"bigg_id\":\"[M]_PEP_h\",\"coefficient\":1},{\"bigg_id\":\"[M]_Pi_c\",\"coefficient\":1},{\"bigg_id\":\"[M]_Pi_h\",\"coefficient\":-1}],\"segments\":{\"92\":{\"from_node_id\":\"96\",\"to_node_id\":\"97\",\"b1\":null,\"b2\":null},\"93\":{\"from_node_id\":\"98\",\"to_node_id\":\"97\",\"b1\":null,\"b2\":null},\"96\":{\"from_node_id\":\"96\",\"to_node_id\":\"56\",\"b1\":{\"x\":1175.9999389648438,\"y\":128.66659545898438},\"b2\":{\"x\":1230.2499389648438,\"y\":128.66659545898438}},\"97\":{\"from_node_id\":\"98\",\"to_node_id\":\"101\",\"b1\":{\"x\":1051.9999389648438,\"y\":128.6665954589844},\"b2\":{\"x\":997.7499389648438,\"y\":128.6665954589844}}}},\"18\":{\"name\":\"Pyr/H+ translocator\",\"bigg_id\":\"[M]_Tr_Pyr_H_hc\",\"reversibility\":true,\"label_x\":1003.2914428710938,\"label_y\":807.9956245422363,\"gene_reaction_rule\":\"\",\"genes\":[],\"metabolites\":[{\"bigg_id\":\"[M]_H_c\",\"coefficient\":-1},{\"bigg_id\":\"[M]_H_h\",\"coefficient\":1},{\"bigg_id\":\"[M]_Pyr_c\",\"coefficient\":-1},{\"bigg_id\":\"[M]_Pyr_h\",\"coefficient\":1}],\"segments\":{\"100\":{\"from_node_id\":\"104\",\"to_node_id\":\"105\",\"b1\":null,\"b2\":null},\"101\":{\"from_node_id\":\"106\",\"to_node_id\":\"105\",\"b1\":null,\"b2\":null},\"104\":{\"from_node_id\":\"104\",\"to_node_id\":\"95\",\"b1\":{\"x\":2911.2495727539062,\"y\":838.5020942687988},\"b2\":{\"x\":2909.8539428710938,\"y\":840.5639228820801}},\"105\":{\"from_node_id\":\"106\",\"to_node_id\":\"109\",\"b1\":{\"x\":1052.7053833007812,\"y\":842.0523262023926},\"b2\":{\"x\":998.4553833007812,\"y\":842.0523262023926}}}},\"19\":{\"name\":\"Pyr phosphate dikinase\",\"bigg_id\":\"[M]_PyrPiDK_h\",\"reversibility\":true,\"label_x\":529.501953125,\"label_y\":493.18254470825195,\"gene_reaction_rule\":\"\",\"genes\":[],\"metabolites\":[{\"bigg_id\":\"[M]_AMP_h\",\"coefficient\":1},{\"bigg_id\":\"[M]_ATP_h\",\"coefficient\":-1},{\"bigg_id\":\"[M]_H_h\",\"coefficient\":2},{\"bigg_id\":\"[M]_PEP_h\",\"coefficient\":1},{\"bigg_id\":\"[M]_PPi_h\",\"coefficient\":1},{\"bigg_id\":\"[M]_Pi_h\",\"coefficient\":-1},{\"bigg_id\":\"[M]_Pyr_h\",\"coefficient\":-1}],\"segments\":{\"106\":{\"from_node_id\":\"110\",\"to_node_id\":\"111\",\"b1\":null,\"b2\":null},\"107\":{\"from_node_id\":\"112\",\"to_node_id\":\"111\",\"b1\":null,\"b2\":null},\"111\":{\"from_node_id\":\"112\",\"to_node_id\":\"101\",\"b1\":{\"x\":773.6394687410274,\"y\":129.17727754133807},\"b2\":{\"x\":774.4884643554688,\"y\":129.04831314086914}},\"114\":{\"from_node_id\":\"110\",\"to_node_id\":\"109\",\"b1\":{\"x\":770.5639003995976,\"y\":845.4735327003611},\"b2\":{\"x\":746.6383666992188,\"y\":848.5609931945801}}}},\"30\":{\"name\":\"[MB]_Mal_c\",\"bigg_id\":\"[MB]_Mal_c\",\"reversibility\":true,\"label_x\":1302.3710327148438,\"label_y\":1375.2666816711426,\"gene_reaction_rule\":\"\",\"genes\":[],\"metabolites\":[{\"bigg_id\":\"[B]_Mal_c\",\"coefficient\":1},{\"bigg_id\":\"[M]_Mal_c\",\"coefficient\":-1}],\"segments\":{\"170\":{\"from_node_id\":\"174\",\"to_node_id\":\"175\",\"b1\":null,\"b2\":null},\"171\":{\"from_node_id\":\"176\",\"to_node_id\":\"175\",\"b1\":null,\"b2\":null},\"172\":{\"from_node_id\":\"176\",\"to_node_id\":\"177\",\"b1\":{\"x\":1291.9885864257812,\"y\":1525.0464668273926},\"b2\":{\"x\":1291.9885864257812,\"y\":1579.2964668273926}},\"173\":{\"from_node_id\":\"174\",\"to_node_id\":\"62\",\"b1\":{\"x\":1288.8482055664062,\"y\":1065.025592803955},\"b2\":{\"x\":1288.2583618164062,\"y\":772.6749458312988}}}},\"31\":{\"name\":\"[MB]_Pyr_c\",\"bigg_id\":\"[MB]_Pyr_c\",\"reversibility\":true,\"label_x\":2810.7168579101562,\"label_y\":1380.08443069458,\"gene_reaction_rule\":\"\",\"genes\":[],\"metabolites\":[{\"bigg_id\":\"[B]_Pyr_c\",\"coefficient\":1},{\"bigg_id\":\"[M]_Pyr_c\",\"coefficient\":-1}],\"segments\":{\"174\":{\"from_node_id\":\"178\",\"to_node_id\":\"179\",\"b1\":null,\"b2\":null},\"175\":{\"from_node_id\":\"180\",\"to_node_id\":\"179\",\"b1\":null,\"b2\":null},\"176\":{\"from_node_id\":\"180\",\"to_node_id\":\"181\",\"b1\":{\"x\":2988.9026489257812,\"y\":1528.0994453430176},\"b2\":{\"x\":2988.9026489257812,\"y\":1582.3494453430176}},\"177\":{\"from_node_id\":\"178\",\"to_node_id\":\"95\",\"b1\":{\"x\":2985.7622680664062,\"y\":1068.07857131958},\"b2\":{\"x\":2989.3306274414062,\"y\":777.8069038391113}}}},\"32\":{\"name\":\"[MB]_Asp_c\",\"bigg_id\":\"[MB]_Asp_c\",\"reversibility\":true,\"label_x\":3139.0067749023438,\"label_y\":1384.6061897277832,\"gene_reaction_rule\":\"\",\"genes\":[],\"metabolites\":[{\"bigg_id\":\"[B]_Asp_c\",\"coefficient\":1},{\"bigg_id\":\"[M]_Asp_c\",\"coefficient\":-1}],\"segments\":{\"178\":{\"from_node_id\":\"182\",\"to_node_id\":\"183\",\"b1\":null,\"b2\":null},\"179\":{\"from_node_id\":\"184\",\"to_node_id\":\"183\",\"b1\":null,\"b2\":null},\"180\":{\"from_node_id\":\"184\",\"to_node_id\":\"185\",\"b1\":{\"x\":3339.7593383789062,\"y\":1526.9877815246582},\"b2\":{\"x\":3339.7593383789062,\"y\":1581.2377815246582}},\"181\":{\"from_node_id\":\"182\",\"to_node_id\":\"94\",\"b1\":{\"x\":3336.6189575195312,\"y\":1066.9669075012207},\"b2\":{\"x\":3338.1416625976562,\"y\":774.6162605285645}}}},\"33\":{\"name\":\"[MB]_Ala_c\",\"bigg_id\":\"[MB]_Ala_c\",\"reversibility\":true,\"label_x\":3400.4382934570312,\"label_y\":1386.5605964660645,\"gene_reaction_rule\":\"\",\"genes\":[],\"metabolites\":[{\"bigg_id\":\"[B]_Ala_c\",\"coefficient\":1},{\"bigg_id\":\"[M]_Ala_c\",\"coefficient\":-1}],\"segments\":{\"182\":{\"from_node_id\":\"186\",\"to_node_id\":\"187\",\"b1\":null,\"b2\":null},\"183\":{\"from_node_id\":\"188\",\"to_node_id\":\"187\",\"b1\":null,\"b2\":null},\"184\":{\"from_node_id\":\"188\",\"to_node_id\":\"189\",\"b1\":{\"x\":3587.2233276367188,\"y\":1522.486011505127},\"b2\":{\"x\":3587.2233276367188,\"y\":1576.736011505127}},\"185\":{\"from_node_id\":\"186\",\"to_node_id\":\"93\",\"b1\":{\"x\":3584.6729125976562,\"y\":347.3707160949707},\"b2\":{\"x\":3616.6533813476562,\"y\":372.2078437805176}}}},\"44\":{\"name\":\"[MB]_PEP_c\",\"bigg_id\":\"[MB]_PEP_c\",\"reversibility\":true,\"label_x\":2576.147402133158,\"label_y\":1381.696127612824,\"gene_reaction_rule\":\"\",\"genes\":[],\"metabolites\":[{\"bigg_id\":\"[B]_PEP_c\",\"coefficient\":1},{\"bigg_id\":\"[M]_PEP_c\",\"coefficient\":-1}],\"segments\":{\"226\":{\"from_node_id\":\"230\",\"to_node_id\":\"231\",\"b1\":null,\"b2\":null},\"227\":{\"from_node_id\":\"232\",\"to_node_id\":\"231\",\"b1\":null,\"b2\":null},\"228\":{\"from_node_id\":\"232\",\"to_node_id\":\"233\",\"b1\":{\"x\":2762.6847789940966,\"y\":1525.9061659803913},\"b2\":{\"x\":2762.091568220075,\"y\":1580.1529225744735}},\"229\":{\"from_node_id\":\"230\",\"to_node_id\":\"56\",\"b1\":{\"x\":2781.0395907019065,\"y\":194.5973715938901},\"b2\":{\"x\":1580.3357543945312,\"y\":129.1154022216797}}}},\"76\":{\"name\":\"Mal dehydrogenase\",\"bigg_id\":\"[B]_MalDH1_c\",\"reversibility\":true,\"label_x\":1324.5901489257812,\"label_y\":1601.498249053955,\"gene_reaction_rule\":\"\",\"genes\":[],\"metabolites\":[{\"bigg_id\":\"[B]_H_c\",\"coefficient\":1},{\"bigg_id\":\"[B]_Mal_c\",\"coefficient\":-1},{\"bigg_id\":\"[B]_NADH_c\",\"coefficient\":1},{\"bigg_id\":\"[B]_NAD_c\",\"coefficient\":-1},{\"bigg_id\":\"[B]_OAA_c\",\"coefficient\":1}],\"segments\":{\"392\":{\"from_node_id\":\"396\",\"to_node_id\":\"397\",\"b1\":null,\"b2\":null},\"393\":{\"from_node_id\":\"398\",\"to_node_id\":\"397\",\"b1\":null,\"b2\":null},\"395\":{\"from_node_id\":\"396\",\"to_node_id\":\"177\",\"b1\":{\"x\":1404.9885864257812,\"y\":1638.0464668273926},\"b2\":{\"x\":1350.7385864257812,\"y\":1638.0464668273926}},\"398\":{\"from_node_id\":\"398\",\"to_node_id\":\"402\",\"b1\":{\"x\":1528.9885864257812,\"y\":1638.0464668273926},\"b2\":{\"x\":1525.0484008789062,\"y\":1637.7168769836426}}}},\"83\":{\"name\":\"PEP carboxylase\",\"bigg_id\":\"[B]_PEPC1_c\",\"reversibility\":false,\"label_x\":2349.4317016601562,\"label_y\":1672.566608428955,\"gene_reaction_rule\":\"\",\"genes\":[],\"metabolites\":[{\"bigg_id\":\"[B]_ADP_c\",\"coefficient\":1},{\"bigg_id\":\"[B]_ATP_c\",\"coefficient\":-1},{\"bigg_id\":\"[B]_CO2_c\",\"coefficient\":1},{\"bigg_id\":\"[B]_OAA_c\",\"coefficient\":-1},{\"bigg_id\":\"[B]_PEP_c\",\"coefficient\":1}],\"segments\":{\"437\":{\"from_node_id\":\"442\",\"to_node_id\":\"443\",\"b1\":null,\"b2\":null},\"438\":{\"from_node_id\":\"444\",\"to_node_id\":\"443\",\"b1\":null,\"b2\":null},\"441\":{\"from_node_id\":\"444\",\"to_node_id\":\"447\",\"b1\":{\"x\":2489.4094848632812,\"y\":1636.402057647705},\"b2\":{\"x\":2478.2905883789062,\"y\":1544.5144844055176}},\"442\":{\"from_node_id\":\"442\",\"to_node_id\":\"402\",\"b1\":{\"x\":2361.4094848632812,\"y\":1636.402057647705},\"b2\":{\"x\":1641.2337036132812,\"y\":1636.402057647705}},\"443\":{\"from_node_id\":\"444\",\"to_node_id\":\"233\",\"b1\":{\"x\":2485.4094848632812,\"y\":1636.402057647705},\"b2\":{\"x\":2700.2982788085938,\"y\":1640.0635566711426}}}},\"84\":{\"name\":\"Asp aminotransferase\",\"bigg_id\":\"[B]_AspAT2_c\",\"reversibility\":true,\"label_x\":3115.0769653320312,\"label_y\":1888.0323371887207,\"gene_reaction_rule\":\"\",\"genes\":[],\"metabolites\":[{\"bigg_id\":\"[B]_Ala_c\",\"coefficient\":-1},{\"bigg_id\":\"[B]_Asp_c\",\"coefficient\":1},{\"bigg_id\":\"[B]_OAA_c\",\"coefficient\":-1},{\"bigg_id\":\"[B]_Pyr_c\",\"coefficient\":1}],\"segments\":{\"444\":{\"from_node_id\":\"449\",\"to_node_id\":\"450\",\"b1\":null,\"b2\":null},\"445\":{\"from_node_id\":\"451\",\"to_node_id\":\"450\",\"b1\":null,\"b2\":null},\"446\":{\"from_node_id\":\"449\",\"to_node_id\":\"189\",\"b1\":{\"x\":3557.2874145507812,\"y\":1825.5853157043457},\"b2\":{\"x\":3511.8794555664062,\"y\":1862.2759895324707}},\"447\":{\"from_node_id\":\"451\",\"to_node_id\":\"185\",\"b1\":{\"x\":3180.1638793945312,\"y\":1751.8238410949707},\"b2\":{\"x\":3295.0317993164062,\"y\":1690.1729621887207}},\"448\":{\"from_node_id\":\"449\",\"to_node_id\":\"402\",\"b1\":{\"x\":2536.1941528320312,\"y\":1829.3939094543457},\"b2\":{\"x\":2119.7681274414062,\"y\":1859.5446662902832}},\"449\":{\"from_node_id\":\"451\",\"to_node_id\":\"181\",\"b1\":{\"x\":3180.1638793945312,\"y\":1747.8238410949707},\"b2\":{\"x\":3045.1724243164062,\"y\":1681.6682014465332}}}},\"87\":{\"name\":\"Mal dehydrogenase\",\"bigg_id\":\"[B]_MalDH4_h\",\"reversibility\":false,\"label_x\":2640.028564453125,\"label_y\":2712.239501953125,\"gene_reaction_rule\":\"\",\"genes\":[],\"metabolites\":[{\"bigg_id\":\"[B]_CO2_h\",\"coefficient\":1},{\"bigg_id\":\"[B]_Mal_h\",\"coefficient\":-1},{\"bigg_id\":\"[B]_NADPH_h\",\"coefficient\":1},{\"bigg_id\":\"[B]_NADP_h\",\"coefficient\":-1},{\"bigg_id\":\"[B]_Pyr_h\",\"coefficient\":1}],\"segments\":{\"464\":{\"from_node_id\":\"471\",\"to_node_id\":\"472\",\"b1\":null,\"b2\":null},\"465\":{\"from_node_id\":\"473\",\"to_node_id\":\"472\",\"b1\":null,\"b2\":null},\"466\":{\"from_node_id\":\"473\",\"to_node_id\":\"474\",\"b1\":{\"x\":2855.9520263671875,\"y\":2648.5093994140625},\"b2\":{\"x\":2877.4688110351562,\"y\":2680.49609375}},\"467\":{\"from_node_id\":\"471\",\"to_node_id\":\"468\",\"b1\":{\"x\":2727.9520263671875,\"y\":2648.5093994140625},\"b2\":{\"x\":2616.004638671875,\"y\":2644.2354736328125}},\"470\":{\"from_node_id\":\"473\",\"to_node_id\":\"470\",\"b1\":{\"x\":2851.9520263671875,\"y\":2648.5093994140625},\"b2\":{\"x\":2935.4591064453125,\"y\":2645.4207763671875}}}},\"95\":{\"name\":\"RuBisCO\",\"bigg_id\":\"[B]_RBC_h\",\"reversibility\":false,\"label_x\":2632.5873413085938,\"label_y\":2924.0968017578125,\"gene_reaction_rule\":\"\",\"genes\":[],\"metabolites\":[{\"bigg_id\":\"[B]_CO2_h\",\"coefficient\":-1},{\"bigg_id\":\"[B]_H2O_h\",\"coefficient\":-1},{\"bigg_id\":\"[B]_H_h\",\"coefficient\":2},{\"bigg_id\":\"[B]_PGA_h\",\"coefficient\":2},{\"bigg_id\":\"[B]_RuBP_h\",\"coefficient\":-1}],\"segments\":{\"510\":{\"from_node_id\":\"517\",\"to_node_id\":\"518\",\"b1\":null,\"b2\":null},\"511\":{\"from_node_id\":\"519\",\"to_node_id\":\"518\",\"b1\":null,\"b2\":null},\"512\":{\"from_node_id\":\"517\",\"to_node_id\":\"474\",\"b1\":{\"x\":2882.6141967773438,\"y\":2879.277587890625},\"b2\":{\"x\":2915.5392456054688,\"y\":2836.5462646484375}},\"515\":{\"from_node_id\":\"519\",\"to_node_id\":\"483\",\"b1\":{\"x\":2437.0637817382812,\"y\":2874.781982421875},\"b2\":{\"x\":2483.9244995117188,\"y\":2876.09521484375}},\"516\":{\"from_node_id\":\"517\",\"to_node_id\":\"491\",\"b1\":{\"x\":2886.6141967773438,\"y\":2879.277587890625},\"b2\":{\"x\":2996.6266479492188,\"y\":3064.286865234375}}}},\"99\":{\"name\":\"R_Tr_Pyr_Mal_hc\",\"bigg_id\":\"[B]_Tr_Pyr_Mal_hc\",\"reversibility\":true,\"label_x\":2697.1073608398438,\"label_y\":2303.01216506958,\"gene_reaction_rule\":\"\",\"genes\":[],\"metabolites\":[{\"bigg_id\":\"[B]_Mal_c\",\"coefficient\":-1},{\"bigg_id\":\"[B]_Mal_h\",\"coefficient\":1},{\"bigg_id\":\"[B]_Pyr_c\",\"coefficient\":1},{\"bigg_id\":\"[B]_Pyr_h\",\"coefficient\":-1}],\"segments\":{\"531\":{\"from_node_id\":\"538\",\"to_node_id\":\"539\",\"b1\":null,\"b2\":null},\"532\":{\"from_node_id\":\"540\",\"to_node_id\":\"539\",\"b1\":null,\"b2\":null},\"533\":{\"from_node_id\":\"538\",\"to_node_id\":\"177\",\"b1\":{\"x\":2986.3092651367188,\"y\":2233.8533515930176},\"b2\":{\"x\":1689.8287963867188,\"y\":1949.23530960083}},\"534\":{\"from_node_id\":\"540\",\"to_node_id\":\"468\",\"b1\":{\"x\":2986.3092651367188,\"y\":2357.8533515930176},\"b2\":{\"x\":2560.3551635742188,\"y\":2502.451374053955}},\"535\":{\"from_node_id\":\"540\",\"to_node_id\":\"181\",\"b1\":{\"x\":2986.3092651367188,\"y\":2361.8533515930176},\"b2\":{\"x\":2991.0866088867188,\"y\":1720.80952835083}},\"536\":{\"from_node_id\":\"538\",\"to_node_id\":\"470\",\"b1\":{\"x\":2986.3092651367188,\"y\":2229.8533515930176},\"b2\":{\"x\":2988.9304809570312,\"y\":2573.52095413208}}}},\"100\":{\"name\":\"Dicarboxylate transporter\",\"bigg_id\":\"[B]_Tr_DTC5\",\"reversibility\":true,\"label_x\":1095.7332153320312,\"label_y\":2308.3377265930176,\"gene_reaction_rule\":\"\",\"genes\":[],\"metabolites\":[{\"bigg_id\":\"[B]_Mal_c\",\"coefficient\":1},{\"bigg_id\":\"[B]_Mal_m\",\"coefficient\":-1},{\"bigg_id\":\"[B]_OAA_c\",\"coefficient\":-1},{\"bigg_id\":\"[B]_OAA_m\",\"coefficient\":1}],\"segments\":{\"537\":{\"from_node_id\":\"544\",\"to_node_id\":\"545\",\"b1\":null,\"b2\":null},\"538\":{\"from_node_id\":\"546\",\"to_node_id\":\"545\",\"b1\":null,\"b2\":null},\"539\":{\"from_node_id\":\"546\",\"to_node_id\":\"177\",\"b1\":{\"x\":1292.0067749023438,\"y\":2297.0144844055176},\"b2\":{\"x\":1291.9871215820312,\"y\":2298.46187210083}},\"540\":{\"from_node_id\":\"544\",\"to_node_id\":\"547\",\"b1\":{\"x\":1292.9518432617188,\"y\":2297.792194366455},\"b2\":{\"x\":1293.4180297851562,\"y\":2310.5777168273926}},\"541\":{\"from_node_id\":\"544\",\"to_node_id\":\"402\",\"b1\":{\"x\":1581.9943237304688,\"y\":2298.9485664367676},\"b2\":{\"x\":1583.2122192382812,\"y\":2298.0974922180176}},\"542\":{\"from_node_id\":\"546\",\"to_node_id\":\"549\",\"b1\":{\"x\":1583.8844604492188,\"y\":2297.75093460083},\"b2\":{\"x\":1581.3598022460938,\"y\":2311.47163772583}}}},\"101\":{\"name\":\"Mal dehydrogenase\",\"bigg_id\":\"[B]_MalDH1_m\",\"reversibility\":true,\"label_x\":1332.4038696289062,\"label_y\":2610.656940460205,\"gene_reaction_rule\":\"\",\"genes\":[],\"metabolites\":[{\"bigg_id\":\"[B]_H_m\",\"coefficient\":1},{\"bigg_id\":\"[B]_Mal_m\",\"coefficient\":-1},{\"bigg_id\":\"[B]_NADH_m\",\"coefficient\":1},{\"bigg_id\":\"[B]_NAD_m\",\"coefficient\":-1},{\"bigg_id\":\"[B]_OAA_m\",\"coefficient\":1}],\"segments\":{\"543\":{\"from_node_id\":\"550\",\"to_node_id\":\"551\",\"b1\":null,\"b2\":null},\"544\":{\"from_node_id\":\"552\",\"to_node_id\":\"551\",\"b1\":null,\"b2\":null},\"546\":{\"from_node_id\":\"550\",\"to_node_id\":\"547\",\"b1\":{\"x\":1401.6730346679688,\"y\":2644.969928741455},\"b2\":{\"x\":1349.3158569335938,\"y\":2644.02339553833}},\"549\":{\"from_node_id\":\"552\",\"to_node_id\":\"549\",\"b1\":{\"x\":1525.6730346679688,\"y\":2644.969928741455},\"b2\":{\"x\":1527.7882690429688,\"y\":2644.969928741455}}}},\"102\":{\"name\":\"Dicarboxylate transporter\",\"bigg_id\":\"[B]_Tr_DIT1_OAA\",\"reversibility\":true,\"label_x\":1940.4468994140625,\"label_y\":2255.3272705078125,\"gene_reaction_rule\":\"\",\"genes\":[],\"metabolites\":[{\"bigg_id\":\"[B]_Mal_c\",\"coefficient\":1},{\"bigg_id\":\"[B]_Mal_h\",\"coefficient\":-1},{\"bigg_id\":\"[B]_OAA_c\",\"coefficient\":-1},{\"bigg_id\":\"[B]_OAA_h\",\"coefficient\":1}],\"segments\":{\"550\":{\"from_node_id\":\"558\",\"to_node_id\":\"559\",\"b1\":null,\"b2\":null},\"551\":{\"from_node_id\":\"560\",\"to_node_id\":\"559\",\"b1\":null,\"b2\":null},\"552\":{\"from_node_id\":\"560\",\"to_node_id\":\"177\",\"b1\":{\"x\":1537.2420654296875,\"y\":2302.404296875},\"b2\":{\"x\":1639.6156005859375,\"y\":2250.03466796875}},\"553\":{\"from_node_id\":\"558\",\"to_node_id\":\"468\",\"b1\":{\"x\":2290.788818359375,\"y\":2295.3272705078125},\"b2\":{\"x\":2188.41552734375,\"y\":2257.1114501953125}},\"554\":{\"from_node_id\":\"558\",\"to_node_id\":\"402\",\"b1\":{\"x\":2291.0347900390625,\"y\":2295.3272705078125},\"b2\":{\"x\":1729.533447265625,\"y\":1809.4456787109375}},\"555\":{\"from_node_id\":\"560\",\"to_node_id\":\"563\",\"b1\":{\"x\":1786.1060791015625,\"y\":2299.573486328125},\"b2\":{\"x\":1822.494384765625,\"y\":2320.561767578125}}}},\"103\":{\"name\":\"Mal dehydrogenase\",\"bigg_id\":\"[B]_MalDH3_h\",\"reversibility\":true,\"label_x\":2076.0760498046875,\"label_y\":2613.8465576171875,\"gene_reaction_rule\":\"\",\"genes\":[],\"metabolites\":[{\"bigg_id\":\"[B]_H_h\",\"coefficient\":-1},{\"bigg_id\":\"[B]_Mal_h\",\"coefficient\":1},{\"bigg_id\":\"[B]_NADPH_h\",\"coefficient\":-1},{\"bigg_id\":\"[B]_NADP_h\",\"coefficient\":1},{\"bigg_id\":\"[B]_OAA_h\",\"coefficient\":-1}],\"segments\":{\"556\":{\"from_node_id\":\"564\",\"to_node_id\":\"565\",\"b1\":null,\"b2\":null},\"557\":{\"from_node_id\":\"566\",\"to_node_id\":\"565\",\"b1\":null,\"b2\":null},\"559\":{\"from_node_id\":\"566\",\"to_node_id\":\"468\",\"b1\":{\"x\":2217.7994384765625,\"y\":2645.3541259765625},\"b2\":{\"x\":2475.23779296875,\"y\":2644.7249755859375}},\"562\":{\"from_node_id\":\"564\",\"to_node_id\":\"563\",\"b1\":{\"x\":2093.7994384765625,\"y\":2645.3541259765625},\"b2\":{\"x\":1876.7786865234375,\"y\":2644.4102783203125}}}},\"104\":{\"name\":\"Mal dehydrogenase\",\"bigg_id\":\"[B]_MalDH1_h\",\"reversibility\":true,\"label_x\":2071.8299560546875,\"label_y\":2837.7935791015625,\"gene_reaction_rule\":\"\",\"genes\":[],\"metabolites\":[{\"bigg_id\":\"[B]_H_h\",\"coefficient\":1},{\"bigg_id\":\"[B]_Mal_h\",\"coefficient\":-1},{\"bigg_id\":\"[B]_NADH_h\",\"coefficient\":1},{\"bigg_id\":\"[B]_NAD_h\",\"coefficient\":-1},{\"bigg_id\":\"[B]_OAA_h\",\"coefficient\":1}],\"segments\":{\"563\":{\"from_node_id\":\"571\",\"to_node_id\":\"572\",\"b1\":null,\"b2\":null},\"564\":{\"from_node_id\":\"573\",\"to_node_id\":\"572\",\"b1\":null,\"b2\":null},\"566\":{\"from_node_id\":\"571\",\"to_node_id\":\"468\",\"b1\":{\"x\":2568.346435546875,\"y\":2787.9945068359375},\"b2\":{\"x\":2555.915283203125,\"y\":2798.6888427734375}},\"569\":{\"from_node_id\":\"573\",\"to_node_id\":\"563\",\"b1\":{\"x\":1809.618896484375,\"y\":2784.2200927734375},\"b2\":{\"x\":1818.7474365234375,\"y\":2791.6116943359375}}}},\"105\":{\"name\":\"Asp aminotransferase\",\"bigg_id\":\"[B]_AspAT2_m\",\"reversibility\":true,\"label_x\":1359.5839233398438,\"label_y\":2772.5432929992676,\"gene_reaction_rule\":\"\",\"genes\":[],\"metabolites\":[{\"bigg_id\":\"[B]_Ala_m\",\"coefficient\":-1},{\"bigg_id\":\"[B]_Asp_m\",\"coefficient\":1},{\"bigg_id\":\"[B]_OAA_m\",\"coefficient\":-1},{\"bigg_id\":\"[B]_Pyr_m\",\"coefficient\":1}],\"segments\":{\"570\":{\"from_node_id\":\"578\",\"to_node_id\":\"579\",\"b1\":null,\"b2\":null},\"571\":{\"from_node_id\":\"580\",\"to_node_id\":\"579\",\"b1\":null,\"b2\":null},\"572\":{\"from_node_id\":\"578\",\"to_node_id\":\"581\",\"b1\":{\"x\":1593.1441111460415,\"y\":2816.922512473858},\"b2\":{\"x\":1583.2286987304688,\"y\":3192.9431953430176}},\"573\":{\"from_node_id\":\"580\",\"to_node_id\":\"582\",\"b1\":{\"x\":1482.1012950041454,\"y\":2818.2003140988945},\"b2\":{\"x\":1497.6403198242188,\"y\":3193.3560371398926}},\"574\":{\"from_node_id\":\"578\",\"to_node_id\":\"549\",\"b1\":{\"x\":1594.166893472417,\"y\":2818.2178148683906},\"b2\":{\"x\":1583.0223999023438,\"y\":2811.8260078430176}},\"575\":{\"from_node_id\":\"580\",\"to_node_id\":\"590\",\"b1\":{\"x\":1478.1014943227085,\"y\":2818.240245399677},\"b2\":{\"x\":1467.0841674804688,\"y\":2817.8892402648926}}}},\"106\":{\"name\":\"Mal dehydrogenase\",\"bigg_id\":\"[B]_MalDH2_m\",\"reversibility\":false,\"label_x\":1057.2401733398438,\"label_y\":2823.68550491333,\"gene_reaction_rule\":\"\",\"genes\":[],\"metabolites\":[{\"bigg_id\":\"[B]_CO2_m\",\"coefficient\":1},{\"bigg_id\":\"[B]_Mal_m\",\"coefficient\":-1},{\"bigg_id\":\"[B]_NADH_m\",\"coefficient\":1},{\"bigg_id\":\"[B]_NAD_m\",\"coefficient\":-1},{\"bigg_id\":\"[B]_Pyr_m\",\"coefficient\":1}],\"segments\":{\"576\":{\"from_node_id\":\"584\",\"to_node_id\":\"585\",\"b1\":null,\"b2\":null},\"577\":{\"from_node_id\":\"586\",\"to_node_id\":\"585\",\"b1\":null,\"b2\":null},\"578\":{\"from_node_id\":\"586\",\"to_node_id\":\"587\",\"b1\":{\"x\":1290.5658569335938,\"y\":2881.02339553833},\"b2\":{\"x\":1290.5658569335938,\"y\":2935.27339553833}},\"579\":{\"from_node_id\":\"584\",\"to_node_id\":\"547\",\"b1\":{\"x\":1290.5658569335938,\"y\":2757.02339553833},\"b2\":{\"x\":1290.5658569335938,\"y\":2702.77339553833}},\"582\":{\"from_node_id\":\"586\",\"to_node_id\":\"590\",\"b1\":{\"x\":1290.5658569335938,\"y\":2820.98677444458},\"b2\":{\"x\":1322.7905883789062,\"y\":2817.447956085205}}}},\"107\":{\"name\":\"CO2 diffusion\",\"bigg_id\":\"[B]_Tr_CO2m\",\"reversibility\":true,\"label_x\":810.4965209960938,\"label_y\":2307.36275100708,\"gene_reaction_rule\":\"\",\"genes\":[],\"metabolites\":[{\"bigg_id\":\"[B]_CO2_c\",\"coefficient\":-1},{\"bigg_id\":\"[B]_CO2_m\",\"coefficient\":1}],\"segments\":{\"583\":{\"from_node_id\":\"591\",\"to_node_id\":\"592\",\"b1\":null,\"b2\":null},\"584\":{\"from_node_id\":\"593\",\"to_node_id\":\"592\",\"b1\":null,\"b2\":null},\"585\":{\"from_node_id\":\"591\",\"to_node_id\":\"447\",\"b1\":{\"x\":1047.8641435324835,\"y\":1472.6182197716075},\"b2\":{\"x\":1046.3784790039062,\"y\":1471.4295234680176}},\"586\":{\"from_node_id\":\"593\",\"to_node_id\":\"587\",\"b1\":{\"x\":1071.4398725807978,\"y\":2997.2749458167714},\"b2\":{\"x\":1197.4758911132812,\"y\":2996.35542678833}}}},\"108\":{\"name\":\"CO2 diffusion\",\"bigg_id\":\"[B]_Tr_CO2h\",\"reversibility\":true,\"label_x\":3133.3099975585938,\"label_y\":2307.3350830078125,\"gene_reaction_rule\":\"\",\"genes\":[],\"metabolites\":[{\"bigg_id\":\"[B]_CO2_c\",\"coefficient\":-1},{\"bigg_id\":\"[B]_CO2_h\",\"coefficient\":1}],\"segments\":{\"587\":{\"from_node_id\":\"595\",\"to_node_id\":\"596\",\"b1\":null,\"b2\":null},\"588\":{\"from_node_id\":\"597\",\"to_node_id\":\"596\",\"b1\":null,\"b2\":null},\"589\":{\"from_node_id\":\"595\",\"to_node_id\":\"447\",\"b1\":{\"x\":3097.9994506835938,\"y\":1478.2550354003906},\"b2\":{\"x\":3097.2362670898438,\"y\":1478.481689453125}},\"590\":{\"from_node_id\":\"597\",\"to_node_id\":\"474\",\"b1\":{\"x\":3031.0409545898438,\"y\":2785.986328125},\"b2\":{\"x\":3050.1347045898438,\"y\":2787.396728515625}}}},\"131\":{\"name\":\"Tr_Asp_mc\",\"bigg_id\":\"[B]_Tr_Asp_mc\",\"reversibility\":true,\"label_x\":1254.9667358398438,\"label_y\":3738.2415351867676,\"gene_reaction_rule\":\"\",\"genes\":[],\"metabolites\":[{\"bigg_id\":\"[B]_Asp_c\",\"coefficient\":1},{\"bigg_id\":\"[B]_Asp_m\",\"coefficient\":-1}],\"segments\":{\"716\":{\"from_node_id\":\"728\",\"to_node_id\":\"729\",\"b1\":null,\"b2\":null},\"717\":{\"from_node_id\":\"730\",\"to_node_id\":\"729\",\"b1\":null,\"b2\":null},\"718\":{\"from_node_id\":\"730\",\"to_node_id\":\"185\",\"b1\":{\"x\":3337.0399780273438,\"y\":3509.9805488586426},\"b2\":{\"x\":3337.0402221679688,\"y\":3822.18208694458}},\"719\":{\"from_node_id\":\"728\",\"to_node_id\":\"582\",\"b1\":{\"x\":1493.7348022460938,\"y\":3812.6458320617676},\"b2\":{\"x\":1495.1290893554688,\"y\":3426.3728828430176}}}},\"132\":{\"name\":\"R_Tr_Ala_mc\",\"bigg_id\":\"[B]_Tr_Ala_mc\",\"reversibility\":true,\"label_x\":1606.4703979492188,\"label_y\":3734.3384590148926,\"gene_reaction_rule\":\"\",\"genes\":[],\"metabolites\":[{\"bigg_id\":\"[B]_Ala_c\",\"coefficient\":-1},{\"bigg_id\":\"[B]_Ala_m\",\"coefficient\":1}],\"segments\":{\"720\":{\"from_node_id\":\"732\",\"to_node_id\":\"733\",\"b1\":null,\"b2\":null},\"721\":{\"from_node_id\":\"734\",\"to_node_id\":\"733\",\"b1\":null,\"b2\":null},\"722\":{\"from_node_id\":\"732\",\"to_node_id\":\"189\",\"b1\":{\"x\":3588.1522827148438,\"y\":3755.6631660461426},\"b2\":{\"x\":3585.3634643554688,\"y\":3750.305866241455}},\"723\":{\"from_node_id\":\"734\",\"to_node_id\":\"581\",\"b1\":{\"x\":1590.0761108398438,\"y\":3764.1245918273926},\"b2\":{\"x\":1585.8931274414062,\"y\":3423.8645820617676}}}},\"134\":{\"name\":\"Pyr kinase\",\"bigg_id\":\"[B]_PyrK_c\",\"reversibility\":false,\"label_x\":2795.5721978974,\"label_y\":1606.111812474027,\"gene_reaction_rule\":\"\",\"genes\":[],\"metabolites\":[{\"bigg_id\":\"[B]_ADP_c\",\"coefficient\":-1},{\"bigg_id\":\"[B]_ATP_c\",\"coefficient\":1},{\"bigg_id\":\"[B]_H_c\",\"coefficient\":-1},{\"bigg_id\":\"[B]_PEP_c\",\"coefficient\":-1},{\"bigg_id\":\"[B]_Pyr_c\",\"coefficient\":1}],\"segments\":{\"731\":{\"from_node_id\":\"742\",\"to_node_id\":\"743\",\"b1\":null,\"b2\":null},\"732\":{\"from_node_id\":\"744\",\"to_node_id\":\"743\",\"b1\":null,\"b2\":null},\"736\":{\"from_node_id\":\"742\",\"to_node_id\":\"233\",\"b1\":{\"x\":2806.652031881775,\"y\":1638.899410130277},\"b2\":{\"x\":2820.1991510224,\"y\":1638.899410130277}},\"737\":{\"from_node_id\":\"744\",\"to_node_id\":\"181\",\"b1\":{\"x\":2934.652031881775,\"y\":1638.899410130277},\"b2\":{\"x\":2916.8221978974,\"y\":1638.1470907943394}}}}},\"nodes\":{\"12\":{\"node_type\":\"metabolite\",\"x\":1289.6665649414062,\"y\":-320.00006103515625,\"bigg_id\":\"[M]_CO2_c\",\"name\":\"CO2\",\"label_x\":1324.351962073744,\"label_y\":-340.41893299433843,\"node_is_primary\":true},\"13\":{\"node_type\":\"multimarker\",\"x\":1285.6845092773438,\"y\":-1008.7737426757812},\"14\":{\"node_type\":\"midmarker\",\"x\":1285.6845092773438,\"y\":-988.7737426757812},\"15\":{\"node_type\":\"multimarker\",\"x\":1285.6845092773438,\"y\":-968.7737426757812},\"40\":{\"node_type\":\"multimarker\",\"x\":1289.6665649414062,\"y\":-165.00006103515625},\"41\":{\"node_type\":\"midmarker\",\"x\":1289.6665649414062,\"y\":-145.00006103515625},\"42\":{\"node_type\":\"multimarker\",\"x\":1289.6665649414062,\"y\":-125.00006103515625},\"44\":{\"node_type\":\"metabolite\",\"x\":1289.6665649414062,\"y\":29.99993896484375,\"bigg_id\":\"[M]_HCO3_c\",\"name\":\"CHO3\",\"label_x\":1310.6665649414062,\"label_y\":7.333271503448486,\"node_is_primary\":true},\"52\":{\"node_type\":\"multimarker\",\"x\":1409.2748762987262,\"y\":211.32401972572646},\"53\":{\"node_type\":\"midmarker\",\"x\":1408.6665649414062,\"y\":191.33327293395996},\"54\":{\"node_type\":\"multimarker\",\"x\":1408.0582535840863,\"y\":171.34252614219335},\"55\":{\"node_type\":\"metabolite\",\"x\":1287.6666870117188,\"y\":363.3332710266113,\"bigg_id\":\"[M]_OAA_c\",\"name\":\"C4H2O5\",\"label_x\":1323.0366577148438,\"label_y\":346.7503852844238,\"node_is_primary\":true},\"56\":{\"node_type\":\"metabolite\",\"x\":1288.9999389648438,\"y\":128.66659545898438,\"bigg_id\":\"[M]_PEP_c\",\"name\":\"C3H2O6P\",\"label_x\":1248.0422729492188,\"label_y\":98.7098388671875,\"node_is_primary\":true},\"58\":{\"node_type\":\"multimarker\",\"x\":1287.6666870117188,\"y\":558.3332710266113},\"59\":{\"node_type\":\"midmarker\",\"x\":1287.6666870117188,\"y\":538.3332710266113},\"60\":{\"node_type\":\"multimarker\",\"x\":1287.6666870117188,\"y\":518.3332710266113},\"62\":{\"node_type\":\"metabolite\",\"x\":1288.2583618164062,\"y\":713.9249458312988,\"bigg_id\":\"[M]_Mal_c\",\"name\":\"C4H4O5\",\"label_x\":1313.2583618164062,\"label_y\":713.9249458312988,\"node_is_primary\":true},\"65\":{\"node_type\":\"multimarker\",\"x\":1104.7414227730005,\"y\":515.4533788621472},\"66\":{\"node_type\":\"midmarker\",\"x\":1104.6664622477163,\"y\":535.4532383846456},\"67\":{\"node_type\":\"multimarker\",\"x\":1104.5915017224293,\"y\":555.453097907144},\"69\":{\"node_type\":\"metabolite\",\"x\":936.4449052943767,\"y\":366.74583911265717,\"bigg_id\":\"[M]_Mal_h\",\"name\":\"C4H4O5\",\"label_x\":810.069819845158,\"label_y\":370.74583911265717,\"node_is_primary\":true},\"70\":{\"node_type\":\"metabolite\",\"x\":939.6578197788833,\"y\":720.7443946164624,\"bigg_id\":\"[M]_OAA_h\",\"name\":\"C4H2O5\",\"label_x\":797.7244457554459,\"label_y\":736.7443946164624,\"node_is_primary\":true},\"71\":{\"node_type\":\"multimarker\",\"x\":937.7782182826579,\"y\":557.7458391126572},\"72\":{\"node_type\":\"midmarker\",\"x\":937.7782182826579,\"y\":537.7458391126572},\"73\":{\"node_type\":\"multimarker\",\"x\":937.7782182826579,\"y\":517.7458391126572},\"90\":{\"node_type\":\"multimarker\",\"x\":3158.9678344726562,\"y\":522.0020942687988},\"91\":{\"node_type\":\"midmarker\",\"x\":3158.9678344726562,\"y\":544.1748847961426},\"92\":{\"node_type\":\"multimarker\",\"x\":3158.5728149414062,\"y\":562.8415718078613},\"93\":{\"node_type\":\"metabolite\",\"x\":3337.4120483398438,\"y\":370.68107986450195,\"bigg_id\":\"[M]_Ala_c\",\"name\":\"C3H7NO2\",\"label_x\":3310.0651245117188,\"label_y\":339.7982063293457,\"node_is_primary\":true},\"94\":{\"node_type\":\"metabolite\",\"x\":3338.1416625976562,\"y\":715.8662605285645,\"bigg_id\":\"[M]_Asp_c\",\"name\":\"C4H6NO4\",\"label_x\":3353.2651977539062,\"label_y\":691.3724250793457,\"node_is_primary\":true},\"95\":{\"node_type\":\"metabolite\",\"x\":2989.3306274414062,\"y\":719.0569038391113,\"bigg_id\":\"[M]_Pyr_c\",\"name\":\"C3H3O3\",\"label_x\":3000.7750854492188,\"label_y\":693.3531684875488,\"node_is_primary\":true},\"96\":{\"node_type\":\"multimarker\",\"x\":1133.9999389648438,\"y\":128.6665954589844},\"97\":{\"node_type\":\"midmarker\",\"x\":1113.9999389648438,\"y\":128.6665954589844},\"98\":{\"node_type\":\"multimarker\",\"x\":1093.9999389648438,\"y\":128.6665954589844},\"101\":{\"node_type\":\"metabolite\",\"x\":938.9999389648438,\"y\":128.66659545898443,\"bigg_id\":\"[M]_PEP_h\",\"name\":\"C3H2O6P\",\"label_x\":901.1999389648438,\"label_y\":168.66659545898443,\"node_is_primary\":true},\"104\":{\"node_type\":\"multimarker\",\"x\":2816.6066284179688,\"y\":842.0523262023926},\"105\":{\"node_type\":\"midmarker\",\"x\":1114.7053833007812,\"y\":842.0523262023926},\"106\":{\"node_type\":\"multimarker\",\"x\":1094.7053833007812,\"y\":842.0523262023926},\"109\":{\"node_type\":\"metabolite\",\"x\":939.7053833007812,\"y\":842.0523262023926,\"bigg_id\":\"[M]_Pyr_h\",\"name\":\"C3H3O3\",\"label_x\":890.6630126953125,\"label_y\":886.7859687805176,\"node_is_primary\":true},\"110\":{\"node_type\":\"multimarker\",\"x\":772.3787003872201,\"y\":500.5207926303535},\"111\":{\"node_type\":\"midmarker\",\"x\":772.3975830078125,\"y\":480.52080154418945},\"112\":{\"node_type\":\"multimarker\",\"x\":772.4164656284049,\"y\":460.5208104580254},\"174\":{\"node_type\":\"multimarker\",\"x\":1288.8482055664062,\"y\":1107.025592803955},\"175\":{\"node_type\":\"midmarker\",\"x\":1291.9885864257812,\"y\":1463.0464668273926},\"176\":{\"node_type\":\"multimarker\",\"x\":1291.9885864257812,\"y\":1483.0464668273926},\"177\":{\"node_type\":\"metabolite\",\"x\":1291.9885864257812,\"y\":1638.0464668273926,\"bigg_id\":\"[B]_Mal_c\",\"name\":\"C4H4O5\",\"label_x\":1169.7308959960938,\"label_y\":1640.6761054992676,\"node_is_primary\":true},\"178\":{\"node_type\":\"multimarker\",\"x\":2985.7622680664062,\"y\":1110.07857131958},\"179\":{\"node_type\":\"midmarker\",\"x\":2988.9026489257812,\"y\":1466.0994453430176},\"180\":{\"node_type\":\"multimarker\",\"x\":2988.9026489257812,\"y\":1486.0994453430176},\"181\":{\"node_type\":\"metabolite\",\"x\":2988.9026489257812,\"y\":1641.0994453430176,\"bigg_id\":\"[B]_Pyr_c\",\"name\":\"C3H3O3\",\"label_x\":2878.8265991210938,\"label_y\":1682.495807647705,\"node_is_primary\":true},\"182\":{\"node_type\":\"multimarker\",\"x\":3336.6189575195312,\"y\":1108.9669075012207},\"183\":{\"node_type\":\"midmarker\",\"x\":3339.7593383789062,\"y\":1464.9877815246582},\"184\":{\"node_type\":\"multimarker\",\"x\":3339.7593383789062,\"y\":1484.9877815246582},\"185\":{\"node_type\":\"metabolite\",\"x\":3339.7593383789062,\"y\":1639.9877815246582,\"bigg_id\":\"[B]_Asp_c\",\"name\":\"C4H6NO4\",\"label_x\":3345.0130004882812,\"label_y\":1683.7119026184082,\"node_is_primary\":true},\"186\":{\"node_type\":\"multimarker\",\"x\":3584.0829467773438,\"y\":1104.4651374816895},\"187\":{\"node_type\":\"midmarker\",\"x\":3587.2233276367188,\"y\":1460.486011505127},\"188\":{\"node_type\":\"multimarker\",\"x\":3587.2233276367188,\"y\":1480.486011505127},\"189\":{\"node_type\":\"metabolite\",\"x\":3587.2233276367188,\"y\":1635.486011505127,\"bigg_id\":\"[B]_Ala_c\",\"name\":\"C3H7NO2\",\"label_x\":3612.2233276367188,\"label_y\":1675.595630645752,\"node_is_primary\":true},\"230\":{\"node_type\":\"multimarker\",\"x\":2760.4410485212625,\"y\":1107.8901944322583},\"231\":{\"node_type\":\"midmarker\",\"x\":2763.362734164408,\"y\":1463.9098727300116},\"232\":{\"node_type\":\"multimarker\",\"x\":2763.1440389481786,\"y\":1483.9086770043273},\"233\":{\"node_type\":\"metabolite\",\"x\":2761.4491510224,\"y\":1638.899410130277,\"bigg_id\":\"[B]_PEP_c\",\"name\":\"C3H2O6P\",\"label_x\":2724.9795221161503,\"label_y\":1683.7076376693394,\"node_is_primary\":true},\"396\":{\"node_type\":\"multimarker\",\"x\":1446.9885864257812,\"y\":1638.0464668273926},\"397\":{\"node_type\":\"midmarker\",\"x\":1466.9885864257812,\"y\":1638.0464668273926},\"398\":{\"node_type\":\"multimarker\",\"x\":1486.9885864257812,\"y\":1638.0464668273926},\"402\":{\"node_type\":\"metabolite\",\"x\":1582.4837036132812,\"y\":1636.402057647705,\"bigg_id\":\"[B]_OAA_c\",\"name\":\"C4H2O5\",\"label_x\":1542.0540649414063,\"label_y\":1606.7176094055176,\"node_is_primary\":true},\"442\":{\"node_type\":\"multimarker\",\"x\":2403.4094848632812,\"y\":1636.402057647705},\"443\":{\"node_type\":\"midmarker\",\"x\":2423.4094848632812,\"y\":1636.402057647705},\"444\":{\"node_type\":\"multimarker\",\"x\":2443.4094848632812,\"y\":1636.402057647705},\"447\":{\"node_type\":\"metabolite\",\"x\":2479.2601928710938,\"y\":1474.2293281555176,\"bigg_id\":\"[B]_CO2_c\",\"name\":\"CO2\",\"label_x\":2503.5758422851563,\"label_y\":1451.1131172180176,\"node_is_primary\":true},\"449\":{\"node_type\":\"multimarker\",\"x\":3180.1638793945312,\"y\":1833.8238410949707},\"450\":{\"node_type\":\"midmarker\",\"x\":3180.1638793945312,\"y\":1813.8238410949707},\"451\":{\"node_type\":\"multimarker\",\"x\":3180.1638793945312,\"y\":1793.8238410949707},\"468\":{\"node_type\":\"metabolite\",\"x\":2557.254638671875,\"y\":2644.2354736328125,\"bigg_id\":\"[B]_Mal_h\",\"name\":\"C4H4O5\",\"label_x\":2581.18212890625,\"label_y\":2620.6953125,\"node_is_primary\":true},\"470\":{\"node_type\":\"metabolite\",\"x\":2990.5491943359375,\"y\":2644.2545166015625,\"bigg_id\":\"[B]_Pyr_h\",\"name\":\"C3H3O3\",\"label_x\":2963.0924072265625,\"label_y\":2695.6025390625,\"node_is_primary\":true},\"471\":{\"node_type\":\"multimarker\",\"x\":2769.9520263671875,\"y\":2648.5093994140625},\"472\":{\"node_type\":\"midmarker\",\"x\":2789.9520263671875,\"y\":2648.5093994140625},\"473\":{\"node_type\":\"multimarker\",\"x\":2809.9520263671875,\"y\":2648.5093994140625},\"474\":{\"node_type\":\"metabolite\",\"x\":2991.3847045898438,\"y\":2787.396728515625,\"bigg_id\":\"[B]_CO2_h\",\"name\":\"CO2\",\"label_x\":2964.9905639648437,\"label_y\":2845.26123046875,\"node_is_primary\":true},\"483\":{\"node_type\":\"metabolite\",\"x\":2407.30029296875,\"y\":2874.866943359375,\"bigg_id\":\"[B]_PGA_h\",\"name\":\"C3H4O7P\",\"label_x\":2271.1439697265623,\"label_y\":2881.5244140625,\"node_is_primary\":true},\"491\":{\"node_type\":\"metabolite\",\"x\":2989.6767578125,\"y\":3153.792236328125,\"bigg_id\":\"[B]_RuBP_h\",\"name\":\"C5H8O11P2\",\"label_x\":3022.277099609375,\"label_y\":3162.3876953125,\"node_is_primary\":true},\"517\":{\"node_type\":\"multimarker\",\"x\":2840.6141967773438,\"y\":2879.277587890625},\"518\":{\"node_type\":\"midmarker\",\"x\":2820.6141967773438,\"y\":2879.277587890625},\"519\":{\"node_type\":\"multimarker\",\"x\":2800.6141967773438,\"y\":2879.277587890625},\"538\":{\"node_type\":\"multimarker\",\"x\":2986.3092651367188,\"y\":2275.8533515930176},\"539\":{\"node_type\":\"midmarker\",\"x\":2986.3092651367188,\"y\":2295.8533515930176},\"540\":{\"node_type\":\"multimarker\",\"x\":2986.3092651367188,\"y\":2315.8533515930176},\"544\":{\"node_type\":\"multimarker\",\"x\":1437.9448852539062,\"y\":2295.60200881958},\"545\":{\"node_type\":\"midmarker\",\"x\":1435.1012573242188,\"y\":2296.454792022705},\"546\":{\"node_type\":\"multimarker\",\"x\":1436.9970092773438,\"y\":2297.3074531555176},\"547\":{\"node_type\":\"metabolite\",\"x\":1290.5658569335938,\"y\":2644.02339553833,\"bigg_id\":\"[B]_Mal_m\",\"name\":\"C4H4O5\",\"label_x\":1157.2743530273438,\"label_y\":2650.658405303955,\"node_is_primary\":true},\"549\":{\"node_type\":\"metabolite\",\"x\":1582.3945922851562,\"y\":2643.2093086242676,\"bigg_id\":\"[B]_OAA_m\",\"name\":\"C4H2O5\",\"label_x\":1611.3456420898438,\"label_y\":2652.3565254211426,\"node_is_primary\":true},\"550\":{\"node_type\":\"multimarker\",\"x\":1443.6730346679688,\"y\":2644.969928741455},\"551\":{\"node_type\":\"midmarker\",\"x\":1463.6730346679688,\"y\":2644.969928741455},\"552\":{\"node_type\":\"multimarker\",\"x\":1483.6730346679688,\"y\":2644.969928741455},\"558\":{\"node_type\":\"multimarker\",\"x\":1970.4468994140625,\"y\":2295.3272705078125},\"559\":{\"node_type\":\"midmarker\",\"x\":1990.4468994140625,\"y\":2295.3272705078125},\"560\":{\"node_type\":\"multimarker\",\"x\":2010.4468994140625,\"y\":2295.3272705078125},\"563\":{\"node_type\":\"metabolite\",\"x\":1818.0286865234375,\"y\":2644.4102783203125,\"bigg_id\":\"[B]_OAA_h\",\"name\":\"C4H2O5\",\"label_x\":1839.56943359375,\"label_y\":2618.6732177734375,\"node_is_primary\":true},\"564\":{\"node_type\":\"multimarker\",\"x\":2135.7994384765625,\"y\":2645.3541259765625},\"565\":{\"node_type\":\"midmarker\",\"x\":2155.7994384765625,\"y\":2645.3541259765625},\"566\":{\"node_type\":\"multimarker\",\"x\":2175.7994384765625,\"y\":2645.3541259765625},\"571\":{\"node_type\":\"multimarker\",\"x\":2182.87646484375,\"y\":2788.6236572265625},\"572\":{\"node_type\":\"midmarker\",\"x\":2162.87646484375,\"y\":2788.6236572265625},\"573\":{\"node_type\":\"multimarker\",\"x\":2142.87646484375,\"y\":2788.6236572265625},\"578\":{\"node_type\":\"multimarker\",\"x\":1564.0972089735876,\"y\":2817.3817224328563},\"579\":{\"node_type\":\"midmarker\",\"x\":1544.0982055664062,\"y\":2817.5813789367676},\"580\":{\"node_type\":\"multimarker\",\"x\":1524.099202159225,\"y\":2817.781035440679},\"581\":{\"node_type\":\"metabolite\",\"x\":1585.8931274414062,\"y\":3365.1145820617676,\"bigg_id\":\"[B]_Ala_m\",\"name\":\"C3H7NO2\",\"label_x\":1612.2485961914062,\"label_y\":3370.6297187805176,\"node_is_primary\":true},\"582\":{\"node_type\":\"metabolite\",\"x\":1495.1290893554688,\"y\":3367.6228828430176,\"bigg_id\":\"[B]_Asp_m\",\"name\":\"C4H6NO4\",\"label_x\":1360.6655883789062,\"label_y\":3373.2732734680176,\"node_is_primary\":true},\"584\":{\"node_type\":\"multimarker\",\"x\":1290.5658569335938,\"y\":2799.02339553833},\"585\":{\"node_type\":\"midmarker\",\"x\":1290.5658569335938,\"y\":2819.02339553833},\"586\":{\"node_type\":\"multimarker\",\"x\":1290.5658569335938,\"y\":2839.02339553833},\"587\":{\"node_type\":\"metabolite\",\"x\":1290.5658569335938,\"y\":2994.02339553833,\"bigg_id\":\"[B]_CO2_m\",\"name\":\"CO2\",\"label_x\":1306.0503540039062,\"label_y\":3052.37398147583,\"node_is_primary\":true},\"590\":{\"node_type\":\"metabolite\",\"x\":1401.4198608398438,\"y\":2818.55171585083,\"bigg_id\":\"[B]_Pyr_m\",\"name\":\"C3H3O3\",\"label_x\":1345.5322875976562,\"label_y\":2859.22456741333,\"node_is_primary\":true},\"591\":{\"node_type\":\"multimarker\",\"x\":1046.1943089173585,\"y\":1472.9092479875703},\"592\":{\"node_type\":\"midmarker\",\"x\":1049.3782348632812,\"y\":2996.947956085205},\"593\":{\"node_type\":\"multimarker\",\"x\":1069.3779567076415,\"y\":2997.0534366437773},\"595\":{\"node_type\":\"multimarker\",\"x\":3098.3270874023438,\"y\":1478.5565185546875},\"596\":{\"node_type\":\"midmarker\",\"x\":3093.0409545898438,\"y\":2785.986328125},\"597\":{\"node_type\":\"multimarker\",\"x\":3073.0409545898438,\"y\":2785.986328125},\"684\":{\"node_type\":\"multimarker\",\"x\":653.9961395263672,\"y\":3648.4940185546875},\"728\":{\"node_type\":\"multimarker\",\"x\":1493.7348022460938,\"y\":3854.6458320617676},\"729\":{\"node_type\":\"midmarker\",\"x\":1493.7348022460938,\"y\":3874.6458320617676},\"730\":{\"node_type\":\"multimarker\",\"x\":3337.0399780273438,\"y\":3869.5474433898926},\"732\":{\"node_type\":\"multimarker\",\"x\":3586.7577514648438,\"y\":3825.2095527648926},\"733\":{\"node_type\":\"midmarker\",\"x\":1590.0761108398438,\"y\":3826.1245918273926},\"734\":{\"node_type\":\"multimarker\",\"x\":1590.0761108398438,\"y\":3806.1245918273926},\"742\":{\"node_type\":\"multimarker\",\"x\":2848.652031881775,\"y\":1638.899410130277},\"743\":{\"node_type\":\"midmarker\",\"x\":2868.652031881775,\"y\":1638.899410130277},\"744\":{\"node_type\":\"multimarker\",\"x\":2888.652031881775,\"y\":1638.899410130277}},\"text_labels\":{},\"canvas\":{\"x\":-1559,\"y\":-1379,\"width\":6207.264892578125,\"height\":6713.53173828125}}]'),\n",
       "               model_data: JSON.parse('null'),\n",
       "               static_site_index: JSON.parse('null'),\n",
       "           };\n",
       "       }\n",
       "   })();\n",
       "  </script>\n"
      ],
      "text/plain": [
       "<IPython.core.display.HTML object>"
      ]
     },
     "metadata": {},
     "output_type": "display_data"
    },
    {
     "data": {
      "text/html": [
       "<h1>PEP-CK</h1>"
      ],
      "text/plain": [
       "<IPython.core.display.HTML object>"
      ]
     },
     "metadata": {},
     "output_type": "display_data"
    },
    {
     "data": {
      "text/html": [
       "\n",
       "\n",
       "\n",
       "  \n",
       "  \n",
       "\n",
       "  \n",
       "  \n",
       "    <link rel=\"stylesheet\" href=\"//unpkg.com/escher-vis@1.6.0/css/dist/builder.min.css\"/>\n",
       "  \n",
       "\n",
       "\n",
       "\n",
       "  <div style=\"height: 1000px; width: 100%;\" id=\"bmyfbelzsp\"></div>\n",
       "\n",
       "  <script>\n",
       "   /* Closure to make sure data only applies to this map. */\n",
       "   (function() {\n",
       "       /* data from python */\n",
       "       var data = get_data();\n",
       "\n",
       "       function load_lib(url, callback) {\n",
       "           /** Dynamically load a JavaScript file */\n",
       "           var s = document.createElement('script');\n",
       "           s.src = url;\n",
       "           s.async = true;\n",
       "           s.onreadystatechange = s.onload = callback;\n",
       "           s.onerror = function() {\n",
       "               console.warn('Failed to load library ' + url);\n",
       "           };\n",
       "           document.getElementsByTagName('head')[0].appendChild(s);\n",
       "       }\n",
       "\n",
       "       function check_global_and_load(name, url, callback) {\n",
       "           /** Look for the name in the global scope. If it isn't present, then\n",
       "              load the library at url. Returns the object. */\n",
       "           if (window[name] !== undefined) {\n",
       "               callback(window[name]);\n",
       "           } else {\n",
       "               load_lib(url, function() {\n",
       "                   callback(window[name]);\n",
       "               });\n",
       "           }\n",
       "       }\n",
       "\n",
       "       function draw_escher(escher) {\n",
       "           /** Get data and draw */\n",
       "           var load = function(t_map_data, t_model_data, t_options) {\n",
       "               escher.Builder(t_map_data, t_model_data, data.builder_embed_css,\n",
       "                              escher.libs.d3_select('#' + data.id), t_options);\n",
       "           }\n",
       "\n",
       "           // for the static site, use the url attributes for the map and model\n",
       "           // information\n",
       "           if (data.static_site_index !== null) {\n",
       "               escher.static.load_map_model_from_url(data.map_download_url, data.model_download_url,\n",
       "                                                     data.static_site_index, data.options, load);\n",
       "           } else {\n",
       "               load(data.map_data, data.model_data, data.options);\n",
       "           }\n",
       "       }\n",
       "\n",
       "       // Load dependencies and draw\n",
       "       if (typeof define === 'function' && define.amd) {\n",
       "           // require.js is available: use it to load escher\n",
       "           require.config({\n",
       "             paths: {\n",
       "               escher: '//unpkg.com/escher-vis@1.6.0/js/dist/escher.min',\n",
       "             },\n",
       "             // Override urlArgs that adds ?v= to the end of the escher URL and\n",
       "             // messes up unpkg links. Honestly, I'm not sure if this will lead\n",
       "             // to downstream bugs in the notebook, but they really shouldn't be\n",
       "             // doing this cache-busting anyway.\n",
       "             urlArgs: null,\n",
       "           })\n",
       "           require([ 'escher' ], function(escher) {\n",
       "               draw_escher(escher);\n",
       "           })\n",
       "       } else {\n",
       "           // require.js not available: dynamically load escher\n",
       "           check_global_and_load('escher', '//unpkg.com/escher-vis@1.6.0/js/dist/escher.min.js', function(escher) {\n",
       "               draw_escher(escher);\n",
       "           })\n",
       "       }\n",
       "\n",
       "       // Put this at the end so Chrome doesn't cut off the code above.\n",
       "       function get_data() {\n",
       "           /** Return the data passed in by the Python module. */\n",
       "           return {\n",
       "               id: JSON.parse('\"bmyfbelzsp\"'),\n",
       "               map_download_url: JSON.parse('\"//escher.github.io/1-0-0/5/maps/\"'),\n",
       "               model_download_url: JSON.parse('\"//escher.github.io/1-0-0/5/models/\"'),\n",
       "               options: JSON.parse('{\"reaction_data\": {\"[M]_PGAK_h\": 5.778066717950212, \"[M]_SerAcT_c\": 0.0, \"[B]_NDA2_1_m\": 0.0, \"[M]_AMT_m\": -2.420703968876649e-19, \"[B]_Ex_Arg_p\": 0.0, \"[M]_ArgSCAL_h\": 0.011158962913884293, \"[M]_Im_hnu\": 206.4817893841315, \"[M]_PGAK_c\": 0.0, \"[MB]_Met_c\": 0.004461269068385423, \"[M]_SerAcT_m\": 0.0, \"[M]_Tr_Ser1\": 0.0, \"[B]_Ex_Arg_h\": 0.0, \"[M]_Tr_Ser2\": -0.004461269068385429, \"[B]_Ex_Glu_h\": 0.0, \"[B]_DHLAcT_m\": 0.3222150541384073, \"[MB]_Thr_c\": 0.05579481456942145, \"[B]_Ex_Trp_p\": 0.0, \"[B]_G6PDH_h\": 0.0, \"[M]_DPE11_h\": 0.0, \"[M]_Ex_Arg_m\": 0.0, \"[B]_Ex_Mas\": 0.0, \"[B]_PSII_h\": 19.406001403682005, \"[M]_Tr_His2\": 0.002789740728470593, \"[M]_Tr_His3\": 0.0, \"[M]_GMPK_c\": 0.0, \"[B]_FTK_h\": 13.405866592273716, \"[B]_ACPM_h\": 0.0, \"[M]_Tr_DTC1A\": 0.0, \"[B]_TPS_c\": 0.0, \"[B]_DHDS_h\": 0.012553833278119828, \"[M]_PGAM_h\": -0.002789740728484658, \"[B]_Urease_m\": 0.0, \"[M]_Tr_BT12\": 0.0, \"[M]_Tr_BT11\": -3.593080602294844e-15, \"[M]_DPE13_h\": 0.0, \"[B]_Im_Pi\": 0.0, \"[M]_PGAM_c\": 1.4429335104997273e-15, \"[MB]_KG_c\": 0.0, \"[M]_Ex_O2\": 23.72213456392393, \"[MB]_Gln_c\": 0.0, \"[M]_FGAMS_h\": 0.0, \"[M]_SerAcT_h\": 0.004461269068385424, \"[M]_DHFR_c\": 0.0, \"[B]_Tr_Asp_OAA_hc\": -0.13642063771940918, \"[B]_Tr_NO2\": -1.4923101085908808e-15, \"[M]_6PGDHNADP_h\": 0.0, \"[M]_DAPDC_h\": 0.0, \"[M]_Ex_Met_p\": 0.0, \"[M]_IndGPS_h\": 0.0, \"[B]_AGPase_h\": 3.06871480131818, \"[B]_Tr_Val1\": 0.0, \"[B]_Tr_Val2\": 0.016738444370826437, \"[B]_Tr_Val3\": 0.0, \"[MB]_GCA_c\": -3.5085079259255893e-15, \"[B]_Tr_PRPP\": -6.295181615296577e-15, \"[M]_DHQDH_h\": 0.0, \"[M]_Ex_Arg_c\": 0.0, \"[M]_Ex_Tre\": 0.0, \"[B]_SADH_h\": 0.01813331473506197, \"[B]_HCO3DHA_c\": 0.0, \"[B]_Ex_Glc\": 0.0, \"[B]_ArgSCAL_h\": 0.0, \"[M]_cplx1_m\": 0.6554036116562302, \"[B]_RBO_h\": 3.50850792592559e-15, \"[M]_DHOase_h\": 0.0, \"[B]_EPSPS_h\": 0.01813331473506197, \"[B]_NGAM_h\": 0.152707083279744, \"[M]_GAPDH1_h\": 5.778066717950213, \"[M]_GABATA1_m\": 0.0, \"[B]_GluSeADA_m\": 0.0, \"[M]_PPiase_h\": 40.014502019594175, \"[M]_Tr_Phe1\": 0.0, \"[M]_cplx3_m\": 0.6554036116562302, \"[B]_Ex_Val_h\": 0.0, \"[B]_dTDPK_c\": 0.0, \"[M]_Tr_Ile3\": 0.0, \"[B]_BAATA2_h\": 0.008369222185413219, \"[B]_Ex_Arg_m\": 0.0, \"[M]_ADPRPPT_c\": 0.0, \"[B]_AspAT_p\": -2.01353310504887e-15, \"[M]_AOX4_h\": 0.0, \"[M]_Tr_Phe2\": 0.0, \"[M]_ProDHNAD_m\": 2.668981408835271e-15, \"[M]_Tr_NDT1\": 0.0, \"[B]_Tr_H2Op\": 0.0, \"[B]_SerRM_c\": 0.0, \"[M]_PGP_h\": -1.4949748208767201e-15, \"[B]_Tr_KG\": 0.0, \"[B]_Tr_H2Oh\": 0.0, \"[M]_ALS3_h\": 0.0, \"[M]_BAATA2_h\": 0.0, \"[B]_Tr_H2Om\": -10.015749679678368, \"[B]_Ex_cellulose\": 0.0, \"[B]_GDPR_c\": 0.0, \"[M]_MalDH2_m\": 0.0, \"[B]_ALS3_h\": 0.025107666556239663, \"[B]_Ex_Suc\": 1.53435740065909, \"[B]_F26BPPh_c\": 0.0, \"[M]_MalDH4_h\": 0.0, \"[B]_PSI_h\": 128.85778376940348, \"[B]_GGAT_p\": 2.01353310504887e-15, \"[M]_ForTHFL_h\": 0.002789740728470593, \"[B]_GGAT_h\": 0.0, \"[M]_Tr_Trp2\": 0.0, \"[B]_5M_DASH_THFOR_c\": 0.0004207772064389538, \"[M]_dGDPK_c\": 0.0, \"[M]_ALS1_h\": 0.0, \"[M]_MetS_c\": 0.004461269068385423, \"[M]_Tr_Asp_mc\": 2.208232695663926e-18, \"[B]_GARFT_h\": 0.0, \"[M]_Ex_Leu_h\": 0.0, \"[B]_Tr_H_Na_hc\": 0.0, \"[M]_CDPR_c\": 0.0, \"[M]_GluDC_c\": 0.0, \"[M]_Ex_Leu_c\": 0.0, \"[M]_IndGPL_h\": 0.0, \"[M]_NO2R_h\": 1.0559168657263112, \"[M]_NDA2_2_m\": 0.0, \"[M]_Ex_Arg_p\": 0.0, \"[M]_S6PS_c\": 1.3652449456081808e-15, \"[MB]_Glc_c\": 0.0, \"[M]_Ex_Leu_p\": 0.0, \"[B]_AIRC_h\": 0.0, \"[B]_Tr_PXN3\": -2.0135331050488696e-15, \"[M]_Tr_NH41\": -0.9471169773159248, \"[B]_Tr_Pyr1\": 0.0, \"[B]_Ex_Pro_m\": 0.0, \"[M]_6PGDHNAD_h\": 0.0, \"[M]_Ex_Ser_c\": 0.0, \"[B]_AlaTA_m\": -0.3222150541383995, \"[M]_Tr_Pro2\": 0.0, \"[B]_iCitL_p\": 2.01353310504887e-15, \"[B]_Ex_Met_c\": 0.0, \"[B]_Tr_KG_Mal_mc\": 0.2952917400114908, \"[M]_Ex_Ser_h\": 0.0, \"[B]_CTPP_c\": 0.0, \"[M]_Tr_H2Om\": -2.830971129931496, \"[M]_Ex_Tyr_c\": 0.0, \"[B]_Ex_Pro_c\": 0.0, \"[B]_PEPC1_c\": 39.45390825240219, \"[B]_Tr_Ala2\": 0.0, \"[B]_Tr_TPT3\": 0.0, \"[M]_PyrDH1_m\": 0.0, \"[M]_Tr_Asp\": 0.0, \"[B]_ADPR_c\": 0.0, \"[M]_Tr_DIT2\": 0.0, \"[M]_cplx5_m\": 2.1846787055207675, \"[M]_PSII_h\": 24.049836369752047, \"[M]_Tr_NH42\": 0.0, \"[M]_Tr_DIT1\": 0.01115896291393842, \"[B]_AlaTA_p\": 0.0, \"[B]_Ex_Phe_c\": 0.0, \"[M]_FBPA_c\": 0.0, \"[M]_Tr_His1\": 0.0, \"[B]_AspAT2_p\": 0.0, \"[M]_PGI_c\": 0.0018598271523038335, \"[B]_Ex_Met_h\": 0.0, \"[B]_KARI12_h\": 0.008369222185413222, \"[M]_FBPA_h\": 0.0, \"[B]_PSerAT_h\": 0.06555890711906917, \"[M]_PGI_h\": -0.0018598271522763075, \"[M]_Tr_DTC1B\": 0.0, \"[B]_Tr_ORO\": 0.0, \"[M]_ArgSCAS_h\": 0.011158962913884293, \"[M]_Ex_Arg_h\": 0.0, \"[B]_Tr_DTC2A\": 0.3082663504960519, \"[M]_3IPMDA1_h\": 0.0, \"[B]_AspAT2_c\": -3.0918271510120996, \"[B]_Tr_DTC2B\": 0.02692331412693564, \"[B]_AspAT2_m\": 7.774041322696539e-15, \"[MB]_Trp_c\": 0.0, \"[M]_Tr_SFC\": 5.2825388145601945e-15, \"[B]_AspAT2_h\": 3.710671789086517e-15, \"[M]_Ex_starch\": 0.0, \"[M]_GSSGR_h\": 0.004461269068385428, \"[M]_GluSeADH_m\": 0.0, \"[B]_Ex_Thr_p\": 0.0, \"[M]_PGM_c\": 0.0, \"[M]_GluSeADH_h\": -1.1845331506645332e-15, \"[M]_P5CDHNADP_h\": 0.0, \"[B]_Cytb6f1_h\": 64.42889188470174, \"[M]_PGM_h\": 0.0, \"[B]_ADNK_c\": 5.9926330655022314e-15, \"[B]_PyrK_c\": 39.45390825240223, \"[M]_StS_h1\": 0.0, \"[M]_StS_h3\": 0.0, \"[M]_StS_h2\": 0.0, \"[M]_FrcFD_c\": 0.0, \"[B]_Ex_Thr_c\": 0.0, \"[M]_CTHL_h\": 0.0044612690683854235, \"[B]_Ex_Pro_p\": 0.0, \"[M]_Tr_BT13\": 7.284452381354755e-16, \"[M]_SO3R_h\": 0.0044612690683854235, \"[M]_Ex_Gln_m\": 0.0, \"[M]_Tr_iCit\": -2.01353310504887e-15, \"[B]_PGR5PGRL11_h\": 0.0, \"[B]_ATPPRT_h\": 4.800020083556029e-16, \"[B]_NDC1_1_h\": 0.0, \"[B]_DCAMPS_h\": 4.810007547513657e-16, \"[B]_PyrK_h\": 0.898849830519049, \"[B]_ForTHFL_h\": 4.806500741866069e-16, \"[M]_Ex_Thr_p\": 0.0, \"[MB]_Glu_c\": -0.011158962913938511, \"[M]_Tr_Met2\": 0.0, \"[MB]_Fum_c\": 0.013948703642354884, \"[M]_Im_Pi\": 0.0, \"[M]_Tr_Met3\": 0.0, \"[M]_GluSNAD_h\": 0.0, \"[B]_ATase_h\": 0.0, \"[M]_Ex_Glu_p\": 0.0, \"[B]_AGluK\": 0.0, \"[B]_NGAM_m\": 0.00911118724550157, \"[B]_IndGPS_h\": 0.006276916639059914, \"[B]_Tr_Cit_iCit_mc\": 0.0, \"[B]_Tr_DTC4B\": 0.0, \"[M]_KGDH_m\": 0.0, \"[M]_HSerDHNADP_h\": 0.05746634290933627, \"[M]_Tr_Phe3\": 0.0, \"[B]_3IPMDH_h\": 0.00836922218541322, \"[B]_NGAM_c\": 0.0503499796174949, \"[B]_DAPE_h\": 0.012553833278119826, \"[M]_Tr_DTC2B\": 0.0, \"[B]_ALS1_h\": 0.03347688874165289, \"[M]_PrAMPCy_h\": 0.002789740728470593, \"[M]_Tr_UCP\": -4.351135036550528, \"[B]_ATPase_h\": 109.45178236572147, \"[B]_Tr_Trp1\": 0.0, \"[MB]_G6P_c\": 0.0, \"[B]_Tr_SO4\": 0.00042077720643895436, \"[M]_Ex_Asp_c\": 0.0, \"[B]_Tr_Hp\": 0.0, \"[M]_cACNHA_m\": 0.0, \"[M]_PGR5PGRL12_h\": 0.0, \"[M]_Ex_Met_m\": 0.0, \"[M]_cACNHA_h\": 0.0, \"[B]_bAMY1_h\": 0.0, \"[B]_3IPMDA2_h\": 0.008369222185413219, \"[M]_cACNHA_c\": 0.0, \"[M]_NDC1_1_h\": 0.0, \"[M]_Ex_Asp_m\": 0.0, \"[M]_Ex_Asp_p\": 0.0, \"[B]_Enol_h\": 1.0210451066204316, \"[B]_Tr_O2m\": 1.2703430012393309, \"[B]_Tr_Trp3\": 0.0, \"[B]_Tr_Trp2\": 0.006276916639059913, \"[B]_ProDHNADP_m\": 0.0, \"[B]_DHODH_m\": 0.0, \"[B]_Ex_Met_m\": 0.0, \"[B]_Enol_c\": 0.0, \"[B]_Ex_Asp_p\": 0.0, \"[B]_Tr_Pro1\": 0.0, \"[M]_HEXK_c\": 0.0, \"[B]_Tr_Pyr3\": 0.0, \"[B]_CitS_c\": 0.0, \"[M]_Ex_Thr_m\": 0.0, \"[M]_Tr_ORO\": 0.0, \"[B]_CitS_m\": 0.3222150541384073, \"[B]_NDA2_2_m\": 0.0, \"[B]_BAATA3_h\": 0.01673844437082644, \"[B]_CitS_h\": 0.0, \"[B]_GluSeADH_c\": 0.0, \"[B]_FGAMS_h\": 0.0, \"[B]_S6PS_c\": 1.5343574006590874, \"[B]_FGAMCL_h\": 0.0, \"[B]_AGNDH_h\": 0.004184611092706609, \"[B]_IndGPL_h\": 0.006276916639059913, \"[M]_UDPR_c\": 0.0, \"[B]_GluSeADH_h\": 0.0, \"[B]_Ex_Asp_m\": 0.0, \"[M]_DPE12_h\": 0.0, \"[M]_Tr_Glu1\": 0.0, \"[B]_AlaTA_h\": 0.0, \"[M]_OROPRT_c\": 0.0, \"[M]_AlaTA_p\": 0.0, \"[B]_Tr_ProU\": 0.0, \"[M]_Ex_Tyr_h\": 0.0, \"[M]_NDH1_h\": 14.083098426115122, \"[M]_Tr_H2Op\": 0.0, \"[B]_Ex_starch\": 1.5343574006590903, \"[B]_Tr_Pro2\": 0.0, \"[M]_AICARFT_h\": 0.0027897407284705935, \"[M]_AlaTA_c\": 0.0, \"[B]_Tr_ProA\": 0.0, \"[M]_PSerP_h\": 0.0, \"[M]_Tr_Tyr1\": 0.0, \"[B]_Tr_Ile2\": 0.00836922218541322, \"[B]_Tr_Ile1\": 0.0, \"[M]_AlaTA_h\": 1.906976353996066e-14, \"[M]_AlaTA_m\": 0.0, \"[B]_HSerDHNAD_h\": 0.0004207772064389549, \"[B]_iCitDHNAD_m\": 0.29529174001147157, \"[B]_CAT_p\": 0.0, \"[M]_SGAT_p\": 0.0, \"[B]_ATPSL_h\": 0.00042077720643895436, \"[B]_iCitDHNAD_c\": 0.0, \"[M]_MetAdT_c\": 0.0, \"[B]_Tr_P5C2\": 9.510855686473677e-15, \"[B]_FumHA_c\": 0.0, \"[MB]_CO2_c\": 3.50850792592559e-15, \"[M]_Ex_His_h\": 0.0, \"[B]_HCysMT_c\": 5.9926330655022314e-15, \"[B]_SAK_h\": 0.018133314735061974, \"[M]_dUTPP_c\": 0.0, \"[M]_Ex_Ala_m\": 0.0, \"[B]_CAT_h\": 0.0, \"[B]_FumHA_m\": 0.013948703642355368, \"[M]_Cytb6f2_h\": 55.14122195256165, \"[M]_Tr_DHO2\": 0.0, \"[M]_Tr_DHO1\": 0.0, \"[M]_MalDH1_m\": 0.6554036116562276, \"[B]_dUDPK_c\": 0.0, \"[M]_Tr_BAC1\": 0.0, \"[M]_MalDH1_h\": 0.0, \"[MB]_Asn_c\": 1.055769234041705e-15, \"[B]_R5PI_h\": 13.381456360899596, \"[MB]_PEP_c\": 0.0, \"[M]_MalDH1_c\": 2.0074951121106186, \"[M]_MalDH3_h\": 38.91450840840659, \"[M]_Ex_His_c\": 0.0, \"[B]_Tr_GCA1\": 3.50850792592559e-15, \"[B]_ALS2_h\": 0.008369222185413222, \"[M]_Tr_PLT5\": -7.225762619450653e-16, \"[M]_MalDH1_p\": 0.0, \"[B]_Ex_Tyr_c\": 0.0, \"[M]_Tr_KG\": 0.0, \"[B]_IPODC_h\": 0.00836922218541322, \"[B]_Tr_iCit\": 2.01353310504887e-15, \"[B]_Ex_Cys_p\": 0.0, \"[M]_Ex_Cys_c\": 0.0, \"[M]_HisolPTA_h\": 0.002789740728470593, \"[M]_Ex_Cys_h\": 0.0, \"[B]_Ex_Tyr_p\": 0.0, \"[B]_RibK_h\": 0.0, \"[B]_ProDHNAD_m\": 7.464205505083541e-16, \"[B]_ANTS_h\": 0.006276916639059913, \"[B]_GluDH3NADP_c\": -0.026923314126929995, \"[M]_SerRM_c\": 0.0, \"[B]_Ex_Gly_c\": 0.0, \"[M]_RBO_h\": -1.49497482087672e-15, \"[B]_GCEAK_h\": 0.0, \"[B]_GDPK_h\": 4.80889636843354e-16, \"[M]_Ex_Glu_m\": 0.0, \"[B]_PPIase_c\": 1.6047983540529884, \"[B]_GDPK_c\": 0.0, \"[B]_AspCT_h\": 0.0, \"[M]_Tr_Cys\": 0.0, \"[B]_Tr_Tyr3\": 0.0, \"[B]_Ex_Asp_h\": 0.0, \"[M]_Si_H_m\": 0.0, \"[M]_AIRC_h\": 0.0, \"[M]_IMPCH_h\": 0.002789740728470593, \"[B]_Tr_Met2\": 0.0, \"[MB]_2PGA_c\": 0.0, \"[B]_Ex_O2\": 18.13565840244267, \"[B]_S6PPh_c\": 1.5343574006590888, \"[B]_GCAO_h\": 0.0, \"[B]_iCitDHNADP_m\": 0.0, \"[B]_PPiase_h\": 2.998273847924273, \"[M]_NDA2_1_m\": 0.0, \"[B]_iCitDHNADP_h\": 0.0, \"[M]_Ex_Mas\": 0.0, \"[B]_ACoAC_h\": -1.2100471915465112e-18, \"[B]_GAPDH2_h\": -0.06095351881992409, \"[B]_GSSGR_h\": 0.0004207772064389536, \"[B]_Ex_Gln_c\": 0.0, \"[B]_AspK_h\": 0.012974610484558781, \"[B]_Ex_Gln_m\": 0.0, \"[B]_GluSeADA_h\": 0.0, \"[B]_GCAO_p\": 0.0, \"[B]_GAPDH2_c\": -6.501442055203299, \"[B]_Tr_Glu1\": 2.8309169452295478e-31, \"[B]_NO3R2_c\": 0.0, \"[B]_Ex_Lys_c\": 0.0, \"[B]_Tr_Glu2\": -4.9215749737670073e-14, \"[M]_Tr_GCEA2\": 0.0, \"[B]_PrATPDP_h\": 4.806844479113082e-16, \"[M]_FTK_h\": 0.0009299135761561083, \"[M]_Tr_Val1\": 0.0, \"[B]_Tr_Asp\": 2.01353310504887e-15, \"[M]_Tr_Val2\": 0.0, \"[MB]_His_c\": 0.002789740728470593, \"[B]_SAICARS_h\": 0.0, \"[B]_DAPDC_h\": 0.012553833278119828, \"[M]_AspK_h\": 0.06025608363780687, \"[M]_Tr_HCys\": 0.0044612690683854235, \"[M]_KARI12_h\": 0.0, \"[M]_RBC_h\": -1.49497482087672e-15, \"[B]_Ex_Asn_h\": 0.0, \"[B]_Ex_Thr_h\": 0.0, \"[M]_OrnCMT_h\": 0.01115896291388429, \"[M]_ATPCitL_c\": 0.0, \"[M]_SCACoAL_m\": 0.0, \"[M]_SAICARS_h\": 0.0, \"[M]_Tr_TPT2\": 0.0, \"[B]_Cytb6f2_h\": 64.42889188470174, \"[M]_Tr_TPT1\": -5.775276977221733, \"[M]_TA_h\": -0.0009299135761360998, \"[B]_Tr_Tyr1\": 0.0, \"[B]_Tr_Tyr2\": 0.004184611092706609, \"[B]_Tr_DTC3A\": 0.0, \"[M]_RibK_h\": -7.225762619450653e-16, \"[M]_GlnS_m\": 0.0, \"[M]_dUDPK_c\": 0.0, \"[M]_GlnS_h\": 0.11326115747877362, \"[B]_Tr_DTC5\": -0.952349434820801, \"[B]_Ru5PE_h\": 26.793599869812372, \"[M]_OrnAT_m\": 0.0, \"[M]_GlnS_c\": 0.0, \"[M]_Tr_Asp_Glu_mc\": 9.331387252548038e-18, \"[B]_Tr_Lys2\": 0.012553833278119826, \"[B]_Ru5PK_h\": 40.175056230711974, \"[B]_AOrnAGluAcT_h\": 0.0, \"[MB]_Rib_c\": 7.225762619450653e-16, \"[M]_Tr_Thr2\": 0.05579481456942145, \"[B]_Ex_Glu_m\": 0.0, \"[B]_Ex_Glu_c\": 0.0, \"[MB]_Phe_c\": 0.0, \"[MB]_Asp_c\": 3.6602368244381442, \"[MB]_G1P_c\": 0.0, \"[B]_Tr_His2\": -6.580809836134788e-19, \"[MB]_Suc_c\": 0.0, \"[B]_HisolPTA_h\": 4.801565697839489e-16, \"[B]_AspAT_c\": -0.2952917400115588, \"[MB]_Cit_c\": -0.3222150541384073, \"[B]_MetS_c\": 0.0004207772064389535, \"[B]_AspAT_h\": -0.12344602723485364, \"[B]_Tr_GCEA2\": 0.0, \"[B]_Ex_Glu_p\": 0.0, \"[B]_AspAT_m\": 0.0, \"[B]_Tr_DTC1B\": 0.0, \"[B]_Tr_DTC1C\": 0.0, \"[B]_PPIF6PK_c\": 0.0, \"[B]_Im_H2S\": 0.0, \"[M]_GluSeADA_h\": -1.1845331506645332e-15, \"[M]_DAHPS_h\": 0.0, \"[M]_Tr_H2Oh\": 0.0, \"[M]_UDPK_c\": 0.0, \"[M]_Tr_DTC2C\": 0.0, \"[M]_Tr_DTC2A\": 0.0, \"[B]_Tr_SCA\": -2.01353310504887e-15, \"[M]_Ex_Phe_h\": 0.0, \"[M]_GluSeADA_c\": 0.0, \"[B]_DHLST_m\": 0.0, \"[M]_CeS_c1\": 0.0, \"[M]_PPIF6PK_c\": 0.0, \"[M]_CeS_c3\": 0.0, \"[M]_CeS_c2\": 0.0, \"[M]_Si_H_h\": 21.952340897544154, \"[B]_Tr_Pyr_Na_hc\": 0.0, \"[B]_Ex_AA\": 0.6974351821177682, \"[M]_AsnS_c\": 0.0, \"[B]_ACDOxRed_c\": 0.008369222185413217, \"[B]_Tr_P5C1\": -5.0300361055524644e-15, \"[B]_IMPDH_c\": 0.0, \"[B]_Im_H2O\": -0.6342260996949355, \"[M]_ATPSL_h\": 0.0044612690683854235, \"[M]_DAPE_h\": 0.0, \"[B]_DHQS_h\": 0.01813331473506197, \"[B]_Tr_Met3\": 0.0, \"[M]_ThrDA_h\": 0.0, \"[B]_ADPRPPT_c\": -6.295181615296577e-15, \"[M]_Cysase_c\": 0.0, \"[B]_Ex_Ser_h\": 0.0, \"[M]_KARI34_h\": 0.0, \"[M]_PGR5PGRL11_h\": 0.0, \"[M]_ForDH_h\": 0.0027897407284705926, \"[M]_Tr_Tyr3\": 0.0, \"[B]_AICARFT_h\": 4.801456956850859e-16, \"[B]_Ex_Gln_p\": 0.0, \"[M]_CitS_c\": 0.0, \"[B]_Ex_Tyr_h\": 0.0, \"[M]_Im_H2S\": 0.0, \"[M]_NDH2_h\": 7.041549213057561, \"[M]_CitS_h\": 0.0, \"[MB]_SCA_c\": -2.0135331050488696e-15, \"[M]_Ex_Met_c\": 0.0, \"[MB]_Pyr_c\": -37.28241888380993, \"[M]_CitS_m\": 0.0, \"[M]_AGluPR_h\": 0.01115896291388429, \"[MB]_F6P_c\": -0.0018598271523085678, \"[B]_Fd_DASH_NADPR_h\": 38.811371641554345, \"[B]_AMPK_h\": 0.0, \"[B]_PGADH_h\": 0.06555890711906917, \"[M]_Tr_Ala2\": 0.0, \"[B]_Tr_Ala_mc\": 0.32221505413840723, \"[M]_GCEADH_p\": 0.0, \"[B]_AMPK_c\": 0.0, \"[M]_5M_DASH_THFOR_c\": 0.004461269068385423, \"[B]_Tr_DTC1A\": 0.0, \"[B]_Tr_NTT\": 0.0, \"[MB]_Tre_c\": 0.0, \"[B]_Im_CO2\": 0.0, \"[M]_Ex_Ile_m\": 0.0, \"[M]_Tr_Ala1\": 0.0, \"[M]_Tr_Mal\": 0.0, \"[M]_Tr_GCA2\": 2.0135331050488696e-15, \"[M]_Tr_GCA1\": -1.4949748208767201e-15, \"[M]_FGAMCL_h\": 0.0, \"[B]_AOX4_h\": 0.0, \"[B]_Tr_Ser1\": 0.0, \"[B]_HSerDHNADP_h\": 0.0, \"[B]_6PGDHNADP_h\": 0.0, \"[M]_Tr_Pyr_Na_hc\": 0.0, \"[M]_PyrPiDK_h\": 39.98884103708658, \"[B]_PGP_h\": 3.50850792592559e-15, \"[B]_AOX1A_m\": 0.0, \"[M]_DHDRNADP_h\": 0.0, \"[M]_Tr_THF\": 0.0, \"[MB]_S6P_c\": 1.3652449456081808e-15, \"[B]_APSR_h\": 0.00042077720643895436, \"[M]_Tr_DIT1_OAA\": 38.98871319568674, \"[B]_Tr_Asn1\": 0.0, \"[B]_Tr_Asn3\": 0.0, \"[M]_Enol_h\": -0.0027897407284858014, \"[B]_PRANTI_h\": 0.006276916639059914, \"[B]_PSerP_h\": 0.06555890711906917, \"[B]_Tr_CO2h_Ex\": 3.50850792592559e-15, \"[M]_Enol_c\": 0.0, \"[B]_TPP_c\": 0.0, \"[B]_Tr_Ser2\": 0.05886121327357033, \"[M]_PGADH_h\": 0.0, \"[M]_Ex_MACP\": 0.0, \"[B]_Ex_Trp_c\": 0.0, \"[B]_OROPRT_c\": 0.0, \"[MB]_PGA_c\": -5.77527697722173, \"[M]_Tr_KG_Mal_mc\": 0.0, \"[M]_Tr_Arg2\": 0.011158962913884293, \"[B]_Ex_Trp_h\": 0.0, \"[M]_Tr_Arg1\": 0.0, \"[M]_Ex_Lys_m\": 0.0, \"[B]_Tr_DIC2\": 0.0, \"[B]_Tr_DIC1\": 0.0, \"[B]_Ex_Trp_m\": 0.0, \"[M]_IPODC_h\": 0.0, \"[B]_Ex_Ser_c\": 0.0, \"[B]_Tr_Met1\": 0.0, \"[M]_SADH_h\": 0.0, \"[MB]_cACN_c\": 0.3222150541384073, \"[M]_Tr_AAC\": 2.175567518275266, \"[M]_Tr_CO2m\": 0.0, \"[M]_P5CDHNAD_h\": 0.0, \"[M]_Tr_CO2h\": 0.013948703642353387, \"[B]_Tr_SFC\": -0.013948703642355367, \"[M]_NGAM_h\": 0.152707083279744, \"[B]_IGPS_h\": 4.805182055152589e-16, \"[B]_PGM_c\": 1.53435740065909, \"[M]_PRANTI_h\": 0.0, \"[M]_Ex_Ile_c\": 0.0, \"[M]_Ex_Pro_m\": 0.0, \"[M]_StP21_c\": 0.0, \"[B]_PAICARPI_h\": 4.807470885609395e-16, \"[B]_TA_h\": 0.0, \"[B]_Tr_AC1\": 0.008369222185413219, \"[M]_Ex_Lys_h\": 0.0, \"[M]_Cytb6f1_h\": 55.14122195256165, \"[M]_Ex_Asn_h\": 0.0, \"[B]_PGI_c\": 4.603072201977227, \"[MB]_Ile_c\": 0.0, \"[B]_PGI_h\": 0.0, \"[B]_dGDPK_c\": 0.0, \"[B]_Ex_Frc\": 0.0, \"[B]_Im_hnu\": 206.4817893841315, \"[B]_Tr_O2p\": 0.0, \"[M]_Ex_Gly_m\": 0.0, \"[M]_Si_H_p\": 0.0, \"[B]_NDC1_2_h\": 0.0, \"[M]_PSerAT_h\": 0.0, \"[B]_Tr_Leu1\": 0.0, \"[B]_Tr_Cys\": 0.0, \"[MB]_Lys_c\": 0.0, \"[M]_ACoAS_h\": 0.004461269068385425, \"[B]_PyrDH2_m\": 0.3222150541384073, \"[M]_Ex_Ile_h\": 0.0, \"[B]_Tr_O2h\": -19.406001403682, \"[B]_Ex_Lys_p\": 0.0, \"[B]_DPE2_c\": 0.0, \"[B]_GAPDH1_h\": 66.92583589643947, \"[B]_dTMPS_c\": 0.0, \"[M]_SBPA_h\": 2.8761564545215886e-14, \"[M]_DHDRNAD_h\": 0.0, \"[M]_NDC1_2_h\": 0.0, \"[B]_DHFR_c\": 0.0, \"[M]_STK_h\": 0.0009299135761561082, \"[B]_GluK_h\": 0.0, \"[B]_CeS_c2\": 0.0, \"[B]_CeS_c3\": 0.0, \"[B]_CeS_c1\": 0.0, \"[B]_CBPS_h\": 0.0, \"[B]_Cysase_c\": 5.9926330655022314e-15, \"[B]_GAPDH3_c\": 0.0, \"[MB]_DHAP_c\": 5.7771368043739475, \"[B]_Ex_Lys_h\": 0.0, \"[M]_DAPAT_h\": 0.0, \"[B]_AOrnTA_h\": 0.0, \"[B]_Ex_Lys_m\": 0.0, \"[B]_Tr_Asp_mc\": 0.0, \"[M]_Tr_PPT\": -39.9860512963581, \"[B]_Ex_Val_c\": 0.0, \"[M]_dADPK_c\": 0.0, \"[M]_Ex_Ile_p\": 0.0, \"[B]_Ex_Val_m\": 0.0, \"[B]_TrpS_h\": 0.006276916639059912, \"[B]_Tr_UCP\": 0.0, \"[B]_NDH2_h\": 25.61688907733773, \"[B]_Ex_Val_p\": 0.0, \"[B]_F6PK1_c\": 0.0, \"[M]_Ex_Met_h\": 0.0, \"[B]_DHQDH_h\": 0.01813331473506197, \"[B]_DHDRNAD_h\": 0.012553833278119826, \"[B]_HCO3DHA_h\": -1.2100471915465112e-18, \"[M]_ACDOxRed_c\": 0.0, \"[B]_F6PK1_h\": 0.0, \"[B]_Tr_THF\": 0.0, \"[B]_Tr_DTC2C\": 0.0, \"[B]_NMPK_c\": 0.0, \"[M]_Tr_BAC2\": 0.0, \"[B]_SerAcT_m\": 0.0, \"[B]_GABATA2_m\": 0.0, \"[B]_Tr_TPT2\": 0.0, \"[B]_Tr_TPT1\": 12.276719032425028, \"[B]_Ex_His_c\": 0.0, \"[M]_Glnase_c\": 0.0, \"[B]_GluDC_c\": 0.0, \"[M]_GPAT_h\": 0.0, \"[M]_OMPDC_c\": 0.0, \"[B]_Ex_MACP\": 0.0, \"[M]_S6PPh_c\": 0.0, \"[M]_Tr_Ser3\": -2.420703968876635e-19, \"[M]_Tr_Trp1\": 0.0, \"[B]_P5CRNAD_c\": 0.0, \"[M]_Arginase_m\": 0.0, \"[B]_OrnAT_m\": 0.0, \"[M]_F26BPPh_c\": 0.0, \"[M]_Tr_GlySer\": 3.823680032102712e-18, \"[M]_Tr_Trp3\": 0.0, \"[M]_Ex_cellulose\": 0.0, \"[B]_Tr_Pyr2\": 0.0, \"[MB]_Pro_c\": -2.6689814088352713e-15, \"[MB]_iCit_c\": 2.01353310504887e-15, \"[B]_Ex_Phe_m\": 0.0, \"[M]_HSerK_h\": 0.06025608363780687, \"[M]_F6PK1_h\": 0.0, \"[M]_cACNDHA_c\": 0.3222150541384073, \"[B]_ACoAS_h\": 0.008789999391852174, \"[M]_cACNDHA_m\": 0.0, \"[M]_cACNDHA_h\": 0.0, \"[M]_F6PK1_c\": 0.0, \"[M]_Tr_DTC4A\": 0.0, \"[M]_Tr_ProA\": 0.0, \"[M]_SucS_c\": 0.0, \"[B]_HisolPDH_h\": 4.800081242877495e-16, \"[M]_6PGL_h\": 0.0, \"[M]_ADPR_c\": 0.0, \"[B]_AMPDA_c\": 0.0, \"[B]_Tr_NH41\": -0.0025130827527917827, \"[B]_Tr_NH42\": -0.3263996652311267, \"[B]_Tr_Pi\": -0.0704409533939089, \"[B]_PrAMPCy_h\": 4.801600957788139e-16, \"[M]_bAMY2_h\": 0.0, \"[M]_Tr_Thr1\": 0.0, \"[B]_Tr_Lys1\": 0.0, \"[M]_Tr_Thr3\": 0.0, \"[B]_GluSNAD_h\": 0.0, \"[B]_Tr_Ser3\": 0.004184611092707616, \"[M]_UGPase_c\": 0.0, \"[B]_dADPK_c\": 0.0, \"[M]_Ex_Lys_c\": 0.0, \"[B]_Ex_Tre\": 0.0, \"[B]_Tr_His3\": 0.0, \"[B]_Tr_Mal\": -2.0135331050488704e-15, \"[B]_DHDRNADP_h\": 0.0, \"[B]_GluSeADH_m\": 0.0, \"[M]_PEPC2_c\": -39.986051296358056, \"[B]_OMPDC_c\": 0.0, \"[B]_Tr_PPT\": 0.0, \"[B]_Tr_Arg2\": 0.0, \"[B]_GMPK_c\": 0.0, \"[M]_GAPDH2_h\": 0.0, \"[M]_Tr_DTC3A\": 0.0, \"[B]_Tr_Arg1\": 0.0, \"[M]_Tr_DTC3C\": 0.0, \"[M]_Tr_DTC3B\": 0.0, \"[B]_StP1_h\": 0.0, \"[B]_SucS_c\": 0.0, \"[MB]_Cys_c\": 0.0, \"[B]_Ex_Ala_c\": 0.0, \"[B]_TPI_h\": 26.793599869812372, \"[M]_AGluK\": 0.01115896291388429, \"[M]_F6PK2_c\": 0.0, \"[B]_SerAcT_h\": 0.0004207772064389538, \"[M]_FumHA_m\": 0.0, \"[B]_GlnS_m\": 0.0, \"[M]_FumHA_c\": 0.0, \"[B]_TPI_c\": 0.36215262541467613, \"[B]_Ex_Phe_h\": 0.0, \"[B]_SerAcT_c\": 0.0, \"[B]_Tr_GPT1\": 3.068714801318185, \"[B]_UDPR_c\": 0.0, \"[M]_ADNK_c\": 0.0, \"[B]_GlnS_c\": 0.30198943385699234, \"[B]_GlyDH_m\": 0.004184611092707614, \"[B]_GlnS_h\": 0.006276916639060394, \"[M]_dTMPK_c\": 0.0, \"[B]_6PGL_h\": 0.0, \"[M]_Fd_DASH_NADPR_h\": 44.82591778488616, \"[M]_DHQS_h\": 0.0, \"[B]_DPE11_h\": 0.0, \"[B]_dUTPP_c\": 0.0, \"[B]_Ex_His_p\": 0.0, \"[M]_Tr_Asn1\": 0.0, \"[M]_Asp_DASH_SeADH_h\": 0.06025608363780688, \"[M]_Tr_Asn3\": 0.0, \"[M]_CTPP_c\": 0.0, \"[B]_Tr_GlySer\": 0.008369222185415229, \"[B]_PGAK_c\": 6.501442055203299, \"[B]_GCEADH_p\": 0.0, \"[B]_Tr_DIC4\": -1.1582042360565821e-14, \"[M]_Tr_DTC5\": -0.6554036116562248, \"[MB]_Ser_c\": -0.008922538136770845, \"[M]_AspAT_h\": 0.07420478728016175, \"[B]_dCDPK_c\": 0.0, \"[B]_PGAK_h\": 66.9867894152594, \"[M]_AspAT_m\": 1.1539619948211965e-17, \"[M]_R5PI_h\": -0.0018598271523152068, \"[B]_IGPDA_h\": 4.80518205515259e-16, \"[M]_AOX1A_m\": 0.0, \"[M]_AspAT_p\": 0.0, \"[B]_PGAM_c\": 0.0, \"[M]_FBPase_c\": 0.0, \"[M]_EPSPS_h\": 0.0, \"[M]_FBPase_h\": 0.0, \"[B]_PGAM_h\": 1.0210451066204314, \"[M]_Tr_Ala_mc\": 0.0, \"[B]_Tr_PLT5\": -2.7251899261277697e-17, \"[B]_IMPCH_h\": 4.804627938823198e-16, \"[B]_STK_h\": 13.387733277538654, \"[B]_Tr_PIC\": 8.459842154350026, \"[M]_SBPase_h\": 0.0, \"[M]_FrcK_c\": -3.3690658877885118e-15, \"[M]_Ex_Asn_p\": 0.0, \"[B]_Tr_DIT2\": 0.0, \"[M]_ACoAC_h\": 0.0, \"[B]_Tr_DIT1\": 0.0, \"[M]_3IPMDA2_h\": 0.0, \"[B]_CHRS_h\": 0.01813331473506197, \"[M]_Im_H2O\": 37.00093751845281, \"[B]_Ex_Gly_p\": 0.0, \"[B]_dTMPK_c\": 0.0, \"[B]_AGNDA_h\": 0.007671787003295449, \"[M]_Tr_Asn2\": 0.0, \"[B]_Ex_Leu_p\": 0.0, \"[B]_Tr_Pyr_H_hc\": -0.9073631719352289, \"[B]_OrnCMT_h\": 0.0, \"[M]_Tr_AC1\": 0.0, \"[B]_PyrDH1_m\": 0.32221505413840723, \"[M]_Tr_AC2\": 0.0, \"[M]_Tr_Tyr2\": 0.0, \"[B]_R5PDPK_h\": 0.00627691663906746, \"[B]_Ex_Gly_m\": 0.0, \"[M]_AMPK_h\": 40.014502019594175, \"[B]_SBPase_h\": 13.387733277538663, \"[M]_CHRS_h\": 0.0, \"[M]_Ex_Gly_c\": 0.0, \"[B]_FrcK_c\": 0.0, \"[M]_TPS_c\": 0.0, \"[MB]_Gly_c\": 0.004461269068385419, \"[B]_FBPase_h\": 13.405866592273705, \"[B]_Ex_Gly_h\": 0.0, \"[M]_ThrA_c\": 0.0, \"[B]_FBPase_c\": 6.139289429788622, \"[M]_Tr_DIC2\": 0.0, \"[M]_Tr_PIC\": 2.175567518275269, \"[M]_Tr_Val3\": 0.0, \"[M]_Ex_Phe_p\": 0.0, \"[M]_AspAT_c\": 0.9582759402298603, \"[M]_StP1_h\": 0.0, \"[B]_Asp_DASH_SeADH_h\": 0.012974610484558783, \"[M]_DHLST_m\": 0.0, \"[B]_StP21_c\": 0.0, \"[B]_FrcFD_c\": 0.0, \"[M]_Ex_Tyr_p\": 0.0, \"[M]_Im_NO3\": 1.0559168657263112, \"[M]_iCitL_p\": -2.01353310504887e-15, \"[M]_GlyDH_m\": 0.0, \"[B]_Tr_Ala1\": 0.0, \"[M]_GDPR_c\": 0.0, \"[B]_Ex_Cys_c\": 0.0, \"[B]_SCACoAL_m\": 0.0, \"[MB]_Arg_c\": 0.011158962913884293, \"[B]_bAMY2_h\": 0.0, \"[M]_Ex_Phe_m\": 0.0, \"[M]_Ex_Phe_c\": 0.0, \"[B]_Ex_Cys_h\": 0.0, \"[M]_TrpS_h\": 0.0, \"[M]_Tr_Lys2\": 0.0, \"[B]_2IPMS_h\": 0.008369222185413219, \"[M]_Urease_m\": 0.0, \"[M]_DHDS_h\": 0.0, \"[B]_CTHS_h\": 0.0004207772064389532, \"[B]_ATPCitL_c\": 0.0, \"[B]_GMPS_c\": 0.0, \"[M]_GARFT_h\": 0.0, \"[M]_G6PDH_h\": 0.0, \"[B]_HisolPP_h\": 4.801565697839489e-16, \"[M]_DHLDH1_m\": -2.4207039688766425e-19, \"[M]_ATase_h\": 0.0, \"[M]_DCAMPL1_h\": 0.0, \"[M]_HCO3DHA_h\": 0.01115896291388429, \"[M]_Ex_Ser_m\": 0.0, \"[B]_DCAMPL1_h\": 0.0, \"[M]_HCO3DHA_c\": 39.986051296358056, \"[B]_AMT_m\": 0.004184611092707614, \"[B]_AlaTA_c\": 0.0, \"[B]_Tr_DTC4C\": 0.0, \"[B]_GluSFd_h\": 0.0, \"[B]_Tr_DTC4A\": 0.013948703642355367, \"[M]_Tr_SO4\": 0.0044612690683854235, \"[M]_AspCT_h\": 0.0, \"[M]_IGPS_h\": 0.0027897407284705926, \"[B]_Ex_Cys_m\": 0.0, \"[MB]_Tyr_c\": 0.0, \"[B]_Tr_Leu2\": 0.008369222185413219, \"[M]_Ex_Suc\": 0.0, \"[B]_Ex_Ala_m\": 0.0, \"[B]_Ex_Ala_h\": 0.0, \"[M]_Ex_Ser_p\": 0.0, \"[M]_Ex_Leu_m\": 0.0, \"[M]_Tr_Leu3\": 0.0, \"[B]_DAPAT_h\": 0.012553833278119828, \"[M]_Tr_Leu1\": 0.0, \"[M]_Tr_Leu2\": 0.0, \"[B]_PGM_h\": 3.06871480131818, \"[B]_Ex_Arg_c\": 0.0, \"[M]_ThrS_h\": 0.05579481456942146, \"[M]_iCitDHNAD_m\": 0.0, \"[B]_RBC_h_Ex\": 3.50850792592559e-15, \"[B]_Ex_Ala_p\": 0.0, \"[M]_iCitDHNAD_c\": 0.0, \"[B]_MalDH4_h\": 0.0, \"[B]_GlyHMT_m\": 0.004184611092707614, \"[B]_DPE12_h\": 0.0, \"[B]_GlyHMT_c\": -0.00042077720643895274, \"[B]_CHRM_h\": 0.011856398096002058, \"[B]_TRXR_c\": 0.0, \"[M]_AOrnTA_h\": 0.01115896291388429, \"[B]_KGDH_m\": 0.0, \"[M]_Tr_Ile1\": 0.0, \"[M]_AGPase_h\": 0.0, \"[M]_HisolPP_h\": 0.002789740728470593, \"[M]_CTHS_h\": 0.0044612690683854235, \"[M]_Tr_PRPP\": 0.0, \"[M]_Ex_Pro_h\": 0.0, \"[M]_IMPDH_c\": 0.0, \"[M]_DHLAcT_m\": 0.0, \"[M]_GluSeADA_m\": 0.0, \"[B]_GABATA1_m\": 0.0, \"[M]_dTDPK_c\": 0.0, \"[M]_bAMY1_h\": 0.0, \"[B]_Tr_Asn2\": 0.0, \"[B]_DCAMPL2_h\": 4.810007547513657e-16, \"[M]_2IPMS_h\": 0.0, \"[M]_Si_H_c\": -39.902359074503856, \"[B]_CTHL_h\": 0.000420777206438954, \"[M]_Tr_DTC1C\": 0.0, \"[M]_GluDH1NADP_m\": 0.0, \"[M]_Ex_His_p\": 0.0, \"[B]_Im_SO4\": 0.0004207772064389545, \"[M]_Tr_Mex1\": 0.0, \"[B]_GluK_c\": 0.0, \"[B]_GluK_m\": 0.0, \"[B]_Tr_Leu3\": 0.0, \"[B]_Arginase_m\": 0.0, \"[M]_HSerDHNAD_h\": 0.002789740728470593, \"[M]_GluDH1NAD_m\": 1.1539619948211963e-17, \"[M]_Tr_ProU\": 2.6689814088352713e-15, \"[B]_3IPMDA1_h\": 0.008369222185413219, \"[M]_Tr_GPT1\": 0.001859827152279376, \"[M]_Im_SO4\": 0.004461269068385424, \"[B]_DHADA1_h\": 0.008369222185413222, \"[M]_GAPDH2_c\": 0.0, \"[M]_GluK_c\": 0.0, \"[B]_Ex_Leu_m\": 0.0, \"[B]_DHLDH1_m\": 0.0041846110927076146, \"[B]_StS_h2\": 1.5343574006590903, \"[B]_StS_h3\": 0.0, \"[M]_GluK_h\": -1.1845331506645334e-15, \"[B]_StS_h1\": 1.5343574006590903, \"[M]_DHADA1_h\": 0.0, \"[B]_Im_NO3\": -1.4923101085908806e-15, \"[M]_GluK_m\": 0.0, \"[B]_cACNDHA_h\": 0.0, \"[M]_GluSFd_h\": 0.09931245383641873, \"[M]_ADNN_c\": 0.0, \"[B]_cACNDHA_m\": 0.0, \"[B]_Ex_Leu_h\": 0.0, \"[B]_cplx2_m\": 0.0, \"[B]_cACNDHA_c\": 0.0, \"[B]_GluDH1NADP_m\": 0.0, \"[M]_Tr_H_Na_hc\": 0.0, \"[M]_Tr_Cit_iCit_mc\": 0.0, \"[MB]_Frc_c\": 0.0, \"[M]_GluDH3NADP_c\": -0.9471169773159217, \"[M]_Asnase_c\": 0.0, \"[B]_Tr_Pyr_Mal_hc\": 0.012974610484568943, \"[B]_cplx4_m\": 1.2703430012393309, \"[B]_Ex_Met_p\": 0.0, \"[B]_DHOase_h\": 0.0, \"[B]_Tr_Phe3\": 0.0, \"[M]_GGAT_h\": 0.0, \"[M]_PEPC1_c\": 0.0, \"[B]_Tr_Mex1\": 0.0, \"[M]_CTPS_c\": 0.0, \"[M]_Im_NH4\": 0.0, \"[B]_SBPA_h\": 13.387733277538663, \"[B]_Ex_Asp_c\": 0.0, \"[B]_ForDH_h\": 4.806500741866069e-16, \"[B]_MalDH2_m\": 0.0, \"[M]_Ex_Ala_c\": 0.0, \"[B]_ANTPRT_h\": 0.006276916639059914, \"[B]_Tr_CO2h\": 40.1025229717717, \"[B]_SGAT_p\": 0.0, \"[M]_Ex_Ala_h\": 0.0, \"[B]_Tr_Phe1\": 0.0, \"[B]_Tr_Phe2\": 0.007671787003295449, \"[B]_iCitDHNADP_c\": 0.026923314126931098, \"[B]_PRAGlyL_h\": 0.0, \"[MB]_Leu_c\": 0.0, \"[B]_CysS_m\": 0.0, \"[B]_Tr_CO2m\": -0.6216914052425864, \"[B]_CysS_h\": 0.00042077720643895436, \"[M]_Tr_Hp\": 0.0, \"[M]_GCAO_p\": 2.0135331050488696e-15, \"[MB]_Ala_c\": -2.701960884208291, \"[B]_Tr_DIT1_OAA\": -28.16231062447557, \"[M]_NMPK_c\": 0.0, \"[M]_GGAT_p\": 0.0, \"[M]_PAICARPI_h\": 0.0027897407284705926, \"[B]_NDH1_h\": 51.23377815467546, \"[M]_GCEAK_h\": 0.0, \"[B]_6PGDHNAD_h\": 0.0, \"[MB]_GAP_c\": 0.0, \"[M]_TPI_h\": 5.777136804373977, \"[M]_PrATPDP_h\": 0.0027897407284705926, \"[M]_DPE2_c\": 0.0, \"[M]_TPI_c\": 0.0, \"[B]_P5CDHNADP_h\": 0.0, \"[B]_UDPK_c\": 1.53435740065909, \"[M]_Ex_Cys_p\": 0.0, \"[B]_P5CDHNADP_m\": 0.0, \"[M]_Ex_Tyr_m\": 0.0, \"[B]_Tr_GCA2\": 0.0, \"[B]_CysS_c\": 0.0, \"[B]_Tr_DHO2\": 0.0, \"[M]_GluSeADH_c\": 0.0, \"[B]_Tr_DHO1\": 0.0, \"[M]_Tr_Gln\": 0.0, \"[M]_DCAMPL2_h\": 0.002789740728470592, \"[M]_Tr_Asp_OAA_hc\": 0.0, \"[M]_dCDPK_c\": 0.0, \"[M]_Tr_Pyr1\": 0.0, \"[M]_Tr_Pyr3\": 0.0, \"[M]_Tr_Pyr2\": 0.0, \"total\": 2806.7252389699183, \"[M]_TRXR_c\": 0.0, \"[M]_SAK_h\": 0.0, \"[M]_Ru5PE_h\": 0.001859827152312217, \"[B]_Ex_Ser_m\": 0.0, \"[M]_AMPDA_c\": 0.0, \"[B]_PyrPiDK_h\": -0.08592864663125861, \"[M]_TPP_c\": 0.0, \"[M]_Tr_NO2\": 1.0559168657263114, \"[M]_GlyHMT_m\": 4.065750428990376e-18, \"[B]_Tr_Fum\": 4.809566026807449e-16, \"[B]_Ex_Pro_h\": 0.0, \"[B]_GluSeADA_c\": -4.630431428245242e-17, \"[M]_ATPase_h\": 86.23260753537129, \"[M]_PyrK_c\": 0.0, \"[M]_P5CDHNADP_m\": 0.0, \"[M]_Ex_Gln_p\": 0.0, \"[M]_IGPDA_h\": 0.002789740728470593, \"[B]_UGPase_c\": 1.53435740065909, \"[B]_Ex_His_h\": 0.0, \"[M]_Ex_AA\": 0.0, \"[M]_Tr_O2p\": 2.0135331050488696e-15, \"[M]_R5PDPK_h\": 0.0027897407284705926, \"[M]_PyrK_h\": 0.0, \"[B]_BAATA1_h\": 0.00836922218541322, \"[M]_ANTPRT_h\": 0.0, \"[M]_APSR_h\": 0.0044612690683854235, \"[M]_Tr_O2h\": -24.049836369752047, \"[M]_Ex_Gln_c\": 0.0, \"[M]_Ex_Ala_p\": 0.0, \"[M]_Tr_H2S1\": 0.0, \"[M]_Tr_O2m\": 0.3277018058281151, \"[M]_SCASeADH_m\": 0.0, \"[M]_Tr_H2S2\": 0.0, \"[B]_Tr_BAC1\": 0.0, \"[M]_Ex_Gln_h\": 0.0, \"[B]_Tr_BAC2\": 0.0, \"[M]_PRAGlyL_h\": 0.0, \"[B]_Ex_Tyr_m\": 0.0, \"[B]_FBPA_h\": 13.405866592273705, \"[B]_Tr_HCys\": 0.00042077720643895404, \"[M]_Tr_Met1\": 0.0, \"[B]_HSerK_h\": 0.0004207772064389549, \"[M]_AspAT2_m\": 0.0, \"[M]_AspAT2_h\": 0.0, \"[M]_cplx2_m\": 0.0, \"[M]_HisolPDH_h\": 0.002789740728470593, \"[M]_AspAT2_c\": 2.701960884208284, \"[B]_Ex_Gln_h\": 0.0, \"[M]_P5CRNAD_c\": 0.0, \"[M]_DHLDH2_m\": 0.0, \"[M]_dTMPS_c\": 0.0, \"[M]_NO3R1_c\": 2.003033843042233, \"[M]_Tr_Glu2\": 0.0, \"[M]_ProDHNADP_m\": 0.0, \"[M]_Tr_Fum\": 0.013948703642354884, \"[M]_AspAT2_p\": 0.0, \"[B]_Ex_Phe_p\": 0.0, \"[B]_Ex_Asn_p\": 0.0, \"[M]_BAATA1_h\": 0.0, \"[B]_ThrA_c\": 0.008369222185413219, \"[M]_Ex_Val_c\": 0.0, \"[M]_HisalPDH_h\": 0.002789740728470593, \"[B]_ArgSCAS_h\": 0.0, \"[M]_GABATA2_m\": 0.0, \"[M]_Ex_Val_m\": 0.0, \"[B]_Tr_BT12\": 0.07044095339386439, \"[B]_Tr_BT13\": 0.0, \"[M]_Ex_Val_h\": 0.0, \"[B]_Tr_BT11\": -0.07044095339389324, \"[B]_Ex_Asn_c\": 0.0, \"[M]_Tr_Gly\": 0.0, \"[B]_FBPA_c\": 6.139289429788622, \"[M]_Ex_Val_p\": 0.0, \"[M]_NO3R2_c\": -0.9471169773159217, \"[B]_Tr_AC2\": 0.0, \"[M]_Tr_pGlc\": 0.0, \"[M]_ALS2_h\": 0.0, \"[M]_Ex_Asp_h\": 0.0, \"[M]_BAATA3_h\": 0.0, \"[B]_Ex_Asn_m\": 0.0, \"[M]_Ex_Glc\": 0.0, \"[B]_DHLDH2_m\": 0.32221505413840723, \"[M]_Tr_Pro1\": 0.0, \"[B]_Tr_Ile3\": 0.0, \"[M]_Tr_GCEA1\": 0.0, \"[M]_HCysMT_c\": 0.0, \"[B]_cACNHA_c\": 0.0, \"[B]_cACNHA_m\": 0.3222150541384073, \"[B]_Glnase_c\": 0.0, \"[B]_cACNHA_h\": 0.0, \"[M]_Ex_Pro_c\": 0.0, \"[B]_Tr_H2S1\": 0.0, \"[B]_Tr_Thr1\": 0.0, \"[B]_Tr_Thr3\": 0.0, \"[B]_Tr_Thr2\": -0.008369222185413222, \"[M]_Tr_OAA\": 0.0, \"[B]_Tr_H2S2\": 0.0, \"[B]_AsnS_c\": 0.07044095339389354, \"[MB]_GCEA_c\": 0.0, \"[M]_Ex_His_m\": 0.0, \"[M]_ACPM_h\": 0.0, \"[M]_Ex_Pro_p\": 0.0, \"[M]_PSI_h\": 110.28244390512332, \"[B]_KARI34_h\": 0.025107666556239663, \"[B]_Asnase_c\": 0.0, \"[M]_Ex_Thr_h\": 0.0, \"[M]_P5CDHNAD_m\": 0.0, \"[M]_AGNDH_h\": 0.0, \"[M]_Ex_Gly_h\": 0.0, \"[B]_Tr_Asp_Glu_mc\": 0.0, \"[B]_CDPR_c\": 0.0, \"[B]_DPE13_h\": 0.0, \"[M]_Tr_PXN3\": 0.0, \"[M]_Ex_Gly_p\": 0.0, \"[B]_Ex_Ile_c\": 0.0, \"[M]_GDPK_h\": 0.002789740728470593, \"[M]_Tr_NTT\": 0.0, \"[B]_Tr_DTC3B\": 0.0, \"[B]_Tr_DTC3C\": -0.3222150541384073, \"[M]_CBPS_h\": 0.01115896291388429, \"[B]_AGluPR_h\": 0.0, \"[M]_GDPK_c\": 0.0, \"[M]_Ex_Lys_p\": 0.0, \"[B]_Im_NH4\": 0.0, \"[B]_Tr_GCEA1\": 0.0, \"[M]_Tr_DTC4B\": 0.0, \"[M]_Tr_DTC4C\": 0.0, \"[M]_Im_CO2\": 40.000000000000405, \"[B]_CTPS_c\": 0.0, \"[B]_MalDH1_c\": 6.493493610224329, \"[MB]_Val_c\": 0.0, \"[B]_MalDH1_m\": 1.596779543097635, \"[M]_Tr_Lys1\": 0.0, \"[B]_MalDH1_h\": 0.0, \"[B]_GPAT_h\": 0.011856398096002058, \"[M]_AMPK_c\": -3.593080602294844e-15, \"[M]_cplx4_m\": 0.3277018058281151, \"[M]_Ex_Frc\": 0.0, \"[B]_Ex_Leu_c\": 0.0, \"[B]_MalDH1_p\": -2.01353310504887e-15, \"[B]_NO3R1_c\": -1.4923101085908808e-15, \"[B]_PEPC2_c\": 0.0, \"[M]_Tr_Pyr_Mal_hc\": 0.08536375019410128, \"[B]_Ex_Thr_m\": 0.0, \"[M]_PyrDH2_m\": 0.0, \"[B]_Tr_NDT1\": 0.0, \"[M]_Ru5PK_h\": -2.98994964175344e-15, \"[B]_RBC_h\": 40.17505623071197, \"[B]_Tr_NDT2\": 0.0, \"[B]_ADNN_c\": 0.0, \"[M]_CysS_c\": 0.0, \"[M]_CysS_m\": 0.0, \"[M]_Tr_DIC4\": 0.0, \"[M]_DHADA2_h\": 0.0, \"[M]_ATPPRT_h\": 0.002789740728470593, \"[M]_CysS_h\": 0.004461269068385425, \"[M]_Tr_DIC1\": 2.753371910279213e-15, \"[B]_DHADA2_h\": 0.025107666556239656, \"[M]_Ex_Asn_c\": 0.0, \"[M]_NGAM_c\": 0.0503499796174949, \"[M]_Ex_Glu_c\": 0.0, \"[M]_Ex_Cys_m\": 0.0, \"[M]_Tr_SCA\": 2.01353310504887e-15, \"[M]_GAPDH3_c\": 0.0, \"[B]_Tr_AAC\": 8.459842154350039, \"[M]_Ex_Asn_m\": 0.0, \"[M]_NGAM_m\": 0.00911118724550157, \"[M]_GMPS_c\": 0.0, \"[B]_Si_H_m\": 17.219160659804242, \"[M]_Tr_Ile2\": 0.0, \"[B]_GluDH1NAD_m\": -0.32221505413841905, \"[B]_F6PK2_c\": 0.0, \"[M]_3IPMDH_h\": 0.0, \"[B]_Si_H_h\": 39.0000350260518, \"[B]_HisalPDH_h\": 0.0, \"[M]_Tr_Pi\": 0.0, \"[MB]_Mal_c\": 36.251609684639746, \"[B]_cplx5_m\": 8.46895334159554, \"[M]_ANTS_h\": 0.0, \"[B]_Si_H_c\": 28.00597501212388, \"[B]_Tr_Gln\": 0.0, \"[M]_PPIase_c\": 0.0, \"[M]_Tr_Pyr_H_hc\": 40.06974351821231, \"[B]_Tr_pGlc\": 0.0, \"[B]_MetAdT_c\": 0.0, \"[M]_GCAO_h\": 0.0, \"[B]_Tr_Gly\": -2.01353310504887e-15, \"[B]_HEXK_c\": 0.0, \"[B]_Tr_His1\": 0.0, \"[B]_ThrS_h\": 0.0, \"[M]_Tr_NDT2\": 0.0, \"[B]_DAHPS_h\": 0.01813331473506197, \"[B]_cplx1_m\": 2.540686002478662, \"[B]_Ex_His_m\": 0.0, \"[M]_DHODH_m\": 0.0, \"[M]_AOrnAGluAcT_h\": 0.01115896291388429, \"[M]_iCitDHNADP_h\": 0.0, \"[B]_MalDH3_h\": -28.17528523496013, \"[M]_iCitDHNADP_m\": 0.0, \"[M]_Ex_Trp_h\": 0.0, \"[B]_SO3R_h\": 0.00042077720643895426, \"[M]_iCitDHNADP_c\": 0.0, \"[M]_Tr_P5C2\": 4.598486003424807e-15, \"[M]_GlyHMT_c\": -0.0044612690683854235, \"[B]_cplx3_m\": 2.5406860024786617, \"[M]_Tr_P5C1\": -4.485901780179962e-15, \"[B]_ThrDA_h\": 0.008369222185413222, \"[M]_Ex_Trp_p\": 0.0, \"[M]_DCAMPS_h\": 0.0027897407284705926, \"[M]_Ex_Glu_h\": 0.0, \"[B]_PGR5PGRL12_h\": 0.0, \"[B]_Ex_Ile_h\": 0.0, \"[M]_CAT_h\": 0.0, \"[B]_Ex_Ile_m\": 0.0, \"[B]_Si_H_p\": 2.0135331050488696e-15, \"[B]_Tr_OAA\": 0.0, \"[B]_Ex_Ile_p\": 0.0, \"[M]_CHRM_h\": 0.0, \"[M]_Ex_Trp_c\": 0.0, \"[M]_CAT_p\": 0.0, \"[B]_NO2R_h\": 0.0, \"[B]_Ex_Ser_p\": 0.0, \"[M]_Tr_TPT3\": 5.7771368043739475, \"[B]_P5CDHNAD_m\": 1.91928020104934e-14, \"[M]_AGNDA_h\": 0.0, \"[M]_Ex_Trp_m\": 0.0, \"[B]_P5CDHNAD_h\": 0.0, \"[M]_Ex_Thr_c\": 0.0, \"[B]_SCASeADH_m\": 0.0}, \"enable_editing\": false, \"gene_data\": null, \"metabolite_data\": null, \"fill_screen\": false, \"enable_keys\": false, \"menu\": \"zoom\", \"scroll_behavior\": \"none\", \"ignore_bootstrap\": true, \"never_ask_before_quit\": true}'),\n",
       "               builder_embed_css: JSON.parse('null'),\n",
       "               map_data: JSON.parse('[{\"map_name\":\"new_map\",\"map_id\":\"cPBjQ56p0ATA\",\"map_description\":\"\\\\nLast Modified Mon Jul 30 2018 11:42:21 GMT+0200 (CEST)\",\"homepage\":\"https://escher.github.io\",\"schema\":\"https://escher.github.io/escher/jsonschema/1-0-0#\"},{\"reactions\":{\"3\":{\"name\":\"Import CO2\",\"bigg_id\":\"[M]_Im_CO2\",\"reversibility\":false,\"label_x\":1300.6845092773438,\"label_y\":-978.7737426757812,\"gene_reaction_rule\":\"\",\"genes\":[],\"metabolites\":[{\"bigg_id\":\"[M]_CO2_c\",\"coefficient\":1}],\"segments\":{\"9\":{\"from_node_id\":\"13\",\"to_node_id\":\"14\",\"b1\":null,\"b2\":null},\"10\":{\"from_node_id\":\"15\",\"to_node_id\":\"14\",\"b1\":null,\"b2\":null},\"11\":{\"from_node_id\":\"15\",\"to_node_id\":\"12\",\"b1\":{\"x\":1285.6845092773438,\"y\":-926.7737426757812},\"b2\":{\"x\":1289.6665649414062,\"y\":-378.75006103515625}}}},\"8\":{\"name\":\"HCO3 dehydratase\",\"bigg_id\":\"[M]_HCO3DHA_c\",\"reversibility\":false,\"label_x\":1304.6665649414062,\"label_y\":-135.00006103515625,\"gene_reaction_rule\":\"\",\"genes\":[],\"metabolites\":[{\"bigg_id\":\"[M]_CO2_c\",\"coefficient\":-1},{\"bigg_id\":\"[M]_H2O_c\",\"coefficient\":-1},{\"bigg_id\":\"[M]_HCO3_c\",\"coefficient\":1},{\"bigg_id\":\"[M]_H_c\",\"coefficient\":1}],\"segments\":{\"36\":{\"from_node_id\":\"40\",\"to_node_id\":\"41\",\"b1\":null,\"b2\":null},\"37\":{\"from_node_id\":\"42\",\"to_node_id\":\"41\",\"b1\":null,\"b2\":null},\"38\":{\"from_node_id\":\"40\",\"to_node_id\":\"12\",\"b1\":{\"x\":1289.6665649414062,\"y\":-207.00006103515625},\"b2\":{\"x\":1289.6665649414062,\"y\":-261.25006103515625}},\"40\":{\"from_node_id\":\"42\",\"to_node_id\":\"44\",\"b1\":{\"x\":1289.6665649414062,\"y\":-83.00006103515625},\"b2\":{\"x\":1289.6665649414062,\"y\":-28.75006103515625}}}},\"10\":{\"name\":\"PEP carboxylase\",\"bigg_id\":\"[M]_PEPC2_c\",\"reversibility\":true,\"label_x\":1422.7590942382812,\"label_y\":77.27912712097168,\"gene_reaction_rule\":\"\",\"genes\":[],\"metabolites\":[{\"bigg_id\":\"[M]_HCO3_c\",\"coefficient\":1},{\"bigg_id\":\"[M]_OAA_c\",\"coefficient\":-1},{\"bigg_id\":\"[M]_PEP_c\",\"coefficient\":1},{\"bigg_id\":\"[M]_Pi_c\",\"coefficient\":-1}],\"segments\":{\"48\":{\"from_node_id\":\"52\",\"to_node_id\":\"53\",\"b1\":null,\"b2\":null},\"49\":{\"from_node_id\":\"54\",\"to_node_id\":\"53\",\"b1\":null,\"b2\":null},\"50\":{\"from_node_id\":\"54\",\"to_node_id\":\"44\",\"b1\":{\"x\":1404.1141737571454,\"y\":10.721262307582037},\"b2\":{\"x\":1417.7417602539062,\"y\":29.9779634475708}},\"51\":{\"from_node_id\":\"52\",\"to_node_id\":\"55\",\"b1\":{\"x\":1285.7354632437239,\"y\":214.6221250124529},\"b2\":{\"x\":1284.9165649414062,\"y\":216.66662979125977}},\"52\":{\"from_node_id\":\"54\",\"to_node_id\":\"56\",\"b1\":{\"x\":1320.831744884119,\"y\":173.91463554749566},\"b2\":{\"x\":1338.1442260742188,\"y\":174.44183349609375}}}},\"11\":{\"name\":\"Mal dehydrogenase\",\"bigg_id\":\"[M]_MalDH1_c\",\"reversibility\":true,\"label_x\":1297.1358032226562,\"label_y\":550.7036323547363,\"gene_reaction_rule\":\"\",\"genes\":[],\"metabolites\":[{\"bigg_id\":\"[M]_H_c\",\"coefficient\":1},{\"bigg_id\":\"[M]_Mal_c\",\"coefficient\":-1},{\"bigg_id\":\"[M]_NADH_c\",\"coefficient\":1},{\"bigg_id\":\"[M]_NAD_c\",\"coefficient\":-1},{\"bigg_id\":\"[M]_OAA_c\",\"coefficient\":1}],\"segments\":{\"54\":{\"from_node_id\":\"58\",\"to_node_id\":\"59\",\"b1\":null,\"b2\":null},\"55\":{\"from_node_id\":\"60\",\"to_node_id\":\"59\",\"b1\":null,\"b2\":null},\"57\":{\"from_node_id\":\"58\",\"to_node_id\":\"62\",\"b1\":{\"x\":1287.6666870117188,\"y\":600.3332710266113},\"b2\":{\"x\":1288.2583618164062,\"y\":655.1749458312988}},\"60\":{\"from_node_id\":\"60\",\"to_node_id\":\"55\",\"b1\":{\"x\":1287.6666870117188,\"y\":476.3332710266113},\"b2\":{\"x\":1287.6666870117188,\"y\":422.0832710266113}}}},\"12\":{\"name\":\"Dicarboxylate transporter\",\"bigg_id\":\"[M]_Tr_DIT1_OAA\",\"reversibility\":true,\"label_x\":976.897114103185,\"label_y\":328.4692601131612,\"gene_reaction_rule\":\"\",\"genes\":[],\"metabolites\":[{\"bigg_id\":\"[M]_Mal_c\",\"coefficient\":1},{\"bigg_id\":\"[M]_Mal_h\",\"coefficient\":-1},{\"bigg_id\":\"[M]_OAA_c\",\"coefficient\":-1},{\"bigg_id\":\"[M]_OAA_h\",\"coefficient\":1}],\"segments\":{\"61\":{\"from_node_id\":\"65\",\"to_node_id\":\"66\",\"b1\":null,\"b2\":null},\"62\":{\"from_node_id\":\"67\",\"to_node_id\":\"66\",\"b1\":null,\"b2\":null},\"63\":{\"from_node_id\":\"67\",\"to_node_id\":\"62\",\"b1\":{\"x\":1104.434084619332,\"y\":597.4528029043886},\"b2\":{\"x\":1210.3419189453125,\"y\":713.5545539855957}},\"64\":{\"from_node_id\":\"65\",\"to_node_id\":\"69\",\"b1\":{\"x\":1104.913831981156,\"y\":469.4537019604029},\"b2\":{\"x\":1007.6513479511395,\"y\":367.39463617939714}},\"65\":{\"from_node_id\":\"65\",\"to_node_id\":\"55\",\"b1\":{\"x\":1104.8988398760982,\"y\":473.4536738649029},\"b2\":{\"x\":1228.9166870117188,\"y\":363.3332710266113}},\"66\":{\"from_node_id\":\"67\",\"to_node_id\":\"70\",\"b1\":{\"x\":1104.4190925142746,\"y\":601.4527748088888},\"b2\":{\"x\":1012.4505061616076,\"y\":721.8936963123499}}}},\"13\":{\"name\":\"Mal dehydrogenase\",\"bigg_id\":\"[M]_MalDH3_h\",\"reversibility\":true,\"label_x\":715.5418291225017,\"label_y\":581.5765275892197,\"gene_reaction_rule\":\"\",\"genes\":[],\"metabolites\":[{\"bigg_id\":\"[M]_H_h\",\"coefficient\":-1},{\"bigg_id\":\"[M]_Mal_h\",\"coefficient\":1},{\"bigg_id\":\"[M]_NADPH_h\",\"coefficient\":-1},{\"bigg_id\":\"[M]_NADP_h\",\"coefficient\":1},{\"bigg_id\":\"[M]_OAA_h\",\"coefficient\":-1}],\"segments\":{\"67\":{\"from_node_id\":\"71\",\"to_node_id\":\"72\",\"b1\":null,\"b2\":null},\"68\":{\"from_node_id\":\"73\",\"to_node_id\":\"72\",\"b1\":null,\"b2\":null},\"70\":{\"from_node_id\":\"73\",\"to_node_id\":\"69\",\"b1\":{\"x\":937.7782182826579,\"y\":475.74583911265717},\"b2\":{\"x\":936.4449052943767,\"y\":425.49583911265717}},\"73\":{\"from_node_id\":\"71\",\"to_node_id\":\"70\",\"b1\":{\"x\":937.7782182826579,\"y\":603.7458391126572},\"b2\":{\"x\":938.4449052943767,\"y\":670.3291521009385}}}},\"16\":{\"name\":\"Asp aminotransferase\",\"bigg_id\":\"[M]_AspAT2_c\",\"reversibility\":true,\"label_x\":3173.9678344726562,\"label_y\":554.1748847961426,\"gene_reaction_rule\":\"\",\"genes\":[],\"metabolites\":[{\"bigg_id\":\"[M]_Ala_c\",\"coefficient\":-1},{\"bigg_id\":\"[M]_Asp_c\",\"coefficient\":1},{\"bigg_id\":\"[M]_OAA_c\",\"coefficient\":-1},{\"bigg_id\":\"[M]_Pyr_c\",\"coefficient\":1}],\"segments\":{\"86\":{\"from_node_id\":\"90\",\"to_node_id\":\"91\",\"b1\":null,\"b2\":null},\"87\":{\"from_node_id\":\"92\",\"to_node_id\":\"91\",\"b1\":null,\"b2\":null},\"88\":{\"from_node_id\":\"90\",\"to_node_id\":\"93\",\"b1\":{\"x\":3158.9678344726562,\"y\":476.0020942687988},\"b2\":{\"x\":3335.6698608398438,\"y\":492.16301345825195}},\"89\":{\"from_node_id\":\"92\",\"to_node_id\":\"94\",\"b1\":{\"x\":3158.5728149414062,\"y\":604.8415718078613},\"b2\":{\"x\":3340.2542114257812,\"y\":610.641040802002}},\"90\":{\"from_node_id\":\"90\",\"to_node_id\":\"55\",\"b1\":{\"x\":3161.9219360351562,\"y\":367.7466926574707},\"b2\":{\"x\":1529.3112182617188,\"y\":361.81987380981445}},\"91\":{\"from_node_id\":\"92\",\"to_node_id\":\"95\",\"b1\":{\"x\":3158.5728149414062,\"y\":608.8415718078613},\"b2\":{\"x\":2989.7009887695312,\"y\":612.0880928039551}}}},\"17\":{\"name\":\"PEP/Pi translocator\",\"bigg_id\":\"[M]_Tr_PPT\",\"reversibility\":true,\"label_x\":1042.2079467773438,\"label_y\":94.60987854003909,\"gene_reaction_rule\":\"\",\"genes\":[],\"metabolites\":[{\"bigg_id\":\"[M]_H_c\",\"coefficient\":-1},{\"bigg_id\":\"[M]_H_h\",\"coefficient\":1},{\"bigg_id\":\"[M]_PEP_c\",\"coefficient\":-1},{\"bigg_id\":\"[M]_PEP_h\",\"coefficient\":1},{\"bigg_id\":\"[M]_Pi_c\",\"coefficient\":1},{\"bigg_id\":\"[M]_Pi_h\",\"coefficient\":-1}],\"segments\":{\"92\":{\"from_node_id\":\"96\",\"to_node_id\":\"97\",\"b1\":null,\"b2\":null},\"93\":{\"from_node_id\":\"98\",\"to_node_id\":\"97\",\"b1\":null,\"b2\":null},\"96\":{\"from_node_id\":\"96\",\"to_node_id\":\"56\",\"b1\":{\"x\":1175.9999389648438,\"y\":128.66659545898438},\"b2\":{\"x\":1230.2499389648438,\"y\":128.66659545898438}},\"97\":{\"from_node_id\":\"98\",\"to_node_id\":\"101\",\"b1\":{\"x\":1051.9999389648438,\"y\":128.6665954589844},\"b2\":{\"x\":997.7499389648438,\"y\":128.6665954589844}}}},\"18\":{\"name\":\"Pyr/H+ translocator\",\"bigg_id\":\"[M]_Tr_Pyr_H_hc\",\"reversibility\":true,\"label_x\":1003.2914428710938,\"label_y\":807.9956245422363,\"gene_reaction_rule\":\"\",\"genes\":[],\"metabolites\":[{\"bigg_id\":\"[M]_H_c\",\"coefficient\":-1},{\"bigg_id\":\"[M]_H_h\",\"coefficient\":1},{\"bigg_id\":\"[M]_Pyr_c\",\"coefficient\":-1},{\"bigg_id\":\"[M]_Pyr_h\",\"coefficient\":1}],\"segments\":{\"100\":{\"from_node_id\":\"104\",\"to_node_id\":\"105\",\"b1\":null,\"b2\":null},\"101\":{\"from_node_id\":\"106\",\"to_node_id\":\"105\",\"b1\":null,\"b2\":null},\"104\":{\"from_node_id\":\"104\",\"to_node_id\":\"95\",\"b1\":{\"x\":2911.2495727539062,\"y\":838.5020942687988},\"b2\":{\"x\":2909.8539428710938,\"y\":840.5639228820801}},\"105\":{\"from_node_id\":\"106\",\"to_node_id\":\"109\",\"b1\":{\"x\":1052.7053833007812,\"y\":842.0523262023926},\"b2\":{\"x\":998.4553833007812,\"y\":842.0523262023926}}}},\"19\":{\"name\":\"Pyr phosphate dikinase\",\"bigg_id\":\"[M]_PyrPiDK_h\",\"reversibility\":true,\"label_x\":529.501953125,\"label_y\":493.18254470825195,\"gene_reaction_rule\":\"\",\"genes\":[],\"metabolites\":[{\"bigg_id\":\"[M]_AMP_h\",\"coefficient\":1},{\"bigg_id\":\"[M]_ATP_h\",\"coefficient\":-1},{\"bigg_id\":\"[M]_H_h\",\"coefficient\":2},{\"bigg_id\":\"[M]_PEP_h\",\"coefficient\":1},{\"bigg_id\":\"[M]_PPi_h\",\"coefficient\":1},{\"bigg_id\":\"[M]_Pi_h\",\"coefficient\":-1},{\"bigg_id\":\"[M]_Pyr_h\",\"coefficient\":-1}],\"segments\":{\"106\":{\"from_node_id\":\"110\",\"to_node_id\":\"111\",\"b1\":null,\"b2\":null},\"107\":{\"from_node_id\":\"112\",\"to_node_id\":\"111\",\"b1\":null,\"b2\":null},\"111\":{\"from_node_id\":\"112\",\"to_node_id\":\"101\",\"b1\":{\"x\":773.6394687410274,\"y\":129.17727754133807},\"b2\":{\"x\":774.4884643554688,\"y\":129.04831314086914}},\"114\":{\"from_node_id\":\"110\",\"to_node_id\":\"109\",\"b1\":{\"x\":770.5639003995976,\"y\":845.4735327003611},\"b2\":{\"x\":746.6383666992188,\"y\":848.5609931945801}}}},\"30\":{\"name\":\"[MB]_Mal_c\",\"bigg_id\":\"[MB]_Mal_c\",\"reversibility\":true,\"label_x\":1302.3710327148438,\"label_y\":1375.2666816711426,\"gene_reaction_rule\":\"\",\"genes\":[],\"metabolites\":[{\"bigg_id\":\"[B]_Mal_c\",\"coefficient\":1},{\"bigg_id\":\"[M]_Mal_c\",\"coefficient\":-1}],\"segments\":{\"170\":{\"from_node_id\":\"174\",\"to_node_id\":\"175\",\"b1\":null,\"b2\":null},\"171\":{\"from_node_id\":\"176\",\"to_node_id\":\"175\",\"b1\":null,\"b2\":null},\"172\":{\"from_node_id\":\"176\",\"to_node_id\":\"177\",\"b1\":{\"x\":1291.9885864257812,\"y\":1525.0464668273926},\"b2\":{\"x\":1291.9885864257812,\"y\":1579.2964668273926}},\"173\":{\"from_node_id\":\"174\",\"to_node_id\":\"62\",\"b1\":{\"x\":1288.8482055664062,\"y\":1065.025592803955},\"b2\":{\"x\":1288.2583618164062,\"y\":772.6749458312988}}}},\"31\":{\"name\":\"[MB]_Pyr_c\",\"bigg_id\":\"[MB]_Pyr_c\",\"reversibility\":true,\"label_x\":2810.7168579101562,\"label_y\":1380.08443069458,\"gene_reaction_rule\":\"\",\"genes\":[],\"metabolites\":[{\"bigg_id\":\"[B]_Pyr_c\",\"coefficient\":1},{\"bigg_id\":\"[M]_Pyr_c\",\"coefficient\":-1}],\"segments\":{\"174\":{\"from_node_id\":\"178\",\"to_node_id\":\"179\",\"b1\":null,\"b2\":null},\"175\":{\"from_node_id\":\"180\",\"to_node_id\":\"179\",\"b1\":null,\"b2\":null},\"176\":{\"from_node_id\":\"180\",\"to_node_id\":\"181\",\"b1\":{\"x\":2988.9026489257812,\"y\":1528.0994453430176},\"b2\":{\"x\":2988.9026489257812,\"y\":1582.3494453430176}},\"177\":{\"from_node_id\":\"178\",\"to_node_id\":\"95\",\"b1\":{\"x\":2985.7622680664062,\"y\":1068.07857131958},\"b2\":{\"x\":2989.3306274414062,\"y\":777.8069038391113}}}},\"32\":{\"name\":\"[MB]_Asp_c\",\"bigg_id\":\"[MB]_Asp_c\",\"reversibility\":true,\"label_x\":3139.0067749023438,\"label_y\":1384.6061897277832,\"gene_reaction_rule\":\"\",\"genes\":[],\"metabolites\":[{\"bigg_id\":\"[B]_Asp_c\",\"coefficient\":1},{\"bigg_id\":\"[M]_Asp_c\",\"coefficient\":-1}],\"segments\":{\"178\":{\"from_node_id\":\"182\",\"to_node_id\":\"183\",\"b1\":null,\"b2\":null},\"179\":{\"from_node_id\":\"184\",\"to_node_id\":\"183\",\"b1\":null,\"b2\":null},\"180\":{\"from_node_id\":\"184\",\"to_node_id\":\"185\",\"b1\":{\"x\":3339.7593383789062,\"y\":1526.9877815246582},\"b2\":{\"x\":3339.7593383789062,\"y\":1581.2377815246582}},\"181\":{\"from_node_id\":\"182\",\"to_node_id\":\"94\",\"b1\":{\"x\":3336.6189575195312,\"y\":1066.9669075012207},\"b2\":{\"x\":3338.1416625976562,\"y\":774.6162605285645}}}},\"33\":{\"name\":\"[MB]_Ala_c\",\"bigg_id\":\"[MB]_Ala_c\",\"reversibility\":true,\"label_x\":3400.4382934570312,\"label_y\":1386.5605964660645,\"gene_reaction_rule\":\"\",\"genes\":[],\"metabolites\":[{\"bigg_id\":\"[B]_Ala_c\",\"coefficient\":1},{\"bigg_id\":\"[M]_Ala_c\",\"coefficient\":-1}],\"segments\":{\"182\":{\"from_node_id\":\"186\",\"to_node_id\":\"187\",\"b1\":null,\"b2\":null},\"183\":{\"from_node_id\":\"188\",\"to_node_id\":\"187\",\"b1\":null,\"b2\":null},\"184\":{\"from_node_id\":\"188\",\"to_node_id\":\"189\",\"b1\":{\"x\":3587.2233276367188,\"y\":1522.486011505127},\"b2\":{\"x\":3587.2233276367188,\"y\":1576.736011505127}},\"185\":{\"from_node_id\":\"186\",\"to_node_id\":\"93\",\"b1\":{\"x\":3584.6729125976562,\"y\":347.3707160949707},\"b2\":{\"x\":3616.6533813476562,\"y\":372.2078437805176}}}},\"44\":{\"name\":\"[MB]_PEP_c\",\"bigg_id\":\"[MB]_PEP_c\",\"reversibility\":true,\"label_x\":2576.147402133158,\"label_y\":1381.696127612824,\"gene_reaction_rule\":\"\",\"genes\":[],\"metabolites\":[{\"bigg_id\":\"[B]_PEP_c\",\"coefficient\":1},{\"bigg_id\":\"[M]_PEP_c\",\"coefficient\":-1}],\"segments\":{\"226\":{\"from_node_id\":\"230\",\"to_node_id\":\"231\",\"b1\":null,\"b2\":null},\"227\":{\"from_node_id\":\"232\",\"to_node_id\":\"231\",\"b1\":null,\"b2\":null},\"228\":{\"from_node_id\":\"232\",\"to_node_id\":\"233\",\"b1\":{\"x\":2762.6847789940966,\"y\":1525.9061659803913},\"b2\":{\"x\":2762.091568220075,\"y\":1580.1529225744735}},\"229\":{\"from_node_id\":\"230\",\"to_node_id\":\"56\",\"b1\":{\"x\":2781.0395907019065,\"y\":194.5973715938901},\"b2\":{\"x\":1580.3357543945312,\"y\":129.1154022216797}}}},\"76\":{\"name\":\"Mal dehydrogenase\",\"bigg_id\":\"[B]_MalDH1_c\",\"reversibility\":true,\"label_x\":1324.5901489257812,\"label_y\":1601.498249053955,\"gene_reaction_rule\":\"\",\"genes\":[],\"metabolites\":[{\"bigg_id\":\"[B]_H_c\",\"coefficient\":1},{\"bigg_id\":\"[B]_Mal_c\",\"coefficient\":-1},{\"bigg_id\":\"[B]_NADH_c\",\"coefficient\":1},{\"bigg_id\":\"[B]_NAD_c\",\"coefficient\":-1},{\"bigg_id\":\"[B]_OAA_c\",\"coefficient\":1}],\"segments\":{\"392\":{\"from_node_id\":\"396\",\"to_node_id\":\"397\",\"b1\":null,\"b2\":null},\"393\":{\"from_node_id\":\"398\",\"to_node_id\":\"397\",\"b1\":null,\"b2\":null},\"395\":{\"from_node_id\":\"396\",\"to_node_id\":\"177\",\"b1\":{\"x\":1404.9885864257812,\"y\":1638.0464668273926},\"b2\":{\"x\":1350.7385864257812,\"y\":1638.0464668273926}},\"398\":{\"from_node_id\":\"398\",\"to_node_id\":\"402\",\"b1\":{\"x\":1528.9885864257812,\"y\":1638.0464668273926},\"b2\":{\"x\":1525.0484008789062,\"y\":1637.7168769836426}}}},\"83\":{\"name\":\"PEP carboxylase\",\"bigg_id\":\"[B]_PEPC1_c\",\"reversibility\":false,\"label_x\":2349.4317016601562,\"label_y\":1672.566608428955,\"gene_reaction_rule\":\"\",\"genes\":[],\"metabolites\":[{\"bigg_id\":\"[B]_ADP_c\",\"coefficient\":1},{\"bigg_id\":\"[B]_ATP_c\",\"coefficient\":-1},{\"bigg_id\":\"[B]_CO2_c\",\"coefficient\":1},{\"bigg_id\":\"[B]_OAA_c\",\"coefficient\":-1},{\"bigg_id\":\"[B]_PEP_c\",\"coefficient\":1}],\"segments\":{\"437\":{\"from_node_id\":\"442\",\"to_node_id\":\"443\",\"b1\":null,\"b2\":null},\"438\":{\"from_node_id\":\"444\",\"to_node_id\":\"443\",\"b1\":null,\"b2\":null},\"441\":{\"from_node_id\":\"444\",\"to_node_id\":\"447\",\"b1\":{\"x\":2489.4094848632812,\"y\":1636.402057647705},\"b2\":{\"x\":2478.2905883789062,\"y\":1544.5144844055176}},\"442\":{\"from_node_id\":\"442\",\"to_node_id\":\"402\",\"b1\":{\"x\":2361.4094848632812,\"y\":1636.402057647705},\"b2\":{\"x\":1641.2337036132812,\"y\":1636.402057647705}},\"443\":{\"from_node_id\":\"444\",\"to_node_id\":\"233\",\"b1\":{\"x\":2485.4094848632812,\"y\":1636.402057647705},\"b2\":{\"x\":2700.2982788085938,\"y\":1640.0635566711426}}}},\"84\":{\"name\":\"Asp aminotransferase\",\"bigg_id\":\"[B]_AspAT2_c\",\"reversibility\":true,\"label_x\":3115.0769653320312,\"label_y\":1888.0323371887207,\"gene_reaction_rule\":\"\",\"genes\":[],\"metabolites\":[{\"bigg_id\":\"[B]_Ala_c\",\"coefficient\":-1},{\"bigg_id\":\"[B]_Asp_c\",\"coefficient\":1},{\"bigg_id\":\"[B]_OAA_c\",\"coefficient\":-1},{\"bigg_id\":\"[B]_Pyr_c\",\"coefficient\":1}],\"segments\":{\"444\":{\"from_node_id\":\"449\",\"to_node_id\":\"450\",\"b1\":null,\"b2\":null},\"445\":{\"from_node_id\":\"451\",\"to_node_id\":\"450\",\"b1\":null,\"b2\":null},\"446\":{\"from_node_id\":\"449\",\"to_node_id\":\"189\",\"b1\":{\"x\":3557.2874145507812,\"y\":1825.5853157043457},\"b2\":{\"x\":3511.8794555664062,\"y\":1862.2759895324707}},\"447\":{\"from_node_id\":\"451\",\"to_node_id\":\"185\",\"b1\":{\"x\":3180.1638793945312,\"y\":1751.8238410949707},\"b2\":{\"x\":3295.0317993164062,\"y\":1690.1729621887207}},\"448\":{\"from_node_id\":\"449\",\"to_node_id\":\"402\",\"b1\":{\"x\":2536.1941528320312,\"y\":1829.3939094543457},\"b2\":{\"x\":2119.7681274414062,\"y\":1859.5446662902832}},\"449\":{\"from_node_id\":\"451\",\"to_node_id\":\"181\",\"b1\":{\"x\":3180.1638793945312,\"y\":1747.8238410949707},\"b2\":{\"x\":3045.1724243164062,\"y\":1681.6682014465332}}}},\"87\":{\"name\":\"Mal dehydrogenase\",\"bigg_id\":\"[B]_MalDH4_h\",\"reversibility\":false,\"label_x\":2640.028564453125,\"label_y\":2712.239501953125,\"gene_reaction_rule\":\"\",\"genes\":[],\"metabolites\":[{\"bigg_id\":\"[B]_CO2_h\",\"coefficient\":1},{\"bigg_id\":\"[B]_Mal_h\",\"coefficient\":-1},{\"bigg_id\":\"[B]_NADPH_h\",\"coefficient\":1},{\"bigg_id\":\"[B]_NADP_h\",\"coefficient\":-1},{\"bigg_id\":\"[B]_Pyr_h\",\"coefficient\":1}],\"segments\":{\"464\":{\"from_node_id\":\"471\",\"to_node_id\":\"472\",\"b1\":null,\"b2\":null},\"465\":{\"from_node_id\":\"473\",\"to_node_id\":\"472\",\"b1\":null,\"b2\":null},\"466\":{\"from_node_id\":\"473\",\"to_node_id\":\"474\",\"b1\":{\"x\":2855.9520263671875,\"y\":2648.5093994140625},\"b2\":{\"x\":2877.4688110351562,\"y\":2680.49609375}},\"467\":{\"from_node_id\":\"471\",\"to_node_id\":\"468\",\"b1\":{\"x\":2727.9520263671875,\"y\":2648.5093994140625},\"b2\":{\"x\":2616.004638671875,\"y\":2644.2354736328125}},\"470\":{\"from_node_id\":\"473\",\"to_node_id\":\"470\",\"b1\":{\"x\":2851.9520263671875,\"y\":2648.5093994140625},\"b2\":{\"x\":2935.4591064453125,\"y\":2645.4207763671875}}}},\"95\":{\"name\":\"RuBisCO\",\"bigg_id\":\"[B]_RBC_h\",\"reversibility\":false,\"label_x\":2632.5873413085938,\"label_y\":2924.0968017578125,\"gene_reaction_rule\":\"\",\"genes\":[],\"metabolites\":[{\"bigg_id\":\"[B]_CO2_h\",\"coefficient\":-1},{\"bigg_id\":\"[B]_H2O_h\",\"coefficient\":-1},{\"bigg_id\":\"[B]_H_h\",\"coefficient\":2},{\"bigg_id\":\"[B]_PGA_h\",\"coefficient\":2},{\"bigg_id\":\"[B]_RuBP_h\",\"coefficient\":-1}],\"segments\":{\"510\":{\"from_node_id\":\"517\",\"to_node_id\":\"518\",\"b1\":null,\"b2\":null},\"511\":{\"from_node_id\":\"519\",\"to_node_id\":\"518\",\"b1\":null,\"b2\":null},\"512\":{\"from_node_id\":\"517\",\"to_node_id\":\"474\",\"b1\":{\"x\":2882.6141967773438,\"y\":2879.277587890625},\"b2\":{\"x\":2915.5392456054688,\"y\":2836.5462646484375}},\"515\":{\"from_node_id\":\"519\",\"to_node_id\":\"483\",\"b1\":{\"x\":2437.0637817382812,\"y\":2874.781982421875},\"b2\":{\"x\":2483.9244995117188,\"y\":2876.09521484375}},\"516\":{\"from_node_id\":\"517\",\"to_node_id\":\"491\",\"b1\":{\"x\":2886.6141967773438,\"y\":2879.277587890625},\"b2\":{\"x\":2996.6266479492188,\"y\":3064.286865234375}}}},\"99\":{\"name\":\"R_Tr_Pyr_Mal_hc\",\"bigg_id\":\"[B]_Tr_Pyr_Mal_hc\",\"reversibility\":true,\"label_x\":2697.1073608398438,\"label_y\":2303.01216506958,\"gene_reaction_rule\":\"\",\"genes\":[],\"metabolites\":[{\"bigg_id\":\"[B]_Mal_c\",\"coefficient\":-1},{\"bigg_id\":\"[B]_Mal_h\",\"coefficient\":1},{\"bigg_id\":\"[B]_Pyr_c\",\"coefficient\":1},{\"bigg_id\":\"[B]_Pyr_h\",\"coefficient\":-1}],\"segments\":{\"531\":{\"from_node_id\":\"538\",\"to_node_id\":\"539\",\"b1\":null,\"b2\":null},\"532\":{\"from_node_id\":\"540\",\"to_node_id\":\"539\",\"b1\":null,\"b2\":null},\"533\":{\"from_node_id\":\"538\",\"to_node_id\":\"177\",\"b1\":{\"x\":2986.3092651367188,\"y\":2233.8533515930176},\"b2\":{\"x\":1689.8287963867188,\"y\":1949.23530960083}},\"534\":{\"from_node_id\":\"540\",\"to_node_id\":\"468\",\"b1\":{\"x\":2986.3092651367188,\"y\":2357.8533515930176},\"b2\":{\"x\":2560.3551635742188,\"y\":2502.451374053955}},\"535\":{\"from_node_id\":\"540\",\"to_node_id\":\"181\",\"b1\":{\"x\":2986.3092651367188,\"y\":2361.8533515930176},\"b2\":{\"x\":2991.0866088867188,\"y\":1720.80952835083}},\"536\":{\"from_node_id\":\"538\",\"to_node_id\":\"470\",\"b1\":{\"x\":2986.3092651367188,\"y\":2229.8533515930176},\"b2\":{\"x\":2988.9304809570312,\"y\":2573.52095413208}}}},\"100\":{\"name\":\"Dicarboxylate transporter\",\"bigg_id\":\"[B]_Tr_DTC5\",\"reversibility\":true,\"label_x\":1095.7332153320312,\"label_y\":2308.3377265930176,\"gene_reaction_rule\":\"\",\"genes\":[],\"metabolites\":[{\"bigg_id\":\"[B]_Mal_c\",\"coefficient\":1},{\"bigg_id\":\"[B]_Mal_m\",\"coefficient\":-1},{\"bigg_id\":\"[B]_OAA_c\",\"coefficient\":-1},{\"bigg_id\":\"[B]_OAA_m\",\"coefficient\":1}],\"segments\":{\"537\":{\"from_node_id\":\"544\",\"to_node_id\":\"545\",\"b1\":null,\"b2\":null},\"538\":{\"from_node_id\":\"546\",\"to_node_id\":\"545\",\"b1\":null,\"b2\":null},\"539\":{\"from_node_id\":\"546\",\"to_node_id\":\"177\",\"b1\":{\"x\":1292.0067749023438,\"y\":2297.0144844055176},\"b2\":{\"x\":1291.9871215820312,\"y\":2298.46187210083}},\"540\":{\"from_node_id\":\"544\",\"to_node_id\":\"547\",\"b1\":{\"x\":1292.9518432617188,\"y\":2297.792194366455},\"b2\":{\"x\":1293.4180297851562,\"y\":2310.5777168273926}},\"541\":{\"from_node_id\":\"544\",\"to_node_id\":\"402\",\"b1\":{\"x\":1581.9943237304688,\"y\":2298.9485664367676},\"b2\":{\"x\":1583.2122192382812,\"y\":2298.0974922180176}},\"542\":{\"from_node_id\":\"546\",\"to_node_id\":\"549\",\"b1\":{\"x\":1583.8844604492188,\"y\":2297.75093460083},\"b2\":{\"x\":1581.3598022460938,\"y\":2311.47163772583}}}},\"101\":{\"name\":\"Mal dehydrogenase\",\"bigg_id\":\"[B]_MalDH1_m\",\"reversibility\":true,\"label_x\":1332.4038696289062,\"label_y\":2610.656940460205,\"gene_reaction_rule\":\"\",\"genes\":[],\"metabolites\":[{\"bigg_id\":\"[B]_H_m\",\"coefficient\":1},{\"bigg_id\":\"[B]_Mal_m\",\"coefficient\":-1},{\"bigg_id\":\"[B]_NADH_m\",\"coefficient\":1},{\"bigg_id\":\"[B]_NAD_m\",\"coefficient\":-1},{\"bigg_id\":\"[B]_OAA_m\",\"coefficient\":1}],\"segments\":{\"543\":{\"from_node_id\":\"550\",\"to_node_id\":\"551\",\"b1\":null,\"b2\":null},\"544\":{\"from_node_id\":\"552\",\"to_node_id\":\"551\",\"b1\":null,\"b2\":null},\"546\":{\"from_node_id\":\"550\",\"to_node_id\":\"547\",\"b1\":{\"x\":1401.6730346679688,\"y\":2644.969928741455},\"b2\":{\"x\":1349.3158569335938,\"y\":2644.02339553833}},\"549\":{\"from_node_id\":\"552\",\"to_node_id\":\"549\",\"b1\":{\"x\":1525.6730346679688,\"y\":2644.969928741455},\"b2\":{\"x\":1527.7882690429688,\"y\":2644.969928741455}}}},\"102\":{\"name\":\"Dicarboxylate transporter\",\"bigg_id\":\"[B]_Tr_DIT1_OAA\",\"reversibility\":true,\"label_x\":1940.4468994140625,\"label_y\":2255.3272705078125,\"gene_reaction_rule\":\"\",\"genes\":[],\"metabolites\":[{\"bigg_id\":\"[B]_Mal_c\",\"coefficient\":1},{\"bigg_id\":\"[B]_Mal_h\",\"coefficient\":-1},{\"bigg_id\":\"[B]_OAA_c\",\"coefficient\":-1},{\"bigg_id\":\"[B]_OAA_h\",\"coefficient\":1}],\"segments\":{\"550\":{\"from_node_id\":\"558\",\"to_node_id\":\"559\",\"b1\":null,\"b2\":null},\"551\":{\"from_node_id\":\"560\",\"to_node_id\":\"559\",\"b1\":null,\"b2\":null},\"552\":{\"from_node_id\":\"560\",\"to_node_id\":\"177\",\"b1\":{\"x\":1537.2420654296875,\"y\":2302.404296875},\"b2\":{\"x\":1639.6156005859375,\"y\":2250.03466796875}},\"553\":{\"from_node_id\":\"558\",\"to_node_id\":\"468\",\"b1\":{\"x\":2290.788818359375,\"y\":2295.3272705078125},\"b2\":{\"x\":2188.41552734375,\"y\":2257.1114501953125}},\"554\":{\"from_node_id\":\"558\",\"to_node_id\":\"402\",\"b1\":{\"x\":2291.0347900390625,\"y\":2295.3272705078125},\"b2\":{\"x\":1729.533447265625,\"y\":1809.4456787109375}},\"555\":{\"from_node_id\":\"560\",\"to_node_id\":\"563\",\"b1\":{\"x\":1786.1060791015625,\"y\":2299.573486328125},\"b2\":{\"x\":1822.494384765625,\"y\":2320.561767578125}}}},\"103\":{\"name\":\"Mal dehydrogenase\",\"bigg_id\":\"[B]_MalDH3_h\",\"reversibility\":true,\"label_x\":2076.0760498046875,\"label_y\":2613.8465576171875,\"gene_reaction_rule\":\"\",\"genes\":[],\"metabolites\":[{\"bigg_id\":\"[B]_H_h\",\"coefficient\":-1},{\"bigg_id\":\"[B]_Mal_h\",\"coefficient\":1},{\"bigg_id\":\"[B]_NADPH_h\",\"coefficient\":-1},{\"bigg_id\":\"[B]_NADP_h\",\"coefficient\":1},{\"bigg_id\":\"[B]_OAA_h\",\"coefficient\":-1}],\"segments\":{\"556\":{\"from_node_id\":\"564\",\"to_node_id\":\"565\",\"b1\":null,\"b2\":null},\"557\":{\"from_node_id\":\"566\",\"to_node_id\":\"565\",\"b1\":null,\"b2\":null},\"559\":{\"from_node_id\":\"566\",\"to_node_id\":\"468\",\"b1\":{\"x\":2217.7994384765625,\"y\":2645.3541259765625},\"b2\":{\"x\":2475.23779296875,\"y\":2644.7249755859375}},\"562\":{\"from_node_id\":\"564\",\"to_node_id\":\"563\",\"b1\":{\"x\":2093.7994384765625,\"y\":2645.3541259765625},\"b2\":{\"x\":1876.7786865234375,\"y\":2644.4102783203125}}}},\"104\":{\"name\":\"Mal dehydrogenase\",\"bigg_id\":\"[B]_MalDH1_h\",\"reversibility\":true,\"label_x\":2071.8299560546875,\"label_y\":2837.7935791015625,\"gene_reaction_rule\":\"\",\"genes\":[],\"metabolites\":[{\"bigg_id\":\"[B]_H_h\",\"coefficient\":1},{\"bigg_id\":\"[B]_Mal_h\",\"coefficient\":-1},{\"bigg_id\":\"[B]_NADH_h\",\"coefficient\":1},{\"bigg_id\":\"[B]_NAD_h\",\"coefficient\":-1},{\"bigg_id\":\"[B]_OAA_h\",\"coefficient\":1}],\"segments\":{\"563\":{\"from_node_id\":\"571\",\"to_node_id\":\"572\",\"b1\":null,\"b2\":null},\"564\":{\"from_node_id\":\"573\",\"to_node_id\":\"572\",\"b1\":null,\"b2\":null},\"566\":{\"from_node_id\":\"571\",\"to_node_id\":\"468\",\"b1\":{\"x\":2568.346435546875,\"y\":2787.9945068359375},\"b2\":{\"x\":2555.915283203125,\"y\":2798.6888427734375}},\"569\":{\"from_node_id\":\"573\",\"to_node_id\":\"563\",\"b1\":{\"x\":1809.618896484375,\"y\":2784.2200927734375},\"b2\":{\"x\":1818.7474365234375,\"y\":2791.6116943359375}}}},\"105\":{\"name\":\"Asp aminotransferase\",\"bigg_id\":\"[B]_AspAT2_m\",\"reversibility\":true,\"label_x\":1359.5839233398438,\"label_y\":2772.5432929992676,\"gene_reaction_rule\":\"\",\"genes\":[],\"metabolites\":[{\"bigg_id\":\"[B]_Ala_m\",\"coefficient\":-1},{\"bigg_id\":\"[B]_Asp_m\",\"coefficient\":1},{\"bigg_id\":\"[B]_OAA_m\",\"coefficient\":-1},{\"bigg_id\":\"[B]_Pyr_m\",\"coefficient\":1}],\"segments\":{\"570\":{\"from_node_id\":\"578\",\"to_node_id\":\"579\",\"b1\":null,\"b2\":null},\"571\":{\"from_node_id\":\"580\",\"to_node_id\":\"579\",\"b1\":null,\"b2\":null},\"572\":{\"from_node_id\":\"578\",\"to_node_id\":\"581\",\"b1\":{\"x\":1593.1441111460415,\"y\":2816.922512473858},\"b2\":{\"x\":1583.2286987304688,\"y\":3192.9431953430176}},\"573\":{\"from_node_id\":\"580\",\"to_node_id\":\"582\",\"b1\":{\"x\":1482.1012950041454,\"y\":2818.2003140988945},\"b2\":{\"x\":1497.6403198242188,\"y\":3193.3560371398926}},\"574\":{\"from_node_id\":\"578\",\"to_node_id\":\"549\",\"b1\":{\"x\":1594.166893472417,\"y\":2818.2178148683906},\"b2\":{\"x\":1583.0223999023438,\"y\":2811.8260078430176}},\"575\":{\"from_node_id\":\"580\",\"to_node_id\":\"590\",\"b1\":{\"x\":1478.1014943227085,\"y\":2818.240245399677},\"b2\":{\"x\":1467.0841674804688,\"y\":2817.8892402648926}}}},\"106\":{\"name\":\"Mal dehydrogenase\",\"bigg_id\":\"[B]_MalDH2_m\",\"reversibility\":false,\"label_x\":1057.2401733398438,\"label_y\":2823.68550491333,\"gene_reaction_rule\":\"\",\"genes\":[],\"metabolites\":[{\"bigg_id\":\"[B]_CO2_m\",\"coefficient\":1},{\"bigg_id\":\"[B]_Mal_m\",\"coefficient\":-1},{\"bigg_id\":\"[B]_NADH_m\",\"coefficient\":1},{\"bigg_id\":\"[B]_NAD_m\",\"coefficient\":-1},{\"bigg_id\":\"[B]_Pyr_m\",\"coefficient\":1}],\"segments\":{\"576\":{\"from_node_id\":\"584\",\"to_node_id\":\"585\",\"b1\":null,\"b2\":null},\"577\":{\"from_node_id\":\"586\",\"to_node_id\":\"585\",\"b1\":null,\"b2\":null},\"578\":{\"from_node_id\":\"586\",\"to_node_id\":\"587\",\"b1\":{\"x\":1290.5658569335938,\"y\":2881.02339553833},\"b2\":{\"x\":1290.5658569335938,\"y\":2935.27339553833}},\"579\":{\"from_node_id\":\"584\",\"to_node_id\":\"547\",\"b1\":{\"x\":1290.5658569335938,\"y\":2757.02339553833},\"b2\":{\"x\":1290.5658569335938,\"y\":2702.77339553833}},\"582\":{\"from_node_id\":\"586\",\"to_node_id\":\"590\",\"b1\":{\"x\":1290.5658569335938,\"y\":2820.98677444458},\"b2\":{\"x\":1322.7905883789062,\"y\":2817.447956085205}}}},\"107\":{\"name\":\"CO2 diffusion\",\"bigg_id\":\"[B]_Tr_CO2m\",\"reversibility\":true,\"label_x\":810.4965209960938,\"label_y\":2307.36275100708,\"gene_reaction_rule\":\"\",\"genes\":[],\"metabolites\":[{\"bigg_id\":\"[B]_CO2_c\",\"coefficient\":-1},{\"bigg_id\":\"[B]_CO2_m\",\"coefficient\":1}],\"segments\":{\"583\":{\"from_node_id\":\"591\",\"to_node_id\":\"592\",\"b1\":null,\"b2\":null},\"584\":{\"from_node_id\":\"593\",\"to_node_id\":\"592\",\"b1\":null,\"b2\":null},\"585\":{\"from_node_id\":\"591\",\"to_node_id\":\"447\",\"b1\":{\"x\":1047.8641435324835,\"y\":1472.6182197716075},\"b2\":{\"x\":1046.3784790039062,\"y\":1471.4295234680176}},\"586\":{\"from_node_id\":\"593\",\"to_node_id\":\"587\",\"b1\":{\"x\":1071.4398725807978,\"y\":2997.2749458167714},\"b2\":{\"x\":1197.4758911132812,\"y\":2996.35542678833}}}},\"108\":{\"name\":\"CO2 diffusion\",\"bigg_id\":\"[B]_Tr_CO2h\",\"reversibility\":true,\"label_x\":3133.3099975585938,\"label_y\":2307.3350830078125,\"gene_reaction_rule\":\"\",\"genes\":[],\"metabolites\":[{\"bigg_id\":\"[B]_CO2_c\",\"coefficient\":-1},{\"bigg_id\":\"[B]_CO2_h\",\"coefficient\":1}],\"segments\":{\"587\":{\"from_node_id\":\"595\",\"to_node_id\":\"596\",\"b1\":null,\"b2\":null},\"588\":{\"from_node_id\":\"597\",\"to_node_id\":\"596\",\"b1\":null,\"b2\":null},\"589\":{\"from_node_id\":\"595\",\"to_node_id\":\"447\",\"b1\":{\"x\":3097.9994506835938,\"y\":1478.2550354003906},\"b2\":{\"x\":3097.2362670898438,\"y\":1478.481689453125}},\"590\":{\"from_node_id\":\"597\",\"to_node_id\":\"474\",\"b1\":{\"x\":3031.0409545898438,\"y\":2785.986328125},\"b2\":{\"x\":3050.1347045898438,\"y\":2787.396728515625}}}},\"131\":{\"name\":\"Tr_Asp_mc\",\"bigg_id\":\"[B]_Tr_Asp_mc\",\"reversibility\":true,\"label_x\":1254.9667358398438,\"label_y\":3738.2415351867676,\"gene_reaction_rule\":\"\",\"genes\":[],\"metabolites\":[{\"bigg_id\":\"[B]_Asp_c\",\"coefficient\":1},{\"bigg_id\":\"[B]_Asp_m\",\"coefficient\":-1}],\"segments\":{\"716\":{\"from_node_id\":\"728\",\"to_node_id\":\"729\",\"b1\":null,\"b2\":null},\"717\":{\"from_node_id\":\"730\",\"to_node_id\":\"729\",\"b1\":null,\"b2\":null},\"718\":{\"from_node_id\":\"730\",\"to_node_id\":\"185\",\"b1\":{\"x\":3337.0399780273438,\"y\":3509.9805488586426},\"b2\":{\"x\":3337.0402221679688,\"y\":3822.18208694458}},\"719\":{\"from_node_id\":\"728\",\"to_node_id\":\"582\",\"b1\":{\"x\":1493.7348022460938,\"y\":3812.6458320617676},\"b2\":{\"x\":1495.1290893554688,\"y\":3426.3728828430176}}}},\"132\":{\"name\":\"R_Tr_Ala_mc\",\"bigg_id\":\"[B]_Tr_Ala_mc\",\"reversibility\":true,\"label_x\":1606.4703979492188,\"label_y\":3734.3384590148926,\"gene_reaction_rule\":\"\",\"genes\":[],\"metabolites\":[{\"bigg_id\":\"[B]_Ala_c\",\"coefficient\":-1},{\"bigg_id\":\"[B]_Ala_m\",\"coefficient\":1}],\"segments\":{\"720\":{\"from_node_id\":\"732\",\"to_node_id\":\"733\",\"b1\":null,\"b2\":null},\"721\":{\"from_node_id\":\"734\",\"to_node_id\":\"733\",\"b1\":null,\"b2\":null},\"722\":{\"from_node_id\":\"732\",\"to_node_id\":\"189\",\"b1\":{\"x\":3588.1522827148438,\"y\":3755.6631660461426},\"b2\":{\"x\":3585.3634643554688,\"y\":3750.305866241455}},\"723\":{\"from_node_id\":\"734\",\"to_node_id\":\"581\",\"b1\":{\"x\":1590.0761108398438,\"y\":3764.1245918273926},\"b2\":{\"x\":1585.8931274414062,\"y\":3423.8645820617676}}}},\"134\":{\"name\":\"Pyr kinase\",\"bigg_id\":\"[B]_PyrK_c\",\"reversibility\":false,\"label_x\":2795.5721978974,\"label_y\":1606.111812474027,\"gene_reaction_rule\":\"\",\"genes\":[],\"metabolites\":[{\"bigg_id\":\"[B]_ADP_c\",\"coefficient\":-1},{\"bigg_id\":\"[B]_ATP_c\",\"coefficient\":1},{\"bigg_id\":\"[B]_H_c\",\"coefficient\":-1},{\"bigg_id\":\"[B]_PEP_c\",\"coefficient\":-1},{\"bigg_id\":\"[B]_Pyr_c\",\"coefficient\":1}],\"segments\":{\"731\":{\"from_node_id\":\"742\",\"to_node_id\":\"743\",\"b1\":null,\"b2\":null},\"732\":{\"from_node_id\":\"744\",\"to_node_id\":\"743\",\"b1\":null,\"b2\":null},\"736\":{\"from_node_id\":\"742\",\"to_node_id\":\"233\",\"b1\":{\"x\":2806.652031881775,\"y\":1638.899410130277},\"b2\":{\"x\":2820.1991510224,\"y\":1638.899410130277}},\"737\":{\"from_node_id\":\"744\",\"to_node_id\":\"181\",\"b1\":{\"x\":2934.652031881775,\"y\":1638.899410130277},\"b2\":{\"x\":2916.8221978974,\"y\":1638.1470907943394}}}}},\"nodes\":{\"12\":{\"node_type\":\"metabolite\",\"x\":1289.6665649414062,\"y\":-320.00006103515625,\"bigg_id\":\"[M]_CO2_c\",\"name\":\"CO2\",\"label_x\":1324.351962073744,\"label_y\":-340.41893299433843,\"node_is_primary\":true},\"13\":{\"node_type\":\"multimarker\",\"x\":1285.6845092773438,\"y\":-1008.7737426757812},\"14\":{\"node_type\":\"midmarker\",\"x\":1285.6845092773438,\"y\":-988.7737426757812},\"15\":{\"node_type\":\"multimarker\",\"x\":1285.6845092773438,\"y\":-968.7737426757812},\"40\":{\"node_type\":\"multimarker\",\"x\":1289.6665649414062,\"y\":-165.00006103515625},\"41\":{\"node_type\":\"midmarker\",\"x\":1289.6665649414062,\"y\":-145.00006103515625},\"42\":{\"node_type\":\"multimarker\",\"x\":1289.6665649414062,\"y\":-125.00006103515625},\"44\":{\"node_type\":\"metabolite\",\"x\":1289.6665649414062,\"y\":29.99993896484375,\"bigg_id\":\"[M]_HCO3_c\",\"name\":\"CHO3\",\"label_x\":1310.6665649414062,\"label_y\":7.333271503448486,\"node_is_primary\":true},\"52\":{\"node_type\":\"multimarker\",\"x\":1409.2748762987262,\"y\":211.32401972572646},\"53\":{\"node_type\":\"midmarker\",\"x\":1408.6665649414062,\"y\":191.33327293395996},\"54\":{\"node_type\":\"multimarker\",\"x\":1408.0582535840863,\"y\":171.34252614219335},\"55\":{\"node_type\":\"metabolite\",\"x\":1287.6666870117188,\"y\":363.3332710266113,\"bigg_id\":\"[M]_OAA_c\",\"name\":\"C4H2O5\",\"label_x\":1323.0366577148438,\"label_y\":346.7503852844238,\"node_is_primary\":true},\"56\":{\"node_type\":\"metabolite\",\"x\":1288.9999389648438,\"y\":128.66659545898438,\"bigg_id\":\"[M]_PEP_c\",\"name\":\"C3H2O6P\",\"label_x\":1248.0422729492188,\"label_y\":98.7098388671875,\"node_is_primary\":true},\"58\":{\"node_type\":\"multimarker\",\"x\":1287.6666870117188,\"y\":558.3332710266113},\"59\":{\"node_type\":\"midmarker\",\"x\":1287.6666870117188,\"y\":538.3332710266113},\"60\":{\"node_type\":\"multimarker\",\"x\":1287.6666870117188,\"y\":518.3332710266113},\"62\":{\"node_type\":\"metabolite\",\"x\":1288.2583618164062,\"y\":713.9249458312988,\"bigg_id\":\"[M]_Mal_c\",\"name\":\"C4H4O5\",\"label_x\":1313.2583618164062,\"label_y\":713.9249458312988,\"node_is_primary\":true},\"65\":{\"node_type\":\"multimarker\",\"x\":1104.7414227730005,\"y\":515.4533788621472},\"66\":{\"node_type\":\"midmarker\",\"x\":1104.6664622477163,\"y\":535.4532383846456},\"67\":{\"node_type\":\"multimarker\",\"x\":1104.5915017224293,\"y\":555.453097907144},\"69\":{\"node_type\":\"metabolite\",\"x\":936.4449052943767,\"y\":366.74583911265717,\"bigg_id\":\"[M]_Mal_h\",\"name\":\"C4H4O5\",\"label_x\":810.069819845158,\"label_y\":370.74583911265717,\"node_is_primary\":true},\"70\":{\"node_type\":\"metabolite\",\"x\":939.6578197788833,\"y\":720.7443946164624,\"bigg_id\":\"[M]_OAA_h\",\"name\":\"C4H2O5\",\"label_x\":797.7244457554459,\"label_y\":736.7443946164624,\"node_is_primary\":true},\"71\":{\"node_type\":\"multimarker\",\"x\":937.7782182826579,\"y\":557.7458391126572},\"72\":{\"node_type\":\"midmarker\",\"x\":937.7782182826579,\"y\":537.7458391126572},\"73\":{\"node_type\":\"multimarker\",\"x\":937.7782182826579,\"y\":517.7458391126572},\"90\":{\"node_type\":\"multimarker\",\"x\":3158.9678344726562,\"y\":522.0020942687988},\"91\":{\"node_type\":\"midmarker\",\"x\":3158.9678344726562,\"y\":544.1748847961426},\"92\":{\"node_type\":\"multimarker\",\"x\":3158.5728149414062,\"y\":562.8415718078613},\"93\":{\"node_type\":\"metabolite\",\"x\":3337.4120483398438,\"y\":370.68107986450195,\"bigg_id\":\"[M]_Ala_c\",\"name\":\"C3H7NO2\",\"label_x\":3310.0651245117188,\"label_y\":339.7982063293457,\"node_is_primary\":true},\"94\":{\"node_type\":\"metabolite\",\"x\":3338.1416625976562,\"y\":715.8662605285645,\"bigg_id\":\"[M]_Asp_c\",\"name\":\"C4H6NO4\",\"label_x\":3353.2651977539062,\"label_y\":691.3724250793457,\"node_is_primary\":true},\"95\":{\"node_type\":\"metabolite\",\"x\":2989.3306274414062,\"y\":719.0569038391113,\"bigg_id\":\"[M]_Pyr_c\",\"name\":\"C3H3O3\",\"label_x\":3000.7750854492188,\"label_y\":693.3531684875488,\"node_is_primary\":true},\"96\":{\"node_type\":\"multimarker\",\"x\":1133.9999389648438,\"y\":128.6665954589844},\"97\":{\"node_type\":\"midmarker\",\"x\":1113.9999389648438,\"y\":128.6665954589844},\"98\":{\"node_type\":\"multimarker\",\"x\":1093.9999389648438,\"y\":128.6665954589844},\"101\":{\"node_type\":\"metabolite\",\"x\":938.9999389648438,\"y\":128.66659545898443,\"bigg_id\":\"[M]_PEP_h\",\"name\":\"C3H2O6P\",\"label_x\":901.1999389648438,\"label_y\":168.66659545898443,\"node_is_primary\":true},\"104\":{\"node_type\":\"multimarker\",\"x\":2816.6066284179688,\"y\":842.0523262023926},\"105\":{\"node_type\":\"midmarker\",\"x\":1114.7053833007812,\"y\":842.0523262023926},\"106\":{\"node_type\":\"multimarker\",\"x\":1094.7053833007812,\"y\":842.0523262023926},\"109\":{\"node_type\":\"metabolite\",\"x\":939.7053833007812,\"y\":842.0523262023926,\"bigg_id\":\"[M]_Pyr_h\",\"name\":\"C3H3O3\",\"label_x\":890.6630126953125,\"label_y\":886.7859687805176,\"node_is_primary\":true},\"110\":{\"node_type\":\"multimarker\",\"x\":772.3787003872201,\"y\":500.5207926303535},\"111\":{\"node_type\":\"midmarker\",\"x\":772.3975830078125,\"y\":480.52080154418945},\"112\":{\"node_type\":\"multimarker\",\"x\":772.4164656284049,\"y\":460.5208104580254},\"174\":{\"node_type\":\"multimarker\",\"x\":1288.8482055664062,\"y\":1107.025592803955},\"175\":{\"node_type\":\"midmarker\",\"x\":1291.9885864257812,\"y\":1463.0464668273926},\"176\":{\"node_type\":\"multimarker\",\"x\":1291.9885864257812,\"y\":1483.0464668273926},\"177\":{\"node_type\":\"metabolite\",\"x\":1291.9885864257812,\"y\":1638.0464668273926,\"bigg_id\":\"[B]_Mal_c\",\"name\":\"C4H4O5\",\"label_x\":1169.7308959960938,\"label_y\":1640.6761054992676,\"node_is_primary\":true},\"178\":{\"node_type\":\"multimarker\",\"x\":2985.7622680664062,\"y\":1110.07857131958},\"179\":{\"node_type\":\"midmarker\",\"x\":2988.9026489257812,\"y\":1466.0994453430176},\"180\":{\"node_type\":\"multimarker\",\"x\":2988.9026489257812,\"y\":1486.0994453430176},\"181\":{\"node_type\":\"metabolite\",\"x\":2988.9026489257812,\"y\":1641.0994453430176,\"bigg_id\":\"[B]_Pyr_c\",\"name\":\"C3H3O3\",\"label_x\":2878.8265991210938,\"label_y\":1682.495807647705,\"node_is_primary\":true},\"182\":{\"node_type\":\"multimarker\",\"x\":3336.6189575195312,\"y\":1108.9669075012207},\"183\":{\"node_type\":\"midmarker\",\"x\":3339.7593383789062,\"y\":1464.9877815246582},\"184\":{\"node_type\":\"multimarker\",\"x\":3339.7593383789062,\"y\":1484.9877815246582},\"185\":{\"node_type\":\"metabolite\",\"x\":3339.7593383789062,\"y\":1639.9877815246582,\"bigg_id\":\"[B]_Asp_c\",\"name\":\"C4H6NO4\",\"label_x\":3345.0130004882812,\"label_y\":1683.7119026184082,\"node_is_primary\":true},\"186\":{\"node_type\":\"multimarker\",\"x\":3584.0829467773438,\"y\":1104.4651374816895},\"187\":{\"node_type\":\"midmarker\",\"x\":3587.2233276367188,\"y\":1460.486011505127},\"188\":{\"node_type\":\"multimarker\",\"x\":3587.2233276367188,\"y\":1480.486011505127},\"189\":{\"node_type\":\"metabolite\",\"x\":3587.2233276367188,\"y\":1635.486011505127,\"bigg_id\":\"[B]_Ala_c\",\"name\":\"C3H7NO2\",\"label_x\":3612.2233276367188,\"label_y\":1675.595630645752,\"node_is_primary\":true},\"230\":{\"node_type\":\"multimarker\",\"x\":2760.4410485212625,\"y\":1107.8901944322583},\"231\":{\"node_type\":\"midmarker\",\"x\":2763.362734164408,\"y\":1463.9098727300116},\"232\":{\"node_type\":\"multimarker\",\"x\":2763.1440389481786,\"y\":1483.9086770043273},\"233\":{\"node_type\":\"metabolite\",\"x\":2761.4491510224,\"y\":1638.899410130277,\"bigg_id\":\"[B]_PEP_c\",\"name\":\"C3H2O6P\",\"label_x\":2724.9795221161503,\"label_y\":1683.7076376693394,\"node_is_primary\":true},\"396\":{\"node_type\":\"multimarker\",\"x\":1446.9885864257812,\"y\":1638.0464668273926},\"397\":{\"node_type\":\"midmarker\",\"x\":1466.9885864257812,\"y\":1638.0464668273926},\"398\":{\"node_type\":\"multimarker\",\"x\":1486.9885864257812,\"y\":1638.0464668273926},\"402\":{\"node_type\":\"metabolite\",\"x\":1582.4837036132812,\"y\":1636.402057647705,\"bigg_id\":\"[B]_OAA_c\",\"name\":\"C4H2O5\",\"label_x\":1542.0540649414063,\"label_y\":1606.7176094055176,\"node_is_primary\":true},\"442\":{\"node_type\":\"multimarker\",\"x\":2403.4094848632812,\"y\":1636.402057647705},\"443\":{\"node_type\":\"midmarker\",\"x\":2423.4094848632812,\"y\":1636.402057647705},\"444\":{\"node_type\":\"multimarker\",\"x\":2443.4094848632812,\"y\":1636.402057647705},\"447\":{\"node_type\":\"metabolite\",\"x\":2479.2601928710938,\"y\":1474.2293281555176,\"bigg_id\":\"[B]_CO2_c\",\"name\":\"CO2\",\"label_x\":2503.5758422851563,\"label_y\":1451.1131172180176,\"node_is_primary\":true},\"449\":{\"node_type\":\"multimarker\",\"x\":3180.1638793945312,\"y\":1833.8238410949707},\"450\":{\"node_type\":\"midmarker\",\"x\":3180.1638793945312,\"y\":1813.8238410949707},\"451\":{\"node_type\":\"multimarker\",\"x\":3180.1638793945312,\"y\":1793.8238410949707},\"468\":{\"node_type\":\"metabolite\",\"x\":2557.254638671875,\"y\":2644.2354736328125,\"bigg_id\":\"[B]_Mal_h\",\"name\":\"C4H4O5\",\"label_x\":2581.18212890625,\"label_y\":2620.6953125,\"node_is_primary\":true},\"470\":{\"node_type\":\"metabolite\",\"x\":2990.5491943359375,\"y\":2644.2545166015625,\"bigg_id\":\"[B]_Pyr_h\",\"name\":\"C3H3O3\",\"label_x\":2963.0924072265625,\"label_y\":2695.6025390625,\"node_is_primary\":true},\"471\":{\"node_type\":\"multimarker\",\"x\":2769.9520263671875,\"y\":2648.5093994140625},\"472\":{\"node_type\":\"midmarker\",\"x\":2789.9520263671875,\"y\":2648.5093994140625},\"473\":{\"node_type\":\"multimarker\",\"x\":2809.9520263671875,\"y\":2648.5093994140625},\"474\":{\"node_type\":\"metabolite\",\"x\":2991.3847045898438,\"y\":2787.396728515625,\"bigg_id\":\"[B]_CO2_h\",\"name\":\"CO2\",\"label_x\":2964.9905639648437,\"label_y\":2845.26123046875,\"node_is_primary\":true},\"483\":{\"node_type\":\"metabolite\",\"x\":2407.30029296875,\"y\":2874.866943359375,\"bigg_id\":\"[B]_PGA_h\",\"name\":\"C3H4O7P\",\"label_x\":2271.1439697265623,\"label_y\":2881.5244140625,\"node_is_primary\":true},\"491\":{\"node_type\":\"metabolite\",\"x\":2989.6767578125,\"y\":3153.792236328125,\"bigg_id\":\"[B]_RuBP_h\",\"name\":\"C5H8O11P2\",\"label_x\":3022.277099609375,\"label_y\":3162.3876953125,\"node_is_primary\":true},\"517\":{\"node_type\":\"multimarker\",\"x\":2840.6141967773438,\"y\":2879.277587890625},\"518\":{\"node_type\":\"midmarker\",\"x\":2820.6141967773438,\"y\":2879.277587890625},\"519\":{\"node_type\":\"multimarker\",\"x\":2800.6141967773438,\"y\":2879.277587890625},\"538\":{\"node_type\":\"multimarker\",\"x\":2986.3092651367188,\"y\":2275.8533515930176},\"539\":{\"node_type\":\"midmarker\",\"x\":2986.3092651367188,\"y\":2295.8533515930176},\"540\":{\"node_type\":\"multimarker\",\"x\":2986.3092651367188,\"y\":2315.8533515930176},\"544\":{\"node_type\":\"multimarker\",\"x\":1437.9448852539062,\"y\":2295.60200881958},\"545\":{\"node_type\":\"midmarker\",\"x\":1435.1012573242188,\"y\":2296.454792022705},\"546\":{\"node_type\":\"multimarker\",\"x\":1436.9970092773438,\"y\":2297.3074531555176},\"547\":{\"node_type\":\"metabolite\",\"x\":1290.5658569335938,\"y\":2644.02339553833,\"bigg_id\":\"[B]_Mal_m\",\"name\":\"C4H4O5\",\"label_x\":1157.2743530273438,\"label_y\":2650.658405303955,\"node_is_primary\":true},\"549\":{\"node_type\":\"metabolite\",\"x\":1582.3945922851562,\"y\":2643.2093086242676,\"bigg_id\":\"[B]_OAA_m\",\"name\":\"C4H2O5\",\"label_x\":1611.3456420898438,\"label_y\":2652.3565254211426,\"node_is_primary\":true},\"550\":{\"node_type\":\"multimarker\",\"x\":1443.6730346679688,\"y\":2644.969928741455},\"551\":{\"node_type\":\"midmarker\",\"x\":1463.6730346679688,\"y\":2644.969928741455},\"552\":{\"node_type\":\"multimarker\",\"x\":1483.6730346679688,\"y\":2644.969928741455},\"558\":{\"node_type\":\"multimarker\",\"x\":1970.4468994140625,\"y\":2295.3272705078125},\"559\":{\"node_type\":\"midmarker\",\"x\":1990.4468994140625,\"y\":2295.3272705078125},\"560\":{\"node_type\":\"multimarker\",\"x\":2010.4468994140625,\"y\":2295.3272705078125},\"563\":{\"node_type\":\"metabolite\",\"x\":1818.0286865234375,\"y\":2644.4102783203125,\"bigg_id\":\"[B]_OAA_h\",\"name\":\"C4H2O5\",\"label_x\":1839.56943359375,\"label_y\":2618.6732177734375,\"node_is_primary\":true},\"564\":{\"node_type\":\"multimarker\",\"x\":2135.7994384765625,\"y\":2645.3541259765625},\"565\":{\"node_type\":\"midmarker\",\"x\":2155.7994384765625,\"y\":2645.3541259765625},\"566\":{\"node_type\":\"multimarker\",\"x\":2175.7994384765625,\"y\":2645.3541259765625},\"571\":{\"node_type\":\"multimarker\",\"x\":2182.87646484375,\"y\":2788.6236572265625},\"572\":{\"node_type\":\"midmarker\",\"x\":2162.87646484375,\"y\":2788.6236572265625},\"573\":{\"node_type\":\"multimarker\",\"x\":2142.87646484375,\"y\":2788.6236572265625},\"578\":{\"node_type\":\"multimarker\",\"x\":1564.0972089735876,\"y\":2817.3817224328563},\"579\":{\"node_type\":\"midmarker\",\"x\":1544.0982055664062,\"y\":2817.5813789367676},\"580\":{\"node_type\":\"multimarker\",\"x\":1524.099202159225,\"y\":2817.781035440679},\"581\":{\"node_type\":\"metabolite\",\"x\":1585.8931274414062,\"y\":3365.1145820617676,\"bigg_id\":\"[B]_Ala_m\",\"name\":\"C3H7NO2\",\"label_x\":1612.2485961914062,\"label_y\":3370.6297187805176,\"node_is_primary\":true},\"582\":{\"node_type\":\"metabolite\",\"x\":1495.1290893554688,\"y\":3367.6228828430176,\"bigg_id\":\"[B]_Asp_m\",\"name\":\"C4H6NO4\",\"label_x\":1360.6655883789062,\"label_y\":3373.2732734680176,\"node_is_primary\":true},\"584\":{\"node_type\":\"multimarker\",\"x\":1290.5658569335938,\"y\":2799.02339553833},\"585\":{\"node_type\":\"midmarker\",\"x\":1290.5658569335938,\"y\":2819.02339553833},\"586\":{\"node_type\":\"multimarker\",\"x\":1290.5658569335938,\"y\":2839.02339553833},\"587\":{\"node_type\":\"metabolite\",\"x\":1290.5658569335938,\"y\":2994.02339553833,\"bigg_id\":\"[B]_CO2_m\",\"name\":\"CO2\",\"label_x\":1306.0503540039062,\"label_y\":3052.37398147583,\"node_is_primary\":true},\"590\":{\"node_type\":\"metabolite\",\"x\":1401.4198608398438,\"y\":2818.55171585083,\"bigg_id\":\"[B]_Pyr_m\",\"name\":\"C3H3O3\",\"label_x\":1345.5322875976562,\"label_y\":2859.22456741333,\"node_is_primary\":true},\"591\":{\"node_type\":\"multimarker\",\"x\":1046.1943089173585,\"y\":1472.9092479875703},\"592\":{\"node_type\":\"midmarker\",\"x\":1049.3782348632812,\"y\":2996.947956085205},\"593\":{\"node_type\":\"multimarker\",\"x\":1069.3779567076415,\"y\":2997.0534366437773},\"595\":{\"node_type\":\"multimarker\",\"x\":3098.3270874023438,\"y\":1478.5565185546875},\"596\":{\"node_type\":\"midmarker\",\"x\":3093.0409545898438,\"y\":2785.986328125},\"597\":{\"node_type\":\"multimarker\",\"x\":3073.0409545898438,\"y\":2785.986328125},\"684\":{\"node_type\":\"multimarker\",\"x\":653.9961395263672,\"y\":3648.4940185546875},\"728\":{\"node_type\":\"multimarker\",\"x\":1493.7348022460938,\"y\":3854.6458320617676},\"729\":{\"node_type\":\"midmarker\",\"x\":1493.7348022460938,\"y\":3874.6458320617676},\"730\":{\"node_type\":\"multimarker\",\"x\":3337.0399780273438,\"y\":3869.5474433898926},\"732\":{\"node_type\":\"multimarker\",\"x\":3586.7577514648438,\"y\":3825.2095527648926},\"733\":{\"node_type\":\"midmarker\",\"x\":1590.0761108398438,\"y\":3826.1245918273926},\"734\":{\"node_type\":\"multimarker\",\"x\":1590.0761108398438,\"y\":3806.1245918273926},\"742\":{\"node_type\":\"multimarker\",\"x\":2848.652031881775,\"y\":1638.899410130277},\"743\":{\"node_type\":\"midmarker\",\"x\":2868.652031881775,\"y\":1638.899410130277},\"744\":{\"node_type\":\"multimarker\",\"x\":2888.652031881775,\"y\":1638.899410130277}},\"text_labels\":{},\"canvas\":{\"x\":-1559,\"y\":-1379,\"width\":6207.264892578125,\"height\":6713.53173828125}}]'),\n",
       "               model_data: JSON.parse('null'),\n",
       "               static_site_index: JSON.parse('null'),\n",
       "           };\n",
       "       }\n",
       "   })();\n",
       "  </script>\n"
      ],
      "text/plain": [
       "<IPython.core.display.HTML object>"
      ]
     },
     "metadata": {},
     "output_type": "display_data"
    }
   ],
   "source": [
    "#Display snippet of the flux distribution using Escher map\n",
    "for exp, exp_name in D_exp.items():\n",
    "    display(HTML('<h1>%s</h1>' %exp_name))\n",
    "    b = Builder(map_json='../data/2018-06-29-mb-C4-Map-Decarb-Enzymes.json',reaction_data=D_pfba[exp].to_dict())\n",
    "    display(b.display_in_notebook(height=1000))"
   ]
  }
 ],
 "metadata": {
  "anaconda-cloud": {},
  "kernelspec": {
   "display_name": "Brautigam_C4_model",
   "language": "python",
   "name": "brautigam_c4_model"
  },
  "language_info": {
   "codemirror_mode": {
    "name": "ipython",
    "version": 2
   },
   "file_extension": ".py",
   "mimetype": "text/x-python",
   "name": "python",
   "nbconvert_exporter": "python",
   "pygments_lexer": "ipython2",
   "version": "2.7.17"
  },
  "latex_envs": {
   "LaTeX_envs_menu_present": true,
   "autoclose": false,
   "autocomplete": true,
   "bibliofile": "biblio.bib",
   "cite_by": "apalike",
   "current_citInitial": 1,
   "eqLabelWithNumbers": true,
   "eqNumInitial": 1,
   "hotkeys": {
    "equation": "Ctrl-E",
    "itemize": "Ctrl-I"
   },
   "labels_anchors": false,
   "latex_user_defs": false,
   "report_style_numbering": false,
   "user_envs_cfg": false
  }
 },
 "nbformat": 4,
 "nbformat_minor": 1
}
