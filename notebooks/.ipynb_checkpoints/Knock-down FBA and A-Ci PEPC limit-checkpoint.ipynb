{
 "cells": [
  {
   "cell_type": "markdown",
   "metadata": {},
   "source": [
    "# Knock-down FBA and A-Ci "
   ]
  },
  {
   "cell_type": "markdown",
   "metadata": {},
   "source": [
    "#### Adapated from Blätke and Bräutigam (2019)"
   ]
  },
  {
   "cell_type": "markdown",
   "metadata": {},
   "source": [
    "## 0. Initialization"
   ]
  },
  {
   "cell_type": "code",
   "execution_count": 32,
   "metadata": {},
   "outputs": [
    {
     "data": {
      "text/html": [
       "        <script type=\"text/javascript\">\n",
       "        window.PlotlyConfig = {MathJaxConfig: 'local'};\n",
       "        if (window.MathJax) {MathJax.Hub.Config({SVG: {font: \"STIX-Web\"}});}\n",
       "        if (typeof require !== 'undefined') {\n",
       "        require.undef(\"plotly\");\n",
       "        requirejs.config({\n",
       "            paths: {\n",
       "                'plotly': ['https://cdn.plot.ly/plotly-latest.min']\n",
       "            }\n",
       "        });\n",
       "        require(['plotly'], function(Plotly) {\n",
       "            window._Plotly = Plotly;\n",
       "        });\n",
       "        }\n",
       "        </script>\n",
       "        "
      ]
     },
     "metadata": {},
     "output_type": "display_data"
    }
   ],
   "source": [
    "#Import sys\n",
    "import sys \n",
    "sys.path.append(\"../src/\") \n",
    "\n",
    "#Import init for initialisation & loading user-defined functions\n",
    "from init_fba import *\n",
    "\n",
    "#Initialize notebook settings\n",
    "theNotebook = 'Knock_down_FBA_and_ACi'\n",
    "init_notebook(theNotebook)\n",
    "\n",
    "#load sbml model\n",
    "c3_model = load_sbml_model()\n"
   ]
  },
  {
   "cell_type": "markdown",
   "metadata": {},
   "source": [
    "## 1. C3 Model"
   ]
  },
  {
   "cell_type": "markdown",
   "metadata": {},
   "source": [
    "## 1.1 Constraints"
   ]
  },
  {
   "cell_type": "code",
   "execution_count": 33,
   "metadata": {},
   "outputs": [],
   "source": [
    "#CONSTRAINT: Set flux of all export reaction to zero\n",
    "for r_obj in c3_model.reactions:\n",
    "    r_id = r_obj.id\n",
    "    if r_id[0:2] == \"Ex\":\n",
    "        r_obj.bounds = (0.,0.)\n",
    "\n",
    "#CONSTRAINT: Divergent fluxes of export and import reactions\n",
    "set_bounds('Im_CO2', (-inf, inf), c3_model)\n",
    "set_bounds('Im_H2O', (-inf, inf), c3_model)\n",
    "set_bounds('Im_H2S', (0.,0.), c3_model)\n",
    "set_bounds('Im_NH4', (0., 0.), c3_model)\n",
    "set_bounds('Im_NO3', (0., inf), c3_model)\n",
    "set_bounds('Im_Pi', (0., inf), c3_model)\n",
    "set_bounds('Im_SO4', (0., inf), c3_model)\n",
    "set_bounds('Ex_O2', (-inf, inf), c3_model)\n",
    "set_bounds('Ex_Suc', (0., inf), c3_model)\n",
    "set_bounds('Ex_starch', (0., inf), c3_model)\n",
    "set_bounds('Ex_AA', (0., inf), c3_model)\n",
    "\n",
    "#CONSTRAINT: \n",
    "set_bounds('G6PDH_h', (0.,0.), c3_model)\n",
    "set_bounds('PPIF6PK_c', (0,0.), c3_model)\n",
    "\n",
    "#CONSTRAINT: max. photon consumption auf C4 plants 1000 μE\n",
    "set_bounds('Im_hnu', (0, 1000), c3_model)\n"
   ]
  },
  {
   "cell_type": "code",
   "execution_count": 34,
   "metadata": {},
   "outputs": [],
   "source": [
    "#CONSTRAINT: Maintenace cost\n",
    "\n",
    "atp_cost_L3_m = 0.009111187245501572 #Mitochondria-L3-ATP Cost [µmol*s-1*m-2]\n",
    "atp_cost_L3_h = 0.15270708327974447 #Chloroplast-L3-ATP Cost [µmol*s-1*m-2]\n",
    "atp_cost_L3_p = 0.0076669066992201855 #Peroxisome-L3-ATP Cost [µmol*s-1*m-2]\n",
    "atp_cost_L3_c = 0.042683072918274702 #Cytosl/Other-L3-ATP Cost [µmol*s-1*m-2]\n",
    "\n",
    "set_fixed_flux('NGAM_c',atp_cost_L3_c + atp_cost_L3_p, c3_model)\n",
    "set_fixed_flux('NGAM_m',atp_cost_L3_m, c3_model)\n",
    "set_fixed_flux('NGAM_h',atp_cost_L3_h, c3_model)"
   ]
  },
  {
   "cell_type": "code",
   "execution_count": 35,
   "metadata": {},
   "outputs": [],
   "source": [
    "#CONSTRAINT: fluxes through the chloroplastic NADPH dehydrogenase and plastoquinol oxidase were set to zero \n",
    "#because the contributions of NADPH dehydrogenase (Yamamoto et al., 2011) and plastoquinol oxidase \n",
    "#(Josse et al., 2000) to photosynthesis are thought to be minor.\n",
    "set_bounds('AOX4_h',(0,0), c3_model)\n",
    "set_bounds('iCitDHNADP_h',(0,0), c3_model)"
   ]
  },
  {
   "cell_type": "code",
   "execution_count": 36,
   "metadata": {},
   "outputs": [],
   "source": [
    "#CONSTRAINT: NTT is only active at night\n",
    "set_fixed_flux('Tr_NTT',0, c3_model)"
   ]
  },
  {
   "cell_type": "code",
   "execution_count": 37,
   "metadata": {},
   "outputs": [],
   "source": [
    "#CONSTRAINT: No uncoupled pyruvate transport\n",
    "set_bounds('Tr_Pyr1',(0,0), c3_model)\n",
    "set_bounds('Tr_Pyr2',(0,0), c3_model)"
   ]
  },
  {
   "cell_type": "code",
   "execution_count": 38,
   "metadata": {},
   "outputs": [],
   "source": [
    "#REMOVE: Pyr_H_hc transporter\n",
    "    #Setaria uses Na+-coupled Pyr_Na_hc instead\n",
    "set_bounds('Tr_Pyr_H_hc',(0,0),c3_model)"
   ]
  },
  {
   "cell_type": "code",
   "execution_count": 39,
   "metadata": {},
   "outputs": [],
   "source": [
    "#REMOVE: Ala2 transporter (transports Ala freely between cytosol and chloroplast)\n",
    "    #Alanine diffuses only poorly across chloroplast membrane, like pyruvate\n",
    "set_bounds('Tr_Ala2',(0,0), c3_model)"
   ]
  },
  {
   "cell_type": "code",
   "execution_count": 40,
   "metadata": {},
   "outputs": [],
   "source": [
    "#REMOVE: Glu2 transporter (transports Glutamate freely between cytosol and chloroplast)\n",
    "    #Only known glutumate transporters are DiTs\n",
    "set_bounds('Tr_Glu2',(0,0), c3_model)"
   ]
  },
  {
   "cell_type": "code",
   "execution_count": 41,
   "metadata": {},
   "outputs": [],
   "source": [
    "#REMOVE: P5C1 transporter (transports pyrroline-5-carboxylate freely between cytosol and chloroplast)\n",
    "    #No evidence for this transporter in any species in literature\n",
    "set_bounds('Tr_P5C1',(0,0), c3_model)"
   ]
  },
  {
   "cell_type": "code",
   "execution_count": 42,
   "metadata": {},
   "outputs": [],
   "source": [
    "#CONSTAINT: set Rubisco Vmax at 45.74 (calculated from A-Ci curve)\n",
    "set_bounds('RBC_h',(0,45.74),c3_model)"
   ]
  },
  {
   "cell_type": "code",
   "execution_count": 43,
   "metadata": {},
   "outputs": [],
   "source": [
    "#CONSTRAINT: set PEPC Vmax at 128.13 (calculated from A-Ci curve)\n",
    "set_bounds('PEPC2_c',(-128.13,0),c3_model)"
   ]
  },
  {
   "cell_type": "code",
   "execution_count": 44,
   "metadata": {},
   "outputs": [],
   "source": [
    "#CONSTRAINT: set NAD-ME and PCK fluxes to 0\n",
    "set_bounds('PEPC1_c',(0,0),c3_model)\n",
    "set_bounds('MalDH2_m',(0,0),c3_model)"
   ]
  },
  {
   "cell_type": "markdown",
   "metadata": {},
   "source": [
    "# 2. C4 Model"
   ]
  },
  {
   "cell_type": "markdown",
   "metadata": {},
   "source": [
    "## 2.1 Compose Model"
   ]
  },
  {
   "cell_type": "markdown",
   "metadata": {},
   "source": [
    "### 2.1.1 Two copies of genC3 model and exchange reactions"
   ]
  },
  {
   "cell_type": "code",
   "execution_count": 45,
   "metadata": {},
   "outputs": [],
   "source": [
    "c4_model = cobra.Model('c4_model')\n",
    "\n",
    "cell_types = ['M', 'B']\n",
    "\n",
    "#duplicate metabolites\n",
    "for m in c3_model.metabolites:\n",
    "    for cell in cell_types:\n",
    "        m_dt = cobra.Metabolite('['+cell+']_'+m.id, name = m.formula, compartment = m.compartment)\n",
    "        c4_model.add_metabolites([m_dt])\n",
    "\n",
    "#duplicate reactions\n",
    "for r_c3_obj in c3_model.reactions:\n",
    "    for cell in cell_types:\n",
    "        r_c4_obj = cobra.Reaction('['+cell+']_'+r_c3_obj.id)\n",
    "        r_c4_obj.name = r_c3_obj.name\n",
    "        r_c4_obj.subsystem = r_c3_obj.subsystem\n",
    "        r_c4_obj.bounds = r_c3_obj.bounds\n",
    "        c4_model.add_reaction(r_c4_obj)\n",
    "        r_c4_obj.add_metabolites({'['+cell+']_'+m_c3_obj.id: r_c3_obj.get_coefficient(m_c3_obj) for m_c3_obj in r_c3_obj.metabolites})\n",
    "        \n",
    "        \n",
    "#metabolites excluded from M/BS exchange\n",
    "no_transport = ['NO3','NO2', 'O2','Na', 'H2S', 'SO4',\n",
    "                'H2O','FBP','F26BP','DPGA','H','ACD','AC','M_DASH_THF', '5M_DASH_THF', 'H_DASH_Cys', 'aH_DASH_Cys', 'ORO', 'DHO',\n",
    "                'GABA','A_DASH_Ser','PRPP','AD','THF','DHF','ADN','Mas','CoA','GluP',\n",
    "                'A_DASH_CoA','cellulose1','cellulose2','cellulose3','starch1',\n",
    "                'starch2','starch3','TRXox','TRXrd','Glu_DASH_SeA','T6P','aMet',\n",
    "                'PPi', 'P5C', 'NH4', 'Pi', 'CO2', 'OAA','HCO3', \n",
    "                'UTP', 'UDP', 'UDPG', 'ATP', 'ADP', 'AMP', 'IMP', 'XMP', \n",
    "                'GTP', 'GDP', 'GMP', 'OMP', 'UMP', 'CTP', 'GDP', 'CDP', 'dADP', \n",
    "                'dCDP', 'dGDP', 'dUDP', 'dUTP', 'dUMP', 'dTMP', 'dTDP', 'GTP', \n",
    "                'dATP', 'dCTP', 'dGTP', 'dTTP', 'NAD', 'NADH', 'NADP', 'NADPH']\n",
    "\n",
    "#add M/BS exchange reactions\n",
    "L_r_transport = []\n",
    "for m_c3_obj in c3_model.metabolites:\n",
    "    if m_c3_obj.id[-1:] == 'c' and m_c3_obj.id[:-2] not in no_transport:\n",
    "        r_c4_obj = cobra.Reaction('[MB]_'+m_c3_obj.id)\n",
    "        r_c4_obj.name = '[MB]_'+m_c3_obj.id\n",
    "        r_c4_obj.subsystem = 'Exchange'\n",
    "        r_c4_obj.bounds = (-inf, inf)\n",
    "        c4_model.add_reaction(r_c4_obj)\n",
    "        r_c4_obj.add_metabolites({'[M]_'+m_c3_obj.id: -1,'[B]_'+m_c3_obj.id: 1 })\n",
    "        L_r_transport.append('[MB]_'+m_c3_obj.id)"
   ]
  },
  {
   "cell_type": "markdown",
   "metadata": {},
   "source": [
    "### 2.1.2 Adaptations for second unconctrained rubisco population in the bundle sheath"
   ]
  },
  {
   "cell_type": "code",
   "execution_count": 46,
   "metadata": {},
   "outputs": [
    {
     "data": {
      "text/plain": [
       "\"\\n#CONSTRAINT: CO2 exchange between mesophyll and bundle sheat\\nr_c4_obj = cobra.Reaction('[MB]_CO2_c')\\nr_c4_obj.name = '[MB]_CO2_c'\\nr_c4_obj.subsystem = 'Exchange'\\nr_c4_obj.bounds = (-inf, inf)\\nc4_model.add_reaction(r_c4_obj)\\nr_c4_obj.add_metabolites({'[M]_CO2_c': -1,'[B]_CO2_ex_c': 1 })\\nL_r_transport.append('[MB]_CO2_c')\\n\""
      ]
     },
     "execution_count": 46,
     "metadata": {},
     "output_type": "execute_result"
    }
   ],
   "source": [
    "\n",
    "#CONSTRAINT: Add external CO2 species to bundle sheath\n",
    "#(the original CO2 species is treated as internal CO2)\n",
    "m_list_CO_Ex= ['[B]_CO2_ex_c','[B]_CO2_ex_h']\n",
    "\n",
    "for m_id in m_list_CO_Ex:\n",
    "    m_obj = cobra.Metabolite(m_id)\n",
    "    c4_model.add_metabolites(m_obj)\n",
    "\n",
    "#CONSTRAINT: Copy reactions 'Tr_CO2h', 'RBC_h' and replace internal CO2 with external CO2 in the copied reactions \n",
    "r_list_CO_Ex = ['Tr_CO2h', 'RBC_h']\n",
    "\n",
    "for r_id in r_list_CO_Ex:\n",
    "    r_obj = c4_model.reactions.get_by_id('[B]_'+r_id)\n",
    "    r_obj_Ex = cobra.Reaction(r_obj.id+'_Ex')\n",
    "    r_obj_Ex.name = r_obj.id+'_Ex'\n",
    "    r_obj_Ex.subsystem = r_obj.subsystem\n",
    "    r_obj_Ex.bounds = r_obj.bounds\n",
    "    c4_model.add_reaction(r_obj_Ex)\n",
    "    r_obj_Ex.add_metabolites({m_obj.id if not m_obj.id[:-2] == '[B]_CO2' else '[B]_CO2_ex'+m_obj.id[-2:]: r_obj.get_coefficient(m_obj) \n",
    "                                  for m_obj in r_obj.metabolites})\n",
    "\n",
    "#Remove CO2 diffusion from M to BS by commenting out below section\n",
    "'''\n",
    "#CONSTRAINT: CO2 exchange between mesophyll and bundle sheat\n",
    "r_c4_obj = cobra.Reaction('[MB]_CO2_c')\n",
    "r_c4_obj.name = '[MB]_CO2_c'\n",
    "r_c4_obj.subsystem = 'Exchange'\n",
    "r_c4_obj.bounds = (-inf, inf)\n",
    "c4_model.add_reaction(r_c4_obj)\n",
    "r_c4_obj.add_metabolites({'[M]_CO2_c': -1,'[B]_CO2_ex_c': 1 })\n",
    "L_r_transport.append('[MB]_CO2_c')\n",
    "'''\n"
   ]
  },
  {
   "cell_type": "markdown",
   "metadata": {},
   "source": [
    "## 2.3 Constraints"
   ]
  },
  {
   "cell_type": "code",
   "execution_count": 47,
   "metadata": {},
   "outputs": [],
   "source": [
    "#CONSTRAINT: No CO2 uptake in bundle sheat cells due to suberin layer in cell membranes\n",
    "set_fixed_flux('[B]_Im_CO2',0, c4_model)"
   ]
  },
  {
   "cell_type": "code",
   "execution_count": 48,
   "metadata": {},
   "outputs": [
    {
     "data": {
      "text/plain": [
       "<optlang.glpk_interface.Constraint at 0x1100c5550>"
      ]
     },
     "execution_count": 48,
     "metadata": {},
     "output_type": "execute_result"
    }
   ],
   "source": [
    "#CONSTRAINT: Output of sucrose : total amino acid and sucrose : starch\n",
    "set_fixed_flux_ratio({'[B]_Ex_Suc':2.2,'[B]_Ex_AA':1.0}, c4_model)\n",
    "set_fixed_flux_ratio({'[B]_Ex_Suc':1.0,'[B]_Ex_starch':1.0}, c4_model)\n",
    "\n",
    "set_fixed_flux_ratio({'[M]_Ex_Suc':2.2,'[M]_Ex_AA':1.0}, c4_model)\n",
    "set_fixed_flux_ratio({'[M]_Ex_Suc':1.0,'[M]_Ex_starch':1.0}, c4_model)"
   ]
  },
  {
   "cell_type": "code",
   "execution_count": 49,
   "metadata": {},
   "outputs": [],
   "source": [
    "#Reaction variables for light uptake\n",
    "B_Im_hnu = c4_model.reactions.get_by_id(\"[B]_Im_hnu\")\n",
    "M_Im_hnu = c4_model.reactions.get_by_id(\"[M]_Im_hnu\")\n",
    "\n",
    "#CONSTRAINT: Total Photon uptake limited to 1000 µE\n",
    "const_hnu_sum = c4_model.problem.Constraint( B_Im_hnu.flux_expression + M_Im_hnu.flux_expression,\n",
    "                                        lb = 0, ub = 1000)\n",
    "\n",
    "c4_model.add_cons_vars(const_hnu_sum)\n",
    "\n",
    "#CONSTRAINT: Total Photon uptake by bundle sheath must be less equal than in mesophyll\n",
    "const_hnu_ratio = c4_model.problem.Constraint( M_Im_hnu.flux_expression - B_Im_hnu.flux_expression,\n",
    "                                        lb = 0, ub = 1000)\n",
    "\n",
    "c4_model.add_cons_vars(const_hnu_ratio)"
   ]
  },
  {
   "cell_type": "code",
   "execution_count": 50,
   "metadata": {},
   "outputs": [
    {
     "data": {
      "text/plain": [
       "<optlang.glpk_interface.Constraint at 0x127687c50>"
      ]
     },
     "execution_count": 50,
     "metadata": {},
     "output_type": "execute_result"
    }
   ],
   "source": [
    "#CONSTRAINT: oxygenation : carboxylation = 1 : 3\n",
    "set_fixed_flux_ratio({'[B]_RBC_h_Ex':3,'[B]_RBO_h':1},c4_model)\n",
    "set_fixed_flux_ratio({'[M]_RBC_h':3,'[M]_RBO_h':1},c4_model)"
   ]
  },
  {
   "cell_type": "code",
   "execution_count": 51,
   "metadata": {},
   "outputs": [],
   "source": [
    "#MY ADDITION - Change: Pyr_Na_hc transporter\n",
    "    # = BASS2 - restricted to M cell and only runs in pyruvate import direction\n",
    "set_bounds('[B]_Tr_Pyr_Na_hc',(0,0),c4_model)\n",
    "set_bounds('[M]_Tr_Pyr_Na_hc',(0,inf),c4_model)"
   ]
  },
  {
   "cell_type": "code",
   "execution_count": 52,
   "metadata": {},
   "outputs": [],
   "source": [
    "#MY ADDITION - Change: Rubisco\n",
    "    #Rubisco restricted to BS cell in C4 plants\n",
    "set_bounds('[M]_RBC_h',(0,0),c4_model)\n",
    "set_bounds('[M]_RBO_h',(0,0),c4_model)"
   ]
  },
  {
   "cell_type": "code",
   "execution_count": 53,
   "metadata": {},
   "outputs": [],
   "source": [
    "#MY ADDITION - Change: PSII\n",
    "    #PSII restricted to M cell in C4 plants\n",
    "set_bounds('[B]_PSII_h',(0,0),c4_model)"
   ]
  },
  {
   "cell_type": "code",
   "execution_count": 54,
   "metadata": {},
   "outputs": [],
   "source": [
    "#MY ADDITION - Change: Pyr_Mal_hc transporter\n",
    "    # = MPA1 - restricted to BS cell\n",
    "set_bounds('[M]_Tr_Pyr_Mal_hc',(0,0),c4_model)"
   ]
  },
  {
   "cell_type": "code",
   "execution_count": 55,
   "metadata": {},
   "outputs": [],
   "source": [
    "#MY ADDITION - Constaint- No O2 uptake in bundle sheat cells due to suberin layer in cell membranes\n",
    "set_fixed_flux('[B]_Ex_O2',0, c4_model)"
   ]
  },
  {
   "cell_type": "markdown",
   "metadata": {},
   "source": [
    "## 3.FBA"
   ]
  },
  {
   "cell_type": "code",
   "execution_count": 56,
   "metadata": {},
   "outputs": [],
   "source": [
    "#Reaction to be knocked down\n",
    "D_reactions = {'[B]_Tr_Pyr_Mal_hc':'MPA1'}\n",
    "\n",
    "#Define flux levels of reaction being knocked down, here for wild-type and RNAi plants:\n",
    "D_exp = {inf:'wild-type',23.97492535:'RNAi'}\n",
    "\n",
    "#Define Im_CO2 levels:\n",
    "CO2_levels = [0,10,20,30,40,50,60,70,80,90,100,150,200]\n",
    "\n",
    "#Set FBA solver\n",
    "c4_model.solver = \"glpk\"\n",
    "\n",
    "#Initialize dictionaries to store results\n",
    "D_fba = {}\n",
    "D_pfba = {}\n",
    "\n",
    "#Reaction Variables\n",
    "B_Ex_Suc = c4_model.reactions.get_by_id(\"[B]_Ex_Suc\")\n",
    "B_RBO = c4_model.reactions.get_by_id(\"[B]_RBO_h\")\n",
    "M_RBO = c4_model.reactions.get_by_id(\"[M]_RBO_h\")\n",
    "           \n",
    "for reaction, reaction_name in D_reactions.items():\n",
    "    \n",
    "    for CO2_level in CO2_levels:\n",
    "        \n",
    "        #Set maximum CO2 import level\n",
    "        set_bounds('[M]_HCO3DHA_c', (0,CO2_level), c4_model)\n",
    "        \n",
    "        #Run every FBA experiment\n",
    "        for exp, exp_name in D_exp.items():\n",
    "\n",
    "            #Set bounds of reaction\n",
    "            set_bounds(reaction, (-exp,exp), c4_model)               \n",
    "\n",
    "            #Optimize/Maximize sucrose output\n",
    "            B_Ex_Suc.objective_coefficient = 1.\n",
    "            c4_model_copy = c4_model.copy()\n",
    "            result_fba = c4_model_copy.optimize('maximize')\n",
    "            del c4_model_copy\n",
    "            c4_model.objective =[]\n",
    "            set_fixed_flux(B_Ex_Suc.id,result_fba.fluxes[B_Ex_Suc.id], c4_model)\n",
    "\n",
    "            #Optimize/Minimize oxygenation rate by rubisco (set True)\n",
    "            if True:\n",
    "                    B_RBO.objective_coefficient = 1.\n",
    "                    M_RBO.objective_coefficient = 1.\n",
    "                    c4_model_copy = c4_model.copy()\n",
    "                    result_fba = c4_model_copy.optimize('minimize')\n",
    "                    del c4_model_copy\n",
    "                    c4_model.objective =[]\n",
    "                    set_fixed_flux(B_RBO.id,result_fba.fluxes[B_RBO.id],c4_model)            \n",
    "                    set_fixed_flux(M_RBO.id,result_fba.fluxes[M_RBO.id],c4_model)    \n",
    "\n",
    "            D_fba[reaction_name+':'+str(exp)+'_CO2:'+str(CO2_level)] = result_fba.fluxes            #store FBA results\n",
    "\n",
    "            #Optimize/Minimize total flux (set True)\n",
    "            if True: \n",
    "                if result_fba.status == 'optimal':\n",
    "                    c4_model_copy = c4_model.copy()\n",
    "                    #perform pFBA\n",
    "                    result_pfba = cobra.flux_analysis.parsimonious.pfba(c4_model_copy)\n",
    "                    D_pfba[reaction_name+':'+str(exp)+'_CO2:'+str(CO2_level)] = result_pfba.fluxes     \n",
    "                    D_pfba[reaction_name+':'+str(exp)+'_CO2:'+str(CO2_level)]= D_pfba[reaction_name+':'+str(exp)+'_CO2:'+str(CO2_level)].set_value('total',result_pfba.f)\n",
    "                    del c4_model_copy                \n",
    "\n",
    "            #Reset reaction bounds\n",
    "            set_bounds(B_RBO.id,(0,inf),c4_model)\n",
    "            set_bounds(M_RBO.id,(0,0),c4_model)\n",
    "            set_bounds(B_Ex_Suc.id,(0,inf),c4_model)  "
   ]
  },
  {
   "cell_type": "code",
   "execution_count": null,
   "metadata": {},
   "outputs": [],
   "source": []
  },
  {
   "cell_type": "code",
   "execution_count": 57,
   "metadata": {},
   "outputs": [],
   "source": [
    "#save_fba_to_excel(c3_model, c4_model, D_pfba, D_exp, theNotebook)\n",
    "\n",
    "save_fba_to_excel_multiple_experiments(c3_model, c4_model, D_pfba, D_reactions, D_exp, CO2_levels, theNotebook)"
   ]
  },
  {
   "cell_type": "code",
   "execution_count": null,
   "metadata": {},
   "outputs": [],
   "source": []
  },
  {
   "cell_type": "code",
   "execution_count": null,
   "metadata": {},
   "outputs": [],
   "source": []
  },
  {
   "cell_type": "code",
   "execution_count": null,
   "metadata": {},
   "outputs": [],
   "source": []
  },
  {
   "cell_type": "markdown",
   "metadata": {},
   "source": [
    "## 4. Figures"
   ]
  },
  {
   "cell_type": "code",
   "execution_count": 59,
   "metadata": {},
   "outputs": [
    {
     "name": "stderr",
     "output_type": "stream",
     "text": [
      "/Users/olivermattinson/miniconda3/envs/Brautigam_C4_model/lib/python2.7/site-packages/ipykernel_launcher.py:8: RuntimeWarning:\n",
      "\n",
      "invalid value encountered in log\n",
      "\n"
     ]
    },
    {
     "data": {
      "application/vnd.plotly.v1+json": {
       "config": {
        "linkText": "Export to plot.ly",
        "plotlyServerURL": "https://plot.ly",
        "responsive": true,
        "showLink": false
       },
       "data": [
        {
         "name": "23",
         "type": "scatter",
         "uid": "99da158f-2087-4523-99c4-9115d18e65b5",
         "x": [
          -2.588802136241533,
          29.44720306032969,
          65.82977977361962,
          107.92633650721812,
          157.87219907727842,
          219.28110340498063,
          299.0323932948908,
          412.98555115585737,
          614.9478632681206,
          null,
          null,
          null,
          null
         ],
         "y": [
          0,
          10.043764057686104,
          20.08752811533957,
          24.343861378433648,
          24.343861378433648,
          24.343861378433648,
          24.343861378433648,
          24.343861378433648,
          24.343861378433648,
          24.343861378433648,
          24.343861378433648,
          24.343861378433648,
          24.343861378433648
         ]
        },
        {
         "name": "Unlimited",
         "type": "scatter",
         "uid": "7e0ca349-7760-48e0-8e09-3676ad334123",
         "x": [
          -2.588802136241533,
          29.44720306032969,
          65.82977977361962,
          107.92633650721812,
          157.87219907727842,
          219.28110340498063,
          299.0323932948908,
          412.98555115585737,
          614.9478632681206,
          null,
          null,
          null,
          null
         ],
         "y": [
          0,
          10.043764057686104,
          20.087528115350413,
          30.131292173018,
          40.17505623065844,
          45.74000000017371,
          45.74000000017371,
          45.74000000017371,
          45.74000000017371,
          45.74000000017371,
          45.74000000017371,
          45.74000000017371,
          45.74000000017371
         ]
        }
       ],
       "layout": {
        "annotations": [
         {
          "showarrow": false,
          "text": "<b>Max flux through MPA1 (umol/m2/s)</b>",
          "x": 115,
          "y": 50
         }
        ],
        "legend": {
         "bgcolor": "#E2E2E2",
         "x": 0.07,
         "y": 0.93
        },
        "showlegend": true,
        "title": {
         "text": "<b> A-Ci curve for reduced flux through MPA1 </b>"
        },
        "xaxis": {
         "title": {
          "text": "Ci (umol/m2/s)"
         }
        },
        "yaxis": {
         "title": {
          "text": "Rubisco carboxylation rate (umol/m2/s)"
         }
        }
       }
      },
      "text/html": [
       "<div>\n",
       "        \n",
       "        \n",
       "            <div id=\"d67e6a2f-9398-4781-990c-c1ba54f49a7d\" class=\"plotly-graph-div\"></div>\n",
       "            <script type=\"text/javascript\">\n",
       "                require([\"plotly\"], function(Plotly) {\n",
       "                    window.PLOTLYENV=window.PLOTLYENV || {};\n",
       "                    window.PLOTLYENV.BASE_URL='https://plot.ly';\n",
       "                    \n",
       "                if (document.getElementById(\"d67e6a2f-9398-4781-990c-c1ba54f49a7d\")) {\n",
       "                    Plotly.newPlot(\n",
       "                        'd67e6a2f-9398-4781-990c-c1ba54f49a7d',\n",
       "                        [{\"name\": \"23\", \"type\": \"scatter\", \"uid\": \"5ca9ddad-40d7-4386-a983-ebedd5bd3eab\", \"x\": [-2.588802136241533, 29.44720306032969, 65.82977977361962, 107.92633650721812, 157.87219907727842, 219.28110340498063, 299.0323932948908, 412.98555115585737, 614.9478632681206, null, null, null, null], \"y\": [0.0, 10.043764057686104, 20.08752811533957, 24.343861378433648, 24.343861378433648, 24.343861378433648, 24.343861378433648, 24.343861378433648, 24.343861378433648, 24.343861378433648, 24.343861378433648, 24.343861378433648, 24.343861378433648]}, {\"name\": \"Unlimited\", \"type\": \"scatter\", \"uid\": \"db740356-6264-4496-9e97-ebf00c9a6a17\", \"x\": [-2.588802136241533, 29.44720306032969, 65.82977977361962, 107.92633650721812, 157.87219907727842, 219.28110340498063, 299.0323932948908, 412.98555115585737, 614.9478632681206, null, null, null, null], \"y\": [0.0, 10.043764057686104, 20.087528115350413, 30.131292173018, 40.17505623065844, 45.74000000017371, 45.74000000017371, 45.74000000017371, 45.74000000017371, 45.74000000017371, 45.74000000017371, 45.74000000017371, 45.74000000017371]}],\n",
       "                        {\"annotations\": [{\"showarrow\": false, \"text\": \"<b>Max flux through MPA1 (umol/m2/s)</b>\", \"x\": 115, \"y\": 50}], \"legend\": {\"bgcolor\": \"#E2E2E2\", \"x\": 0.07, \"y\": 0.93}, \"showlegend\": true, \"title\": {\"text\": \"<b> A-Ci curve for reduced flux through MPA1 </b>\"}, \"xaxis\": {\"title\": {\"text\": \"Ci (umol/m2/s)\"}}, \"yaxis\": {\"title\": {\"text\": \"Rubisco carboxylation rate (umol/m2/s)\"}}},\n",
       "                        {\"responsive\": true, \"plotlyServerURL\": \"https://plot.ly\", \"linkText\": \"Export to plot.ly\", \"showLink\": false}\n",
       "                    )\n",
       "                };\n",
       "                });\n",
       "            </script>\n",
       "        </div>"
      ]
     },
     "metadata": {},
     "output_type": "display_data"
    }
   ],
   "source": [
    "#Generate A-Ci curve for each reaction to be knocked down\n",
    "\n",
    "for reaction, reaction_name in D_reactions.items():\n",
    "    figureDF = pd.DataFrame(columns=['Cm','Ci','Reaction_max_flux','Rubisco_flux'])\n",
    "    for experiment,reaction in D_pfba.items():\n",
    "        CmRegex=re.search(\"CO2:\\d+\",experiment)\n",
    "        Cm=CmRegex.group()[4:]\n",
    "        Ci=np.log(1-((int(Cm)-0.8531363)/88.0631634))/(-np.exp(-5.59291))\n",
    "        reactionMax=re.search(reaction_name+\":\\d+\",experiment)\n",
    "        reactionMax2='Unlimited' if reactionMax.group()[5:]=='1000000' else str(reactionMax.group()[5:])\n",
    "        figureDF.loc[experiment]=[Cm,Ci,reactionMax2,reaction['[B]_RBC_h']]\n",
    "\n",
    "    D_traces = {}\n",
    "    for flux in figureDF.Reaction_max_flux.unique():\n",
    "        figureDFFilter = figureDF[figureDF.Reaction_max_flux==flux]\n",
    "        figureDFFilter=figureDFFilter.sort_values(by=['Ci'])\n",
    "        D_traces['trace_'+flux]=go.Scatter(x=figureDFFilter['Ci'],y=figureDFFilter['Rubisco_flux'],name=flux)\n",
    "\n",
    "    xAxisTemplate=dict(title='Ci (umol/m2/s)')\n",
    "    yAxisTemplate=dict(title='Rubisco carboxylation rate (umol/m2/s)')\n",
    "    layout=go.Layout(title='<b> A-Ci curve for reduced flux through '+reaction_name +' </b>',\n",
    "                     showlegend=True,xaxis=xAxisTemplate,yaxis=yAxisTemplate,\n",
    "                    legend=dict(x=0.07,y=0.93,bgcolor='#E2E2E2'),annotations=[dict(x=115,y=50,text='<b>Max flux through '+reaction_name+' (umol/m2/s)</b>',showarrow=False)])\n",
    "    data=[]\n",
    "    for key,item in D_traces.items():\n",
    "        data.append(item)\n",
    "    fig=go.Figure(data=data,layout=layout)\n",
    "    iplot(fig)"
   ]
  },
  {
   "cell_type": "code",
   "execution_count": null,
   "metadata": {},
   "outputs": [],
   "source": []
  }
 ],
 "metadata": {
  "kernelspec": {
   "display_name": "Brautigam_C4_model",
   "language": "python",
   "name": "brautigam_c4_model"
  },
  "language_info": {
   "codemirror_mode": {
    "name": "ipython",
    "version": 2
   },
   "file_extension": ".py",
   "mimetype": "text/x-python",
   "name": "python",
   "nbconvert_exporter": "python",
   "pygments_lexer": "ipython2",
   "version": "2.7.17"
  }
 },
 "nbformat": 4,
 "nbformat_minor": 2
}
